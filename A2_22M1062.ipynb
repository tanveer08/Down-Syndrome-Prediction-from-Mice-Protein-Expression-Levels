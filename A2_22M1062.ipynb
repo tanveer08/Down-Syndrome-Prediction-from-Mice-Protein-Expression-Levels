{
  "nbformat": 4,
  "nbformat_minor": 0,
  "metadata": {
    "colab": {
      "provenance": []
    },
    "kernelspec": {
      "name": "python3",
      "display_name": "Python 3"
    },
    "language_info": {
      "name": "python"
    },
    "gpuClass": "standard",
    "widgets": {
      "application/vnd.jupyter.widget-state+json": {
        "5cf5976315bb4b4ba53e93689e90ca7a": {
          "model_module": "@jupyter-widgets/controls",
          "model_name": "HBoxModel",
          "model_module_version": "1.5.0",
          "state": {
            "_dom_classes": [],
            "_model_module": "@jupyter-widgets/controls",
            "_model_module_version": "1.5.0",
            "_model_name": "HBoxModel",
            "_view_count": null,
            "_view_module": "@jupyter-widgets/controls",
            "_view_module_version": "1.5.0",
            "_view_name": "HBoxView",
            "box_style": "",
            "children": [
              "IPY_MODEL_4e8f41105c1242f0a08ed10d8e07132b",
              "IPY_MODEL_5b6aab4920d14cfb89c1e33158994b50",
              "IPY_MODEL_7e137cde0d1c4b5c9071e794ed2e538b"
            ],
            "layout": "IPY_MODEL_e028a6a9bffa478a87d92000b91488fc"
          }
        },
        "4e8f41105c1242f0a08ed10d8e07132b": {
          "model_module": "@jupyter-widgets/controls",
          "model_name": "HTMLModel",
          "model_module_version": "1.5.0",
          "state": {
            "_dom_classes": [],
            "_model_module": "@jupyter-widgets/controls",
            "_model_module_version": "1.5.0",
            "_model_name": "HTMLModel",
            "_view_count": null,
            "_view_module": "@jupyter-widgets/controls",
            "_view_module_version": "1.5.0",
            "_view_name": "HTMLView",
            "description": "",
            "description_tooltip": null,
            "layout": "IPY_MODEL_2a7010bb7dbc47e0a0b12b65c0cd810d",
            "placeholder": "​",
            "style": "IPY_MODEL_2c5bfe57fd4840cb9944df59f679e69a",
            "value": "100%"
          }
        },
        "5b6aab4920d14cfb89c1e33158994b50": {
          "model_module": "@jupyter-widgets/controls",
          "model_name": "FloatProgressModel",
          "model_module_version": "1.5.0",
          "state": {
            "_dom_classes": [],
            "_model_module": "@jupyter-widgets/controls",
            "_model_module_version": "1.5.0",
            "_model_name": "FloatProgressModel",
            "_view_count": null,
            "_view_module": "@jupyter-widgets/controls",
            "_view_module_version": "1.5.0",
            "_view_name": "ProgressView",
            "bar_style": "success",
            "description": "",
            "description_tooltip": null,
            "layout": "IPY_MODEL_fe334c76cb38456aa8378b008d3b8aad",
            "max": 46830571,
            "min": 0,
            "orientation": "horizontal",
            "style": "IPY_MODEL_90bf48cdae2141bd8a507cd7208f16df",
            "value": 46830571
          }
        },
        "7e137cde0d1c4b5c9071e794ed2e538b": {
          "model_module": "@jupyter-widgets/controls",
          "model_name": "HTMLModel",
          "model_module_version": "1.5.0",
          "state": {
            "_dom_classes": [],
            "_model_module": "@jupyter-widgets/controls",
            "_model_module_version": "1.5.0",
            "_model_name": "HTMLModel",
            "_view_count": null,
            "_view_module": "@jupyter-widgets/controls",
            "_view_module_version": "1.5.0",
            "_view_name": "HTMLView",
            "description": "",
            "description_tooltip": null,
            "layout": "IPY_MODEL_e1b7ea8d25df47058e452da89980f44c",
            "placeholder": "​",
            "style": "IPY_MODEL_9657ec720e404aa79f625f07fb2f34f6",
            "value": " 44.7M/44.7M [00:00&lt;00:00, 127MB/s]"
          }
        },
        "e028a6a9bffa478a87d92000b91488fc": {
          "model_module": "@jupyter-widgets/base",
          "model_name": "LayoutModel",
          "model_module_version": "1.2.0",
          "state": {
            "_model_module": "@jupyter-widgets/base",
            "_model_module_version": "1.2.0",
            "_model_name": "LayoutModel",
            "_view_count": null,
            "_view_module": "@jupyter-widgets/base",
            "_view_module_version": "1.2.0",
            "_view_name": "LayoutView",
            "align_content": null,
            "align_items": null,
            "align_self": null,
            "border": null,
            "bottom": null,
            "display": null,
            "flex": null,
            "flex_flow": null,
            "grid_area": null,
            "grid_auto_columns": null,
            "grid_auto_flow": null,
            "grid_auto_rows": null,
            "grid_column": null,
            "grid_gap": null,
            "grid_row": null,
            "grid_template_areas": null,
            "grid_template_columns": null,
            "grid_template_rows": null,
            "height": null,
            "justify_content": null,
            "justify_items": null,
            "left": null,
            "margin": null,
            "max_height": null,
            "max_width": null,
            "min_height": null,
            "min_width": null,
            "object_fit": null,
            "object_position": null,
            "order": null,
            "overflow": null,
            "overflow_x": null,
            "overflow_y": null,
            "padding": null,
            "right": null,
            "top": null,
            "visibility": null,
            "width": null
          }
        },
        "2a7010bb7dbc47e0a0b12b65c0cd810d": {
          "model_module": "@jupyter-widgets/base",
          "model_name": "LayoutModel",
          "model_module_version": "1.2.0",
          "state": {
            "_model_module": "@jupyter-widgets/base",
            "_model_module_version": "1.2.0",
            "_model_name": "LayoutModel",
            "_view_count": null,
            "_view_module": "@jupyter-widgets/base",
            "_view_module_version": "1.2.0",
            "_view_name": "LayoutView",
            "align_content": null,
            "align_items": null,
            "align_self": null,
            "border": null,
            "bottom": null,
            "display": null,
            "flex": null,
            "flex_flow": null,
            "grid_area": null,
            "grid_auto_columns": null,
            "grid_auto_flow": null,
            "grid_auto_rows": null,
            "grid_column": null,
            "grid_gap": null,
            "grid_row": null,
            "grid_template_areas": null,
            "grid_template_columns": null,
            "grid_template_rows": null,
            "height": null,
            "justify_content": null,
            "justify_items": null,
            "left": null,
            "margin": null,
            "max_height": null,
            "max_width": null,
            "min_height": null,
            "min_width": null,
            "object_fit": null,
            "object_position": null,
            "order": null,
            "overflow": null,
            "overflow_x": null,
            "overflow_y": null,
            "padding": null,
            "right": null,
            "top": null,
            "visibility": null,
            "width": null
          }
        },
        "2c5bfe57fd4840cb9944df59f679e69a": {
          "model_module": "@jupyter-widgets/controls",
          "model_name": "DescriptionStyleModel",
          "model_module_version": "1.5.0",
          "state": {
            "_model_module": "@jupyter-widgets/controls",
            "_model_module_version": "1.5.0",
            "_model_name": "DescriptionStyleModel",
            "_view_count": null,
            "_view_module": "@jupyter-widgets/base",
            "_view_module_version": "1.2.0",
            "_view_name": "StyleView",
            "description_width": ""
          }
        },
        "fe334c76cb38456aa8378b008d3b8aad": {
          "model_module": "@jupyter-widgets/base",
          "model_name": "LayoutModel",
          "model_module_version": "1.2.0",
          "state": {
            "_model_module": "@jupyter-widgets/base",
            "_model_module_version": "1.2.0",
            "_model_name": "LayoutModel",
            "_view_count": null,
            "_view_module": "@jupyter-widgets/base",
            "_view_module_version": "1.2.0",
            "_view_name": "LayoutView",
            "align_content": null,
            "align_items": null,
            "align_self": null,
            "border": null,
            "bottom": null,
            "display": null,
            "flex": null,
            "flex_flow": null,
            "grid_area": null,
            "grid_auto_columns": null,
            "grid_auto_flow": null,
            "grid_auto_rows": null,
            "grid_column": null,
            "grid_gap": null,
            "grid_row": null,
            "grid_template_areas": null,
            "grid_template_columns": null,
            "grid_template_rows": null,
            "height": null,
            "justify_content": null,
            "justify_items": null,
            "left": null,
            "margin": null,
            "max_height": null,
            "max_width": null,
            "min_height": null,
            "min_width": null,
            "object_fit": null,
            "object_position": null,
            "order": null,
            "overflow": null,
            "overflow_x": null,
            "overflow_y": null,
            "padding": null,
            "right": null,
            "top": null,
            "visibility": null,
            "width": null
          }
        },
        "90bf48cdae2141bd8a507cd7208f16df": {
          "model_module": "@jupyter-widgets/controls",
          "model_name": "ProgressStyleModel",
          "model_module_version": "1.5.0",
          "state": {
            "_model_module": "@jupyter-widgets/controls",
            "_model_module_version": "1.5.0",
            "_model_name": "ProgressStyleModel",
            "_view_count": null,
            "_view_module": "@jupyter-widgets/base",
            "_view_module_version": "1.2.0",
            "_view_name": "StyleView",
            "bar_color": null,
            "description_width": ""
          }
        },
        "e1b7ea8d25df47058e452da89980f44c": {
          "model_module": "@jupyter-widgets/base",
          "model_name": "LayoutModel",
          "model_module_version": "1.2.0",
          "state": {
            "_model_module": "@jupyter-widgets/base",
            "_model_module_version": "1.2.0",
            "_model_name": "LayoutModel",
            "_view_count": null,
            "_view_module": "@jupyter-widgets/base",
            "_view_module_version": "1.2.0",
            "_view_name": "LayoutView",
            "align_content": null,
            "align_items": null,
            "align_self": null,
            "border": null,
            "bottom": null,
            "display": null,
            "flex": null,
            "flex_flow": null,
            "grid_area": null,
            "grid_auto_columns": null,
            "grid_auto_flow": null,
            "grid_auto_rows": null,
            "grid_column": null,
            "grid_gap": null,
            "grid_row": null,
            "grid_template_areas": null,
            "grid_template_columns": null,
            "grid_template_rows": null,
            "height": null,
            "justify_content": null,
            "justify_items": null,
            "left": null,
            "margin": null,
            "max_height": null,
            "max_width": null,
            "min_height": null,
            "min_width": null,
            "object_fit": null,
            "object_position": null,
            "order": null,
            "overflow": null,
            "overflow_x": null,
            "overflow_y": null,
            "padding": null,
            "right": null,
            "top": null,
            "visibility": null,
            "width": null
          }
        },
        "9657ec720e404aa79f625f07fb2f34f6": {
          "model_module": "@jupyter-widgets/controls",
          "model_name": "DescriptionStyleModel",
          "model_module_version": "1.5.0",
          "state": {
            "_model_module": "@jupyter-widgets/controls",
            "_model_module_version": "1.5.0",
            "_model_name": "DescriptionStyleModel",
            "_view_count": null,
            "_view_module": "@jupyter-widgets/base",
            "_view_module_version": "1.2.0",
            "_view_name": "StyleView",
            "description_width": ""
          }
        }
      }
    }
  },
  "cells": [
    {
      "cell_type": "markdown",
      "source": [
        "## Assignment 2"
      ],
      "metadata": {
        "id": "Mnpdu-QHRNb7"
      }
    },
    {
      "cell_type": "markdown",
      "source": [
        "### Name : Tanveer Sharma\n",
        "### Roll No. : 22M1062"
      ],
      "metadata": {
        "id": "7FkJrgztU45s"
      }
    },
    {
      "cell_type": "markdown",
      "source": [
        "Link for Video Explanation : https://iitbacin.sharepoint.com/:v:/s/Assignment5745/EWORoKwklfpPqMprfFpUkz8BgNEKn-Z25ciLFXj75anRkQ?e=OfuoEe"
      ],
      "metadata": {
        "id": "ohwzJlxoKioU"
      }
    },
    {
      "cell_type": "markdown",
      "source": [
        "### **Objective 1** "
      ],
      "metadata": {
        "id": "aT1D0m57Us6A"
      }
    },
    {
      "cell_type": "markdown",
      "source": [
        "Importing Libraries"
      ],
      "metadata": {
        "id": "XyJoX5BtUl0u"
      }
    },
    {
      "cell_type": "code",
      "source": [
        "import numpy as np\n",
        "import pandas as pd\n",
        "import matplotlib.pyplot as plt\n",
        "import seaborn as sns\n",
        "from sklearn.metrics import classification_report, confusion_matrix\n",
        "from sklearn.svm import LinearSVC\n",
        "from sklearn.svm import SVC\n",
        "from sklearn.ensemble import RandomForestClassifier\n",
        "from sklearn.model_selection import GridSearchCV,RandomizedSearchCV\n",
        "from sklearn.neural_network import MLPClassifier\n",
        "from sklearn.feature_selection import RFECV\n",
        "from sklearn.model_selection import StratifiedKFold\n",
        "from sklearn.experimental import enable_iterative_imputer\n",
        "from sklearn.impute import IterativeImputer\n",
        "from scipy.stats import ttest_ind\n",
        "from sklearn.preprocessing import LabelEncoder\n",
        "from sklearn.preprocessing import StandardScaler\n",
        "from sklearn.inspection import permutation_importance\n",
        "from sklearn.linear_model import LogisticRegression\n",
        "from sklearn.metrics import accuracy_score, f1_score\n"
      ],
      "metadata": {
        "id": "QP2HY3BdgJgQ"
      },
      "execution_count": 1,
      "outputs": []
    },
    {
      "cell_type": "markdown",
      "source": [
        "#### Task 1\n",
        "- In this task we have to read the dataset from direct link \n",
        "- here initial 77 columns are  input variables from which we will extract the features.\n",
        "- last two columns represent the classifier data"
      ],
      "metadata": {
        "id": "cX7tQZGKVJmD"
      }
    },
    {
      "cell_type": "code",
      "execution_count": 2,
      "metadata": {
        "colab": {
          "base_uri": "https://localhost:8080/"
        },
        "id": "14DKQ3RC-ou6",
        "outputId": "a0fa3cf2-def8-4673-ab21-b83f135e5d3d"
      },
      "outputs": [
        {
          "output_type": "stream",
          "name": "stdout",
          "text": [
            "     DYRK1A_N   ITSN1_N    BDNF_N     NR1_N    NR2A_N    pAKT_N   pBRAF_N  \\\n",
            "0    0.503644  0.747193  0.430175  2.816329  5.990152  0.218830  0.177565   \n",
            "1    0.514617  0.689064  0.411770  2.789514  5.685038  0.211636  0.172817   \n",
            "2    0.509183  0.730247  0.418309  2.687201  5.622059  0.209011  0.175722   \n",
            "3    0.442107  0.617076  0.358626  2.466947  4.979503  0.222886  0.176463   \n",
            "4    0.434940  0.617430  0.358802  2.365785  4.718679  0.213106  0.173627   \n",
            "..        ...       ...       ...       ...       ...       ...       ...   \n",
            "757  0.394169  0.623696  0.316564  2.104045  3.314706  0.234529  0.200657   \n",
            "758  0.401739  0.659571  0.321841  2.183930  3.411782  0.236546  0.190826   \n",
            "759  0.382182  0.586545  0.318545  2.072000  3.073636  0.259636  0.202727   \n",
            "760  0.365622  0.572209  0.297992  2.004931  2.783551  0.245333  0.190384   \n",
            "761  0.365605  0.599499  0.301539  2.062813  2.952577  0.248568  0.198819   \n",
            "\n",
            "     pCAMKII_N   pCREB_N    pELK_N  ...    BCL2_N     pS6_N   pCFOS_N  \\\n",
            "0     2.373744  0.232224  1.750936  ...       NaN  0.106305  0.108336   \n",
            "1     2.292150  0.226972  1.596377  ...       NaN  0.106592  0.104315   \n",
            "2     2.283337  0.230247  1.561316  ...       NaN  0.108303  0.106219   \n",
            "3     2.152301  0.207004  1.595086  ...       NaN  0.103184  0.111262   \n",
            "4     2.134014  0.192158  1.504230  ...       NaN  0.104784  0.110694   \n",
            "..         ...       ...       ...  ...       ...       ...       ...   \n",
            "757   3.208804  0.221809  1.218951  ...  0.110916  0.119428  0.115567   \n",
            "758   3.384350  0.231899  1.250487  ...  0.110350  0.118081  0.108944   \n",
            "759   3.006364  0.223455  1.248727  ...  0.133664  0.116134  0.114635   \n",
            "760   2.948221  0.217506  1.177527  ...  0.136994  0.120649  0.120649   \n",
            "761   3.069435  0.226736  1.220472  ...  0.120182  0.121738  0.110486   \n",
            "\n",
            "        SYP_N  H3AcK18_N    EGR1_N  H3MeK4_N    CaNA_N  Genotype  \\\n",
            "0    0.427099   0.114783  0.131790  0.128186  1.675652   Control   \n",
            "1    0.441581   0.111974  0.135103  0.131119  1.743610   Control   \n",
            "2    0.435777   0.111883  0.133362  0.127431  1.926427   Control   \n",
            "3    0.391691   0.130405  0.147444  0.146901  1.700563   Control   \n",
            "4    0.434154   0.118481  0.140314  0.148380  1.839730   Control   \n",
            "..        ...        ...       ...       ...       ...       ...   \n",
            "757  0.441207   0.148473  0.146192  0.190681  1.474465    Ts65Dn   \n",
            "758  0.444913   0.153137  0.149798  0.197944  1.516605    Ts65Dn   \n",
            "759  0.422789   0.148426  0.163649  0.191212  1.433514    Ts65Dn   \n",
            "760  0.459901   0.146872  0.140640  0.213899  1.543274    Ts65Dn   \n",
            "761  0.424228   0.173689  0.166268  0.206129  1.520110    Ts65Dn   \n",
            "\n",
            "     Treatment_Behavior  \n",
            "0         Memantine_C/S  \n",
            "1         Memantine_C/S  \n",
            "2         Memantine_C/S  \n",
            "3         Memantine_C/S  \n",
            "4         Memantine_C/S  \n",
            "..                  ...  \n",
            "757          Saline_S/C  \n",
            "758          Saline_S/C  \n",
            "759          Saline_S/C  \n",
            "760          Saline_S/C  \n",
            "761          Saline_S/C  \n",
            "\n",
            "[762 rows x 79 columns]\n"
          ]
        }
      ],
      "source": [
        "url = \"https://www.ee.iitb.ac.in/~asethi/Dump/MouseTrain.csv\"\n",
        "datafile = pd.read_csv(url)\n",
        "\n",
        "print(datafile)"
      ]
    },
    {
      "cell_type": "markdown",
      "source": [
        "#### Task 2 Exploratory Data Analysis"
      ],
      "metadata": {
        "id": "nnm1Wm10WwBr"
      }
    },
    {
      "cell_type": "code",
      "source": [
        "# Get an overview of the data\n",
        "print(datafile.info())"
      ],
      "metadata": {
        "colab": {
          "base_uri": "https://localhost:8080/"
        },
        "id": "g7qR_k9NCfBw",
        "outputId": "768ef1fd-0735-494a-971f-43993b7e1fcf"
      },
      "execution_count": 3,
      "outputs": [
        {
          "output_type": "stream",
          "name": "stdout",
          "text": [
            "<class 'pandas.core.frame.DataFrame'>\n",
            "RangeIndex: 762 entries, 0 to 761\n",
            "Data columns (total 79 columns):\n",
            " #   Column              Non-Null Count  Dtype  \n",
            "---  ------              --------------  -----  \n",
            " 0   DYRK1A_N            762 non-null    float64\n",
            " 1   ITSN1_N             762 non-null    float64\n",
            " 2   BDNF_N              762 non-null    float64\n",
            " 3   NR1_N               762 non-null    float64\n",
            " 4   NR2A_N              762 non-null    float64\n",
            " 5   pAKT_N              762 non-null    float64\n",
            " 6   pBRAF_N             762 non-null    float64\n",
            " 7   pCAMKII_N           762 non-null    float64\n",
            " 8   pCREB_N             762 non-null    float64\n",
            " 9   pELK_N              762 non-null    float64\n",
            " 10  pERK_N              762 non-null    float64\n",
            " 11  pJNK_N              762 non-null    float64\n",
            " 12  PKCA_N              762 non-null    float64\n",
            " 13  pMEK_N              762 non-null    float64\n",
            " 14  pNR1_N              762 non-null    float64\n",
            " 15  pNR2A_N             762 non-null    float64\n",
            " 16  pNR2B_N             762 non-null    float64\n",
            " 17  pPKCAB_N            762 non-null    float64\n",
            " 18  pRSK_N              762 non-null    float64\n",
            " 19  AKT_N               762 non-null    float64\n",
            " 20  BRAF_N              762 non-null    float64\n",
            " 21  CAMKII_N            762 non-null    float64\n",
            " 22  CREB_N              762 non-null    float64\n",
            " 23  ELK_N               747 non-null    float64\n",
            " 24  ERK_N               762 non-null    float64\n",
            " 25  GSK3B_N             762 non-null    float64\n",
            " 26  JNK_N               762 non-null    float64\n",
            " 27  MEK_N               758 non-null    float64\n",
            " 28  TRKA_N              762 non-null    float64\n",
            " 29  RSK_N               762 non-null    float64\n",
            " 30  APP_N               762 non-null    float64\n",
            " 31  Bcatenin_N          747 non-null    float64\n",
            " 32  SOD1_N              762 non-null    float64\n",
            " 33  MTOR_N              762 non-null    float64\n",
            " 34  P38_N               762 non-null    float64\n",
            " 35  pMTOR_N             762 non-null    float64\n",
            " 36  DSCR1_N             762 non-null    float64\n",
            " 37  AMPKA_N             762 non-null    float64\n",
            " 38  NR2B_N              762 non-null    float64\n",
            " 39  pNUMB_N             762 non-null    float64\n",
            " 40  RAPTOR_N            762 non-null    float64\n",
            " 41  TIAM1_N             762 non-null    float64\n",
            " 42  pP70S6_N            762 non-null    float64\n",
            " 43  NUMB_N              762 non-null    float64\n",
            " 44  P70S6_N             762 non-null    float64\n",
            " 45  pGSK3B_N            762 non-null    float64\n",
            " 46  pPKCG_N             762 non-null    float64\n",
            " 47  CDK5_N              762 non-null    float64\n",
            " 48  S6_N                762 non-null    float64\n",
            " 49  ADARB1_N            762 non-null    float64\n",
            " 50  AcetylH3K9_N        762 non-null    float64\n",
            " 51  RRP1_N              762 non-null    float64\n",
            " 52  BAX_N               762 non-null    float64\n",
            " 53  ARC_N               762 non-null    float64\n",
            " 54  ERBB4_N             762 non-null    float64\n",
            " 55  nNOS_N              762 non-null    float64\n",
            " 56  Tau_N               762 non-null    float64\n",
            " 57  GFAP_N              762 non-null    float64\n",
            " 58  GluR3_N             762 non-null    float64\n",
            " 59  GluR4_N             762 non-null    float64\n",
            " 60  IL1B_N              762 non-null    float64\n",
            " 61  P3525_N             762 non-null    float64\n",
            " 62  pCASP9_N            762 non-null    float64\n",
            " 63  PSD95_N             762 non-null    float64\n",
            " 64  SNCA_N              762 non-null    float64\n",
            " 65  Ubiquitin_N         762 non-null    float64\n",
            " 66  pGSK3B_Tyr216_N     762 non-null    float64\n",
            " 67  SHH_N               762 non-null    float64\n",
            " 68  BAD_N               582 non-null    float64\n",
            " 69  BCL2_N              567 non-null    float64\n",
            " 70  pS6_N               762 non-null    float64\n",
            " 71  pCFOS_N             702 non-null    float64\n",
            " 72  SYP_N               762 non-null    float64\n",
            " 73  H3AcK18_N           612 non-null    float64\n",
            " 74  EGR1_N              582 non-null    float64\n",
            " 75  H3MeK4_N            582 non-null    float64\n",
            " 76  CaNA_N              762 non-null    float64\n",
            " 77  Genotype            762 non-null    object \n",
            " 78  Treatment_Behavior  762 non-null    object \n",
            "dtypes: float64(77), object(2)\n",
            "memory usage: 470.4+ KB\n",
            "None\n"
          ]
        }
      ]
    },
    {
      "cell_type": "markdown",
      "source": [
        "the above code  gives us some basic information regarding the data\n",
        "- firstly about number of samples in each column\n",
        "- secondly about the datatype of each column.From here it can be inferred that upto first 77 columns we have float values after that for last two columns we have string data i.e. Classes "
      ],
      "metadata": {
        "id": "WX4jhSNPXAZM"
      }
    },
    {
      "cell_type": "code",
      "source": [
        "datafile.describe()"
      ],
      "metadata": {
        "colab": {
          "base_uri": "https://localhost:8080/",
          "height": 393
        },
        "id": "gSm0jJLo9Cw7",
        "outputId": "4cf9fa04-26c6-4838-c22f-47eb438a0565"
      },
      "execution_count": 4,
      "outputs": [
        {
          "output_type": "execute_result",
          "data": {
            "text/plain": [
              "         DYRK1A_N     ITSN1_N      BDNF_N       NR1_N      NR2A_N      pAKT_N  \\\n",
              "count  762.000000  762.000000  762.000000  762.000000  762.000000  762.000000   \n",
              "mean     0.437715    0.629456    0.319844    2.311905    3.882665    0.232722   \n",
              "std      0.275175    0.274954    0.046536    0.342923    0.929202    0.039521   \n",
              "min      0.170634    0.264085    0.194160    1.414914    1.794716    0.063236   \n",
              "25%      0.294759    0.481011    0.290199    2.069609    3.186726    0.206446   \n",
              "50%      0.371534    0.569058    0.317696    2.309711    3.800418    0.229032   \n",
              "75%      0.486749    0.700621    0.346747    2.534053    4.471656    0.255064   \n",
              "max      2.516367    2.602662    0.497160    3.757641    8.482553    0.434624   \n",
              "\n",
              "          pBRAF_N   pCAMKII_N     pCREB_N      pELK_N  ...       SHH_N  \\\n",
              "count  762.000000  762.000000  762.000000  762.000000  ...  762.000000   \n",
              "mean     0.182514    3.513055    0.212083    1.447201  ...    0.226365   \n",
              "std      0.026548    1.268395    0.031066    0.510631  ...    0.029564   \n",
              "min      0.064043    1.369898    0.112812    0.429032  ...    0.162642   \n",
              "25%      0.165306    2.424669    0.190616    1.213118  ...    0.205750   \n",
              "50%      0.181405    3.319506    0.210077    1.347557  ...    0.224439   \n",
              "75%      0.197664    4.493452    0.233947    1.542629  ...    0.241714   \n",
              "max      0.317066    6.947290    0.306247    6.113347  ...    0.358289   \n",
              "\n",
              "            BAD_N      BCL2_N       pS6_N     pCFOS_N       SYP_N   H3AcK18_N  \\\n",
              "count  582.000000  567.000000  762.000000  702.000000  762.000000  612.000000   \n",
              "mean     0.156693    0.136973    0.122095    0.129689    0.450260    0.166017   \n",
              "std      0.030299    0.029633    0.014928    0.022832    0.062304    0.059256   \n",
              "min      0.088305    0.080657    0.067254    0.085419    0.258626    0.079691   \n",
              "25%      0.136188    0.116234    0.110655    0.111676    0.407385    0.124382   \n",
              "50%      0.150386    0.131542    0.122600    0.126138    0.450500    0.153342   \n",
              "75%      0.170685    0.150942    0.133617    0.142831    0.488438    0.195401   \n",
              "max      0.282016    0.261506    0.158748    0.210908    0.759588    0.479763   \n",
              "\n",
              "           EGR1_N    H3MeK4_N      CaNA_N  \n",
              "count  582.000000  582.000000  762.000000  \n",
              "mean     0.182322    0.206105    1.357954  \n",
              "std      0.041938    0.058118    0.337107  \n",
              "min      0.105537    0.101787    0.586479  \n",
              "25%      0.152365    0.164155    1.075929  \n",
              "50%      0.174184    0.191754    1.351277  \n",
              "75%      0.205146    0.235925    1.616752  \n",
              "max      0.360692    0.413903    2.129791  \n",
              "\n",
              "[8 rows x 77 columns]"
            ],
            "text/html": [
              "\n",
              "  <div id=\"df-ccc3af85-b191-4f3b-9afa-95a2cd79cff6\">\n",
              "    <div class=\"colab-df-container\">\n",
              "      <div>\n",
              "<style scoped>\n",
              "    .dataframe tbody tr th:only-of-type {\n",
              "        vertical-align: middle;\n",
              "    }\n",
              "\n",
              "    .dataframe tbody tr th {\n",
              "        vertical-align: top;\n",
              "    }\n",
              "\n",
              "    .dataframe thead th {\n",
              "        text-align: right;\n",
              "    }\n",
              "</style>\n",
              "<table border=\"1\" class=\"dataframe\">\n",
              "  <thead>\n",
              "    <tr style=\"text-align: right;\">\n",
              "      <th></th>\n",
              "      <th>DYRK1A_N</th>\n",
              "      <th>ITSN1_N</th>\n",
              "      <th>BDNF_N</th>\n",
              "      <th>NR1_N</th>\n",
              "      <th>NR2A_N</th>\n",
              "      <th>pAKT_N</th>\n",
              "      <th>pBRAF_N</th>\n",
              "      <th>pCAMKII_N</th>\n",
              "      <th>pCREB_N</th>\n",
              "      <th>pELK_N</th>\n",
              "      <th>...</th>\n",
              "      <th>SHH_N</th>\n",
              "      <th>BAD_N</th>\n",
              "      <th>BCL2_N</th>\n",
              "      <th>pS6_N</th>\n",
              "      <th>pCFOS_N</th>\n",
              "      <th>SYP_N</th>\n",
              "      <th>H3AcK18_N</th>\n",
              "      <th>EGR1_N</th>\n",
              "      <th>H3MeK4_N</th>\n",
              "      <th>CaNA_N</th>\n",
              "    </tr>\n",
              "  </thead>\n",
              "  <tbody>\n",
              "    <tr>\n",
              "      <th>count</th>\n",
              "      <td>762.000000</td>\n",
              "      <td>762.000000</td>\n",
              "      <td>762.000000</td>\n",
              "      <td>762.000000</td>\n",
              "      <td>762.000000</td>\n",
              "      <td>762.000000</td>\n",
              "      <td>762.000000</td>\n",
              "      <td>762.000000</td>\n",
              "      <td>762.000000</td>\n",
              "      <td>762.000000</td>\n",
              "      <td>...</td>\n",
              "      <td>762.000000</td>\n",
              "      <td>582.000000</td>\n",
              "      <td>567.000000</td>\n",
              "      <td>762.000000</td>\n",
              "      <td>702.000000</td>\n",
              "      <td>762.000000</td>\n",
              "      <td>612.000000</td>\n",
              "      <td>582.000000</td>\n",
              "      <td>582.000000</td>\n",
              "      <td>762.000000</td>\n",
              "    </tr>\n",
              "    <tr>\n",
              "      <th>mean</th>\n",
              "      <td>0.437715</td>\n",
              "      <td>0.629456</td>\n",
              "      <td>0.319844</td>\n",
              "      <td>2.311905</td>\n",
              "      <td>3.882665</td>\n",
              "      <td>0.232722</td>\n",
              "      <td>0.182514</td>\n",
              "      <td>3.513055</td>\n",
              "      <td>0.212083</td>\n",
              "      <td>1.447201</td>\n",
              "      <td>...</td>\n",
              "      <td>0.226365</td>\n",
              "      <td>0.156693</td>\n",
              "      <td>0.136973</td>\n",
              "      <td>0.122095</td>\n",
              "      <td>0.129689</td>\n",
              "      <td>0.450260</td>\n",
              "      <td>0.166017</td>\n",
              "      <td>0.182322</td>\n",
              "      <td>0.206105</td>\n",
              "      <td>1.357954</td>\n",
              "    </tr>\n",
              "    <tr>\n",
              "      <th>std</th>\n",
              "      <td>0.275175</td>\n",
              "      <td>0.274954</td>\n",
              "      <td>0.046536</td>\n",
              "      <td>0.342923</td>\n",
              "      <td>0.929202</td>\n",
              "      <td>0.039521</td>\n",
              "      <td>0.026548</td>\n",
              "      <td>1.268395</td>\n",
              "      <td>0.031066</td>\n",
              "      <td>0.510631</td>\n",
              "      <td>...</td>\n",
              "      <td>0.029564</td>\n",
              "      <td>0.030299</td>\n",
              "      <td>0.029633</td>\n",
              "      <td>0.014928</td>\n",
              "      <td>0.022832</td>\n",
              "      <td>0.062304</td>\n",
              "      <td>0.059256</td>\n",
              "      <td>0.041938</td>\n",
              "      <td>0.058118</td>\n",
              "      <td>0.337107</td>\n",
              "    </tr>\n",
              "    <tr>\n",
              "      <th>min</th>\n",
              "      <td>0.170634</td>\n",
              "      <td>0.264085</td>\n",
              "      <td>0.194160</td>\n",
              "      <td>1.414914</td>\n",
              "      <td>1.794716</td>\n",
              "      <td>0.063236</td>\n",
              "      <td>0.064043</td>\n",
              "      <td>1.369898</td>\n",
              "      <td>0.112812</td>\n",
              "      <td>0.429032</td>\n",
              "      <td>...</td>\n",
              "      <td>0.162642</td>\n",
              "      <td>0.088305</td>\n",
              "      <td>0.080657</td>\n",
              "      <td>0.067254</td>\n",
              "      <td>0.085419</td>\n",
              "      <td>0.258626</td>\n",
              "      <td>0.079691</td>\n",
              "      <td>0.105537</td>\n",
              "      <td>0.101787</td>\n",
              "      <td>0.586479</td>\n",
              "    </tr>\n",
              "    <tr>\n",
              "      <th>25%</th>\n",
              "      <td>0.294759</td>\n",
              "      <td>0.481011</td>\n",
              "      <td>0.290199</td>\n",
              "      <td>2.069609</td>\n",
              "      <td>3.186726</td>\n",
              "      <td>0.206446</td>\n",
              "      <td>0.165306</td>\n",
              "      <td>2.424669</td>\n",
              "      <td>0.190616</td>\n",
              "      <td>1.213118</td>\n",
              "      <td>...</td>\n",
              "      <td>0.205750</td>\n",
              "      <td>0.136188</td>\n",
              "      <td>0.116234</td>\n",
              "      <td>0.110655</td>\n",
              "      <td>0.111676</td>\n",
              "      <td>0.407385</td>\n",
              "      <td>0.124382</td>\n",
              "      <td>0.152365</td>\n",
              "      <td>0.164155</td>\n",
              "      <td>1.075929</td>\n",
              "    </tr>\n",
              "    <tr>\n",
              "      <th>50%</th>\n",
              "      <td>0.371534</td>\n",
              "      <td>0.569058</td>\n",
              "      <td>0.317696</td>\n",
              "      <td>2.309711</td>\n",
              "      <td>3.800418</td>\n",
              "      <td>0.229032</td>\n",
              "      <td>0.181405</td>\n",
              "      <td>3.319506</td>\n",
              "      <td>0.210077</td>\n",
              "      <td>1.347557</td>\n",
              "      <td>...</td>\n",
              "      <td>0.224439</td>\n",
              "      <td>0.150386</td>\n",
              "      <td>0.131542</td>\n",
              "      <td>0.122600</td>\n",
              "      <td>0.126138</td>\n",
              "      <td>0.450500</td>\n",
              "      <td>0.153342</td>\n",
              "      <td>0.174184</td>\n",
              "      <td>0.191754</td>\n",
              "      <td>1.351277</td>\n",
              "    </tr>\n",
              "    <tr>\n",
              "      <th>75%</th>\n",
              "      <td>0.486749</td>\n",
              "      <td>0.700621</td>\n",
              "      <td>0.346747</td>\n",
              "      <td>2.534053</td>\n",
              "      <td>4.471656</td>\n",
              "      <td>0.255064</td>\n",
              "      <td>0.197664</td>\n",
              "      <td>4.493452</td>\n",
              "      <td>0.233947</td>\n",
              "      <td>1.542629</td>\n",
              "      <td>...</td>\n",
              "      <td>0.241714</td>\n",
              "      <td>0.170685</td>\n",
              "      <td>0.150942</td>\n",
              "      <td>0.133617</td>\n",
              "      <td>0.142831</td>\n",
              "      <td>0.488438</td>\n",
              "      <td>0.195401</td>\n",
              "      <td>0.205146</td>\n",
              "      <td>0.235925</td>\n",
              "      <td>1.616752</td>\n",
              "    </tr>\n",
              "    <tr>\n",
              "      <th>max</th>\n",
              "      <td>2.516367</td>\n",
              "      <td>2.602662</td>\n",
              "      <td>0.497160</td>\n",
              "      <td>3.757641</td>\n",
              "      <td>8.482553</td>\n",
              "      <td>0.434624</td>\n",
              "      <td>0.317066</td>\n",
              "      <td>6.947290</td>\n",
              "      <td>0.306247</td>\n",
              "      <td>6.113347</td>\n",
              "      <td>...</td>\n",
              "      <td>0.358289</td>\n",
              "      <td>0.282016</td>\n",
              "      <td>0.261506</td>\n",
              "      <td>0.158748</td>\n",
              "      <td>0.210908</td>\n",
              "      <td>0.759588</td>\n",
              "      <td>0.479763</td>\n",
              "      <td>0.360692</td>\n",
              "      <td>0.413903</td>\n",
              "      <td>2.129791</td>\n",
              "    </tr>\n",
              "  </tbody>\n",
              "</table>\n",
              "<p>8 rows × 77 columns</p>\n",
              "</div>\n",
              "      <button class=\"colab-df-convert\" onclick=\"convertToInteractive('df-ccc3af85-b191-4f3b-9afa-95a2cd79cff6')\"\n",
              "              title=\"Convert this dataframe to an interactive table.\"\n",
              "              style=\"display:none;\">\n",
              "        \n",
              "  <svg xmlns=\"http://www.w3.org/2000/svg\" height=\"24px\"viewBox=\"0 0 24 24\"\n",
              "       width=\"24px\">\n",
              "    <path d=\"M0 0h24v24H0V0z\" fill=\"none\"/>\n",
              "    <path d=\"M18.56 5.44l.94 2.06.94-2.06 2.06-.94-2.06-.94-.94-2.06-.94 2.06-2.06.94zm-11 1L8.5 8.5l.94-2.06 2.06-.94-2.06-.94L8.5 2.5l-.94 2.06-2.06.94zm10 10l.94 2.06.94-2.06 2.06-.94-2.06-.94-.94-2.06-.94 2.06-2.06.94z\"/><path d=\"M17.41 7.96l-1.37-1.37c-.4-.4-.92-.59-1.43-.59-.52 0-1.04.2-1.43.59L10.3 9.45l-7.72 7.72c-.78.78-.78 2.05 0 2.83L4 21.41c.39.39.9.59 1.41.59.51 0 1.02-.2 1.41-.59l7.78-7.78 2.81-2.81c.8-.78.8-2.07 0-2.86zM5.41 20L4 18.59l7.72-7.72 1.47 1.35L5.41 20z\"/>\n",
              "  </svg>\n",
              "      </button>\n",
              "      \n",
              "  <style>\n",
              "    .colab-df-container {\n",
              "      display:flex;\n",
              "      flex-wrap:wrap;\n",
              "      gap: 12px;\n",
              "    }\n",
              "\n",
              "    .colab-df-convert {\n",
              "      background-color: #E8F0FE;\n",
              "      border: none;\n",
              "      border-radius: 50%;\n",
              "      cursor: pointer;\n",
              "      display: none;\n",
              "      fill: #1967D2;\n",
              "      height: 32px;\n",
              "      padding: 0 0 0 0;\n",
              "      width: 32px;\n",
              "    }\n",
              "\n",
              "    .colab-df-convert:hover {\n",
              "      background-color: #E2EBFA;\n",
              "      box-shadow: 0px 1px 2px rgba(60, 64, 67, 0.3), 0px 1px 3px 1px rgba(60, 64, 67, 0.15);\n",
              "      fill: #174EA6;\n",
              "    }\n",
              "\n",
              "    [theme=dark] .colab-df-convert {\n",
              "      background-color: #3B4455;\n",
              "      fill: #D2E3FC;\n",
              "    }\n",
              "\n",
              "    [theme=dark] .colab-df-convert:hover {\n",
              "      background-color: #434B5C;\n",
              "      box-shadow: 0px 1px 3px 1px rgba(0, 0, 0, 0.15);\n",
              "      filter: drop-shadow(0px 1px 2px rgba(0, 0, 0, 0.3));\n",
              "      fill: #FFFFFF;\n",
              "    }\n",
              "  </style>\n",
              "\n",
              "      <script>\n",
              "        const buttonEl =\n",
              "          document.querySelector('#df-ccc3af85-b191-4f3b-9afa-95a2cd79cff6 button.colab-df-convert');\n",
              "        buttonEl.style.display =\n",
              "          google.colab.kernel.accessAllowed ? 'block' : 'none';\n",
              "\n",
              "        async function convertToInteractive(key) {\n",
              "          const element = document.querySelector('#df-ccc3af85-b191-4f3b-9afa-95a2cd79cff6');\n",
              "          const dataTable =\n",
              "            await google.colab.kernel.invokeFunction('convertToInteractive',\n",
              "                                                     [key], {});\n",
              "          if (!dataTable) return;\n",
              "\n",
              "          const docLinkHtml = 'Like what you see? Visit the ' +\n",
              "            '<a target=\"_blank\" href=https://colab.research.google.com/notebooks/data_table.ipynb>data table notebook</a>'\n",
              "            + ' to learn more about interactive tables.';\n",
              "          element.innerHTML = '';\n",
              "          dataTable['output_type'] = 'display_data';\n",
              "          await google.colab.output.renderOutput(dataTable, element);\n",
              "          const docLink = document.createElement('div');\n",
              "          docLink.innerHTML = docLinkHtml;\n",
              "          element.appendChild(docLink);\n",
              "        }\n",
              "      </script>\n",
              "    </div>\n",
              "  </div>\n",
              "  "
            ]
          },
          "metadata": {},
          "execution_count": 4
        }
      ]
    },
    {
      "cell_type": "markdown",
      "source": [
        "The above describe method provides us with the mean value and standard deviation of the each variable. It also gives us range of data in it i.e. the minimun and maximum values."
      ],
      "metadata": {
        "id": "tuJ7nv3lrKSU"
      }
    },
    {
      "cell_type": "code",
      "source": [
        "datafile.isna()#Checking for missing values\n",
        "#datafile.fillna(datafile.mean())#Fill every empty value by the mean of each value"
      ],
      "metadata": {
        "colab": {
          "base_uri": "https://localhost:8080/",
          "height": 487
        },
        "id": "xLHcNDa99iOr",
        "outputId": "4d70b1cc-6509-442b-8918-85edc6bb2482"
      },
      "execution_count": 5,
      "outputs": [
        {
          "output_type": "execute_result",
          "data": {
            "text/plain": [
              "     DYRK1A_N  ITSN1_N  BDNF_N  NR1_N  NR2A_N  pAKT_N  pBRAF_N  pCAMKII_N  \\\n",
              "0       False    False   False  False   False   False    False      False   \n",
              "1       False    False   False  False   False   False    False      False   \n",
              "2       False    False   False  False   False   False    False      False   \n",
              "3       False    False   False  False   False   False    False      False   \n",
              "4       False    False   False  False   False   False    False      False   \n",
              "..        ...      ...     ...    ...     ...     ...      ...        ...   \n",
              "757     False    False   False  False   False   False    False      False   \n",
              "758     False    False   False  False   False   False    False      False   \n",
              "759     False    False   False  False   False   False    False      False   \n",
              "760     False    False   False  False   False   False    False      False   \n",
              "761     False    False   False  False   False   False    False      False   \n",
              "\n",
              "     pCREB_N  pELK_N  ...  BCL2_N  pS6_N  pCFOS_N  SYP_N  H3AcK18_N  EGR1_N  \\\n",
              "0      False   False  ...    True  False    False  False      False   False   \n",
              "1      False   False  ...    True  False    False  False      False   False   \n",
              "2      False   False  ...    True  False    False  False      False   False   \n",
              "3      False   False  ...    True  False    False  False      False   False   \n",
              "4      False   False  ...    True  False    False  False      False   False   \n",
              "..       ...     ...  ...     ...    ...      ...    ...        ...     ...   \n",
              "757    False   False  ...   False  False    False  False      False   False   \n",
              "758    False   False  ...   False  False    False  False      False   False   \n",
              "759    False   False  ...   False  False    False  False      False   False   \n",
              "760    False   False  ...   False  False    False  False      False   False   \n",
              "761    False   False  ...   False  False    False  False      False   False   \n",
              "\n",
              "     H3MeK4_N  CaNA_N  Genotype  Treatment_Behavior  \n",
              "0       False   False     False               False  \n",
              "1       False   False     False               False  \n",
              "2       False   False     False               False  \n",
              "3       False   False     False               False  \n",
              "4       False   False     False               False  \n",
              "..        ...     ...       ...                 ...  \n",
              "757     False   False     False               False  \n",
              "758     False   False     False               False  \n",
              "759     False   False     False               False  \n",
              "760     False   False     False               False  \n",
              "761     False   False     False               False  \n",
              "\n",
              "[762 rows x 79 columns]"
            ],
            "text/html": [
              "\n",
              "  <div id=\"df-1c514b40-4440-4d2d-a42a-58ab731c2d81\">\n",
              "    <div class=\"colab-df-container\">\n",
              "      <div>\n",
              "<style scoped>\n",
              "    .dataframe tbody tr th:only-of-type {\n",
              "        vertical-align: middle;\n",
              "    }\n",
              "\n",
              "    .dataframe tbody tr th {\n",
              "        vertical-align: top;\n",
              "    }\n",
              "\n",
              "    .dataframe thead th {\n",
              "        text-align: right;\n",
              "    }\n",
              "</style>\n",
              "<table border=\"1\" class=\"dataframe\">\n",
              "  <thead>\n",
              "    <tr style=\"text-align: right;\">\n",
              "      <th></th>\n",
              "      <th>DYRK1A_N</th>\n",
              "      <th>ITSN1_N</th>\n",
              "      <th>BDNF_N</th>\n",
              "      <th>NR1_N</th>\n",
              "      <th>NR2A_N</th>\n",
              "      <th>pAKT_N</th>\n",
              "      <th>pBRAF_N</th>\n",
              "      <th>pCAMKII_N</th>\n",
              "      <th>pCREB_N</th>\n",
              "      <th>pELK_N</th>\n",
              "      <th>...</th>\n",
              "      <th>BCL2_N</th>\n",
              "      <th>pS6_N</th>\n",
              "      <th>pCFOS_N</th>\n",
              "      <th>SYP_N</th>\n",
              "      <th>H3AcK18_N</th>\n",
              "      <th>EGR1_N</th>\n",
              "      <th>H3MeK4_N</th>\n",
              "      <th>CaNA_N</th>\n",
              "      <th>Genotype</th>\n",
              "      <th>Treatment_Behavior</th>\n",
              "    </tr>\n",
              "  </thead>\n",
              "  <tbody>\n",
              "    <tr>\n",
              "      <th>0</th>\n",
              "      <td>False</td>\n",
              "      <td>False</td>\n",
              "      <td>False</td>\n",
              "      <td>False</td>\n",
              "      <td>False</td>\n",
              "      <td>False</td>\n",
              "      <td>False</td>\n",
              "      <td>False</td>\n",
              "      <td>False</td>\n",
              "      <td>False</td>\n",
              "      <td>...</td>\n",
              "      <td>True</td>\n",
              "      <td>False</td>\n",
              "      <td>False</td>\n",
              "      <td>False</td>\n",
              "      <td>False</td>\n",
              "      <td>False</td>\n",
              "      <td>False</td>\n",
              "      <td>False</td>\n",
              "      <td>False</td>\n",
              "      <td>False</td>\n",
              "    </tr>\n",
              "    <tr>\n",
              "      <th>1</th>\n",
              "      <td>False</td>\n",
              "      <td>False</td>\n",
              "      <td>False</td>\n",
              "      <td>False</td>\n",
              "      <td>False</td>\n",
              "      <td>False</td>\n",
              "      <td>False</td>\n",
              "      <td>False</td>\n",
              "      <td>False</td>\n",
              "      <td>False</td>\n",
              "      <td>...</td>\n",
              "      <td>True</td>\n",
              "      <td>False</td>\n",
              "      <td>False</td>\n",
              "      <td>False</td>\n",
              "      <td>False</td>\n",
              "      <td>False</td>\n",
              "      <td>False</td>\n",
              "      <td>False</td>\n",
              "      <td>False</td>\n",
              "      <td>False</td>\n",
              "    </tr>\n",
              "    <tr>\n",
              "      <th>2</th>\n",
              "      <td>False</td>\n",
              "      <td>False</td>\n",
              "      <td>False</td>\n",
              "      <td>False</td>\n",
              "      <td>False</td>\n",
              "      <td>False</td>\n",
              "      <td>False</td>\n",
              "      <td>False</td>\n",
              "      <td>False</td>\n",
              "      <td>False</td>\n",
              "      <td>...</td>\n",
              "      <td>True</td>\n",
              "      <td>False</td>\n",
              "      <td>False</td>\n",
              "      <td>False</td>\n",
              "      <td>False</td>\n",
              "      <td>False</td>\n",
              "      <td>False</td>\n",
              "      <td>False</td>\n",
              "      <td>False</td>\n",
              "      <td>False</td>\n",
              "    </tr>\n",
              "    <tr>\n",
              "      <th>3</th>\n",
              "      <td>False</td>\n",
              "      <td>False</td>\n",
              "      <td>False</td>\n",
              "      <td>False</td>\n",
              "      <td>False</td>\n",
              "      <td>False</td>\n",
              "      <td>False</td>\n",
              "      <td>False</td>\n",
              "      <td>False</td>\n",
              "      <td>False</td>\n",
              "      <td>...</td>\n",
              "      <td>True</td>\n",
              "      <td>False</td>\n",
              "      <td>False</td>\n",
              "      <td>False</td>\n",
              "      <td>False</td>\n",
              "      <td>False</td>\n",
              "      <td>False</td>\n",
              "      <td>False</td>\n",
              "      <td>False</td>\n",
              "      <td>False</td>\n",
              "    </tr>\n",
              "    <tr>\n",
              "      <th>4</th>\n",
              "      <td>False</td>\n",
              "      <td>False</td>\n",
              "      <td>False</td>\n",
              "      <td>False</td>\n",
              "      <td>False</td>\n",
              "      <td>False</td>\n",
              "      <td>False</td>\n",
              "      <td>False</td>\n",
              "      <td>False</td>\n",
              "      <td>False</td>\n",
              "      <td>...</td>\n",
              "      <td>True</td>\n",
              "      <td>False</td>\n",
              "      <td>False</td>\n",
              "      <td>False</td>\n",
              "      <td>False</td>\n",
              "      <td>False</td>\n",
              "      <td>False</td>\n",
              "      <td>False</td>\n",
              "      <td>False</td>\n",
              "      <td>False</td>\n",
              "    </tr>\n",
              "    <tr>\n",
              "      <th>...</th>\n",
              "      <td>...</td>\n",
              "      <td>...</td>\n",
              "      <td>...</td>\n",
              "      <td>...</td>\n",
              "      <td>...</td>\n",
              "      <td>...</td>\n",
              "      <td>...</td>\n",
              "      <td>...</td>\n",
              "      <td>...</td>\n",
              "      <td>...</td>\n",
              "      <td>...</td>\n",
              "      <td>...</td>\n",
              "      <td>...</td>\n",
              "      <td>...</td>\n",
              "      <td>...</td>\n",
              "      <td>...</td>\n",
              "      <td>...</td>\n",
              "      <td>...</td>\n",
              "      <td>...</td>\n",
              "      <td>...</td>\n",
              "      <td>...</td>\n",
              "    </tr>\n",
              "    <tr>\n",
              "      <th>757</th>\n",
              "      <td>False</td>\n",
              "      <td>False</td>\n",
              "      <td>False</td>\n",
              "      <td>False</td>\n",
              "      <td>False</td>\n",
              "      <td>False</td>\n",
              "      <td>False</td>\n",
              "      <td>False</td>\n",
              "      <td>False</td>\n",
              "      <td>False</td>\n",
              "      <td>...</td>\n",
              "      <td>False</td>\n",
              "      <td>False</td>\n",
              "      <td>False</td>\n",
              "      <td>False</td>\n",
              "      <td>False</td>\n",
              "      <td>False</td>\n",
              "      <td>False</td>\n",
              "      <td>False</td>\n",
              "      <td>False</td>\n",
              "      <td>False</td>\n",
              "    </tr>\n",
              "    <tr>\n",
              "      <th>758</th>\n",
              "      <td>False</td>\n",
              "      <td>False</td>\n",
              "      <td>False</td>\n",
              "      <td>False</td>\n",
              "      <td>False</td>\n",
              "      <td>False</td>\n",
              "      <td>False</td>\n",
              "      <td>False</td>\n",
              "      <td>False</td>\n",
              "      <td>False</td>\n",
              "      <td>...</td>\n",
              "      <td>False</td>\n",
              "      <td>False</td>\n",
              "      <td>False</td>\n",
              "      <td>False</td>\n",
              "      <td>False</td>\n",
              "      <td>False</td>\n",
              "      <td>False</td>\n",
              "      <td>False</td>\n",
              "      <td>False</td>\n",
              "      <td>False</td>\n",
              "    </tr>\n",
              "    <tr>\n",
              "      <th>759</th>\n",
              "      <td>False</td>\n",
              "      <td>False</td>\n",
              "      <td>False</td>\n",
              "      <td>False</td>\n",
              "      <td>False</td>\n",
              "      <td>False</td>\n",
              "      <td>False</td>\n",
              "      <td>False</td>\n",
              "      <td>False</td>\n",
              "      <td>False</td>\n",
              "      <td>...</td>\n",
              "      <td>False</td>\n",
              "      <td>False</td>\n",
              "      <td>False</td>\n",
              "      <td>False</td>\n",
              "      <td>False</td>\n",
              "      <td>False</td>\n",
              "      <td>False</td>\n",
              "      <td>False</td>\n",
              "      <td>False</td>\n",
              "      <td>False</td>\n",
              "    </tr>\n",
              "    <tr>\n",
              "      <th>760</th>\n",
              "      <td>False</td>\n",
              "      <td>False</td>\n",
              "      <td>False</td>\n",
              "      <td>False</td>\n",
              "      <td>False</td>\n",
              "      <td>False</td>\n",
              "      <td>False</td>\n",
              "      <td>False</td>\n",
              "      <td>False</td>\n",
              "      <td>False</td>\n",
              "      <td>...</td>\n",
              "      <td>False</td>\n",
              "      <td>False</td>\n",
              "      <td>False</td>\n",
              "      <td>False</td>\n",
              "      <td>False</td>\n",
              "      <td>False</td>\n",
              "      <td>False</td>\n",
              "      <td>False</td>\n",
              "      <td>False</td>\n",
              "      <td>False</td>\n",
              "    </tr>\n",
              "    <tr>\n",
              "      <th>761</th>\n",
              "      <td>False</td>\n",
              "      <td>False</td>\n",
              "      <td>False</td>\n",
              "      <td>False</td>\n",
              "      <td>False</td>\n",
              "      <td>False</td>\n",
              "      <td>False</td>\n",
              "      <td>False</td>\n",
              "      <td>False</td>\n",
              "      <td>False</td>\n",
              "      <td>...</td>\n",
              "      <td>False</td>\n",
              "      <td>False</td>\n",
              "      <td>False</td>\n",
              "      <td>False</td>\n",
              "      <td>False</td>\n",
              "      <td>False</td>\n",
              "      <td>False</td>\n",
              "      <td>False</td>\n",
              "      <td>False</td>\n",
              "      <td>False</td>\n",
              "    </tr>\n",
              "  </tbody>\n",
              "</table>\n",
              "<p>762 rows × 79 columns</p>\n",
              "</div>\n",
              "      <button class=\"colab-df-convert\" onclick=\"convertToInteractive('df-1c514b40-4440-4d2d-a42a-58ab731c2d81')\"\n",
              "              title=\"Convert this dataframe to an interactive table.\"\n",
              "              style=\"display:none;\">\n",
              "        \n",
              "  <svg xmlns=\"http://www.w3.org/2000/svg\" height=\"24px\"viewBox=\"0 0 24 24\"\n",
              "       width=\"24px\">\n",
              "    <path d=\"M0 0h24v24H0V0z\" fill=\"none\"/>\n",
              "    <path d=\"M18.56 5.44l.94 2.06.94-2.06 2.06-.94-2.06-.94-.94-2.06-.94 2.06-2.06.94zm-11 1L8.5 8.5l.94-2.06 2.06-.94-2.06-.94L8.5 2.5l-.94 2.06-2.06.94zm10 10l.94 2.06.94-2.06 2.06-.94-2.06-.94-.94-2.06-.94 2.06-2.06.94z\"/><path d=\"M17.41 7.96l-1.37-1.37c-.4-.4-.92-.59-1.43-.59-.52 0-1.04.2-1.43.59L10.3 9.45l-7.72 7.72c-.78.78-.78 2.05 0 2.83L4 21.41c.39.39.9.59 1.41.59.51 0 1.02-.2 1.41-.59l7.78-7.78 2.81-2.81c.8-.78.8-2.07 0-2.86zM5.41 20L4 18.59l7.72-7.72 1.47 1.35L5.41 20z\"/>\n",
              "  </svg>\n",
              "      </button>\n",
              "      \n",
              "  <style>\n",
              "    .colab-df-container {\n",
              "      display:flex;\n",
              "      flex-wrap:wrap;\n",
              "      gap: 12px;\n",
              "    }\n",
              "\n",
              "    .colab-df-convert {\n",
              "      background-color: #E8F0FE;\n",
              "      border: none;\n",
              "      border-radius: 50%;\n",
              "      cursor: pointer;\n",
              "      display: none;\n",
              "      fill: #1967D2;\n",
              "      height: 32px;\n",
              "      padding: 0 0 0 0;\n",
              "      width: 32px;\n",
              "    }\n",
              "\n",
              "    .colab-df-convert:hover {\n",
              "      background-color: #E2EBFA;\n",
              "      box-shadow: 0px 1px 2px rgba(60, 64, 67, 0.3), 0px 1px 3px 1px rgba(60, 64, 67, 0.15);\n",
              "      fill: #174EA6;\n",
              "    }\n",
              "\n",
              "    [theme=dark] .colab-df-convert {\n",
              "      background-color: #3B4455;\n",
              "      fill: #D2E3FC;\n",
              "    }\n",
              "\n",
              "    [theme=dark] .colab-df-convert:hover {\n",
              "      background-color: #434B5C;\n",
              "      box-shadow: 0px 1px 3px 1px rgba(0, 0, 0, 0.15);\n",
              "      filter: drop-shadow(0px 1px 2px rgba(0, 0, 0, 0.3));\n",
              "      fill: #FFFFFF;\n",
              "    }\n",
              "  </style>\n",
              "\n",
              "      <script>\n",
              "        const buttonEl =\n",
              "          document.querySelector('#df-1c514b40-4440-4d2d-a42a-58ab731c2d81 button.colab-df-convert');\n",
              "        buttonEl.style.display =\n",
              "          google.colab.kernel.accessAllowed ? 'block' : 'none';\n",
              "\n",
              "        async function convertToInteractive(key) {\n",
              "          const element = document.querySelector('#df-1c514b40-4440-4d2d-a42a-58ab731c2d81');\n",
              "          const dataTable =\n",
              "            await google.colab.kernel.invokeFunction('convertToInteractive',\n",
              "                                                     [key], {});\n",
              "          if (!dataTable) return;\n",
              "\n",
              "          const docLinkHtml = 'Like what you see? Visit the ' +\n",
              "            '<a target=\"_blank\" href=https://colab.research.google.com/notebooks/data_table.ipynb>data table notebook</a>'\n",
              "            + ' to learn more about interactive tables.';\n",
              "          element.innerHTML = '';\n",
              "          dataTable['output_type'] = 'display_data';\n",
              "          await google.colab.output.renderOutput(dataTable, element);\n",
              "          const docLink = document.createElement('div');\n",
              "          docLink.innerHTML = docLinkHtml;\n",
              "          element.appendChild(docLink);\n",
              "        }\n",
              "      </script>\n",
              "    </div>\n",
              "  </div>\n",
              "  "
            ]
          },
          "metadata": {},
          "execution_count": 5
        }
      ]
    },
    {
      "cell_type": "markdown",
      "source": [
        "the above code is for checking the the missing samples in the variables.\n",
        " - We can also use datafile.fillna(datafile.mean())to fill every empty value by the mean of each column(variable)\n",
        " - But since we will be using imputation in the further steps we are not using this.\n",
        "\n",
        "Now we have generated histograms of each variables and heat map of correlation between variables. \n",
        "- This is just for the better understanding of data and finding whether we can remove some data varaibles (not relevent or highly correlated) or not."
      ],
      "metadata": {
        "id": "PgC0Yl3wIr3P"
      }
    },
    {
      "cell_type": "code",
      "source": [
        "print(datafile.dtypes)\n",
        "\n",
        "# Generate histograms of all numerical variables in the DataFrame\n",
        "datafile.hist(figsize=(15,10))\n",
        "plt.xlabel('Data')\n",
        "plt.ylabel('Frequency')\n",
        "plt.title('Histogram of Data')\n",
        "plt.show()\n",
        "\n",
        "# Generate a heatmap of the correlation between variables\n",
        "sns.heatmap(datafile.corr())\n",
        "plt.xlabel('Data')\n",
        "plt.ylabel('Density')\n",
        "plt.title('Density Plot of Data')\n",
        "plt.show()\n",
        "\n"
      ],
      "metadata": {
        "colab": {
          "base_uri": "https://localhost:8080/",
          "height": 1000
        },
        "id": "dkU3H8sDgEuH",
        "outputId": "de955bc6-195e-4ded-b889-1af8c1565a95"
      },
      "execution_count": 6,
      "outputs": [
        {
          "output_type": "stream",
          "name": "stdout",
          "text": [
            "DYRK1A_N              float64\n",
            "ITSN1_N               float64\n",
            "BDNF_N                float64\n",
            "NR1_N                 float64\n",
            "NR2A_N                float64\n",
            "                       ...   \n",
            "EGR1_N                float64\n",
            "H3MeK4_N              float64\n",
            "CaNA_N                float64\n",
            "Genotype               object\n",
            "Treatment_Behavior     object\n",
            "Length: 79, dtype: object\n"
          ]
        },
        {
          "output_type": "display_data",
          "data": {
            "text/plain": [
              "<Figure size 1080x720 with 81 Axes>"
            ],
            "image/png": "[encoded data removed]"
          },
          "metadata": {
            "needs_background": "light"
          }
        },
        {
          "output_type": "display_data",
          "data": {
            "text/plain": [
              "<Figure size 432x288 with 2 Axes>"
            ],
            "image/png": "[encoded data removed]"
          },
          "metadata": {
            "needs_background": "light"
          }
        }
      ]
    },
    {
      "cell_type": "markdown",
      "source": [
        "Now I have dropped some of the variables with samples less than 700"
      ],
      "metadata": {
        "id": "CHAHb6SsPKdo"
      }
    },
    {
      "cell_type": "code",
      "source": [
        "counts = datafile.count()\n",
        "# Print the counts for each column\n",
        "print(len(counts))\n",
        "less_than_700 = counts[counts < 700]\n",
        "# Print the names of the columns that have less than 700 non-missing values\n",
        "print(less_than_700.index)\n",
        "print(less_than_700)\n",
        "# Drop the columns that have less than 700 non-missing values\n",
        "datafile = datafile.drop(less_than_700.index, axis=1)\n",
        "datafile.count()\n"
      ],
      "metadata": {
        "colab": {
          "base_uri": "https://localhost:8080/"
        },
        "id": "WgIKyogAPJNh",
        "outputId": "0f6a5b42-e97f-4e49-bd70-eda068da9306"
      },
      "execution_count": 7,
      "outputs": [
        {
          "output_type": "stream",
          "name": "stdout",
          "text": [
            "79\n",
            "Index(['BAD_N', 'BCL2_N', 'H3AcK18_N', 'EGR1_N', 'H3MeK4_N'], dtype='object')\n",
            "BAD_N        582\n",
            "BCL2_N       567\n",
            "H3AcK18_N    612\n",
            "EGR1_N       582\n",
            "H3MeK4_N     582\n",
            "dtype: int64\n"
          ]
        },
        {
          "output_type": "execute_result",
          "data": {
            "text/plain": [
              "DYRK1A_N              762\n",
              "ITSN1_N               762\n",
              "BDNF_N                762\n",
              "NR1_N                 762\n",
              "NR2A_N                762\n",
              "                     ... \n",
              "pCFOS_N               702\n",
              "SYP_N                 762\n",
              "CaNA_N                762\n",
              "Genotype              762\n",
              "Treatment_Behavior    762\n",
              "Length: 74, dtype: int64"
            ]
          },
          "metadata": {},
          "execution_count": 7
        }
      ]
    },
    {
      "cell_type": "markdown",
      "source": [
        "Therefore we have dropped 5 input variables here."
      ],
      "metadata": {
        "id": "mBHMhgObR5_J"
      }
    },
    {
      "cell_type": "markdown",
      "source": [
        "Now we have used the label encoder to convert our output classes into integer form \n",
        "- label_encoder_1 is used for binary classification\n",
        "- label_encoder_2 is used for quatenary classification\n",
        "- this code also helps us understand the number of classes i.e. it presents data classification in more clearer way. "
      ],
      "metadata": {
        "id": "IlpwG_wAtALn"
      }
    },
    {
      "cell_type": "code",
      "source": [
        "X = datafile.iloc[:, :-2].values\n",
        "# Example output classes represented as strings\n",
        "# Initialize the LabelEncoder object\n",
        "label_encoder_1= LabelEncoder()\n",
        "label_encoder_2= LabelEncoder()\n",
        "# Fit the label encoder to the output classes\n",
        "label_encoder_1.fit(datafile['Genotype'])\n",
        "label_encoder_2.fit(datafile['Treatment_Behavior'])\n",
        "# Transform the output classes to numerical values\n",
        "y1 = label_encoder_1.transform(datafile['Genotype'])\n",
        "y2 =  label_encoder_2.transform(datafile['Treatment_Behavior']) \n",
        "print(X.shape)\n",
        "print(y1)\n",
        "print(y2)"
      ],
      "metadata": {
        "colab": {
          "base_uri": "https://localhost:8080/"
        },
        "id": "j4qW4vYVn2Yw",
        "outputId": "dc35fe41-f718-401b-f702-2407da3c0f1f"
      },
      "execution_count": 8,
      "outputs": [
        {
          "output_type": "stream",
          "name": "stdout",
          "text": [
            "(762, 72)\n",
            "[0 0 0 0 0 0 0 0 0 0 0 0 0 0 0 0 0 0 0 0 0 0 0 0 0 0 0 0 0 0 0 0 0 0 0 0 0\n",
            " 0 0 0 0 0 0 0 0 0 0 0 0 0 0 0 0 0 0 0 0 0 0 0 0 0 0 0 0 0 0 0 0 0 0 0 0 0\n",
            " 0 0 0 0 0 0 0 0 0 0 0 0 0 0 0 0 0 0 0 0 0 0 0 0 0 0 0 0 0 0 0 0 0 0 0 0 0\n",
            " 0 0 0 0 0 0 0 0 0 0 0 0 0 0 0 0 0 0 0 0 0 0 0 0 0 0 0 0 0 0 0 0 0 0 0 0 0\n",
            " 0 0 0 0 0 0 0 0 0 0 0 0 0 0 0 0 0 0 0 0 0 0 0 0 0 0 0 0 0 0 0 0 0 0 0 0 0\n",
            " 0 0 0 0 0 0 0 0 0 0 0 0 0 0 0 0 0 0 0 0 0 0 0 0 0 0 0 0 0 0 0 0 0 0 0 0 0\n",
            " 0 0 0 0 0 0 0 0 0 0 0 0 0 0 0 0 0 0 0 0 0 0 0 0 0 0 0 0 0 0 0 0 0 0 0 0 0\n",
            " 0 0 0 0 0 0 0 0 0 0 0 0 0 0 0 0 0 0 0 0 0 0 0 0 0 0 0 0 0 0 0 0 0 0 0 0 0\n",
            " 0 0 0 0 0 0 0 0 0 0 0 0 0 0 0 0 0 0 0 0 0 0 0 0 0 0 0 0 0 0 0 0 0 0 0 0 0\n",
            " 0 0 0 0 0 0 0 0 0 0 0 0 0 0 0 0 0 0 0 0 0 0 0 0 0 0 0 0 0 0 0 0 0 0 0 0 0\n",
            " 0 0 0 0 0 0 0 0 0 0 0 0 0 0 0 0 0 0 0 0 0 0 0 0 0 0 0 0 0 0 0 0 0 0 0 0 0\n",
            " 0 0 0 0 0 0 0 0 0 0 0 0 0 0 0 0 0 0 0 0 0 0 0 0 0 0 0 0 1 1 1 1 1 1 1 1 1\n",
            " 1 1 1 1 1 1 1 1 1 1 1 1 1 1 1 1 1 1 1 1 1 1 1 1 1 1 1 1 1 1 1 1 1 1 1 1 1\n",
            " 1 1 1 1 1 1 1 1 1 1 1 1 1 1 1 1 1 1 1 1 1 1 1 1 1 1 1 1 1 1 1 1 1 1 1 1 1\n",
            " 1 1 1 1 1 1 1 1 1 1 1 1 1 1 1 1 1 1 1 1 1 1 1 1 1 1 1 1 1 1 1 1 1 1 1 1 1\n",
            " 1 1 1 1 1 1 1 1 1 1 1 1 1 1 1 1 1 1 1 1 1 1 1 1 1 1 1 1 1 1 1 1 1 1 1 1 1\n",
            " 1 1 1 1 1 1 1 1 1 1 1 1 1 1 1 1 1 1 1 1 1 1 1 1 1 1 1 1 1 1 1 1 1 1 1 1 1\n",
            " 1 1 1 1 1 1 1 1 1 1 1 1 1 1 1 1 1 1 1 1 1 1 1 1 1 1 1 1 1 1 1 1 1 1 1 1 1\n",
            " 1 1 1 1 1 1 1 1 1 1 1 1 1 1 1 1 1 1 1 1 1 1 1 1 1 1 1 1 1 1 1 1 1 1 1 1 1\n",
            " 1 1 1 1 1 1 1 1 1 1 1 1 1 1 1 1 1 1 1 1 1 1 1 1 1 1 1 1 1 1 1 1 1 1 1 1 1\n",
            " 1 1 1 1 1 1 1 1 1 1 1 1 1 1 1 1 1 1 1 1 1 1]\n",
            "[0 0 0 0 0 0 0 0 0 0 0 0 0 0 0 0 0 0 0 0 0 0 0 0 0 0 0 0 0 0 0 0 0 0 0 0 0\n",
            " 0 0 0 0 0 0 0 0 0 0 0 0 0 0 0 0 0 0 0 0 0 0 0 0 0 0 0 0 0 0 0 0 0 0 0 0 0\n",
            " 0 0 0 0 0 0 0 0 0 0 0 0 0 0 0 0 0 0 0 0 0 0 0 0 0 0 0 0 0 0 0 0 0 0 0 0 0\n",
            " 0 0 0 0 0 0 0 0 0 1 1 1 1 1 1 1 1 1 1 1 1 1 1 1 1 1 1 1 1 1 1 1 1 1 1 1 1\n",
            " 1 1 1 1 1 1 1 1 1 1 1 1 1 1 1 1 1 1 1 1 1 1 1 1 1 1 1 1 1 1 1 1 1 1 1 1 1\n",
            " 1 1 1 1 1 1 1 1 1 1 1 1 1 1 1 1 1 1 1 1 1 1 1 1 1 1 1 1 1 1 1 1 1 1 1 1 1\n",
            " 1 1 1 2 2 2 2 2 2 2 2 2 2 2 2 2 2 2 2 2 2 2 2 2 2 2 2 2 2 2 2 2 2 2 2 2 2\n",
            " 2 2 2 2 2 2 2 2 2 2 2 2 2 2 2 2 2 2 2 2 2 2 2 2 2 2 2 2 2 2 2 2 2 2 2 2 2\n",
            " 2 2 2 2 2 2 2 2 2 2 2 2 2 2 2 2 2 2 2 2 2 2 2 2 2 2 2 2 2 2 2 2 2 2 3 3 3\n",
            " 3 3 3 3 3 3 3 3 3 3 3 3 3 3 3 3 3 3 3 3 3 3 3 3 3 3 3 3 3 3 3 3 3 3 3 3 3\n",
            " 3 3 3 3 3 3 3 3 3 3 3 3 3 3 3 3 3 3 3 3 3 3 3 3 3 3 3 3 3 3 3 3 3 3 3 3 3\n",
            " 3 3 3 3 3 3 3 3 3 3 3 3 3 3 3 3 3 3 3 3 3 3 3 3 3 3 3 3 0 0 0 0 0 0 0 0 0\n",
            " 0 0 0 0 0 0 0 0 0 0 0 0 0 0 0 0 0 0 0 0 0 0 0 0 0 0 0 0 0 0 0 0 0 0 0 0 0\n",
            " 0 0 0 0 0 0 0 0 0 0 0 0 0 0 0 0 0 0 0 0 0 0 0 0 0 0 0 0 0 0 0 0 0 0 0 0 0\n",
            " 0 0 0 0 0 0 0 0 0 0 0 0 0 0 0 0 0 0 0 0 0 0 1 1 1 1 1 1 1 1 1 1 1 1 1 1 1\n",
            " 1 1 1 1 1 1 1 1 1 1 1 1 1 1 1 1 1 1 1 1 1 1 1 1 1 1 1 1 1 1 1 1 1 1 1 1 1\n",
            " 1 1 1 1 1 1 1 1 1 1 1 1 1 1 1 1 1 1 1 1 1 1 1 1 1 1 1 1 1 1 1 1 1 1 1 1 1\n",
            " 1 1 1 1 1 1 1 1 1 1 1 1 1 1 1 1 1 1 1 1 1 1 1 1 1 1 1 1 1 1 1 2 2 2 2 2 2\n",
            " 2 2 2 2 2 2 2 2 2 2 2 2 2 2 2 2 2 2 2 2 2 2 2 2 2 2 2 2 2 2 2 2 2 2 2 2 2\n",
            " 2 2 2 2 2 2 2 2 2 2 2 2 2 2 2 2 2 2 2 2 2 2 2 2 2 2 2 2 2 2 2 2 3 3 3 3 3\n",
            " 3 3 3 3 3 3 3 3 3 3 3 3 3 3 3 3 3 3 3 3 3 3]\n"
          ]
        }
      ]
    },
    {
      "cell_type": "markdown",
      "source": [
        "Now we have drop the one of the two varaibles which have very high correlation.\n",
        "- for that first we will introduce t- test and try to understand it.\n",
        "- secondly we will find effect of two variables on binary classification as output values"
      ],
      "metadata": {
        "id": "z6zoLQHWSlFL"
      }
    },
    {
      "cell_type": "markdown",
      "source": [
        "#### T- Test on Binary Classification Data"
      ],
      "metadata": {
        "id": "j-dsug9xiSgE"
      }
    },
    {
      "cell_type": "code",
      "source": [
        "# Split the data into two classes based on the target variable\n",
        "class_1 = X[y1 == 0]\n",
        "class_2 = X[y1 == 1]\n",
        "\n",
        "# Perform a t-test for each feature\n",
        "for i in range(X.shape[1]):\n",
        "    feature = X[:, i]\n",
        "    t_statistic, p_value = ttest_ind(class_1[:, i], class_2[:, i])\n",
        "    print(f\"Feature {i}: t-value={t_statistic:.3f}, p-value={p_value:.3f}\")\n"
      ],
      "metadata": {
        "colab": {
          "base_uri": "https://localhost:8080/"
        },
        "id": "qsJqGHfnfbnZ",
        "outputId": "913f0922-4f1d-4069-ea4a-cc5166f24478"
      },
      "execution_count": 9,
      "outputs": [
        {
          "output_type": "stream",
          "name": "stdout",
          "text": [
            "Feature 0: t-value=-2.098, p-value=0.036\n",
            "Feature 1: t-value=-5.016, p-value=0.000\n",
            "Feature 2: t-value=1.106, p-value=0.269\n",
            "Feature 3: t-value=2.604, p-value=0.009\n",
            "Feature 4: t-value=3.858, p-value=0.000\n",
            "Feature 5: t-value=-4.491, p-value=0.000\n",
            "Feature 6: t-value=-1.819, p-value=0.069\n",
            "Feature 7: t-value=-1.058, p-value=0.291\n",
            "Feature 8: t-value=-5.787, p-value=0.000\n",
            "Feature 9: t-value=0.415, p-value=0.678\n",
            "Feature 10: t-value=-0.262, p-value=0.793\n",
            "Feature 11: t-value=-1.865, p-value=0.063\n",
            "Feature 12: t-value=-1.810, p-value=0.071\n",
            "Feature 13: t-value=-3.531, p-value=0.000\n",
            "Feature 14: t-value=4.662, p-value=0.000\n",
            "Feature 15: t-value=3.392, p-value=0.001\n",
            "Feature 16: t-value=1.615, p-value=0.107\n",
            "Feature 17: t-value=-2.282, p-value=0.023\n",
            "Feature 18: t-value=-5.694, p-value=0.000\n",
            "Feature 19: t-value=2.347, p-value=0.019\n",
            "Feature 20: t-value=-1.419, p-value=0.156\n",
            "Feature 21: t-value=-0.175, p-value=0.861\n",
            "Feature 22: t-value=-3.841, p-value=0.000\n",
            "Feature 23: t-value=nan, p-value=nan\n",
            "Feature 24: t-value=2.361, p-value=0.018\n",
            "Feature 25: t-value=-1.344, p-value=0.179\n",
            "Feature 26: t-value=-2.327, p-value=0.020\n",
            "Feature 27: t-value=nan, p-value=nan\n",
            "Feature 28: t-value=-4.457, p-value=0.000\n",
            "Feature 29: t-value=-2.781, p-value=0.006\n",
            "Feature 30: t-value=-16.695, p-value=0.000\n",
            "Feature 31: t-value=nan, p-value=nan\n",
            "Feature 32: t-value=0.908, p-value=0.364\n",
            "Feature 33: t-value=7.028, p-value=0.000\n",
            "Feature 34: t-value=4.536, p-value=0.000\n",
            "Feature 35: t-value=3.960, p-value=0.000\n",
            "Feature 36: t-value=-1.196, p-value=0.232\n",
            "Feature 37: t-value=5.233, p-value=0.000\n",
            "Feature 38: t-value=4.929, p-value=0.000\n",
            "Feature 39: t-value=2.103, p-value=0.036\n",
            "Feature 40: t-value=2.926, p-value=0.004\n",
            "Feature 41: t-value=-3.258, p-value=0.001\n",
            "Feature 42: t-value=-3.529, p-value=0.000\n",
            "Feature 43: t-value=-3.545, p-value=0.000\n",
            "Feature 44: t-value=-2.450, p-value=0.015\n",
            "Feature 45: t-value=-2.079, p-value=0.038\n",
            "Feature 46: t-value=-7.932, p-value=0.000\n",
            "Feature 47: t-value=-2.721, p-value=0.007\n",
            "Feature 48: t-value=-9.468, p-value=0.000\n",
            "Feature 49: t-value=1.374, p-value=0.170\n",
            "Feature 50: t-value=-5.515, p-value=0.000\n",
            "Feature 51: t-value=-0.432, p-value=0.666\n",
            "Feature 52: t-value=-2.499, p-value=0.013\n",
            "Feature 53: t-value=1.163, p-value=0.245\n",
            "Feature 54: t-value=-2.179, p-value=0.030\n",
            "Feature 55: t-value=-2.932, p-value=0.003\n",
            "Feature 56: t-value=-6.391, p-value=0.000\n",
            "Feature 57: t-value=-0.070, p-value=0.944\n",
            "Feature 58: t-value=9.748, p-value=0.000\n",
            "Feature 59: t-value=3.828, p-value=0.000\n",
            "Feature 60: t-value=1.923, p-value=0.055\n",
            "Feature 61: t-value=-2.705, p-value=0.007\n",
            "Feature 62: t-value=-1.272, p-value=0.204\n",
            "Feature 63: t-value=-2.652, p-value=0.008\n",
            "Feature 64: t-value=1.954, p-value=0.051\n",
            "Feature 65: t-value=-3.336, p-value=0.001\n",
            "Feature 66: t-value=-2.821, p-value=0.005\n",
            "Feature 67: t-value=0.829, p-value=0.407\n",
            "Feature 68: t-value=1.163, p-value=0.245\n",
            "Feature 69: t-value=nan, p-value=nan\n",
            "Feature 70: t-value=5.699, p-value=0.000\n",
            "Feature 71: t-value=-2.347, p-value=0.019\n"
          ]
        }
      ]
    },
    {
      "cell_type": "markdown",
      "source": [
        "The t-value represents the difference between the means of two populations normalized by the standard deviation of the sample. It is calculated as:\n",
        "\n",
        "t-value = (mean1 - mean2) / (s / sqrt(n))\n",
        "\n",
        "where mean1 and mean2 are the means of the two populations, s is the pooled standard deviation of the two samples, and n is the number of observations in each sample.\n",
        "\n",
        "The t-value represents how much the means of the two populations differ in standard deviation units. If the t-value is large, it means that the means are significantly different. Conversely, if the t-value is small, it means that the means are similar.\n",
        "In feature selection, a higher p-value generally indicates that the null hypothesis, which is that there is no significant difference between the means of the two populations for a particular feature, cannot be rejected. In other words, the feature may not be informative or useful in distinguishing between the two classes.\n",
        "\n",
        "Therefore, in general, we would want to select features with lower p-values, indicating that there is a significant difference between the means of the two populations for those features. These features may be more informative and useful in distinguishing between the two classes."
      ],
      "metadata": {
        "id": "lyosvWIzhpjS"
      }
    },
    {
      "cell_type": "code",
      "source": [
        "corr_matrix = datafile.corr()\n",
        "target_col = y1#datafile['Genotype']\n",
        "dropped_columns = []  # create an empty list to store dropped column indices\n",
        "for i in range(len(corr_matrix.columns)):\n",
        "    for j in range(i):\n",
        "        if abs(corr_matrix.iloc[i, j]) > 0.95:\n",
        "            col1 = datafile.iloc[:,[i]]\n",
        "            col2 = datafile.iloc[:,[j]]\n",
        "            print(f\"highly correlated column pair : ({i},{j})\")\n",
        "            t1_stat, p1_val = ttest_ind(col1, target_col)\n",
        "            t2_stat, p2_val = ttest_ind(col2, target_col, equal_var=True)\n",
        "            \n",
        "            if abs(t1_stat) > abs(t2_stat):\n",
        "                datafile.drop(col2, axis=1,inplace = True)\n",
        "                dropped_columns.append(j)  # store the index of the dropped column\n",
        "                print(f\"Dropped column {i}\")\n",
        "            else:\n",
        "                datafile.drop(col1, axis=1,inplace = True)\n",
        "                dropped_columns.append(i)  # store the index of the dropped column\n",
        "                print(f\"Dropped column {j}\")\n",
        "                break\n",
        "print(datafile.shape)\n",
        "print(\"Indices of dropped columns:\", dropped_columns)"
      ],
      "metadata": {
        "colab": {
          "base_uri": "https://localhost:8080/"
        },
        "id": "U_xJPADCBrmn",
        "outputId": "9d8be506-e33d-4c76-c1c8-b3c0ee56bad8"
      },
      "execution_count": 10,
      "outputs": [
        {
          "output_type": "stream",
          "name": "stdout",
          "text": [
            "highly correlated column pair : (1,0)\n",
            "Dropped column 1\n",
            "highly correlated column pair : (20,0)\n",
            "Dropped column 0\n",
            "highly correlated column pair : (68,53)\n",
            "Dropped column 53\n",
            "(762, 71)\n",
            "Indices of dropped columns: [0, 20, 68]\n"
          ]
        }
      ]
    },
    {
      "cell_type": "markdown",
      "source": [
        "Now to extract features from variables we will import Standard Scaler library and use fit transform method on X to obtain train data."
      ],
      "metadata": {
        "id": "upNva0qERohj"
      }
    },
    {
      "cell_type": "code",
      "source": [
        "X = datafile.iloc[:, :-2].values\n",
        "sc = StandardScaler()\n",
        "X_train = sc.fit_transform(X)\n",
        "print(X_train.shape)"
      ],
      "metadata": {
        "colab": {
          "base_uri": "https://localhost:8080/"
        },
        "id": "gPbl47ho9PQ3",
        "outputId": "8bb73d15-ded4-48e4-8574-a3acab1a07fe"
      },
      "execution_count": 11,
      "outputs": [
        {
          "output_type": "stream",
          "name": "stdout",
          "text": [
            "(762, 69)\n"
          ]
        }
      ]
    },
    {
      "cell_type": "markdown",
      "source": [
        "#### Test Data Pre Processing"
      ],
      "metadata": {
        "id": "FJdcgoBjSw32"
      }
    },
    {
      "cell_type": "markdown",
      "source": [
        "Now to extract features from test data I have followed the following steps.\n",
        "- Firstly i have read test data directly from url given in the assignment.\n",
        "- Next i have dropped columns in the test data file that are not present in the train data file.\n",
        "- Lastly i have extract features from the test variables by using the fit method on SC which has been transformed using train data."
      ],
      "metadata": {
        "id": "uz8_yynORlQr"
      }
    },
    {
      "cell_type": "code",
      "source": [
        "url = \"https://www.ee.iitb.ac.in/~asethi/Dump/MouseTest.csv\"\n",
        "datafile_test = pd.read_csv(url)\n",
        "datafile_test.isna()#Checking for missing values\n",
        "#datafile_test.fillna(datafile.mean())#Fill every empty value by the mean of each value\n",
        "#print(datafile_test)\n",
        "#datafile_test = datafile_test.drop(less_than_700.index, axis=1)# dropping the variables which has less than 700 samples in train data\n",
        "cols1 = datafile.columns.tolist()\n",
        "X_test = datafile_test.iloc[:, :-2].values\n",
        "# drop columns in the second data file that are not present in the first data file\n",
        "cols2 = [col for col in datafile_test.columns.tolist() if col in datafile.columns.tolist()]\n",
        "df2 = datafile_test[cols2]\n",
        "X_test=df2.iloc[:,:-2].values\n",
        "y1_test = datafile_test.iloc[:, -1].values\n",
        "y2_test= datafile_test.iloc[:,-2].values\n",
        "y1_test = label_encoder_1.transform(datafile_test['Genotype'])\n",
        "y2_test = label_encoder_2.transform(datafile_test['Treatment_Behavior'])\n",
        "\n",
        "print(X_test.shape)\n",
        "X_test = sc.transform(X_test)\n",
        "\n",
        "print(X_test)"
      ],
      "metadata": {
        "colab": {
          "base_uri": "https://localhost:8080/"
        },
        "id": "eYJKPoGk-HOO",
        "outputId": "266234f6-9556-4089-c0a1-2272e7f9a1d8"
      },
      "execution_count": 12,
      "outputs": [
        {
          "output_type": "stream",
          "name": "stdout",
          "text": [
            "(225, 69)\n",
            "[[ 1.18181238  2.73333765  1.80570965 ...  1.78836681 -0.38592152\n",
            "   0.8668492 ]\n",
            " [ 1.21032128  3.12051218  1.98654456 ...  1.71373985 -0.03195645\n",
            "   0.83421424]\n",
            " [ 1.22909522  3.22999959  2.22336573 ...  1.41266662 -0.02349083\n",
            "   0.61436628]\n",
            " ...\n",
            " [-0.96587811 -1.68047726 -2.86279678 ... -0.22370197  0.74874071\n",
            "  -0.64042159]\n",
            " [-0.94439744 -1.73761389 -2.81611822 ... -0.04886972  1.01405263\n",
            "  -0.7279485 ]\n",
            " [-0.71632517 -0.64841785 -2.10860899 ...  0.08010429  1.49856006\n",
            "  -0.55261702]]\n"
          ]
        }
      ]
    },
    {
      "cell_type": "markdown",
      "source": [
        "Below Code is just for better understanding of Test data."
      ],
      "metadata": {
        "id": "HWo_VsXopp7Q"
      }
    },
    {
      "cell_type": "code",
      "source": [
        "datafile_test.describe()"
      ],
      "metadata": {
        "colab": {
          "base_uri": "https://localhost:8080/",
          "height": 393
        },
        "id": "aHftjfS2iGOY",
        "outputId": "6cfafc29-1855-47de-f802-9843c17d5e0a"
      },
      "execution_count": 13,
      "outputs": [
        {
          "output_type": "execute_result",
          "data": {
            "text/plain": [
              "         DYRK1A_N     ITSN1_N      BDNF_N       NR1_N      NR2A_N      pAKT_N  \\\n",
              "count  225.000000  225.000000  225.000000  225.000000  225.000000  225.000000   \n",
              "mean     0.418431    0.604418    0.307015    2.210370    3.706414    0.222746   \n",
              "std      0.190422    0.201370    0.054294    0.365601    0.924539    0.042748   \n",
              "min      0.145327    0.245359    0.115181    1.330831    1.737540    0.121000   \n",
              "25%      0.263753    0.441643    0.270306    1.966810    3.046653    0.190877   \n",
              "50%      0.332816    0.567888    0.304595    2.217320    3.640913    0.223688   \n",
              "75%      0.567562    0.736371    0.337207    2.475121    4.297345    0.250863   \n",
              "max      0.992220    1.151506    0.470056    3.073847    6.368257    0.327952   \n",
              "\n",
              "          pBRAF_N   pCAMKII_N     pCREB_N      pELK_N  ...       SHH_N  \\\n",
              "count  225.000000  225.000000  225.000000  225.000000  ...  225.000000   \n",
              "mean     0.174787    3.122136    0.204005    1.418792  ...    0.226364   \n",
              "std      0.029676    0.988197    0.034411    0.366799  ...    0.028922   \n",
              "min      0.107649    1.343998    0.127401    0.720767  ...    0.155869   \n",
              "25%      0.148023    2.375283    0.180728    1.202446  ...    0.206842   \n",
              "50%      0.179132    2.936090    0.204940    1.413711  ...    0.220629   \n",
              "75%      0.193840    3.907035    0.225514    1.641213  ...    0.239833   \n",
              "max      0.274194    5.497302    0.305191    3.034219  ...    0.326490   \n",
              "\n",
              "            BAD_N      BCL2_N       pS6_N     pCFOS_N       SYP_N   H3AcK18_N  \\\n",
              "count  192.000000  180.000000  225.000000  225.000000  225.000000  195.000000   \n",
              "mean     0.153189    0.125720    0.120754    0.133837    0.435778    0.157493   \n",
              "std      0.027330    0.018422    0.012772    0.026850    0.074845    0.046608   \n",
              "min      0.112027    0.092127    0.083798    0.096318    0.280925    0.093495   \n",
              "25%      0.129688    0.112112    0.110874    0.116388    0.374930    0.118882   \n",
              "50%      0.148787    0.121247    0.121823    0.126947    0.439068    0.152941   \n",
              "75%      0.170947    0.135456    0.129491    0.144324    0.499028    0.184233   \n",
              "max      0.238653    0.177576    0.153798    0.256529    0.601743    0.345455   \n",
              "\n",
              "           EGR1_N    H3MeK4_N      CaNA_N  \n",
              "count  210.000000  135.000000  225.000000  \n",
              "mean     0.185161    0.183838    1.322796  \n",
              "std      0.039516    0.040776    0.271271  \n",
              "min      0.132944    0.115270    0.848214  \n",
              "25%      0.155311    0.152578    1.092526  \n",
              "50%      0.175659    0.176857    1.305780  \n",
              "75%      0.206926    0.206271    1.564925  \n",
              "max      0.337187    0.326087    1.842435  \n",
              "\n",
              "[8 rows x 77 columns]"
            ],
            "text/html": [
              "\n",
              "  <div id=\"df-e78ef130-226d-4097-a3e5-9acb5e8277b1\">\n",
              "    <div class=\"colab-df-container\">\n",
              "      <div>\n",
              "<style scoped>\n",
              "    .dataframe tbody tr th:only-of-type {\n",
              "        vertical-align: middle;\n",
              "    }\n",
              "\n",
              "    .dataframe tbody tr th {\n",
              "        vertical-align: top;\n",
              "    }\n",
              "\n",
              "    .dataframe thead th {\n",
              "        text-align: right;\n",
              "    }\n",
              "</style>\n",
              "<table border=\"1\" class=\"dataframe\">\n",
              "  <thead>\n",
              "    <tr style=\"text-align: right;\">\n",
              "      <th></th>\n",
              "      <th>DYRK1A_N</th>\n",
              "      <th>ITSN1_N</th>\n",
              "      <th>BDNF_N</th>\n",
              "      <th>NR1_N</th>\n",
              "      <th>NR2A_N</th>\n",
              "      <th>pAKT_N</th>\n",
              "      <th>pBRAF_N</th>\n",
              "      <th>pCAMKII_N</th>\n",
              "      <th>pCREB_N</th>\n",
              "      <th>pELK_N</th>\n",
              "      <th>...</th>\n",
              "      <th>SHH_N</th>\n",
              "      <th>BAD_N</th>\n",
              "      <th>BCL2_N</th>\n",
              "      <th>pS6_N</th>\n",
              "      <th>pCFOS_N</th>\n",
              "      <th>SYP_N</th>\n",
              "      <th>H3AcK18_N</th>\n",
              "      <th>EGR1_N</th>\n",
              "      <th>H3MeK4_N</th>\n",
              "      <th>CaNA_N</th>\n",
              "    </tr>\n",
              "  </thead>\n",
              "  <tbody>\n",
              "    <tr>\n",
              "      <th>count</th>\n",
              "      <td>225.000000</td>\n",
              "      <td>225.000000</td>\n",
              "      <td>225.000000</td>\n",
              "      <td>225.000000</td>\n",
              "      <td>225.000000</td>\n",
              "      <td>225.000000</td>\n",
              "      <td>225.000000</td>\n",
              "      <td>225.000000</td>\n",
              "      <td>225.000000</td>\n",
              "      <td>225.000000</td>\n",
              "      <td>...</td>\n",
              "      <td>225.000000</td>\n",
              "      <td>192.000000</td>\n",
              "      <td>180.000000</td>\n",
              "      <td>225.000000</td>\n",
              "      <td>225.000000</td>\n",
              "      <td>225.000000</td>\n",
              "      <td>195.000000</td>\n",
              "      <td>210.000000</td>\n",
              "      <td>135.000000</td>\n",
              "      <td>225.000000</td>\n",
              "    </tr>\n",
              "    <tr>\n",
              "      <th>mean</th>\n",
              "      <td>0.418431</td>\n",
              "      <td>0.604418</td>\n",
              "      <td>0.307015</td>\n",
              "      <td>2.210370</td>\n",
              "      <td>3.706414</td>\n",
              "      <td>0.222746</td>\n",
              "      <td>0.174787</td>\n",
              "      <td>3.122136</td>\n",
              "      <td>0.204005</td>\n",
              "      <td>1.418792</td>\n",
              "      <td>...</td>\n",
              "      <td>0.226364</td>\n",
              "      <td>0.153189</td>\n",
              "      <td>0.125720</td>\n",
              "      <td>0.120754</td>\n",
              "      <td>0.133837</td>\n",
              "      <td>0.435778</td>\n",
              "      <td>0.157493</td>\n",
              "      <td>0.185161</td>\n",
              "      <td>0.183838</td>\n",
              "      <td>1.322796</td>\n",
              "    </tr>\n",
              "    <tr>\n",
              "      <th>std</th>\n",
              "      <td>0.190422</td>\n",
              "      <td>0.201370</td>\n",
              "      <td>0.054294</td>\n",
              "      <td>0.365601</td>\n",
              "      <td>0.924539</td>\n",
              "      <td>0.042748</td>\n",
              "      <td>0.029676</td>\n",
              "      <td>0.988197</td>\n",
              "      <td>0.034411</td>\n",
              "      <td>0.366799</td>\n",
              "      <td>...</td>\n",
              "      <td>0.028922</td>\n",
              "      <td>0.027330</td>\n",
              "      <td>0.018422</td>\n",
              "      <td>0.012772</td>\n",
              "      <td>0.026850</td>\n",
              "      <td>0.074845</td>\n",
              "      <td>0.046608</td>\n",
              "      <td>0.039516</td>\n",
              "      <td>0.040776</td>\n",
              "      <td>0.271271</td>\n",
              "    </tr>\n",
              "    <tr>\n",
              "      <th>min</th>\n",
              "      <td>0.145327</td>\n",
              "      <td>0.245359</td>\n",
              "      <td>0.115181</td>\n",
              "      <td>1.330831</td>\n",
              "      <td>1.737540</td>\n",
              "      <td>0.121000</td>\n",
              "      <td>0.107649</td>\n",
              "      <td>1.343998</td>\n",
              "      <td>0.127401</td>\n",
              "      <td>0.720767</td>\n",
              "      <td>...</td>\n",
              "      <td>0.155869</td>\n",
              "      <td>0.112027</td>\n",
              "      <td>0.092127</td>\n",
              "      <td>0.083798</td>\n",
              "      <td>0.096318</td>\n",
              "      <td>0.280925</td>\n",
              "      <td>0.093495</td>\n",
              "      <td>0.132944</td>\n",
              "      <td>0.115270</td>\n",
              "      <td>0.848214</td>\n",
              "    </tr>\n",
              "    <tr>\n",
              "      <th>25%</th>\n",
              "      <td>0.263753</td>\n",
              "      <td>0.441643</td>\n",
              "      <td>0.270306</td>\n",
              "      <td>1.966810</td>\n",
              "      <td>3.046653</td>\n",
              "      <td>0.190877</td>\n",
              "      <td>0.148023</td>\n",
              "      <td>2.375283</td>\n",
              "      <td>0.180728</td>\n",
              "      <td>1.202446</td>\n",
              "      <td>...</td>\n",
              "      <td>0.206842</td>\n",
              "      <td>0.129688</td>\n",
              "      <td>0.112112</td>\n",
              "      <td>0.110874</td>\n",
              "      <td>0.116388</td>\n",
              "      <td>0.374930</td>\n",
              "      <td>0.118882</td>\n",
              "      <td>0.155311</td>\n",
              "      <td>0.152578</td>\n",
              "      <td>1.092526</td>\n",
              "    </tr>\n",
              "    <tr>\n",
              "      <th>50%</th>\n",
              "      <td>0.332816</td>\n",
              "      <td>0.567888</td>\n",
              "      <td>0.304595</td>\n",
              "      <td>2.217320</td>\n",
              "      <td>3.640913</td>\n",
              "      <td>0.223688</td>\n",
              "      <td>0.179132</td>\n",
              "      <td>2.936090</td>\n",
              "      <td>0.204940</td>\n",
              "      <td>1.413711</td>\n",
              "      <td>...</td>\n",
              "      <td>0.220629</td>\n",
              "      <td>0.148787</td>\n",
              "      <td>0.121247</td>\n",
              "      <td>0.121823</td>\n",
              "      <td>0.126947</td>\n",
              "      <td>0.439068</td>\n",
              "      <td>0.152941</td>\n",
              "      <td>0.175659</td>\n",
              "      <td>0.176857</td>\n",
              "      <td>1.305780</td>\n",
              "    </tr>\n",
              "    <tr>\n",
              "      <th>75%</th>\n",
              "      <td>0.567562</td>\n",
              "      <td>0.736371</td>\n",
              "      <td>0.337207</td>\n",
              "      <td>2.475121</td>\n",
              "      <td>4.297345</td>\n",
              "      <td>0.250863</td>\n",
              "      <td>0.193840</td>\n",
              "      <td>3.907035</td>\n",
              "      <td>0.225514</td>\n",
              "      <td>1.641213</td>\n",
              "      <td>...</td>\n",
              "      <td>0.239833</td>\n",
              "      <td>0.170947</td>\n",
              "      <td>0.135456</td>\n",
              "      <td>0.129491</td>\n",
              "      <td>0.144324</td>\n",
              "      <td>0.499028</td>\n",
              "      <td>0.184233</td>\n",
              "      <td>0.206926</td>\n",
              "      <td>0.206271</td>\n",
              "      <td>1.564925</td>\n",
              "    </tr>\n",
              "    <tr>\n",
              "      <th>max</th>\n",
              "      <td>0.992220</td>\n",
              "      <td>1.151506</td>\n",
              "      <td>0.470056</td>\n",
              "      <td>3.073847</td>\n",
              "      <td>6.368257</td>\n",
              "      <td>0.327952</td>\n",
              "      <td>0.274194</td>\n",
              "      <td>5.497302</td>\n",
              "      <td>0.305191</td>\n",
              "      <td>3.034219</td>\n",
              "      <td>...</td>\n",
              "      <td>0.326490</td>\n",
              "      <td>0.238653</td>\n",
              "      <td>0.177576</td>\n",
              "      <td>0.153798</td>\n",
              "      <td>0.256529</td>\n",
              "      <td>0.601743</td>\n",
              "      <td>0.345455</td>\n",
              "      <td>0.337187</td>\n",
              "      <td>0.326087</td>\n",
              "      <td>1.842435</td>\n",
              "    </tr>\n",
              "  </tbody>\n",
              "</table>\n",
              "<p>8 rows × 77 columns</p>\n",
              "</div>\n",
              "      <button class=\"colab-df-convert\" onclick=\"convertToInteractive('df-e78ef130-226d-4097-a3e5-9acb5e8277b1')\"\n",
              "              title=\"Convert this dataframe to an interactive table.\"\n",
              "              style=\"display:none;\">\n",
              "        \n",
              "  <svg xmlns=\"http://www.w3.org/2000/svg\" height=\"24px\"viewBox=\"0 0 24 24\"\n",
              "       width=\"24px\">\n",
              "    <path d=\"M0 0h24v24H0V0z\" fill=\"none\"/>\n",
              "    <path d=\"M18.56 5.44l.94 2.06.94-2.06 2.06-.94-2.06-.94-.94-2.06-.94 2.06-2.06.94zm-11 1L8.5 8.5l.94-2.06 2.06-.94-2.06-.94L8.5 2.5l-.94 2.06-2.06.94zm10 10l.94 2.06.94-2.06 2.06-.94-2.06-.94-.94-2.06-.94 2.06-2.06.94z\"/><path d=\"M17.41 7.96l-1.37-1.37c-.4-.4-.92-.59-1.43-.59-.52 0-1.04.2-1.43.59L10.3 9.45l-7.72 7.72c-.78.78-.78 2.05 0 2.83L4 21.41c.39.39.9.59 1.41.59.51 0 1.02-.2 1.41-.59l7.78-7.78 2.81-2.81c.8-.78.8-2.07 0-2.86zM5.41 20L4 18.59l7.72-7.72 1.47 1.35L5.41 20z\"/>\n",
              "  </svg>\n",
              "      </button>\n",
              "      \n",
              "  <style>\n",
              "    .colab-df-container {\n",
              "      display:flex;\n",
              "      flex-wrap:wrap;\n",
              "      gap: 12px;\n",
              "    }\n",
              "\n",
              "    .colab-df-convert {\n",
              "      background-color: #E8F0FE;\n",
              "      border: none;\n",
              "      border-radius: 50%;\n",
              "      cursor: pointer;\n",
              "      display: none;\n",
              "      fill: #1967D2;\n",
              "      height: 32px;\n",
              "      padding: 0 0 0 0;\n",
              "      width: 32px;\n",
              "    }\n",
              "\n",
              "    .colab-df-convert:hover {\n",
              "      background-color: #E2EBFA;\n",
              "      box-shadow: 0px 1px 2px rgba(60, 64, 67, 0.3), 0px 1px 3px 1px rgba(60, 64, 67, 0.15);\n",
              "      fill: #174EA6;\n",
              "    }\n",
              "\n",
              "    [theme=dark] .colab-df-convert {\n",
              "      background-color: #3B4455;\n",
              "      fill: #D2E3FC;\n",
              "    }\n",
              "\n",
              "    [theme=dark] .colab-df-convert:hover {\n",
              "      background-color: #434B5C;\n",
              "      box-shadow: 0px 1px 3px 1px rgba(0, 0, 0, 0.15);\n",
              "      filter: drop-shadow(0px 1px 2px rgba(0, 0, 0, 0.3));\n",
              "      fill: #FFFFFF;\n",
              "    }\n",
              "  </style>\n",
              "\n",
              "      <script>\n",
              "        const buttonEl =\n",
              "          document.querySelector('#df-e78ef130-226d-4097-a3e5-9acb5e8277b1 button.colab-df-convert');\n",
              "        buttonEl.style.display =\n",
              "          google.colab.kernel.accessAllowed ? 'block' : 'none';\n",
              "\n",
              "        async function convertToInteractive(key) {\n",
              "          const element = document.querySelector('#df-e78ef130-226d-4097-a3e5-9acb5e8277b1');\n",
              "          const dataTable =\n",
              "            await google.colab.kernel.invokeFunction('convertToInteractive',\n",
              "                                                     [key], {});\n",
              "          if (!dataTable) return;\n",
              "\n",
              "          const docLinkHtml = 'Like what you see? Visit the ' +\n",
              "            '<a target=\"_blank\" href=https://colab.research.google.com/notebooks/data_table.ipynb>data table notebook</a>'\n",
              "            + ' to learn more about interactive tables.';\n",
              "          element.innerHTML = '';\n",
              "          dataTable['output_type'] = 'display_data';\n",
              "          await google.colab.output.renderOutput(dataTable, element);\n",
              "          const docLink = document.createElement('div');\n",
              "          docLink.innerHTML = docLinkHtml;\n",
              "          element.appendChild(docLink);\n",
              "        }\n",
              "      </script>\n",
              "    </div>\n",
              "  </div>\n",
              "  "
            ]
          },
          "metadata": {},
          "execution_count": 13
        }
      ]
    },
    {
      "cell_type": "markdown",
      "source": [
        "####  Are the classes balanced ?\n"
      ],
      "metadata": {
        "id": "KduNY1_-j_kO"
      }
    },
    {
      "cell_type": "code",
      "source": [
        "print(\"For train data\")\n",
        "# count the frequency of unique values in a column\n",
        "value_counts_binary = datafile['Genotype'].value_counts()\n",
        "value_counts_quaternary = datafile['Treatment_Behavior'].value_counts()\n",
        "\n",
        "print(value_counts_binary) # print the frequency of each class in binary\n",
        "print(value_counts_quaternary) # print the frequency of each class in quaternary"
      ],
      "metadata": {
        "colab": {
          "base_uri": "https://localhost:8080/"
        },
        "id": "UBD1hbw7kFrd",
        "outputId": "8502782d-1287-4ce9-dc5d-ba9267df667d"
      },
      "execution_count": 14,
      "outputs": [
        {
          "output_type": "stream",
          "name": "stdout",
          "text": [
            "For train data\n",
            "Control    435\n",
            "Ts65Dn     327\n",
            "Name: Genotype, dtype: int64\n",
            "Memantine_C/S    225\n",
            "Memantine_S/C    225\n",
            "Saline_C/S       180\n",
            "Saline_S/C       132\n",
            "Name: Treatment_Behavior, dtype: int64\n"
          ]
        }
      ]
    },
    {
      "cell_type": "code",
      "source": [
        "print(\"For test data\")\n",
        "# count the frequency of unique values in a column\n",
        "value_counts_binary = datafile_test['Genotype'].value_counts()\n",
        "value_counts_quaternary = datafile_test['Treatment_Behavior'].value_counts()\n",
        "\n",
        "print(value_counts_binary) # print the frequency of each class in binary\n",
        "print(value_counts_quaternary) # print the frequency of each class in quaternary"
      ],
      "metadata": {
        "colab": {
          "base_uri": "https://localhost:8080/"
        },
        "id": "eKbToxLWlHa1",
        "outputId": "7894c1d1-9316-40ce-8e53-8e7cc5c1a840"
      },
      "execution_count": 15,
      "outputs": [
        {
          "output_type": "stream",
          "name": "stdout",
          "text": [
            "For test data\n",
            "Control    135\n",
            "Ts65Dn      90\n",
            "Name: Genotype, dtype: int64\n",
            "Memantine_C/S    60\n",
            "Memantine_S/C    60\n",
            "Saline_C/S       60\n",
            "Saline_S/C       45\n",
            "Name: Treatment_Behavior, dtype: int64\n"
          ]
        }
      ]
    },
    {
      "cell_type": "markdown",
      "source": [
        "From above results we can say that \n",
        "- for train data in both binary and quatenary classification classes are not balanced.\n",
        "- for test data in  binary class is not  balanced.\n",
        "- for test data in quatenary classification first 3 classes are equally present but 4th class is less in frequency. "
      ],
      "metadata": {
        "id": "guxsRrJ-lUFw"
      }
    },
    {
      "cell_type": "markdown",
      "source": [
        "#### Task 3\n",
        "#### Iterative Imputation on Train Data and Test Data"
      ],
      "metadata": {
        "id": "DBfrqXyd3HoN"
      }
    },
    {
      "cell_type": "code",
      "source": [
        "imp = IterativeImputer(max_iter=10, random_state=0)\n",
        "imp.fit(X_train)\n",
        "IterativeImputer(random_state=0)\n",
        "\n",
        " # the model learns that the second feature is double the first\n",
        "X_train=imp.transform(X_train)\n",
        "X_test=imp.transform(X_test)"
      ],
      "metadata": {
        "id": "IgzfnN6DLoqC"
      },
      "execution_count": 16,
      "outputs": []
    },
    {
      "cell_type": "markdown",
      "source": [
        "Task 4"
      ],
      "metadata": {
        "id": "ugPhq4T2KMs0"
      }
    },
    {
      "cell_type": "markdown",
      "source": [
        "When evaluating the performance of classification models, there are several metrics that can be used depending on the nature of the classification problem. In this case, we have two separate classification tasks - one is binary, and the other has four classes. Below are some metrics that can be used to evaluate the performance of the classification models:\n",
        "\n",
        "**Binary classification:**\n",
        "\n",
        "**Accuracy:** The proportion of correct predictions made by the model.\n",
        "\n",
        "**Precision:** The proportion of true positive predictions out of all positive predictions made by the model. Precision measures how accurate positive predictions are.\n",
        "\n",
        "**Recall:** The proportion of true positive predictions out of all actual positive instances in the dataset. Recall measures how well the model identifies positive instances.\n",
        "\n",
        "**F1 Score:** The harmonic mean of precision and recall. It gives an overall measure of the model's accuracy and ability to make correct predictions.\n",
        "\n",
        "**ROC AUC :** (Receiver Operating Characteristic Area Under the Curve) is another commonly used metric for evaluating the performance of binary classification models. It measures the ability of a model to distinguish between positive and negative classes and can be useful in situations where the two classes are imbalanced or the cost of false positives and false negatives are different. A model with a higher ROC AUC value indicates better performance in distinguishing between positive and negative instances.\n",
        "\n",
        "**Multiclass classification:**\n",
        "\n",
        " **Accuracy:** The proportion of correct predictions made by the model.\n",
        "\n",
        "**Macro-averaged F1 Score:** The average of the F1 score for each class. This metric gives equal weight to each class, regardless of class imbalance.\n",
        "\n",
        "**Micro-averaged F1 Score:** The F1 score calculated by considering all the true positives, false positives, and false negatives for all the classes. This metric gives equal weight to each observation, regardless of class imbalance.\n",
        "\n",
        "**Weighted F1 Score:** The F1 score weighted by the number of observations in each class. This metric is useful when there is a class imbalance.\n",
        "\n",
        "**Cohen's Kappa:** A measure of agreement between the predicted and actual labels, which takes into account chance agreement. It can be used for multiclass classification problems.\n",
        "\n",
        "**ROC AUC score vs. F1 score in multiclass classification**\n",
        "\n",
        "In a nutshell, the major difference between ROC AUC and F1 is related to class imbalance. Here is a summary of reading many StackOverflow threads on how to choose one over the other:\n",
        "\n",
        "If we have a high class imbalance, always choose the F1 score because a high F1 score considers both precision and recall. To get a high F1, both false positives and false negatives must be low. On the other hand, ROC AUC can give precious high scores with a high enough number of false positives. Besides, we can also think of the ROC AUC score as the average of F1 scores (both good and bad) evaluated at various thresholds. Always use F1 when we have a class imbalance. Higher ROC AUC does not necessarily mean a better classifier."
      ],
      "metadata": {
        "id": "9Z71PfEDi_av"
      }
    },
    {
      "cell_type": "markdown",
      "source": [],
      "metadata": {
        "id": "imgKuZtOfDLB"
      }
    },
    {
      "cell_type": "markdown",
      "source": [
        "###Task 5 a"
      ],
      "metadata": {
        "id": "mtg67DJplojh"
      }
    },
    {
      "cell_type": "code",
      "source": [
        "\n",
        "model1 = LinearSVC()\n",
        "model1.fit(X_train, y1)\n",
        "model2 = LinearSVC()\n",
        "model2.fit(X_train, y2) \n",
        "# print prediction results\n",
        "predictions1 = model1.predict(X_test)\n",
        "print(classification_report(y1_test, predictions1))\n",
        "predictions2 = model2.predict(X_test)\n",
        "print(classification_report(y2_test, predictions2))\n",
        "\n",
        "# Define the parameter grid to search over\n",
        "param_grid = {'C': [0.001,0.01,0.1, 1, 10, 100]}\n",
        "\n",
        "# Create a linear SVM classifier\n",
        "clf = LinearSVC(max_iter=1000000)\n",
        "\n",
        "# Perform grid search with 5-fold cross-validation\n",
        "grid_search1 = GridSearchCV(clf, param_grid, cv=5)\n",
        "grid_search1.fit(X_train, y1)\n",
        "grid_search2 = GridSearchCV(clf, param_grid, cv=5)\n",
        "grid_search2.fit(X_train, y2)\n",
        "# Print the best parameter and the corresponding mean cross-validation score\n",
        "print(\"Best parameter for Binary Classification : \", grid_search1.best_params_)\n",
        "print(\"Best score  for Binary Classification: \", grid_search1.best_score_)\n",
        "print(\"Best parameter  for Quaternary Classification: \", grid_search2.best_params_)\n",
        "print(\"Best score  for Quaternaery Classification: \", grid_search2.best_score_)\n"
      ],
      "metadata": {
        "colab": {
          "base_uri": "https://localhost:8080/"
        },
        "id": "K6gjYWuklr6E",
        "outputId": "9f762ef6-4223-42c3-b77a-ac301ac2d24c"
      },
      "execution_count": 17,
      "outputs": [
        {
          "output_type": "stream",
          "name": "stderr",
          "text": [
            "/usr/local/lib/python3.9/dist-packages/sklearn/svm/_base.py:1244: ConvergenceWarning: Liblinear failed to converge, increase the number of iterations.\n",
            "  warnings.warn(\n",
            "/usr/local/lib/python3.9/dist-packages/sklearn/svm/_base.py:1244: ConvergenceWarning: Liblinear failed to converge, increase the number of iterations.\n",
            "  warnings.warn(\n"
          ]
        },
        {
          "output_type": "stream",
          "name": "stdout",
          "text": [
            "              precision    recall  f1-score   support\n",
            "\n",
            "           0       0.92      0.70      0.80       135\n",
            "           1       0.67      0.91      0.77        90\n",
            "\n",
            "    accuracy                           0.79       225\n",
            "   macro avg       0.80      0.81      0.79       225\n",
            "weighted avg       0.82      0.79      0.79       225\n",
            "\n",
            "              precision    recall  f1-score   support\n",
            "\n",
            "           0       0.67      0.85      0.75        60\n",
            "           1       0.98      1.00      0.99        60\n",
            "           2       0.80      0.58      0.67        60\n",
            "           3       1.00      0.98      0.99        45\n",
            "\n",
            "    accuracy                           0.84       225\n",
            "   macro avg       0.86      0.85      0.85       225\n",
            "weighted avg       0.85      0.84      0.84       225\n",
            "\n",
            "Best parameter for Binary Classification :  {'C': 0.01}\n",
            "Best score  for Binary Classification:  0.7951668386652906\n",
            "Best parameter  for Quaternary Classification:  {'C': 0.1}\n",
            "Best score  for Quaternaery Classification:  0.7019779841761267\n"
          ]
        }
      ]
    },
    {
      "cell_type": "markdown",
      "source": [
        "Part 5b"
      ],
      "metadata": {
        "id": "7bqUWSVfroU8"
      }
    },
    {
      "cell_type": "code",
      "source": [
        "model1 = SVC(kernel='rbf')\n",
        "model1.fit(X_train, y1)\n",
        "model2 = SVC(kernel='rbf')\n",
        "model2.fit(X_train, y2) \n",
        "# print prediction results\n",
        "print(\"Test Data\")\n",
        "predictions1 = model1.predict(X_test)\n",
        "print(classification_report(y1_test, predictions1))\n",
        "print(confusion_matrix(y1_test, predictions1))\n",
        "predictions2 = model2.predict(X_test)\n",
        "print(classification_report(y2_test, predictions2))\n",
        "print(confusion_matrix(y2_test, predictions2))\n"
      ],
      "metadata": {
        "colab": {
          "base_uri": "https://localhost:8080/"
        },
        "id": "c61uy3USruLd",
        "outputId": "49f3d56f-accf-4cd9-a809-21d48ec77863"
      },
      "execution_count": 18,
      "outputs": [
        {
          "output_type": "stream",
          "name": "stdout",
          "text": [
            "Test Data\n",
            "              precision    recall  f1-score   support\n",
            "\n",
            "           0       0.83      0.91      0.87       135\n",
            "           1       0.84      0.71      0.77        90\n",
            "\n",
            "    accuracy                           0.83       225\n",
            "   macro avg       0.83      0.81      0.82       225\n",
            "weighted avg       0.83      0.83      0.83       225\n",
            "\n",
            "[[123  12]\n",
            " [ 26  64]]\n",
            "              precision    recall  f1-score   support\n",
            "\n",
            "           0       0.89      0.92      0.90        60\n",
            "           1       0.91      0.85      0.88        60\n",
            "           2       0.90      0.88      0.89        60\n",
            "           3       0.83      0.89      0.86        45\n",
            "\n",
            "    accuracy                           0.88       225\n",
            "   macro avg       0.88      0.88      0.88       225\n",
            "weighted avg       0.89      0.88      0.88       225\n",
            "\n",
            "[[55  0  5  0]\n",
            " [ 0 51  1  8]\n",
            " [ 7  0 53  0]\n",
            " [ 0  5  0 40]]\n"
          ]
        }
      ]
    },
    {
      "cell_type": "code",
      "source": [
        "# defining parameter range\n",
        "param_grid = {'C': [0.1, 1, 10, 100, 1000,10000], \n",
        "              'gamma': [1, 0.1, 0.01, 0.001, 0.0001,0.00001],\n",
        "              'kernel': ['rbf']} \n",
        "grid_1 = GridSearchCV(SVC(), param_grid, refit = True, verbose = 3,cv=5)\n",
        "grid_1.fit(X_train,y1)\n",
        "grid_2 = GridSearchCV(SVC(), param_grid, refit = True, verbose = 3,cv=5)\n",
        "grid_2.fit(X_train,y2)\n",
        "# fitting the model for grid search\n",
        "print(\"Best parameter for Binary Classification : \", grid_1.best_params_)\n",
        "print(\"Best score  for Binary Classification: \", grid_1.best_score_)\n",
        "print(\"Best parameter  for Quaternary Classification: \", grid_2.best_params_)\n",
        "print(\"Best score  for Quaternaery Classification: \", grid_2.best_score_)"
      ],
      "metadata": {
        "colab": {
          "base_uri": "https://localhost:8080/"
        },
        "id": "MWxLB306AvVL",
        "outputId": "952651ba-bbe5-4525-9dd2-f92858672fc9"
      },
      "execution_count": 19,
      "outputs": [
        {
          "output_type": "stream",
          "name": "stdout",
          "text": [
            "Fitting 5 folds for each of 36 candidates, totalling 180 fits\n",
            "[CV 1/5] END ........C=0.1, gamma=1, kernel=rbf;, score=0.569 total time=   0.0s\n",
            "[CV 2/5] END ........C=0.1, gamma=1, kernel=rbf;, score=0.569 total time=   0.0s\n",
            "[CV 3/5] END ........C=0.1, gamma=1, kernel=rbf;, score=0.572 total time=   0.0s\n",
            "[CV 4/5] END ........C=0.1, gamma=1, kernel=rbf;, score=0.572 total time=   0.0s\n",
            "[CV 5/5] END ........C=0.1, gamma=1, kernel=rbf;, score=0.572 total time=   0.0s\n",
            "[CV 1/5] END ......C=0.1, gamma=0.1, kernel=rbf;, score=0.569 total time=   0.0s\n",
            "[CV 2/5] END ......C=0.1, gamma=0.1, kernel=rbf;, score=0.569 total time=   0.0s\n",
            "[CV 3/5] END ......C=0.1, gamma=0.1, kernel=rbf;, score=0.572 total time=   0.0s\n",
            "[CV 4/5] END ......C=0.1, gamma=0.1, kernel=rbf;, score=0.572 total time=   0.0s\n",
            "[CV 5/5] END ......C=0.1, gamma=0.1, kernel=rbf;, score=0.572 total time=   0.0s\n",
            "[CV 1/5] END .....C=0.1, gamma=0.01, kernel=rbf;, score=0.634 total time=   0.0s\n",
            "[CV 2/5] END .....C=0.1, gamma=0.01, kernel=rbf;, score=0.647 total time=   0.0s\n",
            "[CV 3/5] END .....C=0.1, gamma=0.01, kernel=rbf;, score=0.533 total time=   0.0s\n",
            "[CV 4/5] END .....C=0.1, gamma=0.01, kernel=rbf;, score=0.500 total time=   0.0s\n",
            "[CV 5/5] END .....C=0.1, gamma=0.01, kernel=rbf;, score=0.757 total time=   0.0s\n",
            "[CV 1/5] END ....C=0.1, gamma=0.001, kernel=rbf;, score=0.569 total time=   0.0s\n",
            "[CV 2/5] END ....C=0.1, gamma=0.001, kernel=rbf;, score=0.569 total time=   0.0s\n",
            "[CV 3/5] END ....C=0.1, gamma=0.001, kernel=rbf;, score=0.572 total time=   0.0s\n",
            "[CV 4/5] END ....C=0.1, gamma=0.001, kernel=rbf;, score=0.572 total time=   0.0s\n",
            "[CV 5/5] END ....C=0.1, gamma=0.001, kernel=rbf;, score=0.572 total time=   0.0s\n",
            "[CV 1/5] END ...C=0.1, gamma=0.0001, kernel=rbf;, score=0.569 total time=   0.0s\n",
            "[CV 2/5] END ...C=0.1, gamma=0.0001, kernel=rbf;, score=0.569 total time=   0.0s\n",
            "[CV 3/5] END ...C=0.1, gamma=0.0001, kernel=rbf;, score=0.572 total time=   0.0s\n",
            "[CV 4/5] END ...C=0.1, gamma=0.0001, kernel=rbf;, score=0.572 total time=   0.0s\n",
            "[CV 5/5] END ...C=0.1, gamma=0.0001, kernel=rbf;, score=0.572 total time=   0.0s\n",
            "[CV 1/5] END ....C=0.1, gamma=1e-05, kernel=rbf;, score=0.569 total time=   0.0s\n",
            "[CV 2/5] END ....C=0.1, gamma=1e-05, kernel=rbf;, score=0.569 total time=   0.0s\n",
            "[CV 3/5] END ....C=0.1, gamma=1e-05, kernel=rbf;, score=0.572 total time=   0.0s\n",
            "[CV 4/5] END ....C=0.1, gamma=1e-05, kernel=rbf;, score=0.572 total time=   0.0s\n",
            "[CV 5/5] END ....C=0.1, gamma=1e-05, kernel=rbf;, score=0.572 total time=   0.0s\n",
            "[CV 1/5] END ..........C=1, gamma=1, kernel=rbf;, score=0.569 total time=   0.0s\n",
            "[CV 2/5] END ..........C=1, gamma=1, kernel=rbf;, score=0.569 total time=   0.0s\n",
            "[CV 3/5] END ..........C=1, gamma=1, kernel=rbf;, score=0.572 total time=   0.0s\n",
            "[CV 4/5] END ..........C=1, gamma=1, kernel=rbf;, score=0.572 total time=   0.0s\n",
            "[CV 5/5] END ..........C=1, gamma=1, kernel=rbf;, score=0.572 total time=   0.1s\n",
            "[CV 1/5] END ........C=1, gamma=0.1, kernel=rbf;, score=0.621 total time=   0.1s\n",
            "[CV 2/5] END ........C=1, gamma=0.1, kernel=rbf;, score=0.569 total time=   0.1s\n",
            "[CV 3/5] END ........C=1, gamma=0.1, kernel=rbf;, score=0.553 total time=   0.1s\n",
            "[CV 4/5] END ........C=1, gamma=0.1, kernel=rbf;, score=0.664 total time=   0.1s\n",
            "[CV 5/5] END ........C=1, gamma=0.1, kernel=rbf;, score=0.566 total time=   0.1s\n",
            "[CV 1/5] END .......C=1, gamma=0.01, kernel=rbf;, score=0.915 total time=   0.0s\n",
            "[CV 2/5] END .......C=1, gamma=0.01, kernel=rbf;, score=0.725 total time=   0.0s\n",
            "[CV 3/5] END .......C=1, gamma=0.01, kernel=rbf;, score=0.691 total time=   0.0s\n",
            "[CV 4/5] END .......C=1, gamma=0.01, kernel=rbf;, score=0.743 total time=   0.0s\n",
            "[CV 5/5] END .......C=1, gamma=0.01, kernel=rbf;, score=0.842 total time=   0.0s\n",
            "[CV 1/5] END ......C=1, gamma=0.001, kernel=rbf;, score=0.673 total time=   0.0s\n",
            "[CV 2/5] END ......C=1, gamma=0.001, kernel=rbf;, score=0.712 total time=   0.0s\n",
            "[CV 3/5] END ......C=1, gamma=0.001, kernel=rbf;, score=0.678 total time=   0.0s\n",
            "[CV 4/5] END ......C=1, gamma=0.001, kernel=rbf;, score=0.638 total time=   0.0s\n",
            "[CV 5/5] END ......C=1, gamma=0.001, kernel=rbf;, score=0.842 total time=   0.0s\n",
            "[CV 1/5] END .....C=1, gamma=0.0001, kernel=rbf;, score=0.569 total time=   0.0s\n",
            "[CV 2/5] END .....C=1, gamma=0.0001, kernel=rbf;, score=0.569 total time=   0.0s\n",
            "[CV 3/5] END .....C=1, gamma=0.0001, kernel=rbf;, score=0.572 total time=   0.0s\n",
            "[CV 4/5] END .....C=1, gamma=0.0001, kernel=rbf;, score=0.572 total time=   0.0s\n",
            "[CV 5/5] END .....C=1, gamma=0.0001, kernel=rbf;, score=0.572 total time=   0.0s\n",
            "[CV 1/5] END ......C=1, gamma=1e-05, kernel=rbf;, score=0.569 total time=   0.0s\n",
            "[CV 2/5] END ......C=1, gamma=1e-05, kernel=rbf;, score=0.569 total time=   0.0s\n",
            "[CV 3/5] END ......C=1, gamma=1e-05, kernel=rbf;, score=0.572 total time=   0.1s\n",
            "[CV 4/5] END ......C=1, gamma=1e-05, kernel=rbf;, score=0.572 total time=   0.0s\n",
            "[CV 5/5] END ......C=1, gamma=1e-05, kernel=rbf;, score=0.572 total time=   0.0s\n",
            "[CV 1/5] END .........C=10, gamma=1, kernel=rbf;, score=0.569 total time=   0.1s\n",
            "[CV 2/5] END .........C=10, gamma=1, kernel=rbf;, score=0.569 total time=   0.1s\n",
            "[CV 3/5] END .........C=10, gamma=1, kernel=rbf;, score=0.579 total time=   0.1s\n",
            "[CV 4/5] END .........C=10, gamma=1, kernel=rbf;, score=0.579 total time=   0.1s\n",
            "[CV 5/5] END .........C=10, gamma=1, kernel=rbf;, score=0.572 total time=   0.1s\n",
            "[CV 1/5] END .......C=10, gamma=0.1, kernel=rbf;, score=0.621 total time=   0.1s\n",
            "[CV 2/5] END .......C=10, gamma=0.1, kernel=rbf;, score=0.562 total time=   0.1s\n",
            "[CV 3/5] END .......C=10, gamma=0.1, kernel=rbf;, score=0.553 total time=   0.1s\n",
            "[CV 4/5] END .......C=10, gamma=0.1, kernel=rbf;, score=0.658 total time=   0.1s\n",
            "[CV 5/5] END .......C=10, gamma=0.1, kernel=rbf;, score=0.572 total time=   0.1s\n",
            "[CV 1/5] END ......C=10, gamma=0.01, kernel=rbf;, score=0.928 total time=   0.0s\n",
            "[CV 2/5] END ......C=10, gamma=0.01, kernel=rbf;, score=0.719 total time=   0.0s\n",
            "[CV 3/5] END ......C=10, gamma=0.01, kernel=rbf;, score=0.684 total time=   0.0s\n",
            "[CV 4/5] END ......C=10, gamma=0.01, kernel=rbf;, score=0.671 total time=   0.0s\n",
            "[CV 5/5] END ......C=10, gamma=0.01, kernel=rbf;, score=0.829 total time=   0.0s\n",
            "[CV 1/5] END .....C=10, gamma=0.001, kernel=rbf;, score=0.954 total time=   0.0s\n",
            "[CV 2/5] END .....C=10, gamma=0.001, kernel=rbf;, score=0.810 total time=   0.0s\n",
            "[CV 3/5] END .....C=10, gamma=0.001, kernel=rbf;, score=0.717 total time=   0.0s\n",
            "[CV 4/5] END .....C=10, gamma=0.001, kernel=rbf;, score=0.724 total time=   0.0s\n",
            "[CV 5/5] END .....C=10, gamma=0.001, kernel=rbf;, score=0.914 total time=   0.0s\n",
            "[CV 1/5] END ....C=10, gamma=0.0001, kernel=rbf;, score=0.699 total time=   0.0s\n",
            "[CV 2/5] END ....C=10, gamma=0.0001, kernel=rbf;, score=0.706 total time=   0.0s\n",
            "[CV 3/5] END ....C=10, gamma=0.0001, kernel=rbf;, score=0.671 total time=   0.0s\n",
            "[CV 4/5] END ....C=10, gamma=0.0001, kernel=rbf;, score=0.645 total time=   0.0s\n",
            "[CV 5/5] END ....C=10, gamma=0.0001, kernel=rbf;, score=0.862 total time=   0.0s\n",
            "[CV 1/5] END .....C=10, gamma=1e-05, kernel=rbf;, score=0.569 total time=   0.0s\n",
            "[CV 2/5] END .....C=10, gamma=1e-05, kernel=rbf;, score=0.569 total time=   0.0s\n",
            "[CV 3/5] END .....C=10, gamma=1e-05, kernel=rbf;, score=0.572 total time=   0.0s\n",
            "[CV 4/5] END .....C=10, gamma=1e-05, kernel=rbf;, score=0.572 total time=   0.0s\n",
            "[CV 5/5] END .....C=10, gamma=1e-05, kernel=rbf;, score=0.572 total time=   0.0s\n",
            "[CV 1/5] END ........C=100, gamma=1, kernel=rbf;, score=0.569 total time=   0.1s\n",
            "[CV 2/5] END ........C=100, gamma=1, kernel=rbf;, score=0.569 total time=   0.1s\n",
            "[CV 3/5] END ........C=100, gamma=1, kernel=rbf;, score=0.579 total time=   0.1s\n",
            "[CV 4/5] END ........C=100, gamma=1, kernel=rbf;, score=0.579 total time=   0.1s\n",
            "[CV 5/5] END ........C=100, gamma=1, kernel=rbf;, score=0.572 total time=   0.1s\n",
            "[CV 1/5] END ......C=100, gamma=0.1, kernel=rbf;, score=0.621 total time=   0.1s\n",
            "[CV 2/5] END ......C=100, gamma=0.1, kernel=rbf;, score=0.562 total time=   0.1s\n",
            "[CV 3/5] END ......C=100, gamma=0.1, kernel=rbf;, score=0.553 total time=   0.1s\n",
            "[CV 4/5] END ......C=100, gamma=0.1, kernel=rbf;, score=0.658 total time=   0.1s\n",
            "[CV 5/5] END ......C=100, gamma=0.1, kernel=rbf;, score=0.572 total time=   0.1s\n",
            "[CV 1/5] END .....C=100, gamma=0.01, kernel=rbf;, score=0.928 total time=   0.0s\n",
            "[CV 2/5] END .....C=100, gamma=0.01, kernel=rbf;, score=0.719 total time=   0.0s\n",
            "[CV 3/5] END .....C=100, gamma=0.01, kernel=rbf;, score=0.684 total time=   0.0s\n",
            "[CV 4/5] END .....C=100, gamma=0.01, kernel=rbf;, score=0.671 total time=   0.0s\n",
            "[CV 5/5] END .....C=100, gamma=0.01, kernel=rbf;, score=0.829 total time=   0.0s\n",
            "[CV 1/5] END ....C=100, gamma=0.001, kernel=rbf;, score=0.941 total time=   0.0s\n",
            "[CV 2/5] END ....C=100, gamma=0.001, kernel=rbf;, score=0.804 total time=   0.0s\n",
            "[CV 3/5] END ....C=100, gamma=0.001, kernel=rbf;, score=0.632 total time=   0.0s\n",
            "[CV 4/5] END ....C=100, gamma=0.001, kernel=rbf;, score=0.632 total time=   0.0s\n",
            "[CV 5/5] END ....C=100, gamma=0.001, kernel=rbf;, score=0.849 total time=   0.0s\n",
            "[CV 1/5] END ...C=100, gamma=0.0001, kernel=rbf;, score=0.895 total time=   0.0s\n",
            "[CV 2/5] END ...C=100, gamma=0.0001, kernel=rbf;, score=0.817 total time=   0.0s\n",
            "[CV 3/5] END ...C=100, gamma=0.0001, kernel=rbf;, score=0.730 total time=   0.0s\n",
            "[CV 4/5] END ...C=100, gamma=0.0001, kernel=rbf;, score=0.750 total time=   0.0s\n",
            "[CV 5/5] END ...C=100, gamma=0.0001, kernel=rbf;, score=0.921 total time=   0.0s\n",
            "[CV 1/5] END ....C=100, gamma=1e-05, kernel=rbf;, score=0.686 total time=   0.0s\n",
            "[CV 2/5] END ....C=100, gamma=1e-05, kernel=rbf;, score=0.706 total time=   0.0s\n",
            "[CV 3/5] END ....C=100, gamma=1e-05, kernel=rbf;, score=0.671 total time=   0.0s\n",
            "[CV 4/5] END ....C=100, gamma=1e-05, kernel=rbf;, score=0.645 total time=   0.0s\n",
            "[CV 5/5] END ....C=100, gamma=1e-05, kernel=rbf;, score=0.868 total time=   0.0s\n",
            "[CV 1/5] END .......C=1000, gamma=1, kernel=rbf;, score=0.569 total time=   0.1s\n",
            "[CV 2/5] END .......C=1000, gamma=1, kernel=rbf;, score=0.569 total time=   0.1s\n",
            "[CV 3/5] END .......C=1000, gamma=1, kernel=rbf;, score=0.579 total time=   0.1s\n",
            "[CV 4/5] END .......C=1000, gamma=1, kernel=rbf;, score=0.579 total time=   0.1s\n",
            "[CV 5/5] END .......C=1000, gamma=1, kernel=rbf;, score=0.572 total time=   0.1s\n",
            "[CV 1/5] END .....C=1000, gamma=0.1, kernel=rbf;, score=0.621 total time=   0.1s\n",
            "[CV 2/5] END .....C=1000, gamma=0.1, kernel=rbf;, score=0.562 total time=   0.1s\n",
            "[CV 3/5] END .....C=1000, gamma=0.1, kernel=rbf;, score=0.553 total time=   0.1s\n",
            "[CV 4/5] END .....C=1000, gamma=0.1, kernel=rbf;, score=0.658 total time=   0.1s\n",
            "[CV 5/5] END .....C=1000, gamma=0.1, kernel=rbf;, score=0.572 total time=   0.1s\n",
            "[CV 1/5] END ....C=1000, gamma=0.01, kernel=rbf;, score=0.928 total time=   0.0s\n",
            "[CV 2/5] END ....C=1000, gamma=0.01, kernel=rbf;, score=0.719 total time=   0.0s\n",
            "[CV 3/5] END ....C=1000, gamma=0.01, kernel=rbf;, score=0.684 total time=   0.0s\n",
            "[CV 4/5] END ....C=1000, gamma=0.01, kernel=rbf;, score=0.671 total time=   0.0s\n",
            "[CV 5/5] END ....C=1000, gamma=0.01, kernel=rbf;, score=0.829 total time=   0.0s\n",
            "[CV 1/5] END ...C=1000, gamma=0.001, kernel=rbf;, score=0.908 total time=   0.0s\n",
            "[CV 2/5] END ...C=1000, gamma=0.001, kernel=rbf;, score=0.791 total time=   0.0s\n",
            "[CV 3/5] END ...C=1000, gamma=0.001, kernel=rbf;, score=0.645 total time=   0.0s\n",
            "[CV 4/5] END ...C=1000, gamma=0.001, kernel=rbf;, score=0.599 total time=   0.0s\n",
            "[CV 5/5] END ...C=1000, gamma=0.001, kernel=rbf;, score=0.809 total time=   0.0s\n",
            "[CV 1/5] END ..C=1000, gamma=0.0001, kernel=rbf;, score=0.882 total time=   0.0s\n",
            "[CV 2/5] END ..C=1000, gamma=0.0001, kernel=rbf;, score=0.830 total time=   0.0s\n",
            "[CV 3/5] END ..C=1000, gamma=0.0001, kernel=rbf;, score=0.645 total time=   0.0s\n",
            "[CV 4/5] END ..C=1000, gamma=0.0001, kernel=rbf;, score=0.651 total time=   0.0s\n",
            "[CV 5/5] END ..C=1000, gamma=0.0001, kernel=rbf;, score=0.855 total time=   0.0s\n",
            "[CV 1/5] END ...C=1000, gamma=1e-05, kernel=rbf;, score=0.882 total time=   0.0s\n",
            "[CV 2/5] END ...C=1000, gamma=1e-05, kernel=rbf;, score=0.804 total time=   0.0s\n",
            "[CV 3/5] END ...C=1000, gamma=1e-05, kernel=rbf;, score=0.730 total time=   0.0s\n",
            "[CV 4/5] END ...C=1000, gamma=1e-05, kernel=rbf;, score=0.750 total time=   0.0s\n",
            "[CV 5/5] END ...C=1000, gamma=1e-05, kernel=rbf;, score=0.908 total time=   0.0s\n",
            "[CV 1/5] END ......C=10000, gamma=1, kernel=rbf;, score=0.569 total time=   0.0s\n",
            "[CV 2/5] END ......C=10000, gamma=1, kernel=rbf;, score=0.569 total time=   0.0s\n",
            "[CV 3/5] END ......C=10000, gamma=1, kernel=rbf;, score=0.579 total time=   0.0s\n",
            "[CV 4/5] END ......C=10000, gamma=1, kernel=rbf;, score=0.579 total time=   0.0s\n",
            "[CV 5/5] END ......C=10000, gamma=1, kernel=rbf;, score=0.572 total time=   0.0s\n",
            "[CV 1/5] END ....C=10000, gamma=0.1, kernel=rbf;, score=0.621 total time=   0.0s\n",
            "[CV 2/5] END ....C=10000, gamma=0.1, kernel=rbf;, score=0.562 total time=   0.0s\n",
            "[CV 3/5] END ....C=10000, gamma=0.1, kernel=rbf;, score=0.553 total time=   0.0s\n",
            "[CV 4/5] END ....C=10000, gamma=0.1, kernel=rbf;, score=0.658 total time=   0.0s\n",
            "[CV 5/5] END ....C=10000, gamma=0.1, kernel=rbf;, score=0.572 total time=   0.0s\n",
            "[CV 1/5] END ...C=10000, gamma=0.01, kernel=rbf;, score=0.928 total time=   0.0s\n",
            "[CV 2/5] END ...C=10000, gamma=0.01, kernel=rbf;, score=0.719 total time=   0.0s\n",
            "[CV 3/5] END ...C=10000, gamma=0.01, kernel=rbf;, score=0.684 total time=   0.0s\n",
            "[CV 4/5] END ...C=10000, gamma=0.01, kernel=rbf;, score=0.671 total time=   0.0s\n",
            "[CV 5/5] END ...C=10000, gamma=0.01, kernel=rbf;, score=0.829 total time=   0.0s\n",
            "[CV 1/5] END ..C=10000, gamma=0.001, kernel=rbf;, score=0.908 total time=   0.0s\n",
            "[CV 2/5] END ..C=10000, gamma=0.001, kernel=rbf;, score=0.791 total time=   0.0s\n",
            "[CV 3/5] END ..C=10000, gamma=0.001, kernel=rbf;, score=0.645 total time=   0.0s\n",
            "[CV 4/5] END ..C=10000, gamma=0.001, kernel=rbf;, score=0.599 total time=   0.0s\n",
            "[CV 5/5] END ..C=10000, gamma=0.001, kernel=rbf;, score=0.809 total time=   0.0s\n",
            "[CV 1/5] END .C=10000, gamma=0.0001, kernel=rbf;, score=0.863 total time=   0.0s\n",
            "[CV 2/5] END .C=10000, gamma=0.0001, kernel=rbf;, score=0.817 total time=   0.0s\n",
            "[CV 3/5] END .C=10000, gamma=0.0001, kernel=rbf;, score=0.605 total time=   0.0s\n",
            "[CV 4/5] END .C=10000, gamma=0.0001, kernel=rbf;, score=0.559 total time=   0.0s\n",
            "[CV 5/5] END .C=10000, gamma=0.0001, kernel=rbf;, score=0.783 total time=   0.0s\n",
            "[CV 1/5] END ..C=10000, gamma=1e-05, kernel=rbf;, score=0.850 total time=   0.0s\n",
            "[CV 2/5] END ..C=10000, gamma=1e-05, kernel=rbf;, score=0.824 total time=   0.0s\n",
            "[CV 3/5] END ..C=10000, gamma=1e-05, kernel=rbf;, score=0.664 total time=   0.0s\n",
            "[CV 4/5] END ..C=10000, gamma=1e-05, kernel=rbf;, score=0.658 total time=   0.0s\n",
            "[CV 5/5] END ..C=10000, gamma=1e-05, kernel=rbf;, score=0.875 total time=   0.0s\n",
            "Fitting 5 folds for each of 36 candidates, totalling 180 fits\n",
            "[CV 1/5] END ........C=0.1, gamma=1, kernel=rbf;, score=0.294 total time=   0.0s\n",
            "[CV 2/5] END ........C=0.1, gamma=1, kernel=rbf;, score=0.294 total time=   0.0s\n",
            "[CV 3/5] END ........C=0.1, gamma=1, kernel=rbf;, score=0.296 total time=   0.0s\n",
            "[CV 4/5] END ........C=0.1, gamma=1, kernel=rbf;, score=0.296 total time=   0.0s\n",
            "[CV 5/5] END ........C=0.1, gamma=1, kernel=rbf;, score=0.296 total time=   0.0s\n",
            "[CV 1/5] END ......C=0.1, gamma=0.1, kernel=rbf;, score=0.542 total time=   0.0s\n",
            "[CV 2/5] END ......C=0.1, gamma=0.1, kernel=rbf;, score=0.425 total time=   0.0s\n",
            "[CV 3/5] END ......C=0.1, gamma=0.1, kernel=rbf;, score=0.368 total time=   0.0s\n",
            "[CV 4/5] END ......C=0.1, gamma=0.1, kernel=rbf;, score=0.355 total time=   0.0s\n",
            "[CV 5/5] END ......C=0.1, gamma=0.1, kernel=rbf;, score=0.441 total time=   0.0s\n",
            "[CV 1/5] END .....C=0.1, gamma=0.01, kernel=rbf;, score=0.549 total time=   0.0s\n",
            "[CV 2/5] END .....C=0.1, gamma=0.01, kernel=rbf;, score=0.693 total time=   0.0s\n",
            "[CV 3/5] END .....C=0.1, gamma=0.01, kernel=rbf;, score=0.632 total time=   0.0s\n",
            "[CV 4/5] END .....C=0.1, gamma=0.01, kernel=rbf;, score=0.599 total time=   0.0s\n",
            "[CV 5/5] END .....C=0.1, gamma=0.01, kernel=rbf;, score=0.493 total time=   0.0s\n",
            "[CV 1/5] END ....C=0.1, gamma=0.001, kernel=rbf;, score=0.497 total time=   0.0s\n",
            "[CV 2/5] END ....C=0.1, gamma=0.001, kernel=rbf;, score=0.503 total time=   0.0s\n",
            "[CV 3/5] END ....C=0.1, gamma=0.001, kernel=rbf;, score=0.592 total time=   0.0s\n",
            "[CV 4/5] END ....C=0.1, gamma=0.001, kernel=rbf;, score=0.559 total time=   0.0s\n",
            "[CV 5/5] END ....C=0.1, gamma=0.001, kernel=rbf;, score=0.586 total time=   0.0s\n",
            "[CV 1/5] END ...C=0.1, gamma=0.0001, kernel=rbf;, score=0.484 total time=   0.0s\n",
            "[CV 2/5] END ...C=0.1, gamma=0.0001, kernel=rbf;, score=0.497 total time=   0.0s\n",
            "[CV 3/5] END ...C=0.1, gamma=0.0001, kernel=rbf;, score=0.592 total time=   0.0s\n",
            "[CV 4/5] END ...C=0.1, gamma=0.0001, kernel=rbf;, score=0.559 total time=   0.0s\n",
            "[CV 5/5] END ...C=0.1, gamma=0.0001, kernel=rbf;, score=0.586 total time=   0.0s\n",
            "[CV 1/5] END ....C=0.1, gamma=1e-05, kernel=rbf;, score=0.484 total time=   0.0s\n",
            "[CV 2/5] END ....C=0.1, gamma=1e-05, kernel=rbf;, score=0.490 total time=   0.0s\n",
            "[CV 3/5] END ....C=0.1, gamma=1e-05, kernel=rbf;, score=0.592 total time=   0.0s\n",
            "[CV 4/5] END ....C=0.1, gamma=1e-05, kernel=rbf;, score=0.559 total time=   0.0s\n",
            "[CV 5/5] END ....C=0.1, gamma=1e-05, kernel=rbf;, score=0.586 total time=   0.0s\n",
            "[CV 1/5] END ..........C=1, gamma=1, kernel=rbf;, score=0.294 total time=   0.1s\n",
            "[CV 2/5] END ..........C=1, gamma=1, kernel=rbf;, score=0.294 total time=   0.1s\n",
            "[CV 3/5] END ..........C=1, gamma=1, kernel=rbf;, score=0.296 total time=   0.1s\n",
            "[CV 4/5] END ..........C=1, gamma=1, kernel=rbf;, score=0.296 total time=   0.0s\n",
            "[CV 5/5] END ..........C=1, gamma=1, kernel=rbf;, score=0.296 total time=   0.0s\n",
            "[CV 1/5] END ........C=1, gamma=0.1, kernel=rbf;, score=0.542 total time=   0.0s\n",
            "[CV 2/5] END ........C=1, gamma=0.1, kernel=rbf;, score=0.510 total time=   0.1s\n",
            "[CV 3/5] END ........C=1, gamma=0.1, kernel=rbf;, score=0.651 total time=   0.0s\n",
            "[CV 4/5] END ........C=1, gamma=0.1, kernel=rbf;, score=0.592 total time=   0.0s\n",
            "[CV 5/5] END ........C=1, gamma=0.1, kernel=rbf;, score=0.632 total time=   0.1s\n",
            "[CV 1/5] END .......C=1, gamma=0.01, kernel=rbf;, score=0.706 total time=   0.0s\n",
            "[CV 2/5] END .......C=1, gamma=0.01, kernel=rbf;, score=0.810 total time=   0.0s\n",
            "[CV 3/5] END .......C=1, gamma=0.01, kernel=rbf;, score=0.829 total time=   0.0s\n",
            "[CV 4/5] END .......C=1, gamma=0.01, kernel=rbf;, score=0.750 total time=   0.0s\n",
            "[CV 5/5] END .......C=1, gamma=0.01, kernel=rbf;, score=0.559 total time=   0.0s\n",
            "[CV 1/5] END ......C=1, gamma=0.001, kernel=rbf;, score=0.556 total time=   0.0s\n",
            "[CV 2/5] END ......C=1, gamma=0.001, kernel=rbf;, score=0.817 total time=   0.0s\n",
            "[CV 3/5] END ......C=1, gamma=0.001, kernel=rbf;, score=0.684 total time=   0.0s\n",
            "[CV 4/5] END ......C=1, gamma=0.001, kernel=rbf;, score=0.704 total time=   0.0s\n",
            "[CV 5/5] END ......C=1, gamma=0.001, kernel=rbf;, score=0.493 total time=   0.0s\n",
            "[CV 1/5] END .....C=1, gamma=0.0001, kernel=rbf;, score=0.516 total time=   0.0s\n",
            "[CV 2/5] END .....C=1, gamma=0.0001, kernel=rbf;, score=0.510 total time=   0.0s\n",
            "[CV 3/5] END .....C=1, gamma=0.0001, kernel=rbf;, score=0.592 total time=   0.0s\n",
            "[CV 4/5] END .....C=1, gamma=0.0001, kernel=rbf;, score=0.559 total time=   0.0s\n",
            "[CV 5/5] END .....C=1, gamma=0.0001, kernel=rbf;, score=0.586 total time=   0.0s\n",
            "[CV 1/5] END ......C=1, gamma=1e-05, kernel=rbf;, score=0.484 total time=   0.0s\n",
            "[CV 2/5] END ......C=1, gamma=1e-05, kernel=rbf;, score=0.490 total time=   0.0s\n",
            "[CV 3/5] END ......C=1, gamma=1e-05, kernel=rbf;, score=0.592 total time=   0.0s\n",
            "[CV 4/5] END ......C=1, gamma=1e-05, kernel=rbf;, score=0.559 total time=   0.0s\n",
            "[CV 5/5] END ......C=1, gamma=1e-05, kernel=rbf;, score=0.586 total time=   0.0s\n",
            "[CV 1/5] END .........C=10, gamma=1, kernel=rbf;, score=0.294 total time=   0.1s\n",
            "[CV 2/5] END .........C=10, gamma=1, kernel=rbf;, score=0.294 total time=   0.1s\n",
            "[CV 3/5] END .........C=10, gamma=1, kernel=rbf;, score=0.296 total time=   0.1s\n",
            "[CV 4/5] END .........C=10, gamma=1, kernel=rbf;, score=0.296 total time=   0.0s\n",
            "[CV 5/5] END .........C=10, gamma=1, kernel=rbf;, score=0.296 total time=   0.1s\n",
            "[CV 1/5] END .......C=10, gamma=0.1, kernel=rbf;, score=0.542 total time=   0.1s\n",
            "[CV 2/5] END .......C=10, gamma=0.1, kernel=rbf;, score=0.510 total time=   0.0s\n",
            "[CV 3/5] END .......C=10, gamma=0.1, kernel=rbf;, score=0.651 total time=   0.1s\n",
            "[CV 4/5] END .......C=10, gamma=0.1, kernel=rbf;, score=0.592 total time=   0.0s\n",
            "[CV 5/5] END .......C=10, gamma=0.1, kernel=rbf;, score=0.645 total time=   0.1s\n",
            "[CV 1/5] END ......C=10, gamma=0.01, kernel=rbf;, score=0.706 total time=   0.0s\n",
            "[CV 2/5] END ......C=10, gamma=0.01, kernel=rbf;, score=0.771 total time=   0.0s\n",
            "[CV 3/5] END ......C=10, gamma=0.01, kernel=rbf;, score=0.829 total time=   0.0s\n",
            "[CV 4/5] END ......C=10, gamma=0.01, kernel=rbf;, score=0.743 total time=   0.0s\n",
            "[CV 5/5] END ......C=10, gamma=0.01, kernel=rbf;, score=0.592 total time=   0.0s\n",
            "[CV 1/5] END .....C=10, gamma=0.001, kernel=rbf;, score=0.699 total time=   0.0s\n",
            "[CV 2/5] END .....C=10, gamma=0.001, kernel=rbf;, score=0.843 total time=   0.0s\n",
            "[CV 3/5] END .....C=10, gamma=0.001, kernel=rbf;, score=0.829 total time=   0.0s\n",
            "[CV 4/5] END .....C=10, gamma=0.001, kernel=rbf;, score=0.737 total time=   0.0s\n",
            "[CV 5/5] END .....C=10, gamma=0.001, kernel=rbf;, score=0.572 total time=   0.0s\n",
            "[CV 1/5] END ....C=10, gamma=0.0001, kernel=rbf;, score=0.575 total time=   0.0s\n",
            "[CV 2/5] END ....C=10, gamma=0.0001, kernel=rbf;, score=0.824 total time=   0.0s\n",
            "[CV 3/5] END ....C=10, gamma=0.0001, kernel=rbf;, score=0.691 total time=   0.0s\n",
            "[CV 4/5] END ....C=10, gamma=0.0001, kernel=rbf;, score=0.678 total time=   0.0s\n",
            "[CV 5/5] END ....C=10, gamma=0.0001, kernel=rbf;, score=0.493 total time=   0.0s\n",
            "[CV 1/5] END .....C=10, gamma=1e-05, kernel=rbf;, score=0.516 total time=   0.0s\n",
            "[CV 2/5] END .....C=10, gamma=1e-05, kernel=rbf;, score=0.510 total time=   0.0s\n",
            "[CV 3/5] END .....C=10, gamma=1e-05, kernel=rbf;, score=0.592 total time=   0.1s\n",
            "[CV 4/5] END .....C=10, gamma=1e-05, kernel=rbf;, score=0.559 total time=   0.0s\n",
            "[CV 5/5] END .....C=10, gamma=1e-05, kernel=rbf;, score=0.586 total time=   0.0s\n",
            "[CV 1/5] END ........C=100, gamma=1, kernel=rbf;, score=0.294 total time=   0.1s\n",
            "[CV 2/5] END ........C=100, gamma=1, kernel=rbf;, score=0.294 total time=   0.1s\n",
            "[CV 3/5] END ........C=100, gamma=1, kernel=rbf;, score=0.296 total time=   0.1s\n",
            "[CV 4/5] END ........C=100, gamma=1, kernel=rbf;, score=0.296 total time=   0.1s\n",
            "[CV 5/5] END ........C=100, gamma=1, kernel=rbf;, score=0.296 total time=   0.1s\n",
            "[CV 1/5] END ......C=100, gamma=0.1, kernel=rbf;, score=0.542 total time=   0.0s\n",
            "[CV 2/5] END ......C=100, gamma=0.1, kernel=rbf;, score=0.510 total time=   0.1s\n",
            "[CV 3/5] END ......C=100, gamma=0.1, kernel=rbf;, score=0.651 total time=   0.0s\n",
            "[CV 4/5] END ......C=100, gamma=0.1, kernel=rbf;, score=0.592 total time=   0.1s\n",
            "[CV 5/5] END ......C=100, gamma=0.1, kernel=rbf;, score=0.645 total time=   0.0s\n",
            "[CV 1/5] END .....C=100, gamma=0.01, kernel=rbf;, score=0.706 total time=   0.0s\n",
            "[CV 2/5] END .....C=100, gamma=0.01, kernel=rbf;, score=0.771 total time=   0.0s\n",
            "[CV 3/5] END .....C=100, gamma=0.01, kernel=rbf;, score=0.829 total time=   0.0s\n",
            "[CV 4/5] END .....C=100, gamma=0.01, kernel=rbf;, score=0.743 total time=   0.0s\n",
            "[CV 5/5] END .....C=100, gamma=0.01, kernel=rbf;, score=0.592 total time=   0.0s\n",
            "[CV 1/5] END ....C=100, gamma=0.001, kernel=rbf;, score=0.686 total time=   0.0s\n",
            "[CV 2/5] END ....C=100, gamma=0.001, kernel=rbf;, score=0.817 total time=   0.0s\n",
            "[CV 3/5] END ....C=100, gamma=0.001, kernel=rbf;, score=0.842 total time=   0.0s\n",
            "[CV 4/5] END ....C=100, gamma=0.001, kernel=rbf;, score=0.724 total time=   0.0s\n",
            "[CV 5/5] END ....C=100, gamma=0.001, kernel=rbf;, score=0.625 total time=   0.0s\n",
            "[CV 1/5] END ...C=100, gamma=0.0001, kernel=rbf;, score=0.686 total time=   0.0s\n",
            "[CV 2/5] END ...C=100, gamma=0.0001, kernel=rbf;, score=0.876 total time=   0.0s\n",
            "[CV 3/5] END ...C=100, gamma=0.0001, kernel=rbf;, score=0.816 total time=   0.0s\n",
            "[CV 4/5] END ...C=100, gamma=0.0001, kernel=rbf;, score=0.743 total time=   0.0s\n",
            "[CV 5/5] END ...C=100, gamma=0.0001, kernel=rbf;, score=0.592 total time=   0.0s\n",
            "[CV 1/5] END ....C=100, gamma=1e-05, kernel=rbf;, score=0.569 total time=   0.0s\n",
            "[CV 2/5] END ....C=100, gamma=1e-05, kernel=rbf;, score=0.830 total time=   0.0s\n",
            "[CV 3/5] END ....C=100, gamma=1e-05, kernel=rbf;, score=0.691 total time=   0.0s\n",
            "[CV 4/5] END ....C=100, gamma=1e-05, kernel=rbf;, score=0.664 total time=   0.0s\n",
            "[CV 5/5] END ....C=100, gamma=1e-05, kernel=rbf;, score=0.493 total time=   0.0s\n",
            "[CV 1/5] END .......C=1000, gamma=1, kernel=rbf;, score=0.294 total time=   0.1s\n",
            "[CV 2/5] END .......C=1000, gamma=1, kernel=rbf;, score=0.294 total time=   0.1s\n",
            "[CV 3/5] END .......C=1000, gamma=1, kernel=rbf;, score=0.296 total time=   0.1s\n",
            "[CV 4/5] END .......C=1000, gamma=1, kernel=rbf;, score=0.296 total time=   0.1s\n",
            "[CV 5/5] END .......C=1000, gamma=1, kernel=rbf;, score=0.296 total time=   0.0s\n",
            "[CV 1/5] END .....C=1000, gamma=0.1, kernel=rbf;, score=0.542 total time=   0.0s\n",
            "[CV 2/5] END .....C=1000, gamma=0.1, kernel=rbf;, score=0.510 total time=   0.1s\n",
            "[CV 3/5] END .....C=1000, gamma=0.1, kernel=rbf;, score=0.651 total time=   0.0s\n",
            "[CV 4/5] END .....C=1000, gamma=0.1, kernel=rbf;, score=0.592 total time=   0.1s\n",
            "[CV 5/5] END .....C=1000, gamma=0.1, kernel=rbf;, score=0.645 total time=   0.1s\n",
            "[CV 1/5] END ....C=1000, gamma=0.01, kernel=rbf;, score=0.706 total time=   0.0s\n",
            "[CV 2/5] END ....C=1000, gamma=0.01, kernel=rbf;, score=0.771 total time=   0.0s\n",
            "[CV 3/5] END ....C=1000, gamma=0.01, kernel=rbf;, score=0.829 total time=   0.0s\n",
            "[CV 4/5] END ....C=1000, gamma=0.01, kernel=rbf;, score=0.743 total time=   0.0s\n",
            "[CV 5/5] END ....C=1000, gamma=0.01, kernel=rbf;, score=0.592 total time=   0.0s\n",
            "[CV 1/5] END ...C=1000, gamma=0.001, kernel=rbf;, score=0.686 total time=   0.0s\n",
            "[CV 2/5] END ...C=1000, gamma=0.001, kernel=rbf;, score=0.817 total time=   0.0s\n",
            "[CV 3/5] END ...C=1000, gamma=0.001, kernel=rbf;, score=0.836 total time=   0.0s\n",
            "[CV 4/5] END ...C=1000, gamma=0.001, kernel=rbf;, score=0.717 total time=   0.0s\n",
            "[CV 5/5] END ...C=1000, gamma=0.001, kernel=rbf;, score=0.625 total time=   0.0s\n",
            "[CV 1/5] END ..C=1000, gamma=0.0001, kernel=rbf;, score=0.673 total time=   0.0s\n",
            "[CV 2/5] END ..C=1000, gamma=0.0001, kernel=rbf;, score=0.876 total time=   0.0s\n",
            "[CV 3/5] END ..C=1000, gamma=0.0001, kernel=rbf;, score=0.849 total time=   0.0s\n",
            "[CV 4/5] END ..C=1000, gamma=0.0001, kernel=rbf;, score=0.763 total time=   0.0s\n",
            "[CV 5/5] END ..C=1000, gamma=0.0001, kernel=rbf;, score=0.645 total time=   0.0s\n",
            "[CV 1/5] END ...C=1000, gamma=1e-05, kernel=rbf;, score=0.673 total time=   0.0s\n",
            "[CV 2/5] END ...C=1000, gamma=1e-05, kernel=rbf;, score=0.876 total time=   0.0s\n",
            "[CV 3/5] END ...C=1000, gamma=1e-05, kernel=rbf;, score=0.822 total time=   0.0s\n",
            "[CV 4/5] END ...C=1000, gamma=1e-05, kernel=rbf;, score=0.730 total time=   0.0s\n",
            "[CV 5/5] END ...C=1000, gamma=1e-05, kernel=rbf;, score=0.599 total time=   0.0s\n",
            "[CV 1/5] END ......C=10000, gamma=1, kernel=rbf;, score=0.294 total time=   0.1s\n",
            "[CV 2/5] END ......C=10000, gamma=1, kernel=rbf;, score=0.294 total time=   0.0s\n",
            "[CV 3/5] END ......C=10000, gamma=1, kernel=rbf;, score=0.296 total time=   0.1s\n",
            "[CV 4/5] END ......C=10000, gamma=1, kernel=rbf;, score=0.296 total time=   0.0s\n",
            "[CV 5/5] END ......C=10000, gamma=1, kernel=rbf;, score=0.296 total time=   0.0s\n",
            "[CV 1/5] END ....C=10000, gamma=0.1, kernel=rbf;, score=0.542 total time=   0.0s\n",
            "[CV 2/5] END ....C=10000, gamma=0.1, kernel=rbf;, score=0.510 total time=   0.0s\n",
            "[CV 3/5] END ....C=10000, gamma=0.1, kernel=rbf;, score=0.651 total time=   0.1s\n",
            "[CV 4/5] END ....C=10000, gamma=0.1, kernel=rbf;, score=0.592 total time=   0.0s\n",
            "[CV 5/5] END ....C=10000, gamma=0.1, kernel=rbf;, score=0.645 total time=   0.1s\n",
            "[CV 1/5] END ...C=10000, gamma=0.01, kernel=rbf;, score=0.706 total time=   0.0s\n",
            "[CV 2/5] END ...C=10000, gamma=0.01, kernel=rbf;, score=0.771 total time=   0.0s\n",
            "[CV 3/5] END ...C=10000, gamma=0.01, kernel=rbf;, score=0.829 total time=   0.0s\n",
            "[CV 4/5] END ...C=10000, gamma=0.01, kernel=rbf;, score=0.743 total time=   0.0s\n",
            "[CV 5/5] END ...C=10000, gamma=0.01, kernel=rbf;, score=0.592 total time=   0.0s\n",
            "[CV 1/5] END ..C=10000, gamma=0.001, kernel=rbf;, score=0.686 total time=   0.0s\n",
            "[CV 2/5] END ..C=10000, gamma=0.001, kernel=rbf;, score=0.817 total time=   0.0s\n",
            "[CV 3/5] END ..C=10000, gamma=0.001, kernel=rbf;, score=0.836 total time=   0.0s\n",
            "[CV 4/5] END ..C=10000, gamma=0.001, kernel=rbf;, score=0.717 total time=   0.0s\n",
            "[CV 5/5] END ..C=10000, gamma=0.001, kernel=rbf;, score=0.625 total time=   0.0s\n",
            "[CV 1/5] END .C=10000, gamma=0.0001, kernel=rbf;, score=0.673 total time=   0.0s\n",
            "[CV 2/5] END .C=10000, gamma=0.0001, kernel=rbf;, score=0.830 total time=   0.0s\n",
            "[CV 3/5] END .C=10000, gamma=0.0001, kernel=rbf;, score=0.849 total time=   0.0s\n",
            "[CV 4/5] END .C=10000, gamma=0.0001, kernel=rbf;, score=0.757 total time=   0.0s\n",
            "[CV 5/5] END .C=10000, gamma=0.0001, kernel=rbf;, score=0.605 total time=   0.0s\n",
            "[CV 1/5] END ..C=10000, gamma=1e-05, kernel=rbf;, score=0.673 total time=   0.0s\n",
            "[CV 2/5] END ..C=10000, gamma=1e-05, kernel=rbf;, score=0.876 total time=   0.0s\n",
            "[CV 3/5] END ..C=10000, gamma=1e-05, kernel=rbf;, score=0.855 total time=   0.0s\n",
            "[CV 4/5] END ..C=10000, gamma=1e-05, kernel=rbf;, score=0.776 total time=   0.0s\n",
            "[CV 5/5] END ..C=10000, gamma=1e-05, kernel=rbf;, score=0.632 total time=   0.0s\n",
            "Best parameter for Binary Classification :  {'C': 10, 'gamma': 0.001, 'kernel': 'rbf'}\n",
            "Best score  for Binary Classification:  0.8239938080495357\n",
            "Best parameter  for Quaternary Classification:  {'C': 10000, 'gamma': 1e-05, 'kernel': 'rbf'}\n",
            "Best score  for Quaternaery Classification:  0.762435500515996\n"
          ]
        }
      ]
    },
    {
      "cell_type": "code",
      "source": [
        "model1 = SVC(C= 10, gamma= 0.001, kernel= 'rbf')\n",
        "model1.fit(X_train, y1)\n",
        "model2 = SVC(C= 1000, gamma= 0.0001, kernel= 'rbf')\n",
        "model2.fit(X_train, y2) \n",
        "# print prediction results\n",
        "print(\"Test Data\")\n",
        "predictions1 = model1.predict(X_test)\n",
        "print(classification_report(y1_test, predictions1))\n",
        "print(confusion_matrix(y1_test, predictions1))\n",
        "predictions2 = model2.predict(X_test)\n",
        "print(classification_report(y2_test, predictions2))\n",
        "print(confusion_matrix(y2_test, predictions2))"
      ],
      "metadata": {
        "colab": {
          "base_uri": "https://localhost:8080/"
        },
        "id": "3ez2p98KA_EZ",
        "outputId": "00b92ccb-e4d5-4487-fb69-7dd95f46b90f"
      },
      "execution_count": 20,
      "outputs": [
        {
          "output_type": "stream",
          "name": "stdout",
          "text": [
            "Test Data\n",
            "              precision    recall  f1-score   support\n",
            "\n",
            "           0       0.89      0.80      0.84       135\n",
            "           1       0.74      0.86      0.79        90\n",
            "\n",
            "    accuracy                           0.82       225\n",
            "   macro avg       0.82      0.83      0.82       225\n",
            "weighted avg       0.83      0.82      0.82       225\n",
            "\n",
            "[[108  27]\n",
            " [ 13  77]]\n",
            "              precision    recall  f1-score   support\n",
            "\n",
            "           0       0.68      0.85      0.76        60\n",
            "           1       0.98      0.98      0.98        60\n",
            "           2       0.80      0.60      0.69        60\n",
            "           3       0.98      0.98      0.98        45\n",
            "\n",
            "    accuracy                           0.84       225\n",
            "   macro avg       0.86      0.85      0.85       225\n",
            "weighted avg       0.85      0.84      0.84       225\n",
            "\n",
            "[[51  0  9  0]\n",
            " [ 0 59  0  1]\n",
            " [24  0 36  0]\n",
            " [ 0  1  0 44]]\n"
          ]
        }
      ]
    },
    {
      "cell_type": "markdown",
      "source": [
        "Part 5C"
      ],
      "metadata": {
        "id": "DcCu8sjY-mm1"
      }
    },
    {
      "cell_type": "markdown",
      "source": [
        "Neural network with single ReLU hidden layer and Softmax output"
      ],
      "metadata": {
        "id": "576uHOWHMM9G"
      }
    },
    {
      "cell_type": "markdown",
      "source": [
        "Network Weight Initialization\n",
        "Ideally, it may be better to use different weight initialization schemes according to the activation function used on each layer.\n",
        "Mostly uniform distribution is used.\n",
        "\n",
        "Activation function\n",
        "Activation functions are used to introduce nonlinearity to models, which allows deep learning models to learn nonlinear prediction boundaries.\n",
        "\n",
        "Generally, the rectifier activation function is the most popular.\n",
        "\n",
        "Sigmoid is used in the output layer while making binary predictions. Softmax is used in the output layer while making multi-class predictions."
      ],
      "metadata": {
        "id": "lR8Il8dN-qMQ"
      }
    },
    {
      "cell_type": "markdown",
      "source": [
        "The output layer is automatically set to use the Softmax activation function since MLPClassifier assumes multi-class classification problems."
      ],
      "metadata": {
        "id": "mKEdbCXJNbpD"
      }
    },
    {
      "cell_type": "code",
      "source": [
        "model1 = MLPClassifier(activation='relu', solver='adam', random_state=42)\n",
        "model1.fit(X_train, y1)\n",
        "model2 = MLPClassifier(activation='relu', solver='adam', random_state=42)\n",
        "model2.fit(X_train, y2) \n",
        "# print prediction results\n",
        "print(\"Test Data\")\n",
        "predictions1 = model1.predict(X_test)\n",
        "print(classification_report(y1_test, predictions1))\n",
        "print(confusion_matrix(y1_test, predictions1))\n",
        "predictions2 = model2.predict(X_test)\n",
        "print(classification_report(y2_test, predictions2))\n",
        "print(confusion_matrix(y2_test, predictions2))"
      ],
      "metadata": {
        "colab": {
          "base_uri": "https://localhost:8080/"
        },
        "id": "UK7lFloDqkmB",
        "outputId": "3c8e8c79-cb4a-4a08-f568-11e6bb27ad6e"
      },
      "execution_count": 21,
      "outputs": [
        {
          "output_type": "stream",
          "name": "stdout",
          "text": [
            "Test Data\n",
            "              precision    recall  f1-score   support\n",
            "\n",
            "           0       0.84      0.77      0.80       135\n",
            "           1       0.69      0.78      0.73        90\n",
            "\n",
            "    accuracy                           0.77       225\n",
            "   macro avg       0.77      0.77      0.77       225\n",
            "weighted avg       0.78      0.77      0.78       225\n",
            "\n",
            "[[104  31]\n",
            " [ 20  70]]\n",
            "              precision    recall  f1-score   support\n",
            "\n",
            "           0       0.77      0.90      0.83        60\n",
            "           1       0.89      0.97      0.93        60\n",
            "           2       0.88      0.73      0.80        60\n",
            "           3       0.95      0.84      0.89        45\n",
            "\n",
            "    accuracy                           0.86       225\n",
            "   macro avg       0.87      0.86      0.86       225\n",
            "weighted avg       0.87      0.86      0.86       225\n",
            "\n",
            "[[54  0  6  0]\n",
            " [ 0 58  0  2]\n",
            " [16  0 44  0]\n",
            " [ 0  7  0 38]]\n"
          ]
        }
      ]
    },
    {
      "cell_type": "code",
      "source": [
        "neural_clf = MLPClassifier(activation='relu', solver='adam', random_state=42)\n",
        "\n",
        "# Define the parameter grid for hyperparameter tuning\n",
        "param_grid = {\n",
        "    'hidden_layer_sizes': [(10,), (20,), (30,), (40,), (50,)],\n",
        "    'alpha': [0.001, 0.01, 0.1, 1, 10]\n",
        "}\n",
        "\n",
        "# Define the grid search procedure\n",
        "grid_1 = GridSearchCV(neural_clf, param_grid, refit = True, verbose = 3,cv=5)\n",
        "grid_1.fit(X_train,y1)\n",
        "grid_2 = GridSearchCV(neural_clf, param_grid, refit = True, verbose = 3,cv=5)\n",
        "grid_2.fit(X_train,y2)\n",
        "# Fit the grid search to the data\n",
        "# fitting the model for grid search\n",
        "print(\"Best parameter for Binary Classification : \", grid_1.best_params_)\n",
        "print(\"Best score  for Binary Classification: \", grid_1.best_score_)\n",
        "print(\"Best parameter  for Quaternary Classification: \", grid_2.best_params_)\n",
        "print(\"Best score  for Quaternaery Classification: \", grid_2.best_score_)"
      ],
      "metadata": {
        "id": "FeH8farG9u5M",
        "colab": {
          "base_uri": "https://localhost:8080/"
        },
        "outputId": "fbdf60a1-9937-4aeb-8a52-fcec884bc1f3"
      },
      "execution_count": 22,
      "outputs": [
        {
          "output_type": "stream",
          "name": "stdout",
          "text": [
            "Fitting 5 folds for each of 25 candidates, totalling 125 fits\n"
          ]
        },
        {
          "output_type": "stream",
          "name": "stderr",
          "text": [
            "/usr/local/lib/python3.9/dist-packages/sklearn/neural_network/_multilayer_perceptron.py:686: ConvergenceWarning: Stochastic Optimizer: Maximum iterations (200) reached and the optimization hasn't converged yet.\n",
            "  warnings.warn(\n"
          ]
        },
        {
          "output_type": "stream",
          "name": "stdout",
          "text": [
            "[CV 1/5] END alpha=0.001, hidden_layer_sizes=(10,);, score=0.837 total time=   0.4s\n"
          ]
        },
        {
          "output_type": "stream",
          "name": "stderr",
          "text": [
            "/usr/local/lib/python3.9/dist-packages/sklearn/neural_network/_multilayer_perceptron.py:686: ConvergenceWarning: Stochastic Optimizer: Maximum iterations (200) reached and the optimization hasn't converged yet.\n",
            "  warnings.warn(\n"
          ]
        },
        {
          "output_type": "stream",
          "name": "stdout",
          "text": [
            "[CV 2/5] END alpha=0.001, hidden_layer_sizes=(10,);, score=0.739 total time=   0.3s\n"
          ]
        },
        {
          "output_type": "stream",
          "name": "stderr",
          "text": [
            "/usr/local/lib/python3.9/dist-packages/sklearn/neural_network/_multilayer_perceptron.py:686: ConvergenceWarning: Stochastic Optimizer: Maximum iterations (200) reached and the optimization hasn't converged yet.\n",
            "  warnings.warn(\n"
          ]
        },
        {
          "output_type": "stream",
          "name": "stdout",
          "text": [
            "[CV 3/5] END alpha=0.001, hidden_layer_sizes=(10,);, score=0.605 total time=   0.4s\n"
          ]
        },
        {
          "output_type": "stream",
          "name": "stderr",
          "text": [
            "/usr/local/lib/python3.9/dist-packages/sklearn/neural_network/_multilayer_perceptron.py:686: ConvergenceWarning: Stochastic Optimizer: Maximum iterations (200) reached and the optimization hasn't converged yet.\n",
            "  warnings.warn(\n"
          ]
        },
        {
          "output_type": "stream",
          "name": "stdout",
          "text": [
            "[CV 4/5] END alpha=0.001, hidden_layer_sizes=(10,);, score=0.671 total time=   0.5s\n"
          ]
        },
        {
          "output_type": "stream",
          "name": "stderr",
          "text": [
            "/usr/local/lib/python3.9/dist-packages/sklearn/neural_network/_multilayer_perceptron.py:686: ConvergenceWarning: Stochastic Optimizer: Maximum iterations (200) reached and the optimization hasn't converged yet.\n",
            "  warnings.warn(\n"
          ]
        },
        {
          "output_type": "stream",
          "name": "stdout",
          "text": [
            "[CV 5/5] END alpha=0.001, hidden_layer_sizes=(10,);, score=0.849 total time=   0.6s\n"
          ]
        },
        {
          "output_type": "stream",
          "name": "stderr",
          "text": [
            "/usr/local/lib/python3.9/dist-packages/sklearn/neural_network/_multilayer_perceptron.py:686: ConvergenceWarning: Stochastic Optimizer: Maximum iterations (200) reached and the optimization hasn't converged yet.\n",
            "  warnings.warn(\n"
          ]
        },
        {
          "output_type": "stream",
          "name": "stdout",
          "text": [
            "[CV 1/5] END alpha=0.001, hidden_layer_sizes=(20,);, score=0.784 total time=   1.3s\n"
          ]
        },
        {
          "output_type": "stream",
          "name": "stderr",
          "text": [
            "/usr/local/lib/python3.9/dist-packages/sklearn/neural_network/_multilayer_perceptron.py:686: ConvergenceWarning: Stochastic Optimizer: Maximum iterations (200) reached and the optimization hasn't converged yet.\n",
            "  warnings.warn(\n"
          ]
        },
        {
          "output_type": "stream",
          "name": "stdout",
          "text": [
            "[CV 2/5] END alpha=0.001, hidden_layer_sizes=(20,);, score=0.771 total time=   1.3s\n"
          ]
        },
        {
          "output_type": "stream",
          "name": "stderr",
          "text": [
            "/usr/local/lib/python3.9/dist-packages/sklearn/neural_network/_multilayer_perceptron.py:686: ConvergenceWarning: Stochastic Optimizer: Maximum iterations (200) reached and the optimization hasn't converged yet.\n",
            "  warnings.warn(\n"
          ]
        },
        {
          "output_type": "stream",
          "name": "stdout",
          "text": [
            "[CV 3/5] END alpha=0.001, hidden_layer_sizes=(20,);, score=0.572 total time=   1.3s\n"
          ]
        },
        {
          "output_type": "stream",
          "name": "stderr",
          "text": [
            "/usr/local/lib/python3.9/dist-packages/sklearn/neural_network/_multilayer_perceptron.py:686: ConvergenceWarning: Stochastic Optimizer: Maximum iterations (200) reached and the optimization hasn't converged yet.\n",
            "  warnings.warn(\n"
          ]
        },
        {
          "output_type": "stream",
          "name": "stdout",
          "text": [
            "[CV 4/5] END alpha=0.001, hidden_layer_sizes=(20,);, score=0.618 total time=   0.6s\n"
          ]
        },
        {
          "output_type": "stream",
          "name": "stderr",
          "text": [
            "/usr/local/lib/python3.9/dist-packages/sklearn/neural_network/_multilayer_perceptron.py:686: ConvergenceWarning: Stochastic Optimizer: Maximum iterations (200) reached and the optimization hasn't converged yet.\n",
            "  warnings.warn(\n"
          ]
        },
        {
          "output_type": "stream",
          "name": "stdout",
          "text": [
            "[CV 5/5] END alpha=0.001, hidden_layer_sizes=(20,);, score=0.888 total time=   0.6s\n"
          ]
        },
        {
          "output_type": "stream",
          "name": "stderr",
          "text": [
            "/usr/local/lib/python3.9/dist-packages/sklearn/neural_network/_multilayer_perceptron.py:686: ConvergenceWarning: Stochastic Optimizer: Maximum iterations (200) reached and the optimization hasn't converged yet.\n",
            "  warnings.warn(\n"
          ]
        },
        {
          "output_type": "stream",
          "name": "stdout",
          "text": [
            "[CV 1/5] END alpha=0.001, hidden_layer_sizes=(30,);, score=0.902 total time=   0.7s\n"
          ]
        },
        {
          "output_type": "stream",
          "name": "stderr",
          "text": [
            "/usr/local/lib/python3.9/dist-packages/sklearn/neural_network/_multilayer_perceptron.py:686: ConvergenceWarning: Stochastic Optimizer: Maximum iterations (200) reached and the optimization hasn't converged yet.\n",
            "  warnings.warn(\n"
          ]
        },
        {
          "output_type": "stream",
          "name": "stdout",
          "text": [
            "[CV 2/5] END alpha=0.001, hidden_layer_sizes=(30,);, score=0.706 total time=   0.7s\n"
          ]
        },
        {
          "output_type": "stream",
          "name": "stderr",
          "text": [
            "/usr/local/lib/python3.9/dist-packages/sklearn/neural_network/_multilayer_perceptron.py:686: ConvergenceWarning: Stochastic Optimizer: Maximum iterations (200) reached and the optimization hasn't converged yet.\n",
            "  warnings.warn(\n"
          ]
        },
        {
          "output_type": "stream",
          "name": "stdout",
          "text": [
            "[CV 3/5] END alpha=0.001, hidden_layer_sizes=(30,);, score=0.539 total time=   0.6s\n"
          ]
        },
        {
          "output_type": "stream",
          "name": "stderr",
          "text": [
            "/usr/local/lib/python3.9/dist-packages/sklearn/neural_network/_multilayer_perceptron.py:686: ConvergenceWarning: Stochastic Optimizer: Maximum iterations (200) reached and the optimization hasn't converged yet.\n",
            "  warnings.warn(\n"
          ]
        },
        {
          "output_type": "stream",
          "name": "stdout",
          "text": [
            "[CV 4/5] END alpha=0.001, hidden_layer_sizes=(30,);, score=0.553 total time=   0.7s\n"
          ]
        },
        {
          "output_type": "stream",
          "name": "stderr",
          "text": [
            "/usr/local/lib/python3.9/dist-packages/sklearn/neural_network/_multilayer_perceptron.py:686: ConvergenceWarning: Stochastic Optimizer: Maximum iterations (200) reached and the optimization hasn't converged yet.\n",
            "  warnings.warn(\n"
          ]
        },
        {
          "output_type": "stream",
          "name": "stdout",
          "text": [
            "[CV 5/5] END alpha=0.001, hidden_layer_sizes=(30,);, score=0.849 total time=   1.2s\n"
          ]
        },
        {
          "output_type": "stream",
          "name": "stderr",
          "text": [
            "/usr/local/lib/python3.9/dist-packages/sklearn/neural_network/_multilayer_perceptron.py:686: ConvergenceWarning: Stochastic Optimizer: Maximum iterations (200) reached and the optimization hasn't converged yet.\n",
            "  warnings.warn(\n"
          ]
        },
        {
          "output_type": "stream",
          "name": "stdout",
          "text": [
            "[CV 1/5] END alpha=0.001, hidden_layer_sizes=(40,);, score=0.928 total time=   1.4s\n",
            "[CV 2/5] END alpha=0.001, hidden_layer_sizes=(40,);, score=0.725 total time=   0.7s\n",
            "[CV 3/5] END alpha=0.001, hidden_layer_sizes=(40,);, score=0.638 total time=   0.7s\n",
            "[CV 4/5] END alpha=0.001, hidden_layer_sizes=(40,);, score=0.651 total time=   0.7s\n"
          ]
        },
        {
          "output_type": "stream",
          "name": "stderr",
          "text": [
            "/usr/local/lib/python3.9/dist-packages/sklearn/neural_network/_multilayer_perceptron.py:686: ConvergenceWarning: Stochastic Optimizer: Maximum iterations (200) reached and the optimization hasn't converged yet.\n",
            "  warnings.warn(\n"
          ]
        },
        {
          "output_type": "stream",
          "name": "stdout",
          "text": [
            "[CV 5/5] END alpha=0.001, hidden_layer_sizes=(40,);, score=0.829 total time=   0.7s\n"
          ]
        },
        {
          "output_type": "stream",
          "name": "stderr",
          "text": [
            "/usr/local/lib/python3.9/dist-packages/sklearn/neural_network/_multilayer_perceptron.py:686: ConvergenceWarning: Stochastic Optimizer: Maximum iterations (200) reached and the optimization hasn't converged yet.\n",
            "  warnings.warn(\n"
          ]
        },
        {
          "output_type": "stream",
          "name": "stdout",
          "text": [
            "[CV 1/5] END alpha=0.001, hidden_layer_sizes=(50,);, score=0.882 total time=   1.0s\n",
            "[CV 2/5] END alpha=0.001, hidden_layer_sizes=(50,);, score=0.771 total time=   1.6s\n",
            "[CV 3/5] END alpha=0.001, hidden_layer_sizes=(50,);, score=0.553 total time=   1.8s\n"
          ]
        },
        {
          "output_type": "stream",
          "name": "stderr",
          "text": [
            "/usr/local/lib/python3.9/dist-packages/sklearn/neural_network/_multilayer_perceptron.py:686: ConvergenceWarning: Stochastic Optimizer: Maximum iterations (200) reached and the optimization hasn't converged yet.\n",
            "  warnings.warn(\n"
          ]
        },
        {
          "output_type": "stream",
          "name": "stdout",
          "text": [
            "[CV 4/5] END alpha=0.001, hidden_layer_sizes=(50,);, score=0.638 total time=   1.3s\n",
            "[CV 5/5] END alpha=0.001, hidden_layer_sizes=(50,);, score=0.875 total time=   0.7s\n"
          ]
        },
        {
          "output_type": "stream",
          "name": "stderr",
          "text": [
            "/usr/local/lib/python3.9/dist-packages/sklearn/neural_network/_multilayer_perceptron.py:686: ConvergenceWarning: Stochastic Optimizer: Maximum iterations (200) reached and the optimization hasn't converged yet.\n",
            "  warnings.warn(\n"
          ]
        },
        {
          "output_type": "stream",
          "name": "stdout",
          "text": [
            "[CV 1/5] END alpha=0.01, hidden_layer_sizes=(10,);, score=0.830 total time=   0.4s\n"
          ]
        },
        {
          "output_type": "stream",
          "name": "stderr",
          "text": [
            "/usr/local/lib/python3.9/dist-packages/sklearn/neural_network/_multilayer_perceptron.py:686: ConvergenceWarning: Stochastic Optimizer: Maximum iterations (200) reached and the optimization hasn't converged yet.\n",
            "  warnings.warn(\n"
          ]
        },
        {
          "output_type": "stream",
          "name": "stdout",
          "text": [
            "[CV 2/5] END alpha=0.01, hidden_layer_sizes=(10,);, score=0.739 total time=   0.3s\n"
          ]
        },
        {
          "output_type": "stream",
          "name": "stderr",
          "text": [
            "/usr/local/lib/python3.9/dist-packages/sklearn/neural_network/_multilayer_perceptron.py:686: ConvergenceWarning: Stochastic Optimizer: Maximum iterations (200) reached and the optimization hasn't converged yet.\n",
            "  warnings.warn(\n"
          ]
        },
        {
          "output_type": "stream",
          "name": "stdout",
          "text": [
            "[CV 3/5] END alpha=0.01, hidden_layer_sizes=(10,);, score=0.605 total time=   0.3s\n"
          ]
        },
        {
          "output_type": "stream",
          "name": "stderr",
          "text": [
            "/usr/local/lib/python3.9/dist-packages/sklearn/neural_network/_multilayer_perceptron.py:686: ConvergenceWarning: Stochastic Optimizer: Maximum iterations (200) reached and the optimization hasn't converged yet.\n",
            "  warnings.warn(\n"
          ]
        },
        {
          "output_type": "stream",
          "name": "stdout",
          "text": [
            "[CV 4/5] END alpha=0.01, hidden_layer_sizes=(10,);, score=0.671 total time=   0.4s\n"
          ]
        },
        {
          "output_type": "stream",
          "name": "stderr",
          "text": [
            "/usr/local/lib/python3.9/dist-packages/sklearn/neural_network/_multilayer_perceptron.py:686: ConvergenceWarning: Stochastic Optimizer: Maximum iterations (200) reached and the optimization hasn't converged yet.\n",
            "  warnings.warn(\n"
          ]
        },
        {
          "output_type": "stream",
          "name": "stdout",
          "text": [
            "[CV 5/5] END alpha=0.01, hidden_layer_sizes=(10,);, score=0.842 total time=   0.3s\n"
          ]
        },
        {
          "output_type": "stream",
          "name": "stderr",
          "text": [
            "/usr/local/lib/python3.9/dist-packages/sklearn/neural_network/_multilayer_perceptron.py:686: ConvergenceWarning: Stochastic Optimizer: Maximum iterations (200) reached and the optimization hasn't converged yet.\n",
            "  warnings.warn(\n"
          ]
        },
        {
          "output_type": "stream",
          "name": "stdout",
          "text": [
            "[CV 1/5] END alpha=0.01, hidden_layer_sizes=(20,);, score=0.784 total time=   0.6s\n"
          ]
        },
        {
          "output_type": "stream",
          "name": "stderr",
          "text": [
            "/usr/local/lib/python3.9/dist-packages/sklearn/neural_network/_multilayer_perceptron.py:686: ConvergenceWarning: Stochastic Optimizer: Maximum iterations (200) reached and the optimization hasn't converged yet.\n",
            "  warnings.warn(\n"
          ]
        },
        {
          "output_type": "stream",
          "name": "stdout",
          "text": [
            "[CV 2/5] END alpha=0.01, hidden_layer_sizes=(20,);, score=0.758 total time=   0.6s\n"
          ]
        },
        {
          "output_type": "stream",
          "name": "stderr",
          "text": [
            "/usr/local/lib/python3.9/dist-packages/sklearn/neural_network/_multilayer_perceptron.py:686: ConvergenceWarning: Stochastic Optimizer: Maximum iterations (200) reached and the optimization hasn't converged yet.\n",
            "  warnings.warn(\n"
          ]
        },
        {
          "output_type": "stream",
          "name": "stdout",
          "text": [
            "[CV 3/5] END alpha=0.01, hidden_layer_sizes=(20,);, score=0.572 total time=   0.6s\n"
          ]
        },
        {
          "output_type": "stream",
          "name": "stderr",
          "text": [
            "/usr/local/lib/python3.9/dist-packages/sklearn/neural_network/_multilayer_perceptron.py:686: ConvergenceWarning: Stochastic Optimizer: Maximum iterations (200) reached and the optimization hasn't converged yet.\n",
            "  warnings.warn(\n"
          ]
        },
        {
          "output_type": "stream",
          "name": "stdout",
          "text": [
            "[CV 4/5] END alpha=0.01, hidden_layer_sizes=(20,);, score=0.618 total time=   0.6s\n"
          ]
        },
        {
          "output_type": "stream",
          "name": "stderr",
          "text": [
            "/usr/local/lib/python3.9/dist-packages/sklearn/neural_network/_multilayer_perceptron.py:686: ConvergenceWarning: Stochastic Optimizer: Maximum iterations (200) reached and the optimization hasn't converged yet.\n",
            "  warnings.warn(\n"
          ]
        },
        {
          "output_type": "stream",
          "name": "stdout",
          "text": [
            "[CV 5/5] END alpha=0.01, hidden_layer_sizes=(20,);, score=0.888 total time=   0.6s\n"
          ]
        },
        {
          "output_type": "stream",
          "name": "stderr",
          "text": [
            "/usr/local/lib/python3.9/dist-packages/sklearn/neural_network/_multilayer_perceptron.py:686: ConvergenceWarning: Stochastic Optimizer: Maximum iterations (200) reached and the optimization hasn't converged yet.\n",
            "  warnings.warn(\n"
          ]
        },
        {
          "output_type": "stream",
          "name": "stdout",
          "text": [
            "[CV 1/5] END alpha=0.01, hidden_layer_sizes=(30,);, score=0.908 total time=   0.7s\n"
          ]
        },
        {
          "output_type": "stream",
          "name": "stderr",
          "text": [
            "/usr/local/lib/python3.9/dist-packages/sklearn/neural_network/_multilayer_perceptron.py:686: ConvergenceWarning: Stochastic Optimizer: Maximum iterations (200) reached and the optimization hasn't converged yet.\n",
            "  warnings.warn(\n"
          ]
        },
        {
          "output_type": "stream",
          "name": "stdout",
          "text": [
            "[CV 2/5] END alpha=0.01, hidden_layer_sizes=(30,);, score=0.706 total time=   0.6s\n"
          ]
        },
        {
          "output_type": "stream",
          "name": "stderr",
          "text": [
            "/usr/local/lib/python3.9/dist-packages/sklearn/neural_network/_multilayer_perceptron.py:686: ConvergenceWarning: Stochastic Optimizer: Maximum iterations (200) reached and the optimization hasn't converged yet.\n",
            "  warnings.warn(\n"
          ]
        },
        {
          "output_type": "stream",
          "name": "stdout",
          "text": [
            "[CV 3/5] END alpha=0.01, hidden_layer_sizes=(30,);, score=0.539 total time=   0.7s\n"
          ]
        },
        {
          "output_type": "stream",
          "name": "stderr",
          "text": [
            "/usr/local/lib/python3.9/dist-packages/sklearn/neural_network/_multilayer_perceptron.py:686: ConvergenceWarning: Stochastic Optimizer: Maximum iterations (200) reached and the optimization hasn't converged yet.\n",
            "  warnings.warn(\n"
          ]
        },
        {
          "output_type": "stream",
          "name": "stdout",
          "text": [
            "[CV 4/5] END alpha=0.01, hidden_layer_sizes=(30,);, score=0.553 total time=   0.7s\n"
          ]
        },
        {
          "output_type": "stream",
          "name": "stderr",
          "text": [
            "/usr/local/lib/python3.9/dist-packages/sklearn/neural_network/_multilayer_perceptron.py:686: ConvergenceWarning: Stochastic Optimizer: Maximum iterations (200) reached and the optimization hasn't converged yet.\n",
            "  warnings.warn(\n"
          ]
        },
        {
          "output_type": "stream",
          "name": "stdout",
          "text": [
            "[CV 5/5] END alpha=0.01, hidden_layer_sizes=(30,);, score=0.849 total time=   0.7s\n"
          ]
        },
        {
          "output_type": "stream",
          "name": "stderr",
          "text": [
            "/usr/local/lib/python3.9/dist-packages/sklearn/neural_network/_multilayer_perceptron.py:686: ConvergenceWarning: Stochastic Optimizer: Maximum iterations (200) reached and the optimization hasn't converged yet.\n",
            "  warnings.warn(\n"
          ]
        },
        {
          "output_type": "stream",
          "name": "stdout",
          "text": [
            "[CV 1/5] END alpha=0.01, hidden_layer_sizes=(40,);, score=0.922 total time=   0.8s\n",
            "[CV 2/5] END alpha=0.01, hidden_layer_sizes=(40,);, score=0.732 total time=   1.6s\n",
            "[CV 3/5] END alpha=0.01, hidden_layer_sizes=(40,);, score=0.618 total time=   1.5s\n"
          ]
        },
        {
          "output_type": "stream",
          "name": "stderr",
          "text": [
            "/usr/local/lib/python3.9/dist-packages/sklearn/neural_network/_multilayer_perceptron.py:686: ConvergenceWarning: Stochastic Optimizer: Maximum iterations (200) reached and the optimization hasn't converged yet.\n",
            "  warnings.warn(\n"
          ]
        },
        {
          "output_type": "stream",
          "name": "stdout",
          "text": [
            "[CV 4/5] END alpha=0.01, hidden_layer_sizes=(40,);, score=0.651 total time=   1.6s\n"
          ]
        },
        {
          "output_type": "stream",
          "name": "stderr",
          "text": [
            "/usr/local/lib/python3.9/dist-packages/sklearn/neural_network/_multilayer_perceptron.py:686: ConvergenceWarning: Stochastic Optimizer: Maximum iterations (200) reached and the optimization hasn't converged yet.\n",
            "  warnings.warn(\n"
          ]
        },
        {
          "output_type": "stream",
          "name": "stdout",
          "text": [
            "[CV 5/5] END alpha=0.01, hidden_layer_sizes=(40,);, score=0.829 total time=   0.7s\n"
          ]
        },
        {
          "output_type": "stream",
          "name": "stderr",
          "text": [
            "/usr/local/lib/python3.9/dist-packages/sklearn/neural_network/_multilayer_perceptron.py:686: ConvergenceWarning: Stochastic Optimizer: Maximum iterations (200) reached and the optimization hasn't converged yet.\n",
            "  warnings.warn(\n"
          ]
        },
        {
          "output_type": "stream",
          "name": "stdout",
          "text": [
            "[CV 1/5] END alpha=0.01, hidden_layer_sizes=(50,);, score=0.863 total time=   0.9s\n",
            "[CV 2/5] END alpha=0.01, hidden_layer_sizes=(50,);, score=0.771 total time=   0.7s\n",
            "[CV 3/5] END alpha=0.01, hidden_layer_sizes=(50,);, score=0.553 total time=   0.7s\n"
          ]
        },
        {
          "output_type": "stream",
          "name": "stderr",
          "text": [
            "/usr/local/lib/python3.9/dist-packages/sklearn/neural_network/_multilayer_perceptron.py:686: ConvergenceWarning: Stochastic Optimizer: Maximum iterations (200) reached and the optimization hasn't converged yet.\n",
            "  warnings.warn(\n"
          ]
        },
        {
          "output_type": "stream",
          "name": "stdout",
          "text": [
            "[CV 4/5] END alpha=0.01, hidden_layer_sizes=(50,);, score=0.638 total time=   0.8s\n",
            "[CV 5/5] END alpha=0.01, hidden_layer_sizes=(50,);, score=0.875 total time=   0.8s\n"
          ]
        },
        {
          "output_type": "stream",
          "name": "stderr",
          "text": [
            "/usr/local/lib/python3.9/dist-packages/sklearn/neural_network/_multilayer_perceptron.py:686: ConvergenceWarning: Stochastic Optimizer: Maximum iterations (200) reached and the optimization hasn't converged yet.\n",
            "  warnings.warn(\n"
          ]
        },
        {
          "output_type": "stream",
          "name": "stdout",
          "text": [
            "[CV 1/5] END alpha=0.1, hidden_layer_sizes=(10,);, score=0.810 total time=   0.4s\n"
          ]
        },
        {
          "output_type": "stream",
          "name": "stderr",
          "text": [
            "/usr/local/lib/python3.9/dist-packages/sklearn/neural_network/_multilayer_perceptron.py:686: ConvergenceWarning: Stochastic Optimizer: Maximum iterations (200) reached and the optimization hasn't converged yet.\n",
            "  warnings.warn(\n"
          ]
        },
        {
          "output_type": "stream",
          "name": "stdout",
          "text": [
            "[CV 2/5] END alpha=0.1, hidden_layer_sizes=(10,);, score=0.739 total time=   0.3s\n"
          ]
        },
        {
          "output_type": "stream",
          "name": "stderr",
          "text": [
            "/usr/local/lib/python3.9/dist-packages/sklearn/neural_network/_multilayer_perceptron.py:686: ConvergenceWarning: Stochastic Optimizer: Maximum iterations (200) reached and the optimization hasn't converged yet.\n",
            "  warnings.warn(\n"
          ]
        },
        {
          "output_type": "stream",
          "name": "stdout",
          "text": [
            "[CV 3/5] END alpha=0.1, hidden_layer_sizes=(10,);, score=0.592 total time=   0.3s\n"
          ]
        },
        {
          "output_type": "stream",
          "name": "stderr",
          "text": [
            "/usr/local/lib/python3.9/dist-packages/sklearn/neural_network/_multilayer_perceptron.py:686: ConvergenceWarning: Stochastic Optimizer: Maximum iterations (200) reached and the optimization hasn't converged yet.\n",
            "  warnings.warn(\n"
          ]
        },
        {
          "output_type": "stream",
          "name": "stdout",
          "text": [
            "[CV 4/5] END alpha=0.1, hidden_layer_sizes=(10,);, score=0.651 total time=   0.3s\n"
          ]
        },
        {
          "output_type": "stream",
          "name": "stderr",
          "text": [
            "/usr/local/lib/python3.9/dist-packages/sklearn/neural_network/_multilayer_perceptron.py:686: ConvergenceWarning: Stochastic Optimizer: Maximum iterations (200) reached and the optimization hasn't converged yet.\n",
            "  warnings.warn(\n"
          ]
        },
        {
          "output_type": "stream",
          "name": "stdout",
          "text": [
            "[CV 5/5] END alpha=0.1, hidden_layer_sizes=(10,);, score=0.855 total time=   0.4s\n"
          ]
        },
        {
          "output_type": "stream",
          "name": "stderr",
          "text": [
            "/usr/local/lib/python3.9/dist-packages/sklearn/neural_network/_multilayer_perceptron.py:686: ConvergenceWarning: Stochastic Optimizer: Maximum iterations (200) reached and the optimization hasn't converged yet.\n",
            "  warnings.warn(\n"
          ]
        },
        {
          "output_type": "stream",
          "name": "stdout",
          "text": [
            "[CV 1/5] END alpha=0.1, hidden_layer_sizes=(20,);, score=0.797 total time=   0.6s\n"
          ]
        },
        {
          "output_type": "stream",
          "name": "stderr",
          "text": [
            "/usr/local/lib/python3.9/dist-packages/sklearn/neural_network/_multilayer_perceptron.py:686: ConvergenceWarning: Stochastic Optimizer: Maximum iterations (200) reached and the optimization hasn't converged yet.\n",
            "  warnings.warn(\n"
          ]
        },
        {
          "output_type": "stream",
          "name": "stdout",
          "text": [
            "[CV 2/5] END alpha=0.1, hidden_layer_sizes=(20,);, score=0.758 total time=   0.6s\n"
          ]
        },
        {
          "output_type": "stream",
          "name": "stderr",
          "text": [
            "/usr/local/lib/python3.9/dist-packages/sklearn/neural_network/_multilayer_perceptron.py:686: ConvergenceWarning: Stochastic Optimizer: Maximum iterations (200) reached and the optimization hasn't converged yet.\n",
            "  warnings.warn(\n"
          ]
        },
        {
          "output_type": "stream",
          "name": "stdout",
          "text": [
            "[CV 3/5] END alpha=0.1, hidden_layer_sizes=(20,);, score=0.572 total time=   0.6s\n"
          ]
        },
        {
          "output_type": "stream",
          "name": "stderr",
          "text": [
            "/usr/local/lib/python3.9/dist-packages/sklearn/neural_network/_multilayer_perceptron.py:686: ConvergenceWarning: Stochastic Optimizer: Maximum iterations (200) reached and the optimization hasn't converged yet.\n",
            "  warnings.warn(\n"
          ]
        },
        {
          "output_type": "stream",
          "name": "stdout",
          "text": [
            "[CV 4/5] END alpha=0.1, hidden_layer_sizes=(20,);, score=0.625 total time=   0.6s\n"
          ]
        },
        {
          "output_type": "stream",
          "name": "stderr",
          "text": [
            "/usr/local/lib/python3.9/dist-packages/sklearn/neural_network/_multilayer_perceptron.py:686: ConvergenceWarning: Stochastic Optimizer: Maximum iterations (200) reached and the optimization hasn't converged yet.\n",
            "  warnings.warn(\n"
          ]
        },
        {
          "output_type": "stream",
          "name": "stdout",
          "text": [
            "[CV 5/5] END alpha=0.1, hidden_layer_sizes=(20,);, score=0.888 total time=   0.6s\n"
          ]
        },
        {
          "output_type": "stream",
          "name": "stderr",
          "text": [
            "/usr/local/lib/python3.9/dist-packages/sklearn/neural_network/_multilayer_perceptron.py:686: ConvergenceWarning: Stochastic Optimizer: Maximum iterations (200) reached and the optimization hasn't converged yet.\n",
            "  warnings.warn(\n"
          ]
        },
        {
          "output_type": "stream",
          "name": "stdout",
          "text": [
            "[CV 1/5] END alpha=0.1, hidden_layer_sizes=(30,);, score=0.876 total time=   0.7s\n"
          ]
        },
        {
          "output_type": "stream",
          "name": "stderr",
          "text": [
            "/usr/local/lib/python3.9/dist-packages/sklearn/neural_network/_multilayer_perceptron.py:686: ConvergenceWarning: Stochastic Optimizer: Maximum iterations (200) reached and the optimization hasn't converged yet.\n",
            "  warnings.warn(\n"
          ]
        },
        {
          "output_type": "stream",
          "name": "stdout",
          "text": [
            "[CV 2/5] END alpha=0.1, hidden_layer_sizes=(30,);, score=0.719 total time=   1.5s\n"
          ]
        },
        {
          "output_type": "stream",
          "name": "stderr",
          "text": [
            "/usr/local/lib/python3.9/dist-packages/sklearn/neural_network/_multilayer_perceptron.py:686: ConvergenceWarning: Stochastic Optimizer: Maximum iterations (200) reached and the optimization hasn't converged yet.\n",
            "  warnings.warn(\n"
          ]
        },
        {
          "output_type": "stream",
          "name": "stdout",
          "text": [
            "[CV 3/5] END alpha=0.1, hidden_layer_sizes=(30,);, score=0.539 total time=   1.6s\n"
          ]
        },
        {
          "output_type": "stream",
          "name": "stderr",
          "text": [
            "/usr/local/lib/python3.9/dist-packages/sklearn/neural_network/_multilayer_perceptron.py:686: ConvergenceWarning: Stochastic Optimizer: Maximum iterations (200) reached and the optimization hasn't converged yet.\n",
            "  warnings.warn(\n"
          ]
        },
        {
          "output_type": "stream",
          "name": "stdout",
          "text": [
            "[CV 4/5] END alpha=0.1, hidden_layer_sizes=(30,);, score=0.592 total time=   1.6s\n"
          ]
        },
        {
          "output_type": "stream",
          "name": "stderr",
          "text": [
            "/usr/local/lib/python3.9/dist-packages/sklearn/neural_network/_multilayer_perceptron.py:686: ConvergenceWarning: Stochastic Optimizer: Maximum iterations (200) reached and the optimization hasn't converged yet.\n",
            "  warnings.warn(\n"
          ]
        },
        {
          "output_type": "stream",
          "name": "stdout",
          "text": [
            "[CV 5/5] END alpha=0.1, hidden_layer_sizes=(30,);, score=0.849 total time=   0.8s\n"
          ]
        },
        {
          "output_type": "stream",
          "name": "stderr",
          "text": [
            "/usr/local/lib/python3.9/dist-packages/sklearn/neural_network/_multilayer_perceptron.py:686: ConvergenceWarning: Stochastic Optimizer: Maximum iterations (200) reached and the optimization hasn't converged yet.\n",
            "  warnings.warn(\n"
          ]
        },
        {
          "output_type": "stream",
          "name": "stdout",
          "text": [
            "[CV 1/5] END alpha=0.1, hidden_layer_sizes=(40,);, score=0.876 total time=   0.7s\n"
          ]
        },
        {
          "output_type": "stream",
          "name": "stderr",
          "text": [
            "/usr/local/lib/python3.9/dist-packages/sklearn/neural_network/_multilayer_perceptron.py:686: ConvergenceWarning: Stochastic Optimizer: Maximum iterations (200) reached and the optimization hasn't converged yet.\n",
            "  warnings.warn(\n"
          ]
        },
        {
          "output_type": "stream",
          "name": "stdout",
          "text": [
            "[CV 2/5] END alpha=0.1, hidden_layer_sizes=(40,);, score=0.739 total time=   0.7s\n"
          ]
        },
        {
          "output_type": "stream",
          "name": "stderr",
          "text": [
            "/usr/local/lib/python3.9/dist-packages/sklearn/neural_network/_multilayer_perceptron.py:686: ConvergenceWarning: Stochastic Optimizer: Maximum iterations (200) reached and the optimization hasn't converged yet.\n",
            "  warnings.warn(\n"
          ]
        },
        {
          "output_type": "stream",
          "name": "stdout",
          "text": [
            "[CV 3/5] END alpha=0.1, hidden_layer_sizes=(40,);, score=0.638 total time=   0.7s\n"
          ]
        },
        {
          "output_type": "stream",
          "name": "stderr",
          "text": [
            "/usr/local/lib/python3.9/dist-packages/sklearn/neural_network/_multilayer_perceptron.py:686: ConvergenceWarning: Stochastic Optimizer: Maximum iterations (200) reached and the optimization hasn't converged yet.\n",
            "  warnings.warn(\n"
          ]
        },
        {
          "output_type": "stream",
          "name": "stdout",
          "text": [
            "[CV 4/5] END alpha=0.1, hidden_layer_sizes=(40,);, score=0.658 total time=   0.7s\n"
          ]
        },
        {
          "output_type": "stream",
          "name": "stderr",
          "text": [
            "/usr/local/lib/python3.9/dist-packages/sklearn/neural_network/_multilayer_perceptron.py:686: ConvergenceWarning: Stochastic Optimizer: Maximum iterations (200) reached and the optimization hasn't converged yet.\n",
            "  warnings.warn(\n"
          ]
        },
        {
          "output_type": "stream",
          "name": "stdout",
          "text": [
            "[CV 5/5] END alpha=0.1, hidden_layer_sizes=(40,);, score=0.836 total time=   0.7s\n"
          ]
        },
        {
          "output_type": "stream",
          "name": "stderr",
          "text": [
            "/usr/local/lib/python3.9/dist-packages/sklearn/neural_network/_multilayer_perceptron.py:686: ConvergenceWarning: Stochastic Optimizer: Maximum iterations (200) reached and the optimization hasn't converged yet.\n",
            "  warnings.warn(\n"
          ]
        },
        {
          "output_type": "stream",
          "name": "stdout",
          "text": [
            "[CV 1/5] END alpha=0.1, hidden_layer_sizes=(50,);, score=0.843 total time=   0.8s\n"
          ]
        },
        {
          "output_type": "stream",
          "name": "stderr",
          "text": [
            "/usr/local/lib/python3.9/dist-packages/sklearn/neural_network/_multilayer_perceptron.py:686: ConvergenceWarning: Stochastic Optimizer: Maximum iterations (200) reached and the optimization hasn't converged yet.\n",
            "  warnings.warn(\n"
          ]
        },
        {
          "output_type": "stream",
          "name": "stdout",
          "text": [
            "[CV 2/5] END alpha=0.1, hidden_layer_sizes=(50,);, score=0.752 total time=   0.8s\n"
          ]
        },
        {
          "output_type": "stream",
          "name": "stderr",
          "text": [
            "/usr/local/lib/python3.9/dist-packages/sklearn/neural_network/_multilayer_perceptron.py:686: ConvergenceWarning: Stochastic Optimizer: Maximum iterations (200) reached and the optimization hasn't converged yet.\n",
            "  warnings.warn(\n"
          ]
        },
        {
          "output_type": "stream",
          "name": "stdout",
          "text": [
            "[CV 3/5] END alpha=0.1, hidden_layer_sizes=(50,);, score=0.566 total time=   0.7s\n"
          ]
        },
        {
          "output_type": "stream",
          "name": "stderr",
          "text": [
            "/usr/local/lib/python3.9/dist-packages/sklearn/neural_network/_multilayer_perceptron.py:686: ConvergenceWarning: Stochastic Optimizer: Maximum iterations (200) reached and the optimization hasn't converged yet.\n",
            "  warnings.warn(\n"
          ]
        },
        {
          "output_type": "stream",
          "name": "stdout",
          "text": [
            "[CV 4/5] END alpha=0.1, hidden_layer_sizes=(50,);, score=0.605 total time=   0.8s\n"
          ]
        },
        {
          "output_type": "stream",
          "name": "stderr",
          "text": [
            "/usr/local/lib/python3.9/dist-packages/sklearn/neural_network/_multilayer_perceptron.py:686: ConvergenceWarning: Stochastic Optimizer: Maximum iterations (200) reached and the optimization hasn't converged yet.\n",
            "  warnings.warn(\n"
          ]
        },
        {
          "output_type": "stream",
          "name": "stdout",
          "text": [
            "[CV 5/5] END alpha=0.1, hidden_layer_sizes=(50,);, score=0.882 total time=   0.8s\n"
          ]
        },
        {
          "output_type": "stream",
          "name": "stderr",
          "text": [
            "/usr/local/lib/python3.9/dist-packages/sklearn/neural_network/_multilayer_perceptron.py:686: ConvergenceWarning: Stochastic Optimizer: Maximum iterations (200) reached and the optimization hasn't converged yet.\n",
            "  warnings.warn(\n"
          ]
        },
        {
          "output_type": "stream",
          "name": "stdout",
          "text": [
            "[CV 1/5] END .alpha=1, hidden_layer_sizes=(10,);, score=0.797 total time=   0.4s\n"
          ]
        },
        {
          "output_type": "stream",
          "name": "stderr",
          "text": [
            "/usr/local/lib/python3.9/dist-packages/sklearn/neural_network/_multilayer_perceptron.py:686: ConvergenceWarning: Stochastic Optimizer: Maximum iterations (200) reached and the optimization hasn't converged yet.\n",
            "  warnings.warn(\n"
          ]
        },
        {
          "output_type": "stream",
          "name": "stdout",
          "text": [
            "[CV 2/5] END .alpha=1, hidden_layer_sizes=(10,);, score=0.739 total time=   0.4s\n"
          ]
        },
        {
          "output_type": "stream",
          "name": "stderr",
          "text": [
            "/usr/local/lib/python3.9/dist-packages/sklearn/neural_network/_multilayer_perceptron.py:686: ConvergenceWarning: Stochastic Optimizer: Maximum iterations (200) reached and the optimization hasn't converged yet.\n",
            "  warnings.warn(\n"
          ]
        },
        {
          "output_type": "stream",
          "name": "stdout",
          "text": [
            "[CV 3/5] END .alpha=1, hidden_layer_sizes=(10,);, score=0.546 total time=   0.3s\n"
          ]
        },
        {
          "output_type": "stream",
          "name": "stderr",
          "text": [
            "/usr/local/lib/python3.9/dist-packages/sklearn/neural_network/_multilayer_perceptron.py:686: ConvergenceWarning: Stochastic Optimizer: Maximum iterations (200) reached and the optimization hasn't converged yet.\n",
            "  warnings.warn(\n"
          ]
        },
        {
          "output_type": "stream",
          "name": "stdout",
          "text": [
            "[CV 4/5] END .alpha=1, hidden_layer_sizes=(10,);, score=0.658 total time=   0.4s\n"
          ]
        },
        {
          "output_type": "stream",
          "name": "stderr",
          "text": [
            "/usr/local/lib/python3.9/dist-packages/sklearn/neural_network/_multilayer_perceptron.py:686: ConvergenceWarning: Stochastic Optimizer: Maximum iterations (200) reached and the optimization hasn't converged yet.\n",
            "  warnings.warn(\n"
          ]
        },
        {
          "output_type": "stream",
          "name": "stdout",
          "text": [
            "[CV 5/5] END .alpha=1, hidden_layer_sizes=(10,);, score=0.855 total time=   0.4s\n"
          ]
        },
        {
          "output_type": "stream",
          "name": "stderr",
          "text": [
            "/usr/local/lib/python3.9/dist-packages/sklearn/neural_network/_multilayer_perceptron.py:686: ConvergenceWarning: Stochastic Optimizer: Maximum iterations (200) reached and the optimization hasn't converged yet.\n",
            "  warnings.warn(\n"
          ]
        },
        {
          "output_type": "stream",
          "name": "stdout",
          "text": [
            "[CV 1/5] END .alpha=1, hidden_layer_sizes=(20,);, score=0.850 total time=   1.5s\n"
          ]
        },
        {
          "output_type": "stream",
          "name": "stderr",
          "text": [
            "/usr/local/lib/python3.9/dist-packages/sklearn/neural_network/_multilayer_perceptron.py:686: ConvergenceWarning: Stochastic Optimizer: Maximum iterations (200) reached and the optimization hasn't converged yet.\n",
            "  warnings.warn(\n"
          ]
        },
        {
          "output_type": "stream",
          "name": "stdout",
          "text": [
            "[CV 2/5] END .alpha=1, hidden_layer_sizes=(20,);, score=0.778 total time=   1.3s\n"
          ]
        },
        {
          "output_type": "stream",
          "name": "stderr",
          "text": [
            "/usr/local/lib/python3.9/dist-packages/sklearn/neural_network/_multilayer_perceptron.py:686: ConvergenceWarning: Stochastic Optimizer: Maximum iterations (200) reached and the optimization hasn't converged yet.\n",
            "  warnings.warn(\n"
          ]
        },
        {
          "output_type": "stream",
          "name": "stdout",
          "text": [
            "[CV 3/5] END .alpha=1, hidden_layer_sizes=(20,);, score=0.651 total time=   1.5s\n"
          ]
        },
        {
          "output_type": "stream",
          "name": "stderr",
          "text": [
            "/usr/local/lib/python3.9/dist-packages/sklearn/neural_network/_multilayer_perceptron.py:686: ConvergenceWarning: Stochastic Optimizer: Maximum iterations (200) reached and the optimization hasn't converged yet.\n",
            "  warnings.warn(\n"
          ]
        },
        {
          "output_type": "stream",
          "name": "stdout",
          "text": [
            "[CV 4/5] END .alpha=1, hidden_layer_sizes=(20,);, score=0.645 total time=   1.9s\n"
          ]
        },
        {
          "output_type": "stream",
          "name": "stderr",
          "text": [
            "/usr/local/lib/python3.9/dist-packages/sklearn/neural_network/_multilayer_perceptron.py:686: ConvergenceWarning: Stochastic Optimizer: Maximum iterations (200) reached and the optimization hasn't converged yet.\n",
            "  warnings.warn(\n"
          ]
        },
        {
          "output_type": "stream",
          "name": "stdout",
          "text": [
            "[CV 5/5] END .alpha=1, hidden_layer_sizes=(20,);, score=0.875 total time=   1.9s\n"
          ]
        },
        {
          "output_type": "stream",
          "name": "stderr",
          "text": [
            "/usr/local/lib/python3.9/dist-packages/sklearn/neural_network/_multilayer_perceptron.py:686: ConvergenceWarning: Stochastic Optimizer: Maximum iterations (200) reached and the optimization hasn't converged yet.\n",
            "  warnings.warn(\n"
          ]
        },
        {
          "output_type": "stream",
          "name": "stdout",
          "text": [
            "[CV 1/5] END .alpha=1, hidden_layer_sizes=(30,);, score=0.843 total time=   2.4s\n"
          ]
        },
        {
          "output_type": "stream",
          "name": "stderr",
          "text": [
            "/usr/local/lib/python3.9/dist-packages/sklearn/neural_network/_multilayer_perceptron.py:686: ConvergenceWarning: Stochastic Optimizer: Maximum iterations (200) reached and the optimization hasn't converged yet.\n",
            "  warnings.warn(\n"
          ]
        },
        {
          "output_type": "stream",
          "name": "stdout",
          "text": [
            "[CV 2/5] END .alpha=1, hidden_layer_sizes=(30,);, score=0.797 total time=   1.7s\n"
          ]
        },
        {
          "output_type": "stream",
          "name": "stderr",
          "text": [
            "/usr/local/lib/python3.9/dist-packages/sklearn/neural_network/_multilayer_perceptron.py:686: ConvergenceWarning: Stochastic Optimizer: Maximum iterations (200) reached and the optimization hasn't converged yet.\n",
            "  warnings.warn(\n"
          ]
        },
        {
          "output_type": "stream",
          "name": "stdout",
          "text": [
            "[CV 3/5] END .alpha=1, hidden_layer_sizes=(30,);, score=0.625 total time=   1.5s\n"
          ]
        },
        {
          "output_type": "stream",
          "name": "stderr",
          "text": [
            "/usr/local/lib/python3.9/dist-packages/sklearn/neural_network/_multilayer_perceptron.py:686: ConvergenceWarning: Stochastic Optimizer: Maximum iterations (200) reached and the optimization hasn't converged yet.\n",
            "  warnings.warn(\n"
          ]
        },
        {
          "output_type": "stream",
          "name": "stdout",
          "text": [
            "[CV 4/5] END .alpha=1, hidden_layer_sizes=(30,);, score=0.697 total time=   2.2s\n"
          ]
        },
        {
          "output_type": "stream",
          "name": "stderr",
          "text": [
            "/usr/local/lib/python3.9/dist-packages/sklearn/neural_network/_multilayer_perceptron.py:686: ConvergenceWarning: Stochastic Optimizer: Maximum iterations (200) reached and the optimization hasn't converged yet.\n",
            "  warnings.warn(\n"
          ]
        },
        {
          "output_type": "stream",
          "name": "stdout",
          "text": [
            "[CV 5/5] END .alpha=1, hidden_layer_sizes=(30,);, score=0.868 total time=   3.1s\n"
          ]
        },
        {
          "output_type": "stream",
          "name": "stderr",
          "text": [
            "/usr/local/lib/python3.9/dist-packages/sklearn/neural_network/_multilayer_perceptron.py:686: ConvergenceWarning: Stochastic Optimizer: Maximum iterations (200) reached and the optimization hasn't converged yet.\n",
            "  warnings.warn(\n"
          ]
        },
        {
          "output_type": "stream",
          "name": "stdout",
          "text": [
            "[CV 1/5] END .alpha=1, hidden_layer_sizes=(40,);, score=0.817 total time=   2.3s\n"
          ]
        },
        {
          "output_type": "stream",
          "name": "stderr",
          "text": [
            "/usr/local/lib/python3.9/dist-packages/sklearn/neural_network/_multilayer_perceptron.py:686: ConvergenceWarning: Stochastic Optimizer: Maximum iterations (200) reached and the optimization hasn't converged yet.\n",
            "  warnings.warn(\n"
          ]
        },
        {
          "output_type": "stream",
          "name": "stdout",
          "text": [
            "[CV 2/5] END .alpha=1, hidden_layer_sizes=(40,);, score=0.784 total time=   1.8s\n"
          ]
        },
        {
          "output_type": "stream",
          "name": "stderr",
          "text": [
            "/usr/local/lib/python3.9/dist-packages/sklearn/neural_network/_multilayer_perceptron.py:686: ConvergenceWarning: Stochastic Optimizer: Maximum iterations (200) reached and the optimization hasn't converged yet.\n",
            "  warnings.warn(\n"
          ]
        },
        {
          "output_type": "stream",
          "name": "stdout",
          "text": [
            "[CV 3/5] END .alpha=1, hidden_layer_sizes=(40,);, score=0.599 total time=   1.9s\n"
          ]
        },
        {
          "output_type": "stream",
          "name": "stderr",
          "text": [
            "/usr/local/lib/python3.9/dist-packages/sklearn/neural_network/_multilayer_perceptron.py:686: ConvergenceWarning: Stochastic Optimizer: Maximum iterations (200) reached and the optimization hasn't converged yet.\n",
            "  warnings.warn(\n"
          ]
        },
        {
          "output_type": "stream",
          "name": "stdout",
          "text": [
            "[CV 4/5] END .alpha=1, hidden_layer_sizes=(40,);, score=0.684 total time=   2.2s\n"
          ]
        },
        {
          "output_type": "stream",
          "name": "stderr",
          "text": [
            "/usr/local/lib/python3.9/dist-packages/sklearn/neural_network/_multilayer_perceptron.py:686: ConvergenceWarning: Stochastic Optimizer: Maximum iterations (200) reached and the optimization hasn't converged yet.\n",
            "  warnings.warn(\n"
          ]
        },
        {
          "output_type": "stream",
          "name": "stdout",
          "text": [
            "[CV 5/5] END .alpha=1, hidden_layer_sizes=(40,);, score=0.862 total time=   1.7s\n"
          ]
        },
        {
          "output_type": "stream",
          "name": "stderr",
          "text": [
            "/usr/local/lib/python3.9/dist-packages/sklearn/neural_network/_multilayer_perceptron.py:686: ConvergenceWarning: Stochastic Optimizer: Maximum iterations (200) reached and the optimization hasn't converged yet.\n",
            "  warnings.warn(\n"
          ]
        },
        {
          "output_type": "stream",
          "name": "stdout",
          "text": [
            "[CV 1/5] END .alpha=1, hidden_layer_sizes=(50,);, score=0.837 total time=   0.9s\n"
          ]
        },
        {
          "output_type": "stream",
          "name": "stderr",
          "text": [
            "/usr/local/lib/python3.9/dist-packages/sklearn/neural_network/_multilayer_perceptron.py:686: ConvergenceWarning: Stochastic Optimizer: Maximum iterations (200) reached and the optimization hasn't converged yet.\n",
            "  warnings.warn(\n"
          ]
        },
        {
          "output_type": "stream",
          "name": "stdout",
          "text": [
            "[CV 2/5] END .alpha=1, hidden_layer_sizes=(50,);, score=0.778 total time=   1.8s\n"
          ]
        },
        {
          "output_type": "stream",
          "name": "stderr",
          "text": [
            "/usr/local/lib/python3.9/dist-packages/sklearn/neural_network/_multilayer_perceptron.py:686: ConvergenceWarning: Stochastic Optimizer: Maximum iterations (200) reached and the optimization hasn't converged yet.\n",
            "  warnings.warn(\n"
          ]
        },
        {
          "output_type": "stream",
          "name": "stdout",
          "text": [
            "[CV 3/5] END .alpha=1, hidden_layer_sizes=(50,);, score=0.645 total time=   1.9s\n"
          ]
        },
        {
          "output_type": "stream",
          "name": "stderr",
          "text": [
            "/usr/local/lib/python3.9/dist-packages/sklearn/neural_network/_multilayer_perceptron.py:686: ConvergenceWarning: Stochastic Optimizer: Maximum iterations (200) reached and the optimization hasn't converged yet.\n",
            "  warnings.warn(\n"
          ]
        },
        {
          "output_type": "stream",
          "name": "stdout",
          "text": [
            "[CV 4/5] END .alpha=1, hidden_layer_sizes=(50,);, score=0.671 total time=   1.5s\n"
          ]
        },
        {
          "output_type": "stream",
          "name": "stderr",
          "text": [
            "/usr/local/lib/python3.9/dist-packages/sklearn/neural_network/_multilayer_perceptron.py:686: ConvergenceWarning: Stochastic Optimizer: Maximum iterations (200) reached and the optimization hasn't converged yet.\n",
            "  warnings.warn(\n"
          ]
        },
        {
          "output_type": "stream",
          "name": "stdout",
          "text": [
            "[CV 5/5] END .alpha=1, hidden_layer_sizes=(50,);, score=0.875 total time=   0.8s\n"
          ]
        },
        {
          "output_type": "stream",
          "name": "stderr",
          "text": [
            "/usr/local/lib/python3.9/dist-packages/sklearn/neural_network/_multilayer_perceptron.py:686: ConvergenceWarning: Stochastic Optimizer: Maximum iterations (200) reached and the optimization hasn't converged yet.\n",
            "  warnings.warn(\n"
          ]
        },
        {
          "output_type": "stream",
          "name": "stdout",
          "text": [
            "[CV 1/5] END alpha=10, hidden_layer_sizes=(10,);, score=0.647 total time=   0.4s\n"
          ]
        },
        {
          "output_type": "stream",
          "name": "stderr",
          "text": [
            "/usr/local/lib/python3.9/dist-packages/sklearn/neural_network/_multilayer_perceptron.py:686: ConvergenceWarning: Stochastic Optimizer: Maximum iterations (200) reached and the optimization hasn't converged yet.\n",
            "  warnings.warn(\n"
          ]
        },
        {
          "output_type": "stream",
          "name": "stdout",
          "text": [
            "[CV 2/5] END alpha=10, hidden_layer_sizes=(10,);, score=0.686 total time=   0.3s\n"
          ]
        },
        {
          "output_type": "stream",
          "name": "stderr",
          "text": [
            "/usr/local/lib/python3.9/dist-packages/sklearn/neural_network/_multilayer_perceptron.py:686: ConvergenceWarning: Stochastic Optimizer: Maximum iterations (200) reached and the optimization hasn't converged yet.\n",
            "  warnings.warn(\n"
          ]
        },
        {
          "output_type": "stream",
          "name": "stdout",
          "text": [
            "[CV 3/5] END alpha=10, hidden_layer_sizes=(10,);, score=0.533 total time=   0.4s\n"
          ]
        },
        {
          "output_type": "stream",
          "name": "stderr",
          "text": [
            "/usr/local/lib/python3.9/dist-packages/sklearn/neural_network/_multilayer_perceptron.py:686: ConvergenceWarning: Stochastic Optimizer: Maximum iterations (200) reached and the optimization hasn't converged yet.\n",
            "  warnings.warn(\n"
          ]
        },
        {
          "output_type": "stream",
          "name": "stdout",
          "text": [
            "[CV 4/5] END alpha=10, hidden_layer_sizes=(10,);, score=0.625 total time=   0.4s\n"
          ]
        },
        {
          "output_type": "stream",
          "name": "stderr",
          "text": [
            "/usr/local/lib/python3.9/dist-packages/sklearn/neural_network/_multilayer_perceptron.py:686: ConvergenceWarning: Stochastic Optimizer: Maximum iterations (200) reached and the optimization hasn't converged yet.\n",
            "  warnings.warn(\n"
          ]
        },
        {
          "output_type": "stream",
          "name": "stdout",
          "text": [
            "[CV 5/5] END alpha=10, hidden_layer_sizes=(10,);, score=0.743 total time=   0.4s\n"
          ]
        },
        {
          "output_type": "stream",
          "name": "stderr",
          "text": [
            "/usr/local/lib/python3.9/dist-packages/sklearn/neural_network/_multilayer_perceptron.py:686: ConvergenceWarning: Stochastic Optimizer: Maximum iterations (200) reached and the optimization hasn't converged yet.\n",
            "  warnings.warn(\n"
          ]
        },
        {
          "output_type": "stream",
          "name": "stdout",
          "text": [
            "[CV 1/5] END alpha=10, hidden_layer_sizes=(20,);, score=0.686 total time=   0.6s\n",
            "[CV 2/5] END alpha=10, hidden_layer_sizes=(20,);, score=0.699 total time=   0.5s\n"
          ]
        },
        {
          "output_type": "stream",
          "name": "stderr",
          "text": [
            "/usr/local/lib/python3.9/dist-packages/sklearn/neural_network/_multilayer_perceptron.py:686: ConvergenceWarning: Stochastic Optimizer: Maximum iterations (200) reached and the optimization hasn't converged yet.\n",
            "  warnings.warn(\n"
          ]
        },
        {
          "output_type": "stream",
          "name": "stdout",
          "text": [
            "[CV 3/5] END alpha=10, hidden_layer_sizes=(20,);, score=0.539 total time=   0.6s\n"
          ]
        },
        {
          "output_type": "stream",
          "name": "stderr",
          "text": [
            "/usr/local/lib/python3.9/dist-packages/sklearn/neural_network/_multilayer_perceptron.py:686: ConvergenceWarning: Stochastic Optimizer: Maximum iterations (200) reached and the optimization hasn't converged yet.\n",
            "  warnings.warn(\n"
          ]
        },
        {
          "output_type": "stream",
          "name": "stdout",
          "text": [
            "[CV 4/5] END alpha=10, hidden_layer_sizes=(20,);, score=0.625 total time=   0.6s\n",
            "[CV 5/5] END alpha=10, hidden_layer_sizes=(20,);, score=0.783 total time=   0.6s\n",
            "[CV 1/5] END alpha=10, hidden_layer_sizes=(30,);, score=0.621 total time=   0.7s\n"
          ]
        },
        {
          "output_type": "stream",
          "name": "stderr",
          "text": [
            "/usr/local/lib/python3.9/dist-packages/sklearn/neural_network/_multilayer_perceptron.py:686: ConvergenceWarning: Stochastic Optimizer: Maximum iterations (200) reached and the optimization hasn't converged yet.\n",
            "  warnings.warn(\n"
          ]
        },
        {
          "output_type": "stream",
          "name": "stdout",
          "text": [
            "[CV 2/5] END alpha=10, hidden_layer_sizes=(30,);, score=0.706 total time=   0.6s\n",
            "[CV 3/5] END alpha=10, hidden_layer_sizes=(30,);, score=0.579 total time=   0.7s\n",
            "[CV 4/5] END alpha=10, hidden_layer_sizes=(30,);, score=0.645 total time=   0.6s\n",
            "[CV 5/5] END alpha=10, hidden_layer_sizes=(30,);, score=0.678 total time=   0.7s\n"
          ]
        },
        {
          "output_type": "stream",
          "name": "stderr",
          "text": [
            "/usr/local/lib/python3.9/dist-packages/sklearn/neural_network/_multilayer_perceptron.py:686: ConvergenceWarning: Stochastic Optimizer: Maximum iterations (200) reached and the optimization hasn't converged yet.\n",
            "  warnings.warn(\n"
          ]
        },
        {
          "output_type": "stream",
          "name": "stdout",
          "text": [
            "[CV 1/5] END alpha=10, hidden_layer_sizes=(40,);, score=0.634 total time=   0.7s\n"
          ]
        },
        {
          "output_type": "stream",
          "name": "stderr",
          "text": [
            "/usr/local/lib/python3.9/dist-packages/sklearn/neural_network/_multilayer_perceptron.py:686: ConvergenceWarning: Stochastic Optimizer: Maximum iterations (200) reached and the optimization hasn't converged yet.\n",
            "  warnings.warn(\n"
          ]
        },
        {
          "output_type": "stream",
          "name": "stdout",
          "text": [
            "[CV 2/5] END alpha=10, hidden_layer_sizes=(40,);, score=0.699 total time=   1.5s\n"
          ]
        },
        {
          "output_type": "stream",
          "name": "stderr",
          "text": [
            "/usr/local/lib/python3.9/dist-packages/sklearn/neural_network/_multilayer_perceptron.py:686: ConvergenceWarning: Stochastic Optimizer: Maximum iterations (200) reached and the optimization hasn't converged yet.\n",
            "  warnings.warn(\n"
          ]
        },
        {
          "output_type": "stream",
          "name": "stdout",
          "text": [
            "[CV 3/5] END alpha=10, hidden_layer_sizes=(40,);, score=0.612 total time=   3.2s\n",
            "[CV 4/5] END alpha=10, hidden_layer_sizes=(40,);, score=0.638 total time=   1.8s\n"
          ]
        },
        {
          "output_type": "stream",
          "name": "stderr",
          "text": [
            "/usr/local/lib/python3.9/dist-packages/sklearn/neural_network/_multilayer_perceptron.py:686: ConvergenceWarning: Stochastic Optimizer: Maximum iterations (200) reached and the optimization hasn't converged yet.\n",
            "  warnings.warn(\n"
          ]
        },
        {
          "output_type": "stream",
          "name": "stdout",
          "text": [
            "[CV 5/5] END alpha=10, hidden_layer_sizes=(40,);, score=0.697 total time=   1.6s\n",
            "[CV 1/5] END alpha=10, hidden_layer_sizes=(50,);, score=0.706 total time=   1.5s\n",
            "[CV 2/5] END alpha=10, hidden_layer_sizes=(50,);, score=0.686 total time=   1.6s\n",
            "[CV 3/5] END alpha=10, hidden_layer_sizes=(50,);, score=0.539 total time=   1.5s\n",
            "[CV 4/5] END alpha=10, hidden_layer_sizes=(50,);, score=0.638 total time=   0.7s\n",
            "[CV 5/5] END alpha=10, hidden_layer_sizes=(50,);, score=0.743 total time=   0.7s\n"
          ]
        },
        {
          "output_type": "stream",
          "name": "stderr",
          "text": [
            "/usr/local/lib/python3.9/dist-packages/sklearn/neural_network/_multilayer_perceptron.py:686: ConvergenceWarning: Stochastic Optimizer: Maximum iterations (200) reached and the optimization hasn't converged yet.\n",
            "  warnings.warn(\n"
          ]
        },
        {
          "output_type": "stream",
          "name": "stdout",
          "text": [
            "Fitting 5 folds for each of 25 candidates, totalling 125 fits\n"
          ]
        },
        {
          "output_type": "stream",
          "name": "stderr",
          "text": [
            "/usr/local/lib/python3.9/dist-packages/sklearn/neural_network/_multilayer_perceptron.py:686: ConvergenceWarning: Stochastic Optimizer: Maximum iterations (200) reached and the optimization hasn't converged yet.\n",
            "  warnings.warn(\n"
          ]
        },
        {
          "output_type": "stream",
          "name": "stdout",
          "text": [
            "[CV 1/5] END alpha=0.001, hidden_layer_sizes=(10,);, score=0.627 total time=   0.6s\n"
          ]
        },
        {
          "output_type": "stream",
          "name": "stderr",
          "text": [
            "/usr/local/lib/python3.9/dist-packages/sklearn/neural_network/_multilayer_perceptron.py:686: ConvergenceWarning: Stochastic Optimizer: Maximum iterations (200) reached and the optimization hasn't converged yet.\n",
            "  warnings.warn(\n"
          ]
        },
        {
          "output_type": "stream",
          "name": "stdout",
          "text": [
            "[CV 2/5] END alpha=0.001, hidden_layer_sizes=(10,);, score=0.804 total time=   0.6s\n"
          ]
        },
        {
          "output_type": "stream",
          "name": "stderr",
          "text": [
            "/usr/local/lib/python3.9/dist-packages/sklearn/neural_network/_multilayer_perceptron.py:686: ConvergenceWarning: Stochastic Optimizer: Maximum iterations (200) reached and the optimization hasn't converged yet.\n",
            "  warnings.warn(\n"
          ]
        },
        {
          "output_type": "stream",
          "name": "stdout",
          "text": [
            "[CV 3/5] END alpha=0.001, hidden_layer_sizes=(10,);, score=0.809 total time=   0.6s\n"
          ]
        },
        {
          "output_type": "stream",
          "name": "stderr",
          "text": [
            "/usr/local/lib/python3.9/dist-packages/sklearn/neural_network/_multilayer_perceptron.py:686: ConvergenceWarning: Stochastic Optimizer: Maximum iterations (200) reached and the optimization hasn't converged yet.\n",
            "  warnings.warn(\n"
          ]
        },
        {
          "output_type": "stream",
          "name": "stdout",
          "text": [
            "[CV 4/5] END alpha=0.001, hidden_layer_sizes=(10,);, score=0.750 total time=   0.6s\n"
          ]
        },
        {
          "output_type": "stream",
          "name": "stderr",
          "text": [
            "/usr/local/lib/python3.9/dist-packages/sklearn/neural_network/_multilayer_perceptron.py:686: ConvergenceWarning: Stochastic Optimizer: Maximum iterations (200) reached and the optimization hasn't converged yet.\n",
            "  warnings.warn(\n"
          ]
        },
        {
          "output_type": "stream",
          "name": "stdout",
          "text": [
            "[CV 5/5] END alpha=0.001, hidden_layer_sizes=(10,);, score=0.658 total time=   0.6s\n"
          ]
        },
        {
          "output_type": "stream",
          "name": "stderr",
          "text": [
            "/usr/local/lib/python3.9/dist-packages/sklearn/neural_network/_multilayer_perceptron.py:686: ConvergenceWarning: Stochastic Optimizer: Maximum iterations (200) reached and the optimization hasn't converged yet.\n",
            "  warnings.warn(\n"
          ]
        },
        {
          "output_type": "stream",
          "name": "stdout",
          "text": [
            "[CV 1/5] END alpha=0.001, hidden_layer_sizes=(20,);, score=0.614 total time=   1.4s\n"
          ]
        },
        {
          "output_type": "stream",
          "name": "stderr",
          "text": [
            "/usr/local/lib/python3.9/dist-packages/sklearn/neural_network/_multilayer_perceptron.py:686: ConvergenceWarning: Stochastic Optimizer: Maximum iterations (200) reached and the optimization hasn't converged yet.\n",
            "  warnings.warn(\n"
          ]
        },
        {
          "output_type": "stream",
          "name": "stdout",
          "text": [
            "[CV 2/5] END alpha=0.001, hidden_layer_sizes=(20,);, score=0.791 total time=   0.7s\n"
          ]
        },
        {
          "output_type": "stream",
          "name": "stderr",
          "text": [
            "/usr/local/lib/python3.9/dist-packages/sklearn/neural_network/_multilayer_perceptron.py:686: ConvergenceWarning: Stochastic Optimizer: Maximum iterations (200) reached and the optimization hasn't converged yet.\n",
            "  warnings.warn(\n"
          ]
        },
        {
          "output_type": "stream",
          "name": "stdout",
          "text": [
            "[CV 3/5] END alpha=0.001, hidden_layer_sizes=(20,);, score=0.829 total time=   0.6s\n"
          ]
        },
        {
          "output_type": "stream",
          "name": "stderr",
          "text": [
            "/usr/local/lib/python3.9/dist-packages/sklearn/neural_network/_multilayer_perceptron.py:686: ConvergenceWarning: Stochastic Optimizer: Maximum iterations (200) reached and the optimization hasn't converged yet.\n",
            "  warnings.warn(\n"
          ]
        },
        {
          "output_type": "stream",
          "name": "stdout",
          "text": [
            "[CV 4/5] END alpha=0.001, hidden_layer_sizes=(20,);, score=0.618 total time=   0.6s\n"
          ]
        },
        {
          "output_type": "stream",
          "name": "stderr",
          "text": [
            "/usr/local/lib/python3.9/dist-packages/sklearn/neural_network/_multilayer_perceptron.py:686: ConvergenceWarning: Stochastic Optimizer: Maximum iterations (200) reached and the optimization hasn't converged yet.\n",
            "  warnings.warn(\n"
          ]
        },
        {
          "output_type": "stream",
          "name": "stdout",
          "text": [
            "[CV 5/5] END alpha=0.001, hidden_layer_sizes=(20,);, score=0.566 total time=   0.7s\n"
          ]
        },
        {
          "output_type": "stream",
          "name": "stderr",
          "text": [
            "/usr/local/lib/python3.9/dist-packages/sklearn/neural_network/_multilayer_perceptron.py:686: ConvergenceWarning: Stochastic Optimizer: Maximum iterations (200) reached and the optimization hasn't converged yet.\n",
            "  warnings.warn(\n"
          ]
        },
        {
          "output_type": "stream",
          "name": "stdout",
          "text": [
            "[CV 1/5] END alpha=0.001, hidden_layer_sizes=(30,);, score=0.693 total time=   0.7s\n"
          ]
        },
        {
          "output_type": "stream",
          "name": "stderr",
          "text": [
            "/usr/local/lib/python3.9/dist-packages/sklearn/neural_network/_multilayer_perceptron.py:686: ConvergenceWarning: Stochastic Optimizer: Maximum iterations (200) reached and the optimization hasn't converged yet.\n",
            "  warnings.warn(\n"
          ]
        },
        {
          "output_type": "stream",
          "name": "stdout",
          "text": [
            "[CV 2/5] END alpha=0.001, hidden_layer_sizes=(30,);, score=0.837 total time=   0.7s\n"
          ]
        },
        {
          "output_type": "stream",
          "name": "stderr",
          "text": [
            "/usr/local/lib/python3.9/dist-packages/sklearn/neural_network/_multilayer_perceptron.py:686: ConvergenceWarning: Stochastic Optimizer: Maximum iterations (200) reached and the optimization hasn't converged yet.\n",
            "  warnings.warn(\n"
          ]
        },
        {
          "output_type": "stream",
          "name": "stdout",
          "text": [
            "[CV 3/5] END alpha=0.001, hidden_layer_sizes=(30,);, score=0.868 total time=   0.7s\n"
          ]
        },
        {
          "output_type": "stream",
          "name": "stderr",
          "text": [
            "/usr/local/lib/python3.9/dist-packages/sklearn/neural_network/_multilayer_perceptron.py:686: ConvergenceWarning: Stochastic Optimizer: Maximum iterations (200) reached and the optimization hasn't converged yet.\n",
            "  warnings.warn(\n"
          ]
        },
        {
          "output_type": "stream",
          "name": "stdout",
          "text": [
            "[CV 4/5] END alpha=0.001, hidden_layer_sizes=(30,);, score=0.763 total time=   0.7s\n"
          ]
        },
        {
          "output_type": "stream",
          "name": "stderr",
          "text": [
            "/usr/local/lib/python3.9/dist-packages/sklearn/neural_network/_multilayer_perceptron.py:686: ConvergenceWarning: Stochastic Optimizer: Maximum iterations (200) reached and the optimization hasn't converged yet.\n",
            "  warnings.warn(\n"
          ]
        },
        {
          "output_type": "stream",
          "name": "stdout",
          "text": [
            "[CV 5/5] END alpha=0.001, hidden_layer_sizes=(30,);, score=0.559 total time=   0.7s\n"
          ]
        },
        {
          "output_type": "stream",
          "name": "stderr",
          "text": [
            "/usr/local/lib/python3.9/dist-packages/sklearn/neural_network/_multilayer_perceptron.py:686: ConvergenceWarning: Stochastic Optimizer: Maximum iterations (200) reached and the optimization hasn't converged yet.\n",
            "  warnings.warn(\n"
          ]
        },
        {
          "output_type": "stream",
          "name": "stdout",
          "text": [
            "[CV 1/5] END alpha=0.001, hidden_layer_sizes=(40,);, score=0.673 total time=   0.8s\n"
          ]
        },
        {
          "output_type": "stream",
          "name": "stderr",
          "text": [
            "/usr/local/lib/python3.9/dist-packages/sklearn/neural_network/_multilayer_perceptron.py:686: ConvergenceWarning: Stochastic Optimizer: Maximum iterations (200) reached and the optimization hasn't converged yet.\n",
            "  warnings.warn(\n"
          ]
        },
        {
          "output_type": "stream",
          "name": "stdout",
          "text": [
            "[CV 2/5] END alpha=0.001, hidden_layer_sizes=(40,);, score=0.771 total time=   0.8s\n"
          ]
        },
        {
          "output_type": "stream",
          "name": "stderr",
          "text": [
            "/usr/local/lib/python3.9/dist-packages/sklearn/neural_network/_multilayer_perceptron.py:686: ConvergenceWarning: Stochastic Optimizer: Maximum iterations (200) reached and the optimization hasn't converged yet.\n",
            "  warnings.warn(\n"
          ]
        },
        {
          "output_type": "stream",
          "name": "stdout",
          "text": [
            "[CV 3/5] END alpha=0.001, hidden_layer_sizes=(40,);, score=0.776 total time=   0.7s\n"
          ]
        },
        {
          "output_type": "stream",
          "name": "stderr",
          "text": [
            "/usr/local/lib/python3.9/dist-packages/sklearn/neural_network/_multilayer_perceptron.py:686: ConvergenceWarning: Stochastic Optimizer: Maximum iterations (200) reached and the optimization hasn't converged yet.\n",
            "  warnings.warn(\n"
          ]
        },
        {
          "output_type": "stream",
          "name": "stdout",
          "text": [
            "[CV 4/5] END alpha=0.001, hidden_layer_sizes=(40,);, score=0.711 total time=   0.8s\n"
          ]
        },
        {
          "output_type": "stream",
          "name": "stderr",
          "text": [
            "/usr/local/lib/python3.9/dist-packages/sklearn/neural_network/_multilayer_perceptron.py:686: ConvergenceWarning: Stochastic Optimizer: Maximum iterations (200) reached and the optimization hasn't converged yet.\n",
            "  warnings.warn(\n"
          ]
        },
        {
          "output_type": "stream",
          "name": "stdout",
          "text": [
            "[CV 5/5] END alpha=0.001, hidden_layer_sizes=(40,);, score=0.572 total time=   0.8s\n"
          ]
        },
        {
          "output_type": "stream",
          "name": "stderr",
          "text": [
            "/usr/local/lib/python3.9/dist-packages/sklearn/neural_network/_multilayer_perceptron.py:686: ConvergenceWarning: Stochastic Optimizer: Maximum iterations (200) reached and the optimization hasn't converged yet.\n",
            "  warnings.warn(\n"
          ]
        },
        {
          "output_type": "stream",
          "name": "stdout",
          "text": [
            "[CV 1/5] END alpha=0.001, hidden_layer_sizes=(50,);, score=0.680 total time=   1.8s\n"
          ]
        },
        {
          "output_type": "stream",
          "name": "stderr",
          "text": [
            "/usr/local/lib/python3.9/dist-packages/sklearn/neural_network/_multilayer_perceptron.py:686: ConvergenceWarning: Stochastic Optimizer: Maximum iterations (200) reached and the optimization hasn't converged yet.\n",
            "  warnings.warn(\n"
          ]
        },
        {
          "output_type": "stream",
          "name": "stdout",
          "text": [
            "[CV 2/5] END alpha=0.001, hidden_layer_sizes=(50,);, score=0.784 total time=   2.0s\n"
          ]
        },
        {
          "output_type": "stream",
          "name": "stderr",
          "text": [
            "/usr/local/lib/python3.9/dist-packages/sklearn/neural_network/_multilayer_perceptron.py:686: ConvergenceWarning: Stochastic Optimizer: Maximum iterations (200) reached and the optimization hasn't converged yet.\n",
            "  warnings.warn(\n"
          ]
        },
        {
          "output_type": "stream",
          "name": "stdout",
          "text": [
            "[CV 3/5] END alpha=0.001, hidden_layer_sizes=(50,);, score=0.842 total time=   1.6s\n"
          ]
        },
        {
          "output_type": "stream",
          "name": "stderr",
          "text": [
            "/usr/local/lib/python3.9/dist-packages/sklearn/neural_network/_multilayer_perceptron.py:686: ConvergenceWarning: Stochastic Optimizer: Maximum iterations (200) reached and the optimization hasn't converged yet.\n",
            "  warnings.warn(\n"
          ]
        },
        {
          "output_type": "stream",
          "name": "stdout",
          "text": [
            "[CV 4/5] END alpha=0.001, hidden_layer_sizes=(50,);, score=0.711 total time=   0.8s\n",
            "[CV 5/5] END alpha=0.001, hidden_layer_sizes=(50,);, score=0.645 total time=   0.8s\n"
          ]
        },
        {
          "output_type": "stream",
          "name": "stderr",
          "text": [
            "/usr/local/lib/python3.9/dist-packages/sklearn/neural_network/_multilayer_perceptron.py:686: ConvergenceWarning: Stochastic Optimizer: Maximum iterations (200) reached and the optimization hasn't converged yet.\n",
            "  warnings.warn(\n"
          ]
        },
        {
          "output_type": "stream",
          "name": "stdout",
          "text": [
            "[CV 1/5] END alpha=0.01, hidden_layer_sizes=(10,);, score=0.634 total time=   0.4s\n"
          ]
        },
        {
          "output_type": "stream",
          "name": "stderr",
          "text": [
            "/usr/local/lib/python3.9/dist-packages/sklearn/neural_network/_multilayer_perceptron.py:686: ConvergenceWarning: Stochastic Optimizer: Maximum iterations (200) reached and the optimization hasn't converged yet.\n",
            "  warnings.warn(\n"
          ]
        },
        {
          "output_type": "stream",
          "name": "stdout",
          "text": [
            "[CV 2/5] END alpha=0.01, hidden_layer_sizes=(10,);, score=0.804 total time=   0.4s\n"
          ]
        },
        {
          "output_type": "stream",
          "name": "stderr",
          "text": [
            "/usr/local/lib/python3.9/dist-packages/sklearn/neural_network/_multilayer_perceptron.py:686: ConvergenceWarning: Stochastic Optimizer: Maximum iterations (200) reached and the optimization hasn't converged yet.\n",
            "  warnings.warn(\n"
          ]
        },
        {
          "output_type": "stream",
          "name": "stdout",
          "text": [
            "[CV 3/5] END alpha=0.01, hidden_layer_sizes=(10,);, score=0.809 total time=   0.4s\n"
          ]
        },
        {
          "output_type": "stream",
          "name": "stderr",
          "text": [
            "/usr/local/lib/python3.9/dist-packages/sklearn/neural_network/_multilayer_perceptron.py:686: ConvergenceWarning: Stochastic Optimizer: Maximum iterations (200) reached and the optimization hasn't converged yet.\n",
            "  warnings.warn(\n"
          ]
        },
        {
          "output_type": "stream",
          "name": "stdout",
          "text": [
            "[CV 4/5] END alpha=0.01, hidden_layer_sizes=(10,);, score=0.750 total time=   0.4s\n"
          ]
        },
        {
          "output_type": "stream",
          "name": "stderr",
          "text": [
            "/usr/local/lib/python3.9/dist-packages/sklearn/neural_network/_multilayer_perceptron.py:686: ConvergenceWarning: Stochastic Optimizer: Maximum iterations (200) reached and the optimization hasn't converged yet.\n",
            "  warnings.warn(\n"
          ]
        },
        {
          "output_type": "stream",
          "name": "stdout",
          "text": [
            "[CV 5/5] END alpha=0.01, hidden_layer_sizes=(10,);, score=0.658 total time=   0.4s\n"
          ]
        },
        {
          "output_type": "stream",
          "name": "stderr",
          "text": [
            "/usr/local/lib/python3.9/dist-packages/sklearn/neural_network/_multilayer_perceptron.py:686: ConvergenceWarning: Stochastic Optimizer: Maximum iterations (200) reached and the optimization hasn't converged yet.\n",
            "  warnings.warn(\n"
          ]
        },
        {
          "output_type": "stream",
          "name": "stdout",
          "text": [
            "[CV 1/5] END alpha=0.01, hidden_layer_sizes=(20,);, score=0.614 total time=   0.6s\n"
          ]
        },
        {
          "output_type": "stream",
          "name": "stderr",
          "text": [
            "/usr/local/lib/python3.9/dist-packages/sklearn/neural_network/_multilayer_perceptron.py:686: ConvergenceWarning: Stochastic Optimizer: Maximum iterations (200) reached and the optimization hasn't converged yet.\n",
            "  warnings.warn(\n"
          ]
        },
        {
          "output_type": "stream",
          "name": "stdout",
          "text": [
            "[CV 2/5] END alpha=0.01, hidden_layer_sizes=(20,);, score=0.791 total time=   0.6s\n"
          ]
        },
        {
          "output_type": "stream",
          "name": "stderr",
          "text": [
            "/usr/local/lib/python3.9/dist-packages/sklearn/neural_network/_multilayer_perceptron.py:686: ConvergenceWarning: Stochastic Optimizer: Maximum iterations (200) reached and the optimization hasn't converged yet.\n",
            "  warnings.warn(\n"
          ]
        },
        {
          "output_type": "stream",
          "name": "stdout",
          "text": [
            "[CV 3/5] END alpha=0.01, hidden_layer_sizes=(20,);, score=0.829 total time=   0.6s\n"
          ]
        },
        {
          "output_type": "stream",
          "name": "stderr",
          "text": [
            "/usr/local/lib/python3.9/dist-packages/sklearn/neural_network/_multilayer_perceptron.py:686: ConvergenceWarning: Stochastic Optimizer: Maximum iterations (200) reached and the optimization hasn't converged yet.\n",
            "  warnings.warn(\n"
          ]
        },
        {
          "output_type": "stream",
          "name": "stdout",
          "text": [
            "[CV 4/5] END alpha=0.01, hidden_layer_sizes=(20,);, score=0.618 total time=   0.6s\n"
          ]
        },
        {
          "output_type": "stream",
          "name": "stderr",
          "text": [
            "/usr/local/lib/python3.9/dist-packages/sklearn/neural_network/_multilayer_perceptron.py:686: ConvergenceWarning: Stochastic Optimizer: Maximum iterations (200) reached and the optimization hasn't converged yet.\n",
            "  warnings.warn(\n"
          ]
        },
        {
          "output_type": "stream",
          "name": "stdout",
          "text": [
            "[CV 5/5] END alpha=0.01, hidden_layer_sizes=(20,);, score=0.566 total time=   0.6s\n"
          ]
        },
        {
          "output_type": "stream",
          "name": "stderr",
          "text": [
            "/usr/local/lib/python3.9/dist-packages/sklearn/neural_network/_multilayer_perceptron.py:686: ConvergenceWarning: Stochastic Optimizer: Maximum iterations (200) reached and the optimization hasn't converged yet.\n",
            "  warnings.warn(\n"
          ]
        },
        {
          "output_type": "stream",
          "name": "stdout",
          "text": [
            "[CV 1/5] END alpha=0.01, hidden_layer_sizes=(30,);, score=0.693 total time=   0.7s\n"
          ]
        },
        {
          "output_type": "stream",
          "name": "stderr",
          "text": [
            "/usr/local/lib/python3.9/dist-packages/sklearn/neural_network/_multilayer_perceptron.py:686: ConvergenceWarning: Stochastic Optimizer: Maximum iterations (200) reached and the optimization hasn't converged yet.\n",
            "  warnings.warn(\n"
          ]
        },
        {
          "output_type": "stream",
          "name": "stdout",
          "text": [
            "[CV 2/5] END alpha=0.01, hidden_layer_sizes=(30,);, score=0.837 total time=   0.7s\n"
          ]
        },
        {
          "output_type": "stream",
          "name": "stderr",
          "text": [
            "/usr/local/lib/python3.9/dist-packages/sklearn/neural_network/_multilayer_perceptron.py:686: ConvergenceWarning: Stochastic Optimizer: Maximum iterations (200) reached and the optimization hasn't converged yet.\n",
            "  warnings.warn(\n"
          ]
        },
        {
          "output_type": "stream",
          "name": "stdout",
          "text": [
            "[CV 3/5] END alpha=0.01, hidden_layer_sizes=(30,);, score=0.868 total time=   0.7s\n"
          ]
        },
        {
          "output_type": "stream",
          "name": "stderr",
          "text": [
            "/usr/local/lib/python3.9/dist-packages/sklearn/neural_network/_multilayer_perceptron.py:686: ConvergenceWarning: Stochastic Optimizer: Maximum iterations (200) reached and the optimization hasn't converged yet.\n",
            "  warnings.warn(\n"
          ]
        },
        {
          "output_type": "stream",
          "name": "stdout",
          "text": [
            "[CV 4/5] END alpha=0.01, hidden_layer_sizes=(30,);, score=0.763 total time=   0.7s\n"
          ]
        },
        {
          "output_type": "stream",
          "name": "stderr",
          "text": [
            "/usr/local/lib/python3.9/dist-packages/sklearn/neural_network/_multilayer_perceptron.py:686: ConvergenceWarning: Stochastic Optimizer: Maximum iterations (200) reached and the optimization hasn't converged yet.\n",
            "  warnings.warn(\n"
          ]
        },
        {
          "output_type": "stream",
          "name": "stdout",
          "text": [
            "[CV 5/5] END alpha=0.01, hidden_layer_sizes=(30,);, score=0.559 total time=   1.3s\n"
          ]
        },
        {
          "output_type": "stream",
          "name": "stderr",
          "text": [
            "/usr/local/lib/python3.9/dist-packages/sklearn/neural_network/_multilayer_perceptron.py:686: ConvergenceWarning: Stochastic Optimizer: Maximum iterations (200) reached and the optimization hasn't converged yet.\n",
            "  warnings.warn(\n"
          ]
        },
        {
          "output_type": "stream",
          "name": "stdout",
          "text": [
            "[CV 1/5] END alpha=0.01, hidden_layer_sizes=(40,);, score=0.673 total time=   1.6s\n"
          ]
        },
        {
          "output_type": "stream",
          "name": "stderr",
          "text": [
            "/usr/local/lib/python3.9/dist-packages/sklearn/neural_network/_multilayer_perceptron.py:686: ConvergenceWarning: Stochastic Optimizer: Maximum iterations (200) reached and the optimization hasn't converged yet.\n",
            "  warnings.warn(\n"
          ]
        },
        {
          "output_type": "stream",
          "name": "stdout",
          "text": [
            "[CV 2/5] END alpha=0.01, hidden_layer_sizes=(40,);, score=0.771 total time=   1.8s\n"
          ]
        },
        {
          "output_type": "stream",
          "name": "stderr",
          "text": [
            "/usr/local/lib/python3.9/dist-packages/sklearn/neural_network/_multilayer_perceptron.py:686: ConvergenceWarning: Stochastic Optimizer: Maximum iterations (200) reached and the optimization hasn't converged yet.\n",
            "  warnings.warn(\n"
          ]
        },
        {
          "output_type": "stream",
          "name": "stdout",
          "text": [
            "[CV 3/5] END alpha=0.01, hidden_layer_sizes=(40,);, score=0.776 total time=   1.0s\n"
          ]
        },
        {
          "output_type": "stream",
          "name": "stderr",
          "text": [
            "/usr/local/lib/python3.9/dist-packages/sklearn/neural_network/_multilayer_perceptron.py:686: ConvergenceWarning: Stochastic Optimizer: Maximum iterations (200) reached and the optimization hasn't converged yet.\n",
            "  warnings.warn(\n"
          ]
        },
        {
          "output_type": "stream",
          "name": "stdout",
          "text": [
            "[CV 4/5] END alpha=0.01, hidden_layer_sizes=(40,);, score=0.711 total time=   0.7s\n"
          ]
        },
        {
          "output_type": "stream",
          "name": "stderr",
          "text": [
            "/usr/local/lib/python3.9/dist-packages/sklearn/neural_network/_multilayer_perceptron.py:686: ConvergenceWarning: Stochastic Optimizer: Maximum iterations (200) reached and the optimization hasn't converged yet.\n",
            "  warnings.warn(\n"
          ]
        },
        {
          "output_type": "stream",
          "name": "stdout",
          "text": [
            "[CV 5/5] END alpha=0.01, hidden_layer_sizes=(40,);, score=0.572 total time=   0.7s\n"
          ]
        },
        {
          "output_type": "stream",
          "name": "stderr",
          "text": [
            "/usr/local/lib/python3.9/dist-packages/sklearn/neural_network/_multilayer_perceptron.py:686: ConvergenceWarning: Stochastic Optimizer: Maximum iterations (200) reached and the optimization hasn't converged yet.\n",
            "  warnings.warn(\n"
          ]
        },
        {
          "output_type": "stream",
          "name": "stdout",
          "text": [
            "[CV 1/5] END alpha=0.01, hidden_layer_sizes=(50,);, score=0.680 total time=   0.8s\n"
          ]
        },
        {
          "output_type": "stream",
          "name": "stderr",
          "text": [
            "/usr/local/lib/python3.9/dist-packages/sklearn/neural_network/_multilayer_perceptron.py:686: ConvergenceWarning: Stochastic Optimizer: Maximum iterations (200) reached and the optimization hasn't converged yet.\n",
            "  warnings.warn(\n"
          ]
        },
        {
          "output_type": "stream",
          "name": "stdout",
          "text": [
            "[CV 2/5] END alpha=0.01, hidden_layer_sizes=(50,);, score=0.784 total time=   0.8s\n"
          ]
        },
        {
          "output_type": "stream",
          "name": "stderr",
          "text": [
            "/usr/local/lib/python3.9/dist-packages/sklearn/neural_network/_multilayer_perceptron.py:686: ConvergenceWarning: Stochastic Optimizer: Maximum iterations (200) reached and the optimization hasn't converged yet.\n",
            "  warnings.warn(\n"
          ]
        },
        {
          "output_type": "stream",
          "name": "stdout",
          "text": [
            "[CV 3/5] END alpha=0.01, hidden_layer_sizes=(50,);, score=0.842 total time=   0.8s\n"
          ]
        },
        {
          "output_type": "stream",
          "name": "stderr",
          "text": [
            "/usr/local/lib/python3.9/dist-packages/sklearn/neural_network/_multilayer_perceptron.py:686: ConvergenceWarning: Stochastic Optimizer: Maximum iterations (200) reached and the optimization hasn't converged yet.\n",
            "  warnings.warn(\n"
          ]
        },
        {
          "output_type": "stream",
          "name": "stdout",
          "text": [
            "[CV 4/5] END alpha=0.01, hidden_layer_sizes=(50,);, score=0.717 total time=   0.8s\n",
            "[CV 5/5] END alpha=0.01, hidden_layer_sizes=(50,);, score=0.645 total time=   0.8s\n"
          ]
        },
        {
          "output_type": "stream",
          "name": "stderr",
          "text": [
            "/usr/local/lib/python3.9/dist-packages/sklearn/neural_network/_multilayer_perceptron.py:686: ConvergenceWarning: Stochastic Optimizer: Maximum iterations (200) reached and the optimization hasn't converged yet.\n",
            "  warnings.warn(\n"
          ]
        },
        {
          "output_type": "stream",
          "name": "stdout",
          "text": [
            "[CV 1/5] END alpha=0.1, hidden_layer_sizes=(10,);, score=0.634 total time=   0.4s\n"
          ]
        },
        {
          "output_type": "stream",
          "name": "stderr",
          "text": [
            "/usr/local/lib/python3.9/dist-packages/sklearn/neural_network/_multilayer_perceptron.py:686: ConvergenceWarning: Stochastic Optimizer: Maximum iterations (200) reached and the optimization hasn't converged yet.\n",
            "  warnings.warn(\n"
          ]
        },
        {
          "output_type": "stream",
          "name": "stdout",
          "text": [
            "[CV 2/5] END alpha=0.1, hidden_layer_sizes=(10,);, score=0.797 total time=   0.4s\n"
          ]
        },
        {
          "output_type": "stream",
          "name": "stderr",
          "text": [
            "/usr/local/lib/python3.9/dist-packages/sklearn/neural_network/_multilayer_perceptron.py:686: ConvergenceWarning: Stochastic Optimizer: Maximum iterations (200) reached and the optimization hasn't converged yet.\n",
            "  warnings.warn(\n"
          ]
        },
        {
          "output_type": "stream",
          "name": "stdout",
          "text": [
            "[CV 3/5] END alpha=0.1, hidden_layer_sizes=(10,);, score=0.809 total time=   0.4s\n"
          ]
        },
        {
          "output_type": "stream",
          "name": "stderr",
          "text": [
            "/usr/local/lib/python3.9/dist-packages/sklearn/neural_network/_multilayer_perceptron.py:686: ConvergenceWarning: Stochastic Optimizer: Maximum iterations (200) reached and the optimization hasn't converged yet.\n",
            "  warnings.warn(\n"
          ]
        },
        {
          "output_type": "stream",
          "name": "stdout",
          "text": [
            "[CV 4/5] END alpha=0.1, hidden_layer_sizes=(10,);, score=0.743 total time=   0.4s\n"
          ]
        },
        {
          "output_type": "stream",
          "name": "stderr",
          "text": [
            "/usr/local/lib/python3.9/dist-packages/sklearn/neural_network/_multilayer_perceptron.py:686: ConvergenceWarning: Stochastic Optimizer: Maximum iterations (200) reached and the optimization hasn't converged yet.\n",
            "  warnings.warn(\n"
          ]
        },
        {
          "output_type": "stream",
          "name": "stdout",
          "text": [
            "[CV 5/5] END alpha=0.1, hidden_layer_sizes=(10,);, score=0.651 total time=   0.4s\n"
          ]
        },
        {
          "output_type": "stream",
          "name": "stderr",
          "text": [
            "/usr/local/lib/python3.9/dist-packages/sklearn/neural_network/_multilayer_perceptron.py:686: ConvergenceWarning: Stochastic Optimizer: Maximum iterations (200) reached and the optimization hasn't converged yet.\n",
            "  warnings.warn(\n"
          ]
        },
        {
          "output_type": "stream",
          "name": "stdout",
          "text": [
            "[CV 1/5] END alpha=0.1, hidden_layer_sizes=(20,);, score=0.621 total time=   0.6s\n"
          ]
        },
        {
          "output_type": "stream",
          "name": "stderr",
          "text": [
            "/usr/local/lib/python3.9/dist-packages/sklearn/neural_network/_multilayer_perceptron.py:686: ConvergenceWarning: Stochastic Optimizer: Maximum iterations (200) reached and the optimization hasn't converged yet.\n",
            "  warnings.warn(\n"
          ]
        },
        {
          "output_type": "stream",
          "name": "stdout",
          "text": [
            "[CV 2/5] END alpha=0.1, hidden_layer_sizes=(20,);, score=0.797 total time=   0.6s\n"
          ]
        },
        {
          "output_type": "stream",
          "name": "stderr",
          "text": [
            "/usr/local/lib/python3.9/dist-packages/sklearn/neural_network/_multilayer_perceptron.py:686: ConvergenceWarning: Stochastic Optimizer: Maximum iterations (200) reached and the optimization hasn't converged yet.\n",
            "  warnings.warn(\n"
          ]
        },
        {
          "output_type": "stream",
          "name": "stdout",
          "text": [
            "[CV 3/5] END alpha=0.1, hidden_layer_sizes=(20,);, score=0.836 total time=   0.6s\n"
          ]
        },
        {
          "output_type": "stream",
          "name": "stderr",
          "text": [
            "/usr/local/lib/python3.9/dist-packages/sklearn/neural_network/_multilayer_perceptron.py:686: ConvergenceWarning: Stochastic Optimizer: Maximum iterations (200) reached and the optimization hasn't converged yet.\n",
            "  warnings.warn(\n"
          ]
        },
        {
          "output_type": "stream",
          "name": "stdout",
          "text": [
            "[CV 4/5] END alpha=0.1, hidden_layer_sizes=(20,);, score=0.618 total time=   1.3s\n"
          ]
        },
        {
          "output_type": "stream",
          "name": "stderr",
          "text": [
            "/usr/local/lib/python3.9/dist-packages/sklearn/neural_network/_multilayer_perceptron.py:686: ConvergenceWarning: Stochastic Optimizer: Maximum iterations (200) reached and the optimization hasn't converged yet.\n",
            "  warnings.warn(\n"
          ]
        },
        {
          "output_type": "stream",
          "name": "stdout",
          "text": [
            "[CV 5/5] END alpha=0.1, hidden_layer_sizes=(20,);, score=0.553 total time=   1.4s\n"
          ]
        },
        {
          "output_type": "stream",
          "name": "stderr",
          "text": [
            "/usr/local/lib/python3.9/dist-packages/sklearn/neural_network/_multilayer_perceptron.py:686: ConvergenceWarning: Stochastic Optimizer: Maximum iterations (200) reached and the optimization hasn't converged yet.\n",
            "  warnings.warn(\n"
          ]
        },
        {
          "output_type": "stream",
          "name": "stdout",
          "text": [
            "[CV 1/5] END alpha=0.1, hidden_layer_sizes=(30,);, score=0.699 total time=   1.6s\n"
          ]
        },
        {
          "output_type": "stream",
          "name": "stderr",
          "text": [
            "/usr/local/lib/python3.9/dist-packages/sklearn/neural_network/_multilayer_perceptron.py:686: ConvergenceWarning: Stochastic Optimizer: Maximum iterations (200) reached and the optimization hasn't converged yet.\n",
            "  warnings.warn(\n"
          ]
        },
        {
          "output_type": "stream",
          "name": "stdout",
          "text": [
            "[CV 2/5] END alpha=0.1, hidden_layer_sizes=(30,);, score=0.824 total time=   1.0s\n"
          ]
        },
        {
          "output_type": "stream",
          "name": "stderr",
          "text": [
            "/usr/local/lib/python3.9/dist-packages/sklearn/neural_network/_multilayer_perceptron.py:686: ConvergenceWarning: Stochastic Optimizer: Maximum iterations (200) reached and the optimization hasn't converged yet.\n",
            "  warnings.warn(\n"
          ]
        },
        {
          "output_type": "stream",
          "name": "stdout",
          "text": [
            "[CV 3/5] END alpha=0.1, hidden_layer_sizes=(30,);, score=0.868 total time=   0.7s\n"
          ]
        },
        {
          "output_type": "stream",
          "name": "stderr",
          "text": [
            "/usr/local/lib/python3.9/dist-packages/sklearn/neural_network/_multilayer_perceptron.py:686: ConvergenceWarning: Stochastic Optimizer: Maximum iterations (200) reached and the optimization hasn't converged yet.\n",
            "  warnings.warn(\n"
          ]
        },
        {
          "output_type": "stream",
          "name": "stdout",
          "text": [
            "[CV 4/5] END alpha=0.1, hidden_layer_sizes=(30,);, score=0.743 total time=   0.7s\n"
          ]
        },
        {
          "output_type": "stream",
          "name": "stderr",
          "text": [
            "/usr/local/lib/python3.9/dist-packages/sklearn/neural_network/_multilayer_perceptron.py:686: ConvergenceWarning: Stochastic Optimizer: Maximum iterations (200) reached and the optimization hasn't converged yet.\n",
            "  warnings.warn(\n"
          ]
        },
        {
          "output_type": "stream",
          "name": "stdout",
          "text": [
            "[CV 5/5] END alpha=0.1, hidden_layer_sizes=(30,);, score=0.553 total time=   0.7s\n"
          ]
        },
        {
          "output_type": "stream",
          "name": "stderr",
          "text": [
            "/usr/local/lib/python3.9/dist-packages/sklearn/neural_network/_multilayer_perceptron.py:686: ConvergenceWarning: Stochastic Optimizer: Maximum iterations (200) reached and the optimization hasn't converged yet.\n",
            "  warnings.warn(\n"
          ]
        },
        {
          "output_type": "stream",
          "name": "stdout",
          "text": [
            "[CV 1/5] END alpha=0.1, hidden_layer_sizes=(40,);, score=0.673 total time=   0.7s\n"
          ]
        },
        {
          "output_type": "stream",
          "name": "stderr",
          "text": [
            "/usr/local/lib/python3.9/dist-packages/sklearn/neural_network/_multilayer_perceptron.py:686: ConvergenceWarning: Stochastic Optimizer: Maximum iterations (200) reached and the optimization hasn't converged yet.\n",
            "  warnings.warn(\n"
          ]
        },
        {
          "output_type": "stream",
          "name": "stdout",
          "text": [
            "[CV 2/5] END alpha=0.1, hidden_layer_sizes=(40,);, score=0.778 total time=   0.7s\n"
          ]
        },
        {
          "output_type": "stream",
          "name": "stderr",
          "text": [
            "/usr/local/lib/python3.9/dist-packages/sklearn/neural_network/_multilayer_perceptron.py:686: ConvergenceWarning: Stochastic Optimizer: Maximum iterations (200) reached and the optimization hasn't converged yet.\n",
            "  warnings.warn(\n"
          ]
        },
        {
          "output_type": "stream",
          "name": "stdout",
          "text": [
            "[CV 3/5] END alpha=0.1, hidden_layer_sizes=(40,);, score=0.776 total time=   0.7s\n"
          ]
        },
        {
          "output_type": "stream",
          "name": "stderr",
          "text": [
            "/usr/local/lib/python3.9/dist-packages/sklearn/neural_network/_multilayer_perceptron.py:686: ConvergenceWarning: Stochastic Optimizer: Maximum iterations (200) reached and the optimization hasn't converged yet.\n",
            "  warnings.warn(\n"
          ]
        },
        {
          "output_type": "stream",
          "name": "stdout",
          "text": [
            "[CV 4/5] END alpha=0.1, hidden_layer_sizes=(40,);, score=0.711 total time=   0.8s\n"
          ]
        },
        {
          "output_type": "stream",
          "name": "stderr",
          "text": [
            "/usr/local/lib/python3.9/dist-packages/sklearn/neural_network/_multilayer_perceptron.py:686: ConvergenceWarning: Stochastic Optimizer: Maximum iterations (200) reached and the optimization hasn't converged yet.\n",
            "  warnings.warn(\n"
          ]
        },
        {
          "output_type": "stream",
          "name": "stdout",
          "text": [
            "[CV 5/5] END alpha=0.1, hidden_layer_sizes=(40,);, score=0.572 total time=   0.7s\n"
          ]
        },
        {
          "output_type": "stream",
          "name": "stderr",
          "text": [
            "/usr/local/lib/python3.9/dist-packages/sklearn/neural_network/_multilayer_perceptron.py:686: ConvergenceWarning: Stochastic Optimizer: Maximum iterations (200) reached and the optimization hasn't converged yet.\n",
            "  warnings.warn(\n"
          ]
        },
        {
          "output_type": "stream",
          "name": "stdout",
          "text": [
            "[CV 1/5] END alpha=0.1, hidden_layer_sizes=(50,);, score=0.667 total time=   0.8s\n"
          ]
        },
        {
          "output_type": "stream",
          "name": "stderr",
          "text": [
            "/usr/local/lib/python3.9/dist-packages/sklearn/neural_network/_multilayer_perceptron.py:686: ConvergenceWarning: Stochastic Optimizer: Maximum iterations (200) reached and the optimization hasn't converged yet.\n",
            "  warnings.warn(\n"
          ]
        },
        {
          "output_type": "stream",
          "name": "stdout",
          "text": [
            "[CV 2/5] END alpha=0.1, hidden_layer_sizes=(50,);, score=0.791 total time=   0.8s\n"
          ]
        },
        {
          "output_type": "stream",
          "name": "stderr",
          "text": [
            "/usr/local/lib/python3.9/dist-packages/sklearn/neural_network/_multilayer_perceptron.py:686: ConvergenceWarning: Stochastic Optimizer: Maximum iterations (200) reached and the optimization hasn't converged yet.\n",
            "  warnings.warn(\n"
          ]
        },
        {
          "output_type": "stream",
          "name": "stdout",
          "text": [
            "[CV 3/5] END alpha=0.1, hidden_layer_sizes=(50,);, score=0.822 total time=   0.8s\n"
          ]
        },
        {
          "output_type": "stream",
          "name": "stderr",
          "text": [
            "/usr/local/lib/python3.9/dist-packages/sklearn/neural_network/_multilayer_perceptron.py:686: ConvergenceWarning: Stochastic Optimizer: Maximum iterations (200) reached and the optimization hasn't converged yet.\n",
            "  warnings.warn(\n"
          ]
        },
        {
          "output_type": "stream",
          "name": "stdout",
          "text": [
            "[CV 4/5] END alpha=0.1, hidden_layer_sizes=(50,);, score=0.730 total time=   0.8s\n"
          ]
        },
        {
          "output_type": "stream",
          "name": "stderr",
          "text": [
            "/usr/local/lib/python3.9/dist-packages/sklearn/neural_network/_multilayer_perceptron.py:686: ConvergenceWarning: Stochastic Optimizer: Maximum iterations (200) reached and the optimization hasn't converged yet.\n",
            "  warnings.warn(\n"
          ]
        },
        {
          "output_type": "stream",
          "name": "stdout",
          "text": [
            "[CV 5/5] END alpha=0.1, hidden_layer_sizes=(50,);, score=0.632 total time=   1.3s\n"
          ]
        },
        {
          "output_type": "stream",
          "name": "stderr",
          "text": [
            "/usr/local/lib/python3.9/dist-packages/sklearn/neural_network/_multilayer_perceptron.py:686: ConvergenceWarning: Stochastic Optimizer: Maximum iterations (200) reached and the optimization hasn't converged yet.\n",
            "  warnings.warn(\n"
          ]
        },
        {
          "output_type": "stream",
          "name": "stdout",
          "text": [
            "[CV 1/5] END .alpha=1, hidden_layer_sizes=(10,);, score=0.647 total time=   0.7s\n"
          ]
        },
        {
          "output_type": "stream",
          "name": "stderr",
          "text": [
            "/usr/local/lib/python3.9/dist-packages/sklearn/neural_network/_multilayer_perceptron.py:686: ConvergenceWarning: Stochastic Optimizer: Maximum iterations (200) reached and the optimization hasn't converged yet.\n",
            "  warnings.warn(\n"
          ]
        },
        {
          "output_type": "stream",
          "name": "stdout",
          "text": [
            "[CV 2/5] END .alpha=1, hidden_layer_sizes=(10,);, score=0.817 total time=   0.6s\n"
          ]
        },
        {
          "output_type": "stream",
          "name": "stderr",
          "text": [
            "/usr/local/lib/python3.9/dist-packages/sklearn/neural_network/_multilayer_perceptron.py:686: ConvergenceWarning: Stochastic Optimizer: Maximum iterations (200) reached and the optimization hasn't converged yet.\n",
            "  warnings.warn(\n"
          ]
        },
        {
          "output_type": "stream",
          "name": "stdout",
          "text": [
            "[CV 3/5] END .alpha=1, hidden_layer_sizes=(10,);, score=0.822 total time=   0.6s\n"
          ]
        },
        {
          "output_type": "stream",
          "name": "stderr",
          "text": [
            "/usr/local/lib/python3.9/dist-packages/sklearn/neural_network/_multilayer_perceptron.py:686: ConvergenceWarning: Stochastic Optimizer: Maximum iterations (200) reached and the optimization hasn't converged yet.\n",
            "  warnings.warn(\n"
          ]
        },
        {
          "output_type": "stream",
          "name": "stdout",
          "text": [
            "[CV 4/5] END .alpha=1, hidden_layer_sizes=(10,);, score=0.717 total time=   0.6s\n"
          ]
        },
        {
          "output_type": "stream",
          "name": "stderr",
          "text": [
            "/usr/local/lib/python3.9/dist-packages/sklearn/neural_network/_multilayer_perceptron.py:686: ConvergenceWarning: Stochastic Optimizer: Maximum iterations (200) reached and the optimization hasn't converged yet.\n",
            "  warnings.warn(\n"
          ]
        },
        {
          "output_type": "stream",
          "name": "stdout",
          "text": [
            "[CV 5/5] END .alpha=1, hidden_layer_sizes=(10,);, score=0.671 total time=   0.6s\n"
          ]
        },
        {
          "output_type": "stream",
          "name": "stderr",
          "text": [
            "/usr/local/lib/python3.9/dist-packages/sklearn/neural_network/_multilayer_perceptron.py:686: ConvergenceWarning: Stochastic Optimizer: Maximum iterations (200) reached and the optimization hasn't converged yet.\n",
            "  warnings.warn(\n"
          ]
        },
        {
          "output_type": "stream",
          "name": "stdout",
          "text": [
            "[CV 1/5] END .alpha=1, hidden_layer_sizes=(20,);, score=0.614 total time=   0.9s\n"
          ]
        },
        {
          "output_type": "stream",
          "name": "stderr",
          "text": [
            "/usr/local/lib/python3.9/dist-packages/sklearn/neural_network/_multilayer_perceptron.py:686: ConvergenceWarning: Stochastic Optimizer: Maximum iterations (200) reached and the optimization hasn't converged yet.\n",
            "  warnings.warn(\n"
          ]
        },
        {
          "output_type": "stream",
          "name": "stdout",
          "text": [
            "[CV 2/5] END .alpha=1, hidden_layer_sizes=(20,);, score=0.837 total time=   0.6s\n"
          ]
        },
        {
          "output_type": "stream",
          "name": "stderr",
          "text": [
            "/usr/local/lib/python3.9/dist-packages/sklearn/neural_network/_multilayer_perceptron.py:686: ConvergenceWarning: Stochastic Optimizer: Maximum iterations (200) reached and the optimization hasn't converged yet.\n",
            "  warnings.warn(\n"
          ]
        },
        {
          "output_type": "stream",
          "name": "stdout",
          "text": [
            "[CV 3/5] END .alpha=1, hidden_layer_sizes=(20,);, score=0.763 total time=   0.7s\n"
          ]
        },
        {
          "output_type": "stream",
          "name": "stderr",
          "text": [
            "/usr/local/lib/python3.9/dist-packages/sklearn/neural_network/_multilayer_perceptron.py:686: ConvergenceWarning: Stochastic Optimizer: Maximum iterations (200) reached and the optimization hasn't converged yet.\n",
            "  warnings.warn(\n"
          ]
        },
        {
          "output_type": "stream",
          "name": "stdout",
          "text": [
            "[CV 4/5] END .alpha=1, hidden_layer_sizes=(20,);, score=0.704 total time=   0.7s\n"
          ]
        },
        {
          "output_type": "stream",
          "name": "stderr",
          "text": [
            "/usr/local/lib/python3.9/dist-packages/sklearn/neural_network/_multilayer_perceptron.py:686: ConvergenceWarning: Stochastic Optimizer: Maximum iterations (200) reached and the optimization hasn't converged yet.\n",
            "  warnings.warn(\n"
          ]
        },
        {
          "output_type": "stream",
          "name": "stdout",
          "text": [
            "[CV 5/5] END .alpha=1, hidden_layer_sizes=(20,);, score=0.533 total time=   0.6s\n"
          ]
        },
        {
          "output_type": "stream",
          "name": "stderr",
          "text": [
            "/usr/local/lib/python3.9/dist-packages/sklearn/neural_network/_multilayer_perceptron.py:686: ConvergenceWarning: Stochastic Optimizer: Maximum iterations (200) reached and the optimization hasn't converged yet.\n",
            "  warnings.warn(\n"
          ]
        },
        {
          "output_type": "stream",
          "name": "stdout",
          "text": [
            "[CV 1/5] END .alpha=1, hidden_layer_sizes=(30,);, score=0.654 total time=   0.7s\n"
          ]
        },
        {
          "output_type": "stream",
          "name": "stderr",
          "text": [
            "/usr/local/lib/python3.9/dist-packages/sklearn/neural_network/_multilayer_perceptron.py:686: ConvergenceWarning: Stochastic Optimizer: Maximum iterations (200) reached and the optimization hasn't converged yet.\n",
            "  warnings.warn(\n"
          ]
        },
        {
          "output_type": "stream",
          "name": "stdout",
          "text": [
            "[CV 2/5] END .alpha=1, hidden_layer_sizes=(30,);, score=0.817 total time=   0.7s\n"
          ]
        },
        {
          "output_type": "stream",
          "name": "stderr",
          "text": [
            "/usr/local/lib/python3.9/dist-packages/sklearn/neural_network/_multilayer_perceptron.py:686: ConvergenceWarning: Stochastic Optimizer: Maximum iterations (200) reached and the optimization hasn't converged yet.\n",
            "  warnings.warn(\n"
          ]
        },
        {
          "output_type": "stream",
          "name": "stdout",
          "text": [
            "[CV 3/5] END .alpha=1, hidden_layer_sizes=(30,);, score=0.829 total time=   0.7s\n"
          ]
        },
        {
          "output_type": "stream",
          "name": "stderr",
          "text": [
            "/usr/local/lib/python3.9/dist-packages/sklearn/neural_network/_multilayer_perceptron.py:686: ConvergenceWarning: Stochastic Optimizer: Maximum iterations (200) reached and the optimization hasn't converged yet.\n",
            "  warnings.warn(\n"
          ]
        },
        {
          "output_type": "stream",
          "name": "stdout",
          "text": [
            "[CV 4/5] END .alpha=1, hidden_layer_sizes=(30,);, score=0.743 total time=   0.7s\n"
          ]
        },
        {
          "output_type": "stream",
          "name": "stderr",
          "text": [
            "/usr/local/lib/python3.9/dist-packages/sklearn/neural_network/_multilayer_perceptron.py:686: ConvergenceWarning: Stochastic Optimizer: Maximum iterations (200) reached and the optimization hasn't converged yet.\n",
            "  warnings.warn(\n"
          ]
        },
        {
          "output_type": "stream",
          "name": "stdout",
          "text": [
            "[CV 5/5] END .alpha=1, hidden_layer_sizes=(30,);, score=0.566 total time=   0.7s\n"
          ]
        },
        {
          "output_type": "stream",
          "name": "stderr",
          "text": [
            "/usr/local/lib/python3.9/dist-packages/sklearn/neural_network/_multilayer_perceptron.py:686: ConvergenceWarning: Stochastic Optimizer: Maximum iterations (200) reached and the optimization hasn't converged yet.\n",
            "  warnings.warn(\n"
          ]
        },
        {
          "output_type": "stream",
          "name": "stdout",
          "text": [
            "[CV 1/5] END .alpha=1, hidden_layer_sizes=(40,);, score=0.680 total time=   0.7s\n"
          ]
        },
        {
          "output_type": "stream",
          "name": "stderr",
          "text": [
            "/usr/local/lib/python3.9/dist-packages/sklearn/neural_network/_multilayer_perceptron.py:686: ConvergenceWarning: Stochastic Optimizer: Maximum iterations (200) reached and the optimization hasn't converged yet.\n",
            "  warnings.warn(\n"
          ]
        },
        {
          "output_type": "stream",
          "name": "stdout",
          "text": [
            "[CV 2/5] END .alpha=1, hidden_layer_sizes=(40,);, score=0.810 total time=   0.8s\n"
          ]
        },
        {
          "output_type": "stream",
          "name": "stderr",
          "text": [
            "/usr/local/lib/python3.9/dist-packages/sklearn/neural_network/_multilayer_perceptron.py:686: ConvergenceWarning: Stochastic Optimizer: Maximum iterations (200) reached and the optimization hasn't converged yet.\n",
            "  warnings.warn(\n"
          ]
        },
        {
          "output_type": "stream",
          "name": "stdout",
          "text": [
            "[CV 3/5] END .alpha=1, hidden_layer_sizes=(40,);, score=0.770 total time=   0.8s\n"
          ]
        },
        {
          "output_type": "stream",
          "name": "stderr",
          "text": [
            "/usr/local/lib/python3.9/dist-packages/sklearn/neural_network/_multilayer_perceptron.py:686: ConvergenceWarning: Stochastic Optimizer: Maximum iterations (200) reached and the optimization hasn't converged yet.\n",
            "  warnings.warn(\n"
          ]
        },
        {
          "output_type": "stream",
          "name": "stdout",
          "text": [
            "[CV 4/5] END .alpha=1, hidden_layer_sizes=(40,);, score=0.730 total time=   0.8s\n"
          ]
        },
        {
          "output_type": "stream",
          "name": "stderr",
          "text": [
            "/usr/local/lib/python3.9/dist-packages/sklearn/neural_network/_multilayer_perceptron.py:686: ConvergenceWarning: Stochastic Optimizer: Maximum iterations (200) reached and the optimization hasn't converged yet.\n",
            "  warnings.warn(\n"
          ]
        },
        {
          "output_type": "stream",
          "name": "stdout",
          "text": [
            "[CV 5/5] END .alpha=1, hidden_layer_sizes=(40,);, score=0.566 total time=   1.3s\n"
          ]
        },
        {
          "output_type": "stream",
          "name": "stderr",
          "text": [
            "/usr/local/lib/python3.9/dist-packages/sklearn/neural_network/_multilayer_perceptron.py:686: ConvergenceWarning: Stochastic Optimizer: Maximum iterations (200) reached and the optimization hasn't converged yet.\n",
            "  warnings.warn(\n"
          ]
        },
        {
          "output_type": "stream",
          "name": "stdout",
          "text": [
            "[CV 1/5] END .alpha=1, hidden_layer_sizes=(50,);, score=0.634 total time=   1.8s\n"
          ]
        },
        {
          "output_type": "stream",
          "name": "stderr",
          "text": [
            "/usr/local/lib/python3.9/dist-packages/sklearn/neural_network/_multilayer_perceptron.py:686: ConvergenceWarning: Stochastic Optimizer: Maximum iterations (200) reached and the optimization hasn't converged yet.\n",
            "  warnings.warn(\n"
          ]
        },
        {
          "output_type": "stream",
          "name": "stdout",
          "text": [
            "[CV 2/5] END .alpha=1, hidden_layer_sizes=(50,);, score=0.817 total time=   2.0s\n"
          ]
        },
        {
          "output_type": "stream",
          "name": "stderr",
          "text": [
            "/usr/local/lib/python3.9/dist-packages/sklearn/neural_network/_multilayer_perceptron.py:686: ConvergenceWarning: Stochastic Optimizer: Maximum iterations (200) reached and the optimization hasn't converged yet.\n",
            "  warnings.warn(\n"
          ]
        },
        {
          "output_type": "stream",
          "name": "stdout",
          "text": [
            "[CV 3/5] END .alpha=1, hidden_layer_sizes=(50,);, score=0.763 total time=   0.9s\n"
          ]
        },
        {
          "output_type": "stream",
          "name": "stderr",
          "text": [
            "/usr/local/lib/python3.9/dist-packages/sklearn/neural_network/_multilayer_perceptron.py:686: ConvergenceWarning: Stochastic Optimizer: Maximum iterations (200) reached and the optimization hasn't converged yet.\n",
            "  warnings.warn(\n"
          ]
        },
        {
          "output_type": "stream",
          "name": "stdout",
          "text": [
            "[CV 4/5] END .alpha=1, hidden_layer_sizes=(50,);, score=0.711 total time=   0.8s\n"
          ]
        },
        {
          "output_type": "stream",
          "name": "stderr",
          "text": [
            "/usr/local/lib/python3.9/dist-packages/sklearn/neural_network/_multilayer_perceptron.py:686: ConvergenceWarning: Stochastic Optimizer: Maximum iterations (200) reached and the optimization hasn't converged yet.\n",
            "  warnings.warn(\n"
          ]
        },
        {
          "output_type": "stream",
          "name": "stdout",
          "text": [
            "[CV 5/5] END .alpha=1, hidden_layer_sizes=(50,);, score=0.612 total time=   0.8s\n"
          ]
        },
        {
          "output_type": "stream",
          "name": "stderr",
          "text": [
            "/usr/local/lib/python3.9/dist-packages/sklearn/neural_network/_multilayer_perceptron.py:686: ConvergenceWarning: Stochastic Optimizer: Maximum iterations (200) reached and the optimization hasn't converged yet.\n",
            "  warnings.warn(\n"
          ]
        },
        {
          "output_type": "stream",
          "name": "stdout",
          "text": [
            "[CV 1/5] END alpha=10, hidden_layer_sizes=(10,);, score=0.490 total time=   0.4s\n"
          ]
        },
        {
          "output_type": "stream",
          "name": "stderr",
          "text": [
            "/usr/local/lib/python3.9/dist-packages/sklearn/neural_network/_multilayer_perceptron.py:686: ConvergenceWarning: Stochastic Optimizer: Maximum iterations (200) reached and the optimization hasn't converged yet.\n",
            "  warnings.warn(\n"
          ]
        },
        {
          "output_type": "stream",
          "name": "stdout",
          "text": [
            "[CV 2/5] END alpha=10, hidden_layer_sizes=(10,);, score=0.595 total time=   0.4s\n"
          ]
        },
        {
          "output_type": "stream",
          "name": "stderr",
          "text": [
            "/usr/local/lib/python3.9/dist-packages/sklearn/neural_network/_multilayer_perceptron.py:686: ConvergenceWarning: Stochastic Optimizer: Maximum iterations (200) reached and the optimization hasn't converged yet.\n",
            "  warnings.warn(\n"
          ]
        },
        {
          "output_type": "stream",
          "name": "stdout",
          "text": [
            "[CV 3/5] END alpha=10, hidden_layer_sizes=(10,);, score=0.697 total time=   0.4s\n"
          ]
        },
        {
          "output_type": "stream",
          "name": "stderr",
          "text": [
            "/usr/local/lib/python3.9/dist-packages/sklearn/neural_network/_multilayer_perceptron.py:686: ConvergenceWarning: Stochastic Optimizer: Maximum iterations (200) reached and the optimization hasn't converged yet.\n",
            "  warnings.warn(\n"
          ]
        },
        {
          "output_type": "stream",
          "name": "stdout",
          "text": [
            "[CV 4/5] END alpha=10, hidden_layer_sizes=(10,);, score=0.625 total time=   0.4s\n"
          ]
        },
        {
          "output_type": "stream",
          "name": "stderr",
          "text": [
            "/usr/local/lib/python3.9/dist-packages/sklearn/neural_network/_multilayer_perceptron.py:686: ConvergenceWarning: Stochastic Optimizer: Maximum iterations (200) reached and the optimization hasn't converged yet.\n",
            "  warnings.warn(\n"
          ]
        },
        {
          "output_type": "stream",
          "name": "stdout",
          "text": [
            "[CV 5/5] END alpha=10, hidden_layer_sizes=(10,);, score=0.474 total time=   0.4s\n"
          ]
        },
        {
          "output_type": "stream",
          "name": "stderr",
          "text": [
            "/usr/local/lib/python3.9/dist-packages/sklearn/neural_network/_multilayer_perceptron.py:686: ConvergenceWarning: Stochastic Optimizer: Maximum iterations (200) reached and the optimization hasn't converged yet.\n",
            "  warnings.warn(\n"
          ]
        },
        {
          "output_type": "stream",
          "name": "stdout",
          "text": [
            "[CV 1/5] END alpha=10, hidden_layer_sizes=(20,);, score=0.503 total time=   0.7s\n"
          ]
        },
        {
          "output_type": "stream",
          "name": "stderr",
          "text": [
            "/usr/local/lib/python3.9/dist-packages/sklearn/neural_network/_multilayer_perceptron.py:686: ConvergenceWarning: Stochastic Optimizer: Maximum iterations (200) reached and the optimization hasn't converged yet.\n",
            "  warnings.warn(\n"
          ]
        },
        {
          "output_type": "stream",
          "name": "stdout",
          "text": [
            "[CV 2/5] END alpha=10, hidden_layer_sizes=(20,);, score=0.660 total time=   0.6s\n"
          ]
        },
        {
          "output_type": "stream",
          "name": "stderr",
          "text": [
            "/usr/local/lib/python3.9/dist-packages/sklearn/neural_network/_multilayer_perceptron.py:686: ConvergenceWarning: Stochastic Optimizer: Maximum iterations (200) reached and the optimization hasn't converged yet.\n",
            "  warnings.warn(\n"
          ]
        },
        {
          "output_type": "stream",
          "name": "stdout",
          "text": [
            "[CV 3/5] END alpha=10, hidden_layer_sizes=(20,);, score=0.671 total time=   0.7s\n"
          ]
        },
        {
          "output_type": "stream",
          "name": "stderr",
          "text": [
            "/usr/local/lib/python3.9/dist-packages/sklearn/neural_network/_multilayer_perceptron.py:686: ConvergenceWarning: Stochastic Optimizer: Maximum iterations (200) reached and the optimization hasn't converged yet.\n",
            "  warnings.warn(\n"
          ]
        },
        {
          "output_type": "stream",
          "name": "stdout",
          "text": [
            "[CV 4/5] END alpha=10, hidden_layer_sizes=(20,);, score=0.612 total time=   0.7s\n"
          ]
        },
        {
          "output_type": "stream",
          "name": "stderr",
          "text": [
            "/usr/local/lib/python3.9/dist-packages/sklearn/neural_network/_multilayer_perceptron.py:686: ConvergenceWarning: Stochastic Optimizer: Maximum iterations (200) reached and the optimization hasn't converged yet.\n",
            "  warnings.warn(\n"
          ]
        },
        {
          "output_type": "stream",
          "name": "stdout",
          "text": [
            "[CV 5/5] END alpha=10, hidden_layer_sizes=(20,);, score=0.467 total time=   0.6s\n",
            "[CV 1/5] END alpha=10, hidden_layer_sizes=(30,);, score=0.503 total time=   0.7s\n",
            "[CV 2/5] END alpha=10, hidden_layer_sizes=(30,);, score=0.706 total time=   0.6s\n",
            "[CV 3/5] END alpha=10, hidden_layer_sizes=(30,);, score=0.678 total time=   0.7s\n",
            "[CV 4/5] END alpha=10, hidden_layer_sizes=(30,);, score=0.638 total time=   1.1s\n",
            "[CV 5/5] END alpha=10, hidden_layer_sizes=(30,);, score=0.461 total time=   1.4s\n"
          ]
        },
        {
          "output_type": "stream",
          "name": "stderr",
          "text": [
            "/usr/local/lib/python3.9/dist-packages/sklearn/neural_network/_multilayer_perceptron.py:686: ConvergenceWarning: Stochastic Optimizer: Maximum iterations (200) reached and the optimization hasn't converged yet.\n",
            "  warnings.warn(\n"
          ]
        },
        {
          "output_type": "stream",
          "name": "stdout",
          "text": [
            "[CV 1/5] END alpha=10, hidden_layer_sizes=(40,);, score=0.497 total time=   1.7s\n"
          ]
        },
        {
          "output_type": "stream",
          "name": "stderr",
          "text": [
            "/usr/local/lib/python3.9/dist-packages/sklearn/neural_network/_multilayer_perceptron.py:686: ConvergenceWarning: Stochastic Optimizer: Maximum iterations (200) reached and the optimization hasn't converged yet.\n",
            "  warnings.warn(\n"
          ]
        },
        {
          "output_type": "stream",
          "name": "stdout",
          "text": [
            "[CV 2/5] END alpha=10, hidden_layer_sizes=(40,);, score=0.647 total time=   1.2s\n"
          ]
        },
        {
          "output_type": "stream",
          "name": "stderr",
          "text": [
            "/usr/local/lib/python3.9/dist-packages/sklearn/neural_network/_multilayer_perceptron.py:686: ConvergenceWarning: Stochastic Optimizer: Maximum iterations (200) reached and the optimization hasn't converged yet.\n",
            "  warnings.warn(\n"
          ]
        },
        {
          "output_type": "stream",
          "name": "stdout",
          "text": [
            "[CV 3/5] END alpha=10, hidden_layer_sizes=(40,);, score=0.717 total time=   0.8s\n"
          ]
        },
        {
          "output_type": "stream",
          "name": "stderr",
          "text": [
            "/usr/local/lib/python3.9/dist-packages/sklearn/neural_network/_multilayer_perceptron.py:686: ConvergenceWarning: Stochastic Optimizer: Maximum iterations (200) reached and the optimization hasn't converged yet.\n",
            "  warnings.warn(\n"
          ]
        },
        {
          "output_type": "stream",
          "name": "stdout",
          "text": [
            "[CV 4/5] END alpha=10, hidden_layer_sizes=(40,);, score=0.586 total time=   0.8s\n",
            "[CV 5/5] END alpha=10, hidden_layer_sizes=(40,);, score=0.467 total time=   0.8s\n",
            "[CV 1/5] END alpha=10, hidden_layer_sizes=(50,);, score=0.490 total time=   0.8s\n",
            "[CV 2/5] END alpha=10, hidden_layer_sizes=(50,);, score=0.706 total time=   0.8s\n",
            "[CV 3/5] END alpha=10, hidden_layer_sizes=(50,);, score=0.678 total time=   0.7s\n",
            "[CV 4/5] END alpha=10, hidden_layer_sizes=(50,);, score=0.645 total time=   0.8s\n",
            "[CV 5/5] END alpha=10, hidden_layer_sizes=(50,);, score=0.454 total time=   0.8s\n",
            "Best parameter for Binary Classification :  {'alpha': 1, 'hidden_layer_sizes': (30,)}\n",
            "Best score  for Binary Classification:  0.7662624699002407\n",
            "Best parameter  for Quaternary Classification:  {'alpha': 0.001, 'hidden_layer_sizes': (30,)}\n",
            "Best score  for Quaternaery Classification:  0.7440402476780185\n"
          ]
        }
      ]
    },
    {
      "cell_type": "markdown",
      "source": [
        "Part 5 D"
      ],
      "metadata": {
        "id": "oYas_mcyCSEE"
      }
    },
    {
      "cell_type": "code",
      "source": [
        "model1 = RandomForestClassifier()\n",
        "model1.fit(X_train, y1)\n",
        "model2 = RandomForestClassifier()\n",
        "model2.fit(X_train, y2) \n",
        "# print prediction results\n",
        "print(\"Test Data\")\n",
        "predictions1 = model1.predict(X_test)\n",
        "print(classification_report(y1_test, predictions1))\n",
        "print(confusion_matrix(y1_test, predictions1))\n",
        "predictions2 = model2.predict(X_test)\n",
        "print(classification_report(y2_test, predictions2))\n",
        "print(confusion_matrix(y2_test, predictions2))"
      ],
      "metadata": {
        "colab": {
          "base_uri": "https://localhost:8080/"
        },
        "id": "LzLk0rg1CVOj",
        "outputId": "80eb9f1f-623b-42a1-e962-9658f28a9c3e"
      },
      "execution_count": 23,
      "outputs": [
        {
          "output_type": "stream",
          "name": "stdout",
          "text": [
            "Test Data\n",
            "              precision    recall  f1-score   support\n",
            "\n",
            "           0       0.80      0.81      0.80       135\n",
            "           1       0.71      0.70      0.70        90\n",
            "\n",
            "    accuracy                           0.76       225\n",
            "   macro avg       0.75      0.75      0.75       225\n",
            "weighted avg       0.76      0.76      0.76       225\n",
            "\n",
            "[[109  26]\n",
            " [ 27  63]]\n",
            "              precision    recall  f1-score   support\n",
            "\n",
            "           0       0.73      0.85      0.78        60\n",
            "           1       0.73      0.68      0.71        60\n",
            "           2       0.82      0.68      0.75        60\n",
            "           3       0.61      0.67      0.64        45\n",
            "\n",
            "    accuracy                           0.72       225\n",
            "   macro avg       0.72      0.72      0.72       225\n",
            "weighted avg       0.73      0.72      0.72       225\n",
            "\n",
            "[[51  0  9  0]\n",
            " [ 0 41  0 19]\n",
            " [19  0 41  0]\n",
            " [ 0 15  0 30]]\n"
          ]
        }
      ]
    },
    {
      "cell_type": "code",
      "source": [
        "param_grid = {\n",
        "    'n_estimators': [25, 50, 100, 150],\n",
        "    'max_depth': [3, 6, 9],\n",
        "    'max_leaf_nodes': [3, 6, 9],\n",
        "}\n",
        "grid_1 = GridSearchCV(RandomForestClassifier(), param_grid, refit = True, verbose = 3,cv=5)\n",
        "grid_1.fit(X_train,y1)\n",
        "grid_2 = GridSearchCV(RandomForestClassifier(), param_grid, refit = True, verbose = 3,cv=5)\n",
        "grid_2.fit(X_train,y2)\n",
        "# fitting the model for grid search\n",
        "print(\"Best parameter for Binary Classification : \", grid_1.best_params_)\n",
        "print(\"Best score  for Binary Classification: \", grid_1.best_score_)\n",
        "print(\"Best parameter  for Quaternary Classification: \", grid_2.best_params_)\n",
        "print(\"Best score  for Quaternaery Classification: \", grid_2.best_score_)"
      ],
      "metadata": {
        "colab": {
          "base_uri": "https://localhost:8080/"
        },
        "id": "cB17hRGzGf7b",
        "outputId": "30e3d649-2446-436c-f520-b55c29619025"
      },
      "execution_count": 24,
      "outputs": [
        {
          "output_type": "stream",
          "name": "stdout",
          "text": [
            "Fitting 5 folds for each of 36 candidates, totalling 180 fits\n",
            "[CV 1/5] END max_depth=3, max_leaf_nodes=3, n_estimators=25;, score=0.719 total time=   0.1s\n",
            "[CV 2/5] END max_depth=3, max_leaf_nodes=3, n_estimators=25;, score=0.706 total time=   0.1s\n",
            "[CV 3/5] END max_depth=3, max_leaf_nodes=3, n_estimators=25;, score=0.546 total time=   0.1s\n",
            "[CV 4/5] END max_depth=3, max_leaf_nodes=3, n_estimators=25;, score=0.618 total time=   0.1s\n",
            "[CV 5/5] END max_depth=3, max_leaf_nodes=3, n_estimators=25;, score=0.809 total time=   0.1s\n",
            "[CV 1/5] END max_depth=3, max_leaf_nodes=3, n_estimators=50;, score=0.569 total time=   0.1s\n",
            "[CV 2/5] END max_depth=3, max_leaf_nodes=3, n_estimators=50;, score=0.686 total time=   0.2s\n",
            "[CV 3/5] END max_depth=3, max_leaf_nodes=3, n_estimators=50;, score=0.592 total time=   0.1s\n",
            "[CV 4/5] END max_depth=3, max_leaf_nodes=3, n_estimators=50;, score=0.553 total time=   0.1s\n",
            "[CV 5/5] END max_depth=3, max_leaf_nodes=3, n_estimators=50;, score=0.776 total time=   0.1s\n",
            "[CV 1/5] END max_depth=3, max_leaf_nodes=3, n_estimators=100;, score=0.595 total time=   0.3s\n",
            "[CV 2/5] END max_depth=3, max_leaf_nodes=3, n_estimators=100;, score=0.699 total time=   0.3s\n",
            "[CV 3/5] END max_depth=3, max_leaf_nodes=3, n_estimators=100;, score=0.546 total time=   0.4s\n",
            "[CV 4/5] END max_depth=3, max_leaf_nodes=3, n_estimators=100;, score=0.553 total time=   0.4s\n",
            "[CV 5/5] END max_depth=3, max_leaf_nodes=3, n_estimators=100;, score=0.757 total time=   0.4s\n",
            "[CV 1/5] END max_depth=3, max_leaf_nodes=3, n_estimators=150;, score=0.595 total time=   0.6s\n",
            "[CV 2/5] END max_depth=3, max_leaf_nodes=3, n_estimators=150;, score=0.680 total time=   0.6s\n",
            "[CV 3/5] END max_depth=3, max_leaf_nodes=3, n_estimators=150;, score=0.566 total time=   0.6s\n",
            "[CV 4/5] END max_depth=3, max_leaf_nodes=3, n_estimators=150;, score=0.507 total time=   0.6s\n",
            "[CV 5/5] END max_depth=3, max_leaf_nodes=3, n_estimators=150;, score=0.829 total time=   0.5s\n",
            "[CV 1/5] END max_depth=3, max_leaf_nodes=6, n_estimators=25;, score=0.601 total time=   0.1s\n",
            "[CV 2/5] END max_depth=3, max_leaf_nodes=6, n_estimators=25;, score=0.719 total time=   0.1s\n",
            "[CV 3/5] END max_depth=3, max_leaf_nodes=6, n_estimators=25;, score=0.638 total time=   0.1s\n",
            "[CV 4/5] END max_depth=3, max_leaf_nodes=6, n_estimators=25;, score=0.526 total time=   0.1s\n",
            "[CV 5/5] END max_depth=3, max_leaf_nodes=6, n_estimators=25;, score=0.809 total time=   0.1s\n",
            "[CV 1/5] END max_depth=3, max_leaf_nodes=6, n_estimators=50;, score=0.732 total time=   0.1s\n",
            "[CV 2/5] END max_depth=3, max_leaf_nodes=6, n_estimators=50;, score=0.706 total time=   0.2s\n",
            "[CV 3/5] END max_depth=3, max_leaf_nodes=6, n_estimators=50;, score=0.592 total time=   0.2s\n",
            "[CV 4/5] END max_depth=3, max_leaf_nodes=6, n_estimators=50;, score=0.586 total time=   0.1s\n",
            "[CV 5/5] END max_depth=3, max_leaf_nodes=6, n_estimators=50;, score=0.901 total time=   0.2s\n",
            "[CV 1/5] END max_depth=3, max_leaf_nodes=6, n_estimators=100;, score=0.706 total time=   0.3s\n",
            "[CV 2/5] END max_depth=3, max_leaf_nodes=6, n_estimators=100;, score=0.673 total time=   0.3s\n",
            "[CV 3/5] END max_depth=3, max_leaf_nodes=6, n_estimators=100;, score=0.651 total time=   0.3s\n",
            "[CV 4/5] END max_depth=3, max_leaf_nodes=6, n_estimators=100;, score=0.513 total time=   0.3s\n",
            "[CV 5/5] END max_depth=3, max_leaf_nodes=6, n_estimators=100;, score=0.783 total time=   0.3s\n",
            "[CV 1/5] END max_depth=3, max_leaf_nodes=6, n_estimators=150;, score=0.641 total time=   0.4s\n",
            "[CV 2/5] END max_depth=3, max_leaf_nodes=6, n_estimators=150;, score=0.706 total time=   0.4s\n",
            "[CV 3/5] END max_depth=3, max_leaf_nodes=6, n_estimators=150;, score=0.664 total time=   0.4s\n",
            "[CV 4/5] END max_depth=3, max_leaf_nodes=6, n_estimators=150;, score=0.533 total time=   0.4s\n",
            "[CV 5/5] END max_depth=3, max_leaf_nodes=6, n_estimators=150;, score=0.822 total time=   0.4s\n",
            "[CV 1/5] END max_depth=3, max_leaf_nodes=9, n_estimators=25;, score=0.523 total time=   0.1s\n",
            "[CV 2/5] END max_depth=3, max_leaf_nodes=9, n_estimators=25;, score=0.601 total time=   0.1s\n",
            "[CV 3/5] END max_depth=3, max_leaf_nodes=9, n_estimators=25;, score=0.533 total time=   0.1s\n",
            "[CV 4/5] END max_depth=3, max_leaf_nodes=9, n_estimators=25;, score=0.664 total time=   0.1s\n",
            "[CV 5/5] END max_depth=3, max_leaf_nodes=9, n_estimators=25;, score=0.816 total time=   0.1s\n",
            "[CV 1/5] END max_depth=3, max_leaf_nodes=9, n_estimators=50;, score=0.699 total time=   0.1s\n",
            "[CV 2/5] END max_depth=3, max_leaf_nodes=9, n_estimators=50;, score=0.654 total time=   0.1s\n",
            "[CV 3/5] END max_depth=3, max_leaf_nodes=9, n_estimators=50;, score=0.651 total time=   0.2s\n",
            "[CV 4/5] END max_depth=3, max_leaf_nodes=9, n_estimators=50;, score=0.559 total time=   0.1s\n",
            "[CV 5/5] END max_depth=3, max_leaf_nodes=9, n_estimators=50;, score=0.750 total time=   0.1s\n",
            "[CV 1/5] END max_depth=3, max_leaf_nodes=9, n_estimators=100;, score=0.641 total time=   0.3s\n",
            "[CV 2/5] END max_depth=3, max_leaf_nodes=9, n_estimators=100;, score=0.693 total time=   0.3s\n",
            "[CV 3/5] END max_depth=3, max_leaf_nodes=9, n_estimators=100;, score=0.691 total time=   0.3s\n",
            "[CV 4/5] END max_depth=3, max_leaf_nodes=9, n_estimators=100;, score=0.553 total time=   0.3s\n",
            "[CV 5/5] END max_depth=3, max_leaf_nodes=9, n_estimators=100;, score=0.855 total time=   0.3s\n",
            "[CV 1/5] END max_depth=3, max_leaf_nodes=9, n_estimators=150;, score=0.654 total time=   0.4s\n",
            "[CV 2/5] END max_depth=3, max_leaf_nodes=9, n_estimators=150;, score=0.673 total time=   0.4s\n",
            "[CV 3/5] END max_depth=3, max_leaf_nodes=9, n_estimators=150;, score=0.658 total time=   0.4s\n",
            "[CV 4/5] END max_depth=3, max_leaf_nodes=9, n_estimators=150;, score=0.566 total time=   0.4s\n",
            "[CV 5/5] END max_depth=3, max_leaf_nodes=9, n_estimators=150;, score=0.803 total time=   0.4s\n",
            "[CV 1/5] END max_depth=6, max_leaf_nodes=3, n_estimators=25;, score=0.595 total time=   0.1s\n",
            "[CV 2/5] END max_depth=6, max_leaf_nodes=3, n_estimators=25;, score=0.725 total time=   0.1s\n",
            "[CV 3/5] END max_depth=6, max_leaf_nodes=3, n_estimators=25;, score=0.546 total time=   0.1s\n",
            "[CV 4/5] END max_depth=6, max_leaf_nodes=3, n_estimators=25;, score=0.572 total time=   0.1s\n",
            "[CV 5/5] END max_depth=6, max_leaf_nodes=3, n_estimators=25;, score=0.776 total time=   0.1s\n",
            "[CV 1/5] END max_depth=6, max_leaf_nodes=3, n_estimators=50;, score=0.562 total time=   0.2s\n",
            "[CV 2/5] END max_depth=6, max_leaf_nodes=3, n_estimators=50;, score=0.706 total time=   0.2s\n",
            "[CV 3/5] END max_depth=6, max_leaf_nodes=3, n_estimators=50;, score=0.559 total time=   0.2s\n",
            "[CV 4/5] END max_depth=6, max_leaf_nodes=3, n_estimators=50;, score=0.579 total time=   0.2s\n",
            "[CV 5/5] END max_depth=6, max_leaf_nodes=3, n_estimators=50;, score=0.836 total time=   0.2s\n",
            "[CV 1/5] END max_depth=6, max_leaf_nodes=3, n_estimators=100;, score=0.549 total time=   0.4s\n",
            "[CV 2/5] END max_depth=6, max_leaf_nodes=3, n_estimators=100;, score=0.699 total time=   0.4s\n",
            "[CV 3/5] END max_depth=6, max_leaf_nodes=3, n_estimators=100;, score=0.539 total time=   0.4s\n",
            "[CV 4/5] END max_depth=6, max_leaf_nodes=3, n_estimators=100;, score=0.507 total time=   0.4s\n",
            "[CV 5/5] END max_depth=6, max_leaf_nodes=3, n_estimators=100;, score=0.776 total time=   0.4s\n",
            "[CV 1/5] END max_depth=6, max_leaf_nodes=3, n_estimators=150;, score=0.556 total time=   0.6s\n",
            "[CV 2/5] END max_depth=6, max_leaf_nodes=3, n_estimators=150;, score=0.686 total time=   0.6s\n",
            "[CV 3/5] END max_depth=6, max_leaf_nodes=3, n_estimators=150;, score=0.566 total time=   0.5s\n",
            "[CV 4/5] END max_depth=6, max_leaf_nodes=3, n_estimators=150;, score=0.533 total time=   0.4s\n",
            "[CV 5/5] END max_depth=6, max_leaf_nodes=3, n_estimators=150;, score=0.730 total time=   0.4s\n",
            "[CV 1/5] END max_depth=6, max_leaf_nodes=6, n_estimators=25;, score=0.556 total time=   0.1s\n",
            "[CV 2/5] END max_depth=6, max_leaf_nodes=6, n_estimators=25;, score=0.641 total time=   0.1s\n",
            "[CV 3/5] END max_depth=6, max_leaf_nodes=6, n_estimators=25;, score=0.651 total time=   0.1s\n",
            "[CV 4/5] END max_depth=6, max_leaf_nodes=6, n_estimators=25;, score=0.572 total time=   0.1s\n",
            "[CV 5/5] END max_depth=6, max_leaf_nodes=6, n_estimators=25;, score=0.717 total time=   0.1s\n",
            "[CV 1/5] END max_depth=6, max_leaf_nodes=6, n_estimators=50;, score=0.719 total time=   0.2s\n",
            "[CV 2/5] END max_depth=6, max_leaf_nodes=6, n_estimators=50;, score=0.667 total time=   0.1s\n",
            "[CV 3/5] END max_depth=6, max_leaf_nodes=6, n_estimators=50;, score=0.605 total time=   0.1s\n",
            "[CV 4/5] END max_depth=6, max_leaf_nodes=6, n_estimators=50;, score=0.520 total time=   0.2s\n",
            "[CV 5/5] END max_depth=6, max_leaf_nodes=6, n_estimators=50;, score=0.730 total time=   0.2s\n",
            "[CV 1/5] END max_depth=6, max_leaf_nodes=6, n_estimators=100;, score=0.621 total time=   0.3s\n",
            "[CV 2/5] END max_depth=6, max_leaf_nodes=6, n_estimators=100;, score=0.660 total time=   0.3s\n",
            "[CV 3/5] END max_depth=6, max_leaf_nodes=6, n_estimators=100;, score=0.579 total time=   0.3s\n",
            "[CV 4/5] END max_depth=6, max_leaf_nodes=6, n_estimators=100;, score=0.553 total time=   0.3s\n",
            "[CV 5/5] END max_depth=6, max_leaf_nodes=6, n_estimators=100;, score=0.816 total time=   0.3s\n",
            "[CV 1/5] END max_depth=6, max_leaf_nodes=6, n_estimators=150;, score=0.621 total time=   0.4s\n",
            "[CV 2/5] END max_depth=6, max_leaf_nodes=6, n_estimators=150;, score=0.693 total time=   0.5s\n",
            "[CV 3/5] END max_depth=6, max_leaf_nodes=6, n_estimators=150;, score=0.638 total time=   0.4s\n",
            "[CV 4/5] END max_depth=6, max_leaf_nodes=6, n_estimators=150;, score=0.586 total time=   0.5s\n",
            "[CV 5/5] END max_depth=6, max_leaf_nodes=6, n_estimators=150;, score=0.816 total time=   0.5s\n",
            "[CV 1/5] END max_depth=6, max_leaf_nodes=9, n_estimators=25;, score=0.634 total time=   0.1s\n",
            "[CV 2/5] END max_depth=6, max_leaf_nodes=9, n_estimators=25;, score=0.654 total time=   0.1s\n",
            "[CV 3/5] END max_depth=6, max_leaf_nodes=9, n_estimators=25;, score=0.566 total time=   0.1s\n",
            "[CV 4/5] END max_depth=6, max_leaf_nodes=9, n_estimators=25;, score=0.526 total time=   0.1s\n",
            "[CV 5/5] END max_depth=6, max_leaf_nodes=9, n_estimators=25;, score=0.842 total time=   0.1s\n",
            "[CV 1/5] END max_depth=6, max_leaf_nodes=9, n_estimators=50;, score=0.608 total time=   0.2s\n",
            "[CV 2/5] END max_depth=6, max_leaf_nodes=9, n_estimators=50;, score=0.699 total time=   0.2s\n",
            "[CV 3/5] END max_depth=6, max_leaf_nodes=9, n_estimators=50;, score=0.704 total time=   0.2s\n",
            "[CV 4/5] END max_depth=6, max_leaf_nodes=9, n_estimators=50;, score=0.579 total time=   0.2s\n",
            "[CV 5/5] END max_depth=6, max_leaf_nodes=9, n_estimators=50;, score=0.803 total time=   0.2s\n",
            "[CV 1/5] END max_depth=6, max_leaf_nodes=9, n_estimators=100;, score=0.758 total time=   0.3s\n",
            "[CV 2/5] END max_depth=6, max_leaf_nodes=9, n_estimators=100;, score=0.667 total time=   0.3s\n",
            "[CV 3/5] END max_depth=6, max_leaf_nodes=9, n_estimators=100;, score=0.704 total time=   0.3s\n",
            "[CV 4/5] END max_depth=6, max_leaf_nodes=9, n_estimators=100;, score=0.592 total time=   0.3s\n",
            "[CV 5/5] END max_depth=6, max_leaf_nodes=9, n_estimators=100;, score=0.776 total time=   0.3s\n",
            "[CV 1/5] END max_depth=6, max_leaf_nodes=9, n_estimators=150;, score=0.641 total time=   0.5s\n",
            "[CV 2/5] END max_depth=6, max_leaf_nodes=9, n_estimators=150;, score=0.699 total time=   0.5s\n",
            "[CV 3/5] END max_depth=6, max_leaf_nodes=9, n_estimators=150;, score=0.691 total time=   0.7s\n",
            "[CV 4/5] END max_depth=6, max_leaf_nodes=9, n_estimators=150;, score=0.546 total time=   0.7s\n",
            "[CV 5/5] END max_depth=6, max_leaf_nodes=9, n_estimators=150;, score=0.789 total time=   0.8s\n",
            "[CV 1/5] END max_depth=9, max_leaf_nodes=3, n_estimators=25;, score=0.582 total time=   0.1s\n",
            "[CV 2/5] END max_depth=9, max_leaf_nodes=3, n_estimators=25;, score=0.686 total time=   0.1s\n",
            "[CV 3/5] END max_depth=9, max_leaf_nodes=3, n_estimators=25;, score=0.539 total time=   0.1s\n",
            "[CV 4/5] END max_depth=9, max_leaf_nodes=3, n_estimators=25;, score=0.625 total time=   0.1s\n",
            "[CV 5/5] END max_depth=9, max_leaf_nodes=3, n_estimators=25;, score=0.816 total time=   0.1s\n",
            "[CV 1/5] END max_depth=9, max_leaf_nodes=3, n_estimators=50;, score=0.562 total time=   0.2s\n",
            "[CV 2/5] END max_depth=9, max_leaf_nodes=3, n_estimators=50;, score=0.621 total time=   0.2s\n",
            "[CV 3/5] END max_depth=9, max_leaf_nodes=3, n_estimators=50;, score=0.572 total time=   0.2s\n",
            "[CV 4/5] END max_depth=9, max_leaf_nodes=3, n_estimators=50;, score=0.592 total time=   0.2s\n",
            "[CV 5/5] END max_depth=9, max_leaf_nodes=3, n_estimators=50;, score=0.711 total time=   0.2s\n",
            "[CV 1/5] END max_depth=9, max_leaf_nodes=3, n_estimators=100;, score=0.582 total time=   0.4s\n",
            "[CV 2/5] END max_depth=9, max_leaf_nodes=3, n_estimators=100;, score=0.693 total time=   0.3s\n",
            "[CV 3/5] END max_depth=9, max_leaf_nodes=3, n_estimators=100;, score=0.559 total time=   0.3s\n",
            "[CV 4/5] END max_depth=9, max_leaf_nodes=3, n_estimators=100;, score=0.507 total time=   0.3s\n",
            "[CV 5/5] END max_depth=9, max_leaf_nodes=3, n_estimators=100;, score=0.743 total time=   0.3s\n",
            "[CV 1/5] END max_depth=9, max_leaf_nodes=3, n_estimators=150;, score=0.575 total time=   0.4s\n",
            "[CV 2/5] END max_depth=9, max_leaf_nodes=3, n_estimators=150;, score=0.712 total time=   0.4s\n",
            "[CV 3/5] END max_depth=9, max_leaf_nodes=3, n_estimators=150;, score=0.572 total time=   0.4s\n",
            "[CV 4/5] END max_depth=9, max_leaf_nodes=3, n_estimators=150;, score=0.533 total time=   0.4s\n",
            "[CV 5/5] END max_depth=9, max_leaf_nodes=3, n_estimators=150;, score=0.711 total time=   0.4s\n",
            "[CV 1/5] END max_depth=9, max_leaf_nodes=6, n_estimators=25;, score=0.621 total time=   0.1s\n",
            "[CV 2/5] END max_depth=9, max_leaf_nodes=6, n_estimators=25;, score=0.673 total time=   0.1s\n",
            "[CV 3/5] END max_depth=9, max_leaf_nodes=6, n_estimators=25;, score=0.638 total time=   0.1s\n",
            "[CV 4/5] END max_depth=9, max_leaf_nodes=6, n_estimators=25;, score=0.579 total time=   0.1s\n",
            "[CV 5/5] END max_depth=9, max_leaf_nodes=6, n_estimators=25;, score=0.711 total time=   0.1s\n",
            "[CV 1/5] END max_depth=9, max_leaf_nodes=6, n_estimators=50;, score=0.614 total time=   0.2s\n",
            "[CV 2/5] END max_depth=9, max_leaf_nodes=6, n_estimators=50;, score=0.660 total time=   0.1s\n",
            "[CV 3/5] END max_depth=9, max_leaf_nodes=6, n_estimators=50;, score=0.664 total time=   0.2s\n",
            "[CV 4/5] END max_depth=9, max_leaf_nodes=6, n_estimators=50;, score=0.625 total time=   0.2s\n",
            "[CV 5/5] END max_depth=9, max_leaf_nodes=6, n_estimators=50;, score=0.862 total time=   0.2s\n",
            "[CV 1/5] END max_depth=9, max_leaf_nodes=6, n_estimators=100;, score=0.595 total time=   0.3s\n",
            "[CV 2/5] END max_depth=9, max_leaf_nodes=6, n_estimators=100;, score=0.680 total time=   0.3s\n",
            "[CV 3/5] END max_depth=9, max_leaf_nodes=6, n_estimators=100;, score=0.625 total time=   0.3s\n",
            "[CV 4/5] END max_depth=9, max_leaf_nodes=6, n_estimators=100;, score=0.507 total time=   0.3s\n",
            "[CV 5/5] END max_depth=9, max_leaf_nodes=6, n_estimators=100;, score=0.816 total time=   0.3s\n",
            "[CV 1/5] END max_depth=9, max_leaf_nodes=6, n_estimators=150;, score=0.588 total time=   0.5s\n",
            "[CV 2/5] END max_depth=9, max_leaf_nodes=6, n_estimators=150;, score=0.680 total time=   0.5s\n",
            "[CV 3/5] END max_depth=9, max_leaf_nodes=6, n_estimators=150;, score=0.645 total time=   0.5s\n",
            "[CV 4/5] END max_depth=9, max_leaf_nodes=6, n_estimators=150;, score=0.546 total time=   0.5s\n",
            "[CV 5/5] END max_depth=9, max_leaf_nodes=6, n_estimators=150;, score=0.829 total time=   0.5s\n",
            "[CV 1/5] END max_depth=9, max_leaf_nodes=9, n_estimators=25;, score=0.529 total time=   0.1s\n",
            "[CV 2/5] END max_depth=9, max_leaf_nodes=9, n_estimators=25;, score=0.673 total time=   0.1s\n",
            "[CV 3/5] END max_depth=9, max_leaf_nodes=9, n_estimators=25;, score=0.684 total time=   0.1s\n",
            "[CV 4/5] END max_depth=9, max_leaf_nodes=9, n_estimators=25;, score=0.638 total time=   0.1s\n",
            "[CV 5/5] END max_depth=9, max_leaf_nodes=9, n_estimators=25;, score=0.796 total time=   0.1s\n",
            "[CV 1/5] END max_depth=9, max_leaf_nodes=9, n_estimators=50;, score=0.582 total time=   0.2s\n",
            "[CV 2/5] END max_depth=9, max_leaf_nodes=9, n_estimators=50;, score=0.706 total time=   0.2s\n",
            "[CV 3/5] END max_depth=9, max_leaf_nodes=9, n_estimators=50;, score=0.697 total time=   0.2s\n",
            "[CV 4/5] END max_depth=9, max_leaf_nodes=9, n_estimators=50;, score=0.586 total time=   0.2s\n",
            "[CV 5/5] END max_depth=9, max_leaf_nodes=9, n_estimators=50;, score=0.816 total time=   0.2s\n",
            "[CV 1/5] END max_depth=9, max_leaf_nodes=9, n_estimators=100;, score=0.641 total time=   0.3s\n",
            "[CV 2/5] END max_depth=9, max_leaf_nodes=9, n_estimators=100;, score=0.680 total time=   0.3s\n",
            "[CV 3/5] END max_depth=9, max_leaf_nodes=9, n_estimators=100;, score=0.664 total time=   0.5s\n",
            "[CV 4/5] END max_depth=9, max_leaf_nodes=9, n_estimators=100;, score=0.539 total time=   0.5s\n",
            "[CV 5/5] END max_depth=9, max_leaf_nodes=9, n_estimators=100;, score=0.789 total time=   0.5s\n",
            "[CV 1/5] END max_depth=9, max_leaf_nodes=9, n_estimators=150;, score=0.575 total time=   0.7s\n",
            "[CV 2/5] END max_depth=9, max_leaf_nodes=9, n_estimators=150;, score=0.654 total time=   0.7s\n",
            "[CV 3/5] END max_depth=9, max_leaf_nodes=9, n_estimators=150;, score=0.697 total time=   0.7s\n",
            "[CV 4/5] END max_depth=9, max_leaf_nodes=9, n_estimators=150;, score=0.599 total time=   0.7s\n",
            "[CV 5/5] END max_depth=9, max_leaf_nodes=9, n_estimators=150;, score=0.822 total time=   0.5s\n",
            "Fitting 5 folds for each of 36 candidates, totalling 180 fits\n",
            "[CV 1/5] END max_depth=3, max_leaf_nodes=3, n_estimators=25;, score=0.595 total time=   0.1s\n",
            "[CV 2/5] END max_depth=3, max_leaf_nodes=3, n_estimators=25;, score=0.595 total time=   0.1s\n",
            "[CV 3/5] END max_depth=3, max_leaf_nodes=3, n_estimators=25;, score=0.704 total time=   0.1s\n",
            "[CV 4/5] END max_depth=3, max_leaf_nodes=3, n_estimators=25;, score=0.618 total time=   0.1s\n",
            "[CV 5/5] END max_depth=3, max_leaf_nodes=3, n_estimators=25;, score=0.520 total time=   0.1s\n",
            "[CV 1/5] END max_depth=3, max_leaf_nodes=3, n_estimators=50;, score=0.569 total time=   0.1s\n",
            "[CV 2/5] END max_depth=3, max_leaf_nodes=3, n_estimators=50;, score=0.627 total time=   0.1s\n",
            "[CV 3/5] END max_depth=3, max_leaf_nodes=3, n_estimators=50;, score=0.691 total time=   0.1s\n",
            "[CV 4/5] END max_depth=3, max_leaf_nodes=3, n_estimators=50;, score=0.658 total time=   0.1s\n",
            "[CV 5/5] END max_depth=3, max_leaf_nodes=3, n_estimators=50;, score=0.605 total time=   0.1s\n",
            "[CV 1/5] END max_depth=3, max_leaf_nodes=3, n_estimators=100;, score=0.562 total time=   0.3s\n",
            "[CV 2/5] END max_depth=3, max_leaf_nodes=3, n_estimators=100;, score=0.641 total time=   0.3s\n",
            "[CV 3/5] END max_depth=3, max_leaf_nodes=3, n_estimators=100;, score=0.697 total time=   0.3s\n",
            "[CV 4/5] END max_depth=3, max_leaf_nodes=3, n_estimators=100;, score=0.664 total time=   0.3s\n",
            "[CV 5/5] END max_depth=3, max_leaf_nodes=3, n_estimators=100;, score=0.618 total time=   0.3s\n",
            "[CV 1/5] END max_depth=3, max_leaf_nodes=3, n_estimators=150;, score=0.549 total time=   0.4s\n",
            "[CV 2/5] END max_depth=3, max_leaf_nodes=3, n_estimators=150;, score=0.627 total time=   0.4s\n",
            "[CV 3/5] END max_depth=3, max_leaf_nodes=3, n_estimators=150;, score=0.697 total time=   0.4s\n",
            "[CV 4/5] END max_depth=3, max_leaf_nodes=3, n_estimators=150;, score=0.651 total time=   0.4s\n",
            "[CV 5/5] END max_depth=3, max_leaf_nodes=3, n_estimators=150;, score=0.618 total time=   0.4s\n",
            "[CV 1/5] END max_depth=3, max_leaf_nodes=6, n_estimators=25;, score=0.549 total time=   0.1s\n",
            "[CV 2/5] END max_depth=3, max_leaf_nodes=6, n_estimators=25;, score=0.627 total time=   0.1s\n",
            "[CV 3/5] END max_depth=3, max_leaf_nodes=6, n_estimators=25;, score=0.743 total time=   0.1s\n",
            "[CV 4/5] END max_depth=3, max_leaf_nodes=6, n_estimators=25;, score=0.658 total time=   0.1s\n",
            "[CV 5/5] END max_depth=3, max_leaf_nodes=6, n_estimators=25;, score=0.507 total time=   0.1s\n",
            "[CV 1/5] END max_depth=3, max_leaf_nodes=6, n_estimators=50;, score=0.497 total time=   0.1s\n",
            "[CV 2/5] END max_depth=3, max_leaf_nodes=6, n_estimators=50;, score=0.699 total time=   0.1s\n",
            "[CV 3/5] END max_depth=3, max_leaf_nodes=6, n_estimators=50;, score=0.750 total time=   0.1s\n",
            "[CV 4/5] END max_depth=3, max_leaf_nodes=6, n_estimators=50;, score=0.605 total time=   0.1s\n",
            "[CV 5/5] END max_depth=3, max_leaf_nodes=6, n_estimators=50;, score=0.487 total time=   0.1s\n",
            "[CV 1/5] END max_depth=3, max_leaf_nodes=6, n_estimators=100;, score=0.490 total time=   0.3s\n",
            "[CV 2/5] END max_depth=3, max_leaf_nodes=6, n_estimators=100;, score=0.667 total time=   0.3s\n",
            "[CV 3/5] END max_depth=3, max_leaf_nodes=6, n_estimators=100;, score=0.750 total time=   0.3s\n",
            "[CV 4/5] END max_depth=3, max_leaf_nodes=6, n_estimators=100;, score=0.605 total time=   0.3s\n",
            "[CV 5/5] END max_depth=3, max_leaf_nodes=6, n_estimators=100;, score=0.461 total time=   0.3s\n",
            "[CV 1/5] END max_depth=3, max_leaf_nodes=6, n_estimators=150;, score=0.503 total time=   0.4s\n",
            "[CV 2/5] END max_depth=3, max_leaf_nodes=6, n_estimators=150;, score=0.641 total time=   0.4s\n",
            "[CV 3/5] END max_depth=3, max_leaf_nodes=6, n_estimators=150;, score=0.763 total time=   0.4s\n",
            "[CV 4/5] END max_depth=3, max_leaf_nodes=6, n_estimators=150;, score=0.645 total time=   0.4s\n",
            "[CV 5/5] END max_depth=3, max_leaf_nodes=6, n_estimators=150;, score=0.414 total time=   0.4s\n",
            "[CV 1/5] END max_depth=3, max_leaf_nodes=9, n_estimators=25;, score=0.510 total time=   0.1s\n",
            "[CV 2/5] END max_depth=3, max_leaf_nodes=9, n_estimators=25;, score=0.673 total time=   0.1s\n",
            "[CV 3/5] END max_depth=3, max_leaf_nodes=9, n_estimators=25;, score=0.783 total time=   0.1s\n",
            "[CV 4/5] END max_depth=3, max_leaf_nodes=9, n_estimators=25;, score=0.618 total time=   0.1s\n",
            "[CV 5/5] END max_depth=3, max_leaf_nodes=9, n_estimators=25;, score=0.434 total time=   0.1s\n",
            "[CV 1/5] END max_depth=3, max_leaf_nodes=9, n_estimators=50;, score=0.529 total time=   0.1s\n",
            "[CV 2/5] END max_depth=3, max_leaf_nodes=9, n_estimators=50;, score=0.654 total time=   0.2s\n",
            "[CV 3/5] END max_depth=3, max_leaf_nodes=9, n_estimators=50;, score=0.770 total time=   0.2s\n",
            "[CV 4/5] END max_depth=3, max_leaf_nodes=9, n_estimators=50;, score=0.566 total time=   0.2s\n",
            "[CV 5/5] END max_depth=3, max_leaf_nodes=9, n_estimators=50;, score=0.539 total time=   0.2s\n",
            "[CV 1/5] END max_depth=3, max_leaf_nodes=9, n_estimators=100;, score=0.516 total time=   0.4s\n",
            "[CV 2/5] END max_depth=3, max_leaf_nodes=9, n_estimators=100;, score=0.660 total time=   0.4s\n",
            "[CV 3/5] END max_depth=3, max_leaf_nodes=9, n_estimators=100;, score=0.776 total time=   0.4s\n",
            "[CV 4/5] END max_depth=3, max_leaf_nodes=9, n_estimators=100;, score=0.658 total time=   0.4s\n",
            "[CV 5/5] END max_depth=3, max_leaf_nodes=9, n_estimators=100;, score=0.441 total time=   0.4s\n",
            "[CV 1/5] END max_depth=3, max_leaf_nodes=9, n_estimators=150;, score=0.490 total time=   0.6s\n",
            "[CV 2/5] END max_depth=3, max_leaf_nodes=9, n_estimators=150;, score=0.673 total time=   0.6s\n",
            "[CV 3/5] END max_depth=3, max_leaf_nodes=9, n_estimators=150;, score=0.757 total time=   0.4s\n",
            "[CV 4/5] END max_depth=3, max_leaf_nodes=9, n_estimators=150;, score=0.645 total time=   0.4s\n",
            "[CV 5/5] END max_depth=3, max_leaf_nodes=9, n_estimators=150;, score=0.428 total time=   0.4s\n",
            "[CV 1/5] END max_depth=6, max_leaf_nodes=3, n_estimators=25;, score=0.516 total time=   0.1s\n",
            "[CV 2/5] END max_depth=6, max_leaf_nodes=3, n_estimators=25;, score=0.621 total time=   0.1s\n",
            "[CV 3/5] END max_depth=6, max_leaf_nodes=3, n_estimators=25;, score=0.684 total time=   0.1s\n",
            "[CV 4/5] END max_depth=6, max_leaf_nodes=3, n_estimators=25;, score=0.625 total time=   0.1s\n",
            "[CV 5/5] END max_depth=6, max_leaf_nodes=3, n_estimators=25;, score=0.618 total time=   0.1s\n",
            "[CV 1/5] END max_depth=6, max_leaf_nodes=3, n_estimators=50;, score=0.575 total time=   0.1s\n",
            "[CV 2/5] END max_depth=6, max_leaf_nodes=3, n_estimators=50;, score=0.569 total time=   0.1s\n",
            "[CV 3/5] END max_depth=6, max_leaf_nodes=3, n_estimators=50;, score=0.684 total time=   0.1s\n",
            "[CV 4/5] END max_depth=6, max_leaf_nodes=3, n_estimators=50;, score=0.658 total time=   0.1s\n",
            "[CV 5/5] END max_depth=6, max_leaf_nodes=3, n_estimators=50;, score=0.605 total time=   0.1s\n",
            "[CV 1/5] END max_depth=6, max_leaf_nodes=3, n_estimators=100;, score=0.575 total time=   0.3s\n",
            "[CV 2/5] END max_depth=6, max_leaf_nodes=3, n_estimators=100;, score=0.673 total time=   0.3s\n",
            "[CV 3/5] END max_depth=6, max_leaf_nodes=3, n_estimators=100;, score=0.724 total time=   0.3s\n",
            "[CV 4/5] END max_depth=6, max_leaf_nodes=3, n_estimators=100;, score=0.658 total time=   0.3s\n",
            "[CV 5/5] END max_depth=6, max_leaf_nodes=3, n_estimators=100;, score=0.513 total time=   0.3s\n",
            "[CV 1/5] END max_depth=6, max_leaf_nodes=3, n_estimators=150;, score=0.569 total time=   0.4s\n",
            "[CV 2/5] END max_depth=6, max_leaf_nodes=3, n_estimators=150;, score=0.634 total time=   0.4s\n",
            "[CV 3/5] END max_depth=6, max_leaf_nodes=3, n_estimators=150;, score=0.678 total time=   0.4s\n",
            "[CV 4/5] END max_depth=6, max_leaf_nodes=3, n_estimators=150;, score=0.658 total time=   0.4s\n",
            "[CV 5/5] END max_depth=6, max_leaf_nodes=3, n_estimators=150;, score=0.632 total time=   0.4s\n",
            "[CV 1/5] END max_depth=6, max_leaf_nodes=6, n_estimators=25;, score=0.464 total time=   0.1s\n",
            "[CV 2/5] END max_depth=6, max_leaf_nodes=6, n_estimators=25;, score=0.641 total time=   0.1s\n",
            "[CV 3/5] END max_depth=6, max_leaf_nodes=6, n_estimators=25;, score=0.730 total time=   0.1s\n",
            "[CV 4/5] END max_depth=6, max_leaf_nodes=6, n_estimators=25;, score=0.612 total time=   0.1s\n",
            "[CV 5/5] END max_depth=6, max_leaf_nodes=6, n_estimators=25;, score=0.474 total time=   0.1s\n",
            "[CV 1/5] END max_depth=6, max_leaf_nodes=6, n_estimators=50;, score=0.516 total time=   0.1s\n",
            "[CV 2/5] END max_depth=6, max_leaf_nodes=6, n_estimators=50;, score=0.667 total time=   0.1s\n",
            "[CV 3/5] END max_depth=6, max_leaf_nodes=6, n_estimators=50;, score=0.717 total time=   0.2s\n",
            "[CV 4/5] END max_depth=6, max_leaf_nodes=6, n_estimators=50;, score=0.671 total time=   0.2s\n",
            "[CV 5/5] END max_depth=6, max_leaf_nodes=6, n_estimators=50;, score=0.566 total time=   0.2s\n",
            "[CV 1/5] END max_depth=6, max_leaf_nodes=6, n_estimators=100;, score=0.497 total time=   0.3s\n",
            "[CV 2/5] END max_depth=6, max_leaf_nodes=6, n_estimators=100;, score=0.647 total time=   0.3s\n",
            "[CV 3/5] END max_depth=6, max_leaf_nodes=6, n_estimators=100;, score=0.717 total time=   0.3s\n",
            "[CV 4/5] END max_depth=6, max_leaf_nodes=6, n_estimators=100;, score=0.645 total time=   0.3s\n",
            "[CV 5/5] END max_depth=6, max_leaf_nodes=6, n_estimators=100;, score=0.467 total time=   0.3s\n",
            "[CV 1/5] END max_depth=6, max_leaf_nodes=6, n_estimators=150;, score=0.516 total time=   0.4s\n",
            "[CV 2/5] END max_depth=6, max_leaf_nodes=6, n_estimators=150;, score=0.667 total time=   0.4s\n",
            "[CV 3/5] END max_depth=6, max_leaf_nodes=6, n_estimators=150;, score=0.737 total time=   0.4s\n",
            "[CV 4/5] END max_depth=6, max_leaf_nodes=6, n_estimators=150;, score=0.618 total time=   0.5s\n",
            "[CV 5/5] END max_depth=6, max_leaf_nodes=6, n_estimators=150;, score=0.454 total time=   0.7s\n",
            "[CV 1/5] END max_depth=6, max_leaf_nodes=9, n_estimators=25;, score=0.542 total time=   0.1s\n",
            "[CV 2/5] END max_depth=6, max_leaf_nodes=9, n_estimators=25;, score=0.712 total time=   0.1s\n",
            "[CV 3/5] END max_depth=6, max_leaf_nodes=9, n_estimators=25;, score=0.803 total time=   0.1s\n",
            "[CV 4/5] END max_depth=6, max_leaf_nodes=9, n_estimators=25;, score=0.664 total time=   0.1s\n",
            "[CV 5/5] END max_depth=6, max_leaf_nodes=9, n_estimators=25;, score=0.474 total time=   0.1s\n",
            "[CV 1/5] END max_depth=6, max_leaf_nodes=9, n_estimators=50;, score=0.556 total time=   0.3s\n",
            "[CV 2/5] END max_depth=6, max_leaf_nodes=9, n_estimators=50;, score=0.673 total time=   0.2s\n",
            "[CV 3/5] END max_depth=6, max_leaf_nodes=9, n_estimators=50;, score=0.816 total time=   0.2s\n",
            "[CV 4/5] END max_depth=6, max_leaf_nodes=9, n_estimators=50;, score=0.638 total time=   0.2s\n",
            "[CV 5/5] END max_depth=6, max_leaf_nodes=9, n_estimators=50;, score=0.507 total time=   0.2s\n",
            "[CV 1/5] END max_depth=6, max_leaf_nodes=9, n_estimators=100;, score=0.542 total time=   0.5s\n",
            "[CV 2/5] END max_depth=6, max_leaf_nodes=9, n_estimators=100;, score=0.693 total time=   0.5s\n",
            "[CV 3/5] END max_depth=6, max_leaf_nodes=9, n_estimators=100;, score=0.776 total time=   0.5s\n",
            "[CV 4/5] END max_depth=6, max_leaf_nodes=9, n_estimators=100;, score=0.645 total time=   0.4s\n",
            "[CV 5/5] END max_depth=6, max_leaf_nodes=9, n_estimators=100;, score=0.513 total time=   0.3s\n",
            "[CV 1/5] END max_depth=6, max_leaf_nodes=9, n_estimators=150;, score=0.523 total time=   0.5s\n",
            "[CV 2/5] END max_depth=6, max_leaf_nodes=9, n_estimators=150;, score=0.699 total time=   0.5s\n",
            "[CV 3/5] END max_depth=6, max_leaf_nodes=9, n_estimators=150;, score=0.757 total time=   0.5s\n",
            "[CV 4/5] END max_depth=6, max_leaf_nodes=9, n_estimators=150;, score=0.658 total time=   0.5s\n",
            "[CV 5/5] END max_depth=6, max_leaf_nodes=9, n_estimators=150;, score=0.480 total time=   0.5s\n",
            "[CV 1/5] END max_depth=9, max_leaf_nodes=3, n_estimators=25;, score=0.536 total time=   0.1s\n",
            "[CV 2/5] END max_depth=9, max_leaf_nodes=3, n_estimators=25;, score=0.562 total time=   0.1s\n",
            "[CV 3/5] END max_depth=9, max_leaf_nodes=3, n_estimators=25;, score=0.605 total time=   0.1s\n",
            "[CV 4/5] END max_depth=9, max_leaf_nodes=3, n_estimators=25;, score=0.592 total time=   0.1s\n",
            "[CV 5/5] END max_depth=9, max_leaf_nodes=3, n_estimators=25;, score=0.612 total time=   0.1s\n",
            "[CV 1/5] END max_depth=9, max_leaf_nodes=3, n_estimators=50;, score=0.569 total time=   0.1s\n",
            "[CV 2/5] END max_depth=9, max_leaf_nodes=3, n_estimators=50;, score=0.601 total time=   0.1s\n",
            "[CV 3/5] END max_depth=9, max_leaf_nodes=3, n_estimators=50;, score=0.717 total time=   0.1s\n",
            "[CV 4/5] END max_depth=9, max_leaf_nodes=3, n_estimators=50;, score=0.658 total time=   0.1s\n",
            "[CV 5/5] END max_depth=9, max_leaf_nodes=3, n_estimators=50;, score=0.599 total time=   0.1s\n",
            "[CV 1/5] END max_depth=9, max_leaf_nodes=3, n_estimators=100;, score=0.556 total time=   0.3s\n",
            "[CV 2/5] END max_depth=9, max_leaf_nodes=3, n_estimators=100;, score=0.595 total time=   0.3s\n",
            "[CV 3/5] END max_depth=9, max_leaf_nodes=3, n_estimators=100;, score=0.711 total time=   0.3s\n",
            "[CV 4/5] END max_depth=9, max_leaf_nodes=3, n_estimators=100;, score=0.632 total time=   0.3s\n",
            "[CV 5/5] END max_depth=9, max_leaf_nodes=3, n_estimators=100;, score=0.618 total time=   0.3s\n",
            "[CV 1/5] END max_depth=9, max_leaf_nodes=3, n_estimators=150;, score=0.575 total time=   0.4s\n",
            "[CV 2/5] END max_depth=9, max_leaf_nodes=3, n_estimators=150;, score=0.621 total time=   0.4s\n",
            "[CV 3/5] END max_depth=9, max_leaf_nodes=3, n_estimators=150;, score=0.730 total time=   0.4s\n",
            "[CV 4/5] END max_depth=9, max_leaf_nodes=3, n_estimators=150;, score=0.651 total time=   0.4s\n",
            "[CV 5/5] END max_depth=9, max_leaf_nodes=3, n_estimators=150;, score=0.612 total time=   0.4s\n",
            "[CV 1/5] END max_depth=9, max_leaf_nodes=6, n_estimators=25;, score=0.510 total time=   0.1s\n",
            "[CV 2/5] END max_depth=9, max_leaf_nodes=6, n_estimators=25;, score=0.582 total time=   0.1s\n",
            "[CV 3/5] END max_depth=9, max_leaf_nodes=6, n_estimators=25;, score=0.671 total time=   0.1s\n",
            "[CV 4/5] END max_depth=9, max_leaf_nodes=6, n_estimators=25;, score=0.592 total time=   0.1s\n",
            "[CV 5/5] END max_depth=9, max_leaf_nodes=6, n_estimators=25;, score=0.461 total time=   0.1s\n",
            "[CV 1/5] END max_depth=9, max_leaf_nodes=6, n_estimators=50;, score=0.510 total time=   0.2s\n",
            "[CV 2/5] END max_depth=9, max_leaf_nodes=6, n_estimators=50;, score=0.654 total time=   0.1s\n",
            "[CV 3/5] END max_depth=9, max_leaf_nodes=6, n_estimators=50;, score=0.763 total time=   0.1s\n",
            "[CV 4/5] END max_depth=9, max_leaf_nodes=6, n_estimators=50;, score=0.658 total time=   0.1s\n",
            "[CV 5/5] END max_depth=9, max_leaf_nodes=6, n_estimators=50;, score=0.454 total time=   0.1s\n",
            "[CV 1/5] END max_depth=9, max_leaf_nodes=6, n_estimators=100;, score=0.503 total time=   0.3s\n",
            "[CV 2/5] END max_depth=9, max_leaf_nodes=6, n_estimators=100;, score=0.680 total time=   0.3s\n",
            "[CV 3/5] END max_depth=9, max_leaf_nodes=6, n_estimators=100;, score=0.697 total time=   0.3s\n",
            "[CV 4/5] END max_depth=9, max_leaf_nodes=6, n_estimators=100;, score=0.658 total time=   0.3s\n",
            "[CV 5/5] END max_depth=9, max_leaf_nodes=6, n_estimators=100;, score=0.507 total time=   0.4s\n",
            "[CV 1/5] END max_depth=9, max_leaf_nodes=6, n_estimators=150;, score=0.503 total time=   0.7s\n",
            "[CV 2/5] END max_depth=9, max_leaf_nodes=6, n_estimators=150;, score=0.660 total time=   0.7s\n",
            "[CV 3/5] END max_depth=9, max_leaf_nodes=6, n_estimators=150;, score=0.697 total time=   0.7s\n",
            "[CV 4/5] END max_depth=9, max_leaf_nodes=6, n_estimators=150;, score=0.612 total time=   0.7s\n",
            "[CV 5/5] END max_depth=9, max_leaf_nodes=6, n_estimators=150;, score=0.467 total time=   0.7s\n",
            "[CV 1/5] END max_depth=9, max_leaf_nodes=9, n_estimators=25;, score=0.569 total time=   0.1s\n",
            "[CV 2/5] END max_depth=9, max_leaf_nodes=9, n_estimators=25;, score=0.673 total time=   0.1s\n",
            "[CV 3/5] END max_depth=9, max_leaf_nodes=9, n_estimators=25;, score=0.737 total time=   0.1s\n",
            "[CV 4/5] END max_depth=9, max_leaf_nodes=9, n_estimators=25;, score=0.605 total time=   0.1s\n",
            "[CV 5/5] END max_depth=9, max_leaf_nodes=9, n_estimators=25;, score=0.480 total time=   0.1s\n",
            "[CV 1/5] END max_depth=9, max_leaf_nodes=9, n_estimators=50;, score=0.503 total time=   0.2s\n",
            "[CV 2/5] END max_depth=9, max_leaf_nodes=9, n_estimators=50;, score=0.752 total time=   0.2s\n",
            "[CV 3/5] END max_depth=9, max_leaf_nodes=9, n_estimators=50;, score=0.743 total time=   0.2s\n",
            "[CV 4/5] END max_depth=9, max_leaf_nodes=9, n_estimators=50;, score=0.651 total time=   0.2s\n",
            "[CV 5/5] END max_depth=9, max_leaf_nodes=9, n_estimators=50;, score=0.526 total time=   0.2s\n",
            "[CV 1/5] END max_depth=9, max_leaf_nodes=9, n_estimators=100;, score=0.549 total time=   0.3s\n",
            "[CV 2/5] END max_depth=9, max_leaf_nodes=9, n_estimators=100;, score=0.693 total time=   0.3s\n",
            "[CV 3/5] END max_depth=9, max_leaf_nodes=9, n_estimators=100;, score=0.789 total time=   0.3s\n",
            "[CV 4/5] END max_depth=9, max_leaf_nodes=9, n_estimators=100;, score=0.678 total time=   0.3s\n",
            "[CV 5/5] END max_depth=9, max_leaf_nodes=9, n_estimators=100;, score=0.487 total time=   0.3s\n",
            "[CV 1/5] END max_depth=9, max_leaf_nodes=9, n_estimators=150;, score=0.529 total time=   0.5s\n",
            "[CV 2/5] END max_depth=9, max_leaf_nodes=9, n_estimators=150;, score=0.712 total time=   0.5s\n",
            "[CV 3/5] END max_depth=9, max_leaf_nodes=9, n_estimators=150;, score=0.783 total time=   0.5s\n",
            "[CV 4/5] END max_depth=9, max_leaf_nodes=9, n_estimators=150;, score=0.684 total time=   0.5s\n",
            "[CV 5/5] END max_depth=9, max_leaf_nodes=9, n_estimators=150;, score=0.441 total time=   0.5s\n",
            "Best parameter for Binary Classification :  {'max_depth': 3, 'max_leaf_nodes': 6, 'n_estimators': 50}\n",
            "Best score  for Binary Classification:  0.7033711730306157\n",
            "Best parameter  for Quaternary Classification:  {'max_depth': 9, 'max_leaf_nodes': 9, 'n_estimators': 100}\n",
            "Best score  for Quaternaery Classification:  0.639155486756106\n"
          ]
        }
      ]
    },
    {
      "cell_type": "markdown",
      "source": [
        "#### Task 6"
      ],
      "metadata": {
        "id": "z6vFnfdIr7yb"
      }
    },
    {
      "cell_type": "markdown",
      "source": [
        "Feature importance is a technique used in machine learning to determine the relevance or importance of each feature (also known as variable or predictor) in predicting the target variable. There are different methods to calculate feature importance, and the choice of method depends on the type of model and the data.\n",
        "\n",
        "Here are some common methods to calculate feature importance:\n",
        "\n",
        "- Coefficient of the model: In linear regression models, the coefficients represent the importance of each feature. Features with larger absolute values of coefficients are more important than features with smaller coefficients.\n",
        "\n",
        "- Feature importance from decision trees: Decision tree-based models, such as random forest and gradient boosting, can provide feature importance measures based on the number of times a feature is used to split the data and the reduction in impurity achieved by each split.\n",
        "\n",
        "- Permutation feature importance: Permutation feature importance is a model-agnostic method that works for any type of model. It involves randomly permuting the values of each feature and measuring the drop in the model's performance (e.g., accuracy or AUC) when the feature is shuffled. Features that result in the largest drop in performance are considered more important.\n",
        "\n",
        "- SHapley Additive exPlanations (SHAP): SHAP is a method to calculate feature importance in black-box models. It is based on the concept of Shapley values from cooperative game theory and provides a unified framework to explain the contribution of each feature to the prediction of the target variable.\n",
        "\n",
        "To determine if the same proteins are important for each model, you can calculate the feature importance for each model using one or more of these methods and compare the results. If the same proteins consistently appear as important across different models, it suggests that these proteins are indeed important predictors of the target variable. However, if the importance rankings of features vary greatly between models, it may indicate that the models have learned different patterns in the data and that different features are important for each model."
      ],
      "metadata": {
        "id": "d1MAbl5NRlhE"
      }
    },
    {
      "cell_type": "code",
      "source": [
        "clf=SVC(kernel='linear')\n",
        "print(\"For Binary Classification\")\n",
        "clf.fit(X_train,y1)\n",
        "coef = clf.coef_\n",
        "feature_importance = pd.DataFrame(coef.T, index=datafile.iloc[:, :-2].columns, columns=[\"importance\"])\n",
        "feature_importance = feature_importance.abs()\n",
        "feature_importance = feature_importance.sort_values(by='importance', ascending = False)\n",
        "print(feature_importance)\n"
      ],
      "metadata": {
        "colab": {
          "base_uri": "https://localhost:8080/"
        },
        "id": "nnNyzGC0eA9r",
        "outputId": "7ba6671d-2a39-44de-e104-1fc771719b7e"
      },
      "execution_count": 25,
      "outputs": [
        {
          "output_type": "stream",
          "name": "stdout",
          "text": [
            "For Binary Classification\n",
            "          importance\n",
            "ITSN1_N     2.817677\n",
            "ERK_N       2.077392\n",
            "APP_N       1.869730\n",
            "TRKA_N      1.309242\n",
            "ELK_N       1.298622\n",
            "...              ...\n",
            "CDK5_N      0.064205\n",
            "pBRAF_N     0.056110\n",
            "pCASP9_N    0.049783\n",
            "RRP1_N      0.028453\n",
            "BAX_N       0.025712\n",
            "\n",
            "[69 rows x 1 columns]\n"
          ]
        }
      ]
    },
    {
      "cell_type": "markdown",
      "source": [
        "the above code doesn't work for rbf kernel and random forest classifier"
      ],
      "metadata": {
        "id": "i3uEGNZe6a8g"
      }
    },
    {
      "cell_type": "code",
      "source": [
        "model1 = SVC(kernel='rbf')\n",
        "model1.fit(X_train, y1)\n",
        "model2 = SVC(kernel='rbf')\n",
        "model2.fit(X_train, y2) \n",
        "print(\"Binary Classification\")\n",
        "# print(\"Cofficients\",model1.feature_importances_)\n",
        "result = permutation_importance(model1, X_train, y1, n_repeats=10, random_state=42)\n",
        "# Sort features by importance score in descending order\n",
        "importances = result.importances_mean\n",
        "indices = np.argsort(importances)[::-1]\n",
        "\n",
        "# Print feature importance scores\n",
        "for f in range(X_train.shape[1]):\n",
        "    print(\"%d. %s (%f)\" % (f + 1, datafile.iloc[:, :-2].columns[indices[f]], importances[indices[f]]))"
      ],
      "metadata": {
        "colab": {
          "base_uri": "https://localhost:8080/"
        },
        "id": "EGnYfN3P41Hx",
        "outputId": "f122192c-216d-4d15-87f2-cb5c6b0aecfc"
      },
      "execution_count": 26,
      "outputs": [
        {
          "output_type": "stream",
          "name": "stdout",
          "text": [
            "Binary Classification\n",
            "1. APP_N (0.036483)\n",
            "2. ITSN1_N (0.002362)\n",
            "3. PSD95_N (0.001837)\n",
            "4. DSCR1_N (0.001575)\n",
            "5. CaNA_N (0.001444)\n",
            "6. GluR3_N (0.001312)\n",
            "7. TRKA_N (0.001181)\n",
            "8. TIAM1_N (0.001050)\n",
            "9. pAKT_N (0.000919)\n",
            "10. pCASP9_N (0.000919)\n",
            "11. RRP1_N (0.000656)\n",
            "12. GluR4_N (0.000656)\n",
            "13. AcetylH3K9_N (0.000656)\n",
            "14. Ubiquitin_N (0.000525)\n",
            "15. SHH_N (0.000525)\n",
            "16. AMPKA_N (0.000394)\n",
            "17. pNUMB_N (0.000262)\n",
            "18. ERBB4_N (0.000262)\n",
            "19. ELK_N (0.000262)\n",
            "20. AKT_N (0.000131)\n",
            "21. pMTOR_N (0.000131)\n",
            "22. pMEK_N (0.000131)\n",
            "23. pS6_N (0.000131)\n",
            "24. pPKCAB_N (0.000131)\n",
            "25. MTOR_N (0.000131)\n",
            "26. ERK_N (0.000131)\n",
            "27. ARC_N (0.000131)\n",
            "28. BDNF_N (0.000131)\n",
            "29. GSK3B_N (0.000131)\n",
            "30. pERK_N (0.000131)\n",
            "31. pELK_N (0.000131)\n",
            "32. pBRAF_N (0.000000)\n",
            "33. NR1_N (0.000000)\n",
            "34. NR2A_N (0.000000)\n",
            "35. CREB_N (0.000000)\n",
            "36. BRAF_N (0.000000)\n",
            "37. pNR1_N (0.000000)\n",
            "38. pCAMKII_N (0.000000)\n",
            "39. pNR2A_N (0.000000)\n",
            "40. pCREB_N (0.000000)\n",
            "41. pRSK_N (0.000000)\n",
            "42. pJNK_N (0.000000)\n",
            "43. pNR2B_N (0.000000)\n",
            "44. PKCA_N (0.000000)\n",
            "45. pGSK3B_Tyr216_N (0.000000)\n",
            "46. JNK_N (0.000000)\n",
            "47. MEK_N (0.000000)\n",
            "48. SNCA_N (0.000000)\n",
            "49. P3525_N (0.000000)\n",
            "50. IL1B_N (0.000000)\n",
            "51. GFAP_N (0.000000)\n",
            "52. Tau_N (0.000000)\n",
            "53. nNOS_N (0.000000)\n",
            "54. BAX_N (0.000000)\n",
            "55. ADARB1_N (0.000000)\n",
            "56. S6_N (0.000000)\n",
            "57. CDK5_N (0.000000)\n",
            "58. pPKCG_N (0.000000)\n",
            "59. pGSK3B_N (0.000000)\n",
            "60. P70S6_N (0.000000)\n",
            "61. NUMB_N (0.000000)\n",
            "62. pP70S6_N (0.000000)\n",
            "63. RAPTOR_N (0.000000)\n",
            "64. NR2B_N (0.000000)\n",
            "65. pCFOS_N (0.000000)\n",
            "66. SOD1_N (0.000000)\n",
            "67. Bcatenin_N (0.000000)\n",
            "68. RSK_N (0.000000)\n",
            "69. P38_N (0.000000)\n"
          ]
        }
      ]
    },
    {
      "cell_type": "code",
      "source": [
        "print(\"Quatenary Classification\")\n",
        "# print(\"Cofficients\",model1.feature_importances_)\n",
        "result = permutation_importance(model2, X_train, y2, n_repeats=10, random_state=42)\n",
        "# Sort features by importance score in descending order\n",
        "importances = result.importances_mean\n",
        "indices = np.argsort(importances)[::-1]\n",
        "\n",
        "# Print feature importance scores\n",
        "for f in range(X_train.shape[1]):\n",
        "    print(\"%d. %s (%f)\" % (f + 1, datafile.iloc[:, :-2].columns[indices[f]], importances[indices[f]]))"
      ],
      "metadata": {
        "colab": {
          "base_uri": "https://localhost:8080/"
        },
        "id": "QuOUqYTby4Wa",
        "outputId": "32b72afd-658b-4b31-9f46-78fb5e9754b4"
      },
      "execution_count": 27,
      "outputs": [
        {
          "output_type": "stream",
          "name": "stdout",
          "text": [
            "Quatenary Classification\n",
            "1. RRP1_N (0.001050)\n",
            "2. GluR4_N (0.000919)\n",
            "3. pPKCAB_N (0.000787)\n",
            "4. pCAMKII_N (0.000525)\n",
            "5. NUMB_N (0.000394)\n",
            "6. nNOS_N (0.000394)\n",
            "7. pERK_N (0.000394)\n",
            "8. pNUMB_N (0.000262)\n",
            "9. ADARB1_N (0.000262)\n",
            "10. pCASP9_N (0.000262)\n",
            "11. BRAF_N (0.000131)\n",
            "12. pPKCG_N (0.000131)\n",
            "13. CDK5_N (0.000131)\n",
            "14. pRSK_N (0.000131)\n",
            "15. AKT_N (0.000131)\n",
            "16. SOD1_N (0.000131)\n",
            "17. BAX_N (0.000131)\n",
            "18. ITSN1_N (0.000131)\n",
            "19. pJNK_N (0.000131)\n",
            "20. pGSK3B_Tyr216_N (0.000131)\n",
            "21. MEK_N (0.000000)\n",
            "22. CREB_N (0.000000)\n",
            "23. JNK_N (0.000000)\n",
            "24. ELK_N (0.000000)\n",
            "25. GSK3B_N (0.000000)\n",
            "26. ERK_N (0.000000)\n",
            "27. pNR1_N (0.000000)\n",
            "28. pNR2B_N (0.000000)\n",
            "29. pNR2A_N (0.000000)\n",
            "30. RSK_N (0.000000)\n",
            "31. pMEK_N (0.000000)\n",
            "32. PKCA_N (0.000000)\n",
            "33. pELK_N (0.000000)\n",
            "34. pCREB_N (0.000000)\n",
            "35. pBRAF_N (0.000000)\n",
            "36. pAKT_N (0.000000)\n",
            "37. NR2A_N (0.000000)\n",
            "38. NR1_N (0.000000)\n",
            "39. BDNF_N (0.000000)\n",
            "40. TRKA_N (0.000000)\n",
            "41. CaNA_N (0.000000)\n",
            "42. APP_N (0.000000)\n",
            "43. Bcatenin_N (0.000000)\n",
            "44. pS6_N (0.000000)\n",
            "45. SHH_N (0.000000)\n",
            "46. Ubiquitin_N (0.000000)\n",
            "47. SNCA_N (0.000000)\n",
            "48. PSD95_N (0.000000)\n",
            "49. P3525_N (0.000000)\n",
            "50. IL1B_N (0.000000)\n",
            "51. GluR3_N (0.000000)\n",
            "52. GFAP_N (0.000000)\n",
            "53. Tau_N (0.000000)\n",
            "54. ERBB4_N (0.000000)\n",
            "55. ARC_N (0.000000)\n",
            "56. AcetylH3K9_N (0.000000)\n",
            "57. S6_N (0.000000)\n",
            "58. pGSK3B_N (0.000000)\n",
            "59. P70S6_N (0.000000)\n",
            "60. pP70S6_N (0.000000)\n",
            "61. TIAM1_N (0.000000)\n",
            "62. RAPTOR_N (0.000000)\n",
            "63. NR2B_N (0.000000)\n",
            "64. AMPKA_N (0.000000)\n",
            "65. pCFOS_N (0.000000)\n",
            "66. pMTOR_N (0.000000)\n",
            "67. P38_N (0.000000)\n",
            "68. MTOR_N (0.000000)\n",
            "69. DSCR1_N (0.000000)\n"
          ]
        }
      ]
    },
    {
      "cell_type": "markdown",
      "source": [
        "Feature Importance for Random Forest Classifier"
      ],
      "metadata": {
        "id": "nSyDtpIBc7Lh"
      }
    },
    {
      "cell_type": "code",
      "source": [
        "clf=RandomForestClassifier()\n",
        "print(\"For Binary Classification\")\n",
        "clf.fit(X_train,y1)\n",
        "coef = clf.feature_importances_\n",
        "#print(\"Cofficients\",model1.feature_importances_)\n",
        "feature_importance = pd.DataFrame(coef.T, index=datafile.iloc[:, :-2].columns, columns=[\"importance\"])\n",
        "feature_importance = feature_importance.abs()\n",
        "feature_importance = feature_importance.sort_values(by='importance', ascending = False)\n",
        "print(feature_importance)\n",
        "print(\"For Quaternary Classification\")\n",
        "clf2=RandomForestClassifier()\n",
        "clf2.fit(X_train,y2)\n",
        "coef2 = clf2.feature_importances_\n",
        "#print(\"Cofficients\",model1.feature_importances_)\n",
        "feature_importance = pd.DataFrame(coef2.T, index=datafile.iloc[:, :-2].columns, columns=[\"importance\"])\n",
        "feature_importance = feature_importance.abs()\n",
        "feature_importance = feature_importance.sort_values(by='importance', ascending = False)\n",
        "print(feature_importance)\n"
      ],
      "metadata": {
        "colab": {
          "base_uri": "https://localhost:8080/"
        },
        "id": "D_tjMZNXTO0r",
        "outputId": "0140eb81-010d-4a9d-f14c-1f5259a5314c"
      },
      "execution_count": 28,
      "outputs": [
        {
          "output_type": "stream",
          "name": "stdout",
          "text": [
            "For Binary Classification\n",
            "              importance\n",
            "APP_N           0.114240\n",
            "ITSN1_N         0.056961\n",
            "AcetylH3K9_N    0.042960\n",
            "Tau_N           0.037681\n",
            "GluR3_N         0.035577\n",
            "...                  ...\n",
            "SNCA_N          0.005401\n",
            "pBRAF_N         0.005125\n",
            "SHH_N           0.004863\n",
            "Bcatenin_N      0.004517\n",
            "pNR2B_N         0.004393\n",
            "\n",
            "[69 rows x 1 columns]\n",
            "For Quaternary Classification\n",
            "           importance\n",
            "SOD1_N       0.113377\n",
            "CaNA_N       0.062538\n",
            "pERK_N       0.059710\n",
            "pCAMKII_N    0.045613\n",
            "P38_N        0.038491\n",
            "...               ...\n",
            "NR2A_N       0.004152\n",
            "AMPKA_N      0.003728\n",
            "CREB_N       0.003518\n",
            "pNR2B_N      0.003372\n",
            "BDNF_N       0.003080\n",
            "\n",
            "[69 rows x 1 columns]\n"
          ]
        }
      ]
    },
    {
      "cell_type": "code",
      "source": [
        "result1 = permutation_importance(model1, X_train, y1, n_repeats=10, random_state=42)\n",
        "for i in range(X_train.shape[1]):\n",
        "    print(f\"{i+1}. {result1.importances_mean[i]:.3f} +/- {result1.importances_std[i]:.3f}\")\n",
        "print(\"Quaternary Classification\")\n",
        "result2 = permutation_importance(model1, X_train, y2, n_repeats=10, random_state=42)\n",
        "for i in range(X.shape[1]):\n",
        "    print(f\"{i+1}. {result2.importances_mean[i]:.3f} +/- {result2.importances_std[i]:.3f}\")"
      ],
      "metadata": {
        "colab": {
          "base_uri": "https://localhost:8080/"
        },
        "id": "yziTxyD7wcTf",
        "outputId": "74607c19-2dca-4ac7-d9aa-029260a7f0f7"
      },
      "execution_count": 29,
      "outputs": [
        {
          "output_type": "stream",
          "name": "stdout",
          "text": [
            "1. 0.002 +/- 0.001\n",
            "2. 0.000 +/- 0.000\n",
            "3. 0.000 +/- 0.000\n",
            "4. 0.000 +/- 0.000\n",
            "5. 0.001 +/- 0.001\n",
            "6. 0.000 +/- 0.000\n",
            "7. 0.000 +/- 0.000\n",
            "8. 0.000 +/- 0.000\n",
            "9. 0.000 +/- 0.000\n",
            "10. 0.000 +/- 0.000\n",
            "11. 0.000 +/- 0.000\n",
            "12. 0.000 +/- 0.000\n",
            "13. 0.000 +/- 0.000\n",
            "14. 0.000 +/- 0.000\n",
            "15. 0.000 +/- 0.000\n",
            "16. 0.000 +/- 0.000\n",
            "17. 0.000 +/- 0.000\n",
            "18. 0.000 +/- 0.000\n",
            "19. 0.000 +/- 0.000\n",
            "20. 0.000 +/- 0.000\n",
            "21. 0.000 +/- 0.000\n",
            "22. 0.000 +/- 0.001\n",
            "23. 0.000 +/- 0.000\n",
            "24. 0.000 +/- 0.000\n",
            "25. 0.000 +/- 0.000\n",
            "26. 0.000 +/- 0.000\n",
            "27. 0.001 +/- 0.001\n",
            "28. 0.000 +/- 0.000\n",
            "29. 0.036 +/- 0.004\n",
            "30. 0.000 +/- 0.000\n",
            "31. 0.000 +/- 0.000\n",
            "32. 0.000 +/- 0.000\n",
            "33. 0.000 +/- 0.000\n",
            "34. 0.000 +/- 0.000\n",
            "35. 0.002 +/- 0.002\n",
            "36. 0.000 +/- 0.001\n",
            "37. 0.000 +/- 0.000\n",
            "38. 0.000 +/- 0.001\n",
            "39. 0.000 +/- 0.000\n",
            "40. 0.001 +/- 0.001\n",
            "41. 0.000 +/- 0.000\n",
            "42. 0.000 +/- 0.000\n",
            "43. 0.000 +/- 0.000\n",
            "44. 0.000 +/- 0.000\n",
            "45. 0.000 +/- 0.000\n",
            "46. 0.000 +/- 0.000\n",
            "47. 0.000 +/- 0.000\n",
            "48. 0.000 +/- 0.000\n",
            "49. 0.001 +/- 0.001\n",
            "50. 0.001 +/- 0.001\n",
            "51. 0.000 +/- 0.000\n",
            "52. 0.000 +/- 0.000\n",
            "53. 0.000 +/- 0.001\n",
            "54. 0.000 +/- 0.000\n",
            "55. 0.000 +/- 0.000\n",
            "56. 0.000 +/- 0.000\n",
            "57. 0.001 +/- 0.001\n",
            "58. 0.001 +/- 0.001\n",
            "59. 0.000 +/- 0.000\n",
            "60. 0.000 +/- 0.000\n",
            "61. 0.001 +/- 0.001\n",
            "62. 0.002 +/- 0.001\n",
            "63. 0.000 +/- 0.000\n",
            "64. 0.001 +/- 0.001\n",
            "65. 0.000 +/- 0.000\n",
            "66. 0.001 +/- 0.001\n",
            "67. 0.000 +/- 0.000\n",
            "68. 0.000 +/- 0.000\n",
            "69. 0.001 +/- 0.001\n",
            "Quaternary Classification\n",
            "1. -0.001 +/- 0.001\n",
            "2. 0.000 +/- 0.000\n",
            "3. 0.000 +/- 0.000\n",
            "4. 0.000 +/- 0.000\n",
            "5. 0.001 +/- 0.001\n",
            "6. 0.000 +/- 0.000\n",
            "7. 0.000 +/- 0.000\n",
            "8. 0.000 +/- 0.000\n",
            "9. 0.000 +/- 0.000\n",
            "10. 0.000 +/- 0.000\n",
            "11. 0.000 +/- 0.000\n",
            "12. 0.000 +/- 0.000\n",
            "13. 0.000 +/- 0.000\n",
            "14. 0.000 +/- 0.000\n",
            "15. 0.000 +/- 0.000\n",
            "16. 0.000 +/- 0.000\n",
            "17. -0.000 +/- 0.000\n",
            "18. 0.000 +/- 0.000\n",
            "19. -0.000 +/- 0.000\n",
            "20. 0.000 +/- 0.000\n",
            "21. 0.000 +/- 0.000\n",
            "22. 0.000 +/- 0.001\n",
            "23. 0.000 +/- 0.000\n",
            "24. 0.000 +/- 0.000\n",
            "25. 0.000 +/- 0.000\n",
            "26. 0.000 +/- 0.000\n",
            "27. -0.001 +/- 0.001\n",
            "28. 0.000 +/- 0.000\n",
            "29. -0.005 +/- 0.005\n",
            "30. 0.000 +/- 0.000\n",
            "31. 0.000 +/- 0.000\n",
            "32. -0.000 +/- 0.000\n",
            "33. 0.000 +/- 0.000\n",
            "34. 0.000 +/- 0.000\n",
            "35. 0.001 +/- 0.002\n",
            "36. 0.000 +/- 0.001\n",
            "37. 0.000 +/- 0.000\n",
            "38. 0.000 +/- 0.001\n",
            "39. 0.000 +/- 0.000\n",
            "40. 0.001 +/- 0.001\n",
            "41. 0.000 +/- 0.000\n",
            "42. 0.000 +/- 0.000\n",
            "43. 0.000 +/- 0.000\n",
            "44. 0.000 +/- 0.000\n",
            "45. 0.000 +/- 0.000\n",
            "46. 0.000 +/- 0.000\n",
            "47. 0.000 +/- 0.000\n",
            "48. 0.000 +/- 0.000\n",
            "49. 0.001 +/- 0.001\n",
            "50. 0.000 +/- 0.001\n",
            "51. 0.000 +/- 0.000\n",
            "52. 0.000 +/- 0.000\n",
            "53. 0.000 +/- 0.001\n",
            "54. 0.000 +/- 0.000\n",
            "55. 0.000 +/- 0.000\n",
            "56. 0.000 +/- 0.000\n",
            "57. 0.001 +/- 0.001\n",
            "58. -0.000 +/- 0.001\n",
            "59. 0.000 +/- 0.000\n",
            "60. 0.000 +/- 0.000\n",
            "61. 0.001 +/- 0.001\n",
            "62. 0.001 +/- 0.001\n",
            "63. 0.000 +/- 0.000\n",
            "64. 0.001 +/- 0.001\n",
            "65. 0.000 +/- 0.000\n",
            "66. -0.001 +/- 0.001\n",
            "67. 0.000 +/- 0.000\n",
            "68. 0.000 +/- 0.000\n",
            "69. -0.001 +/- 0.001\n"
          ]
        }
      ]
    },
    {
      "cell_type": "markdown",
      "source": [],
      "metadata": {
        "id": "HqW1Lu1C1GIA"
      }
    },
    {
      "cell_type": "markdown",
      "source": [
        "We are not able to get anything out using permutation importance as most of the values are zero."
      ],
      "metadata": {
        "id": "L-4Ix_Sq63mu"
      }
    },
    {
      "cell_type": "markdown",
      "source": [
        "Feature Importance for Neural Network with Single Relu Hidden Layer "
      ],
      "metadata": {
        "id": "STbcFUgU0zvb"
      }
    },
    {
      "cell_type": "code",
      "source": [
        "print(\"Binary Classification\")\n",
        "clf_nn = MLPClassifier(activation='relu', solver='adam', random_state=42).fit(X_train, y1)\n",
        "result = permutation_importance(clf_nn, X_train, y1, n_repeats=10, random_state=42)\n",
        "importances = result.importances_mean\n",
        "std = result.importances_std\n",
        "feature_names = datafile.iloc[:, :-2].columns\n",
        "indices = importances.argsort()[::-1][:10]\n",
        "\n",
        "# Print the names and importances of the most important features\n",
        "print(\"Top 10 Features:\")\n",
        "for i in indices:\n",
        "    print(f\"{feature_names[i]}: {importances[i]} +/- {std[i]}\")"
      ],
      "metadata": {
        "colab": {
          "base_uri": "https://localhost:8080/"
        },
        "id": "qm4fHk5YiF69",
        "outputId": "22136e21-e3ed-4086-e9f1-7f3f1ed00518"
      },
      "execution_count": 30,
      "outputs": [
        {
          "output_type": "stream",
          "name": "stdout",
          "text": [
            "Binary Classification\n",
            "Top 10 Features:\n",
            "APP_N: 0.031496062992126 +/- 0.005956328460845252\n",
            "TIAM1_N: 0.014173228346456701 +/- 0.0022578281540794275\n",
            "ITSN1_N: 0.010236220472440948 +/- 0.0024761105333482095\n",
            "TRKA_N: 0.008661417322834652 +/- 0.002211587866975441\n",
            "DSCR1_N: 0.008136482939632539 +/- 0.003655744954641514\n",
            "ERK_N: 0.003937007874015752 +/- 0.0013123359580052617\n",
            "AcetylH3K9_N: 0.0023622047244094557 +/- 0.001530433568200859\n",
            "GluR3_N: 0.0023622047244094336 +/- 0.0007874015748031261\n",
            "MTOR_N: 0.002230971128608916 +/- 0.0008403050180357806\n",
            "AMPKA_N: 0.002099737532808399 +/- 0.001202775772954272\n"
          ]
        }
      ]
    },
    {
      "cell_type": "code",
      "source": [
        "print(\" Quatenary Classification\")\n",
        "clf_nn = MLPClassifier(activation='relu', solver='adam', random_state=42).fit(X_train, y2)\n",
        "result = permutation_importance(clf_nn, X_train, y2, n_repeats=10, random_state=42)\n",
        "importances = result.importances_mean\n",
        "std = result.importances_std\n",
        "feature_names = datafile.iloc[:, :-2].columns\n",
        "indices = importances.argsort()[::-1][:10]\n",
        "\n",
        "# Print the names and importances of the most important features\n",
        "print(\"Top 10 Features:\")\n",
        "for i in indices:\n",
        "    print(f\"{feature_names[i]}: {importances[i]} +/- {std[i]}\")"
      ],
      "metadata": {
        "colab": {
          "base_uri": "https://localhost:8080/"
        },
        "id": "cUcQCWyF0HFl",
        "outputId": "22732503-8c7d-4e9e-a128-63d205ac5b51"
      },
      "execution_count": 31,
      "outputs": [
        {
          "output_type": "stream",
          "name": "stdout",
          "text": [
            " Quatenary Classification\n",
            "Top 10 Features:\n",
            "pCASP9_N: 0.006692913385826759 +/- 0.0021523910061491906\n",
            "pELK_N: 0.0041994750656167866 +/- 0.0011440679641839112\n",
            "pCREB_N: 0.0038057742782152014 +/- 0.001238055266674103\n",
            "IL1B_N: 0.0034120734908136495 +/- 0.0017801391031824732\n",
            "nNOS_N: 0.0030183727034120535 +/- 0.001443569553805759\n",
            "P70S6_N: 0.0027559055118110297 +/- 0.0018972220859318856\n",
            "ELK_N: 0.0022309711286089273 +/- 0.001024967149069092\n",
            "pNUMB_N: 0.002099737532808399 +/- 0.0015748031496062946\n",
            "TRKA_N: 0.002099737532808399 +/- 0.0015748031496062946\n",
            "APP_N: 0.0018372703412073421 +/- 0.001202775772954272\n"
          ]
        }
      ]
    },
    {
      "cell_type": "markdown",
      "source": [
        "TAsk 7 Recursive Feature Elimination"
      ],
      "metadata": {
        "id": "Obtq41dGR9s9"
      }
    },
    {
      "cell_type": "markdown",
      "source": [
        "(A) For Linear SVC"
      ],
      "metadata": {
        "id": "jjJhw3P8tlqD"
      }
    },
    {
      "cell_type": "code",
      "source": [
        "min_features_to_select = 1  # Minimum number of features to consider\n",
        "clf_linear = SVC(kernel=\"linear\")\n",
        "cv = StratifiedKFold(5)\n",
        "print(\"Binary Classification\")\n",
        "rfecv_linearSVC_y1 = RFECV(estimator=clf_linear,step=1,cv=cv,scoring=\"accuracy\",n_jobs=-1,)#here if scoring changed\n",
        "rfecv_linearSVC_y1.fit(X_train, y1)\n",
        "X_train_svm_lnear_recv_y1=rfecv_linearSVC_y1.fit_transform(X_train,y1)\n",
        "print(f\"Optimal number of features: {rfecv_linearSVC_y1.n_features_}\")\n",
        "print(\"New Feature Array\",X_train_svm_lnear_recv_y1.shape)\n",
        "n_scores = len(rfecv_linearSVC_y1.cv_results_[\"mean_test_score\"])\n",
        "plt.figure()\n",
        "plt.xlabel(\"Number of features selected\")\n",
        "plt.ylabel(\"Mean test accuracy\")\n",
        "plt.errorbar(\n",
        "    range(min_features_to_select, n_scores + min_features_to_select),\n",
        "    rfecv_linearSVC_y1.cv_results_[\"mean_test_score\"],\n",
        "    yerr=rfecv_linearSVC_y1.cv_results_[\"std_test_score\"],\n",
        ")\n",
        "plt.title(\"Recursive Feature Elimination \\nwith correlated features\")\n",
        "plt.figure(figsize=(20, 8))\n",
        "plt.show()\n",
        "importances = abs(rfecv_linearSVC_y1.estimator_.coef_[0])\n",
        "feature_names = datafile.iloc[:, :-2].columns\n",
        "\n",
        "# Get the indices of the most important features\n",
        "indices = importances.argsort()[::-1][:10]\n",
        "\n",
        "# Print the names and importances of the most important features\n",
        "print(\"Top 10 Features:\")\n",
        "for i in indices:\n",
        "    print(f\"{feature_names[i]}: {importances[i]}\")\n"
      ],
      "metadata": {
        "colab": {
          "base_uri": "https://localhost:8080/",
          "height": 587
        },
        "id": "8dNYMDvuSGIs",
        "outputId": "b8d13d68-d167-41ed-c271-edb93fe549ea"
      },
      "execution_count": 32,
      "outputs": [
        {
          "output_type": "stream",
          "name": "stdout",
          "text": [
            "Binary Classification\n",
            "Optimal number of features: 15\n",
            "New Feature Array (762, 15)\n"
          ]
        },
        {
          "output_type": "display_data",
          "data": {
            "text/plain": [
              "<Figure size 432x288 with 1 Axes>"
            ],
            "image/png": "[encoded data removed]"
          },
          "metadata": {
            "needs_background": "light"
          }
        },
        {
          "output_type": "display_data",
          "data": {
            "text/plain": [
              "<Figure size 1440x576 with 0 Axes>"
            ]
          },
          "metadata": {}
        },
        {
          "output_type": "stream",
          "name": "stdout",
          "text": [
            "Top 10 Features:\n",
            "ITSN1_N: 2.648254769275856\n",
            "pAKT_N: 2.1505031413892017\n",
            "pBRAF_N: 1.9874353085318262\n",
            "pELK_N: 1.8861199872963383\n",
            "pCREB_N: 1.406698257676596\n",
            "pCAMKII_N: 1.3458988398347285\n",
            "NR1_N: 1.210693551941966\n",
            "PKCA_N: 1.1677642331135898\n",
            "pERK_N: 1.1447400796558114\n",
            "pMEK_N: 1.0073937072059\n"
          ]
        }
      ]
    },
    {
      "cell_type": "code",
      "source": [
        "min_features_to_select = 1  # Minimum number of features to consider\n",
        "clf_linear = SVC(kernel=\"linear\")\n",
        "cv = StratifiedKFold(5)\n",
        "print(\"Quatenary Classification\")\n",
        "rfecv_linearSVC_y2 = RFECV(estimator=clf_linear,step=1,cv=cv,scoring=\"accuracy\",n_jobs=-1,)#here if scoring changed\n",
        "rfecv_linearSVC_y2.fit(X_train, y2)\n",
        "X_train_svm_lnear_recv_y2=rfecv_linearSVC_y2.fit_transform(X_train,y2)\n",
        "print(f\"Optimal number of features: {rfecv_linearSVC_y2.n_features_}\")\n",
        "print(\"New Feature Array\",X_train_svm_lnear_recv_y2.shape)\n",
        "n_scores = len(rfecv_linearSVC_y2.cv_results_[\"mean_test_score\"])\n",
        "plt.figure()\n",
        "plt.xlabel(\"Number of features selected\")\n",
        "plt.ylabel(\"Mean test accuracy\")\n",
        "plt.errorbar(\n",
        "    range(min_features_to_select, n_scores + min_features_to_select),\n",
        "    rfecv_linearSVC_y2.cv_results_[\"mean_test_score\"],\n",
        "    yerr=rfecv_linearSVC_y2.cv_results_[\"std_test_score\"],\n",
        ")\n",
        "plt.title(\"Recursive Feature Elimination \\nwith correlated features\")\n",
        "plt.figure(figsize=(20, 8))\n",
        "plt.show()\n",
        "importances = abs(rfecv_linearSVC_y2.estimator_.coef_[0])\n",
        "feature_names = datafile.iloc[:, :-2].columns\n",
        "\n",
        "# Get the indices of the most important features\n",
        "indices = importances.argsort()[::-1][:10]\n",
        "\n",
        "# Print the names and importances of the most important features\n",
        "print(\"Top 10 Features:\")\n",
        "for i in indices:\n",
        "    print(f\"{feature_names[i]}: {importances[i]}\")\n"
      ],
      "metadata": {
        "colab": {
          "base_uri": "https://localhost:8080/",
          "height": 587
        },
        "id": "CPOmBcAb7Tqz",
        "outputId": "e5659911-251b-47e9-c862-d14dff54f615"
      },
      "execution_count": 33,
      "outputs": [
        {
          "output_type": "stream",
          "name": "stdout",
          "text": [
            "Quatenary Classification\n",
            "Optimal number of features: 34\n",
            "New Feature Array (762, 34)\n"
          ]
        },
        {
          "output_type": "display_data",
          "data": {
            "text/plain": [
              "<Figure size 432x288 with 1 Axes>"
            ],
            "image/png": "[encoded data removed]"
          },
          "metadata": {
            "needs_background": "light"
          }
        },
        {
          "output_type": "display_data",
          "data": {
            "text/plain": [
              "<Figure size 1440x576 with 0 Axes>"
            ]
          },
          "metadata": {}
        },
        {
          "output_type": "stream",
          "name": "stdout",
          "text": [
            "Top 10 Features:\n",
            "pNR2B_N: 0.30427576001886686\n",
            "CREB_N: 0.2994088444912501\n",
            "pMTOR_N: 0.27399201663729483\n",
            "NR1_N: 0.23685512093547093\n",
            "SOD1_N: 0.21170469349571697\n",
            "pRSK_N: 0.20783201731669676\n",
            "pAKT_N: 0.20342626216277954\n",
            "APP_N: 0.18851424405615858\n",
            "GSK3B_N: 0.14372387665097508\n",
            "Bcatenin_N: 0.13579632231559213\n"
          ]
        }
      ]
    },
    {
      "cell_type": "code",
      "source": [],
      "metadata": {
        "id": "oViO1Nfgw6Bb"
      },
      "execution_count": 33,
      "outputs": []
    },
    {
      "cell_type": "markdown",
      "source": [
        "Observation : Number of features changes by changing scoring to accuracy to f1"
      ],
      "metadata": {
        "id": "zdbapWi9v_Lp"
      }
    },
    {
      "cell_type": "markdown",
      "source": [
        "(B) For SVM with rbf Kernel"
      ],
      "metadata": {
        "id": "tnYtiyc6k0Qb"
      }
    },
    {
      "cell_type": "markdown",
      "source": [
        "I tried this  below given code but wasn't able to resolve the Value Error: when `importance_getter=='auto'`, the underlying estimator SVC should have `coef_` or `feature_importances_` attribute. Either pass a fitted estimator to feature selector or call fit before calling transform."
      ],
      "metadata": {
        "id": "ESEn4wuzwtlg"
      }
    },
    {
      "cell_type": "code",
      "source": [
        "# min_features_to_select = 1  # Minimum number of features to consider\n",
        "# clf_rbf = SVC(kernel=\"rbf\")\n",
        "# cv = StratifiedKFold(5)\n",
        "\n",
        "# # rfe_rbf = RFECV(estimator=svc_rbf, step=1, cv=cv, scoring='accuracy', n_jobs=-1)\n",
        "# # rfe_rf = RFECV(estimator=rf, step=1, cv=cv, scoring='accuracy', n_jobs=-1)\n",
        "# rfecv_rbfSVC = RFECV(estimator=clf_rbf, step=1, cv=cv, scoring=\"accuracy\", n_jobs=-1)\n",
        "# rfecv_rbfSVC.fit(X_train,y1)\n",
        "\n",
        "# X_train_svm_rbf_recv_y1 = rfecv_rbfSVC.transform(X_train)\n",
        "# print(f\"Optimal number of features: {rfecv_rbfSVC.n_features_}\")\n",
        "# print(\"New Feature Array\", X_train_svm_rbf_recv_y1.shape)\n",
        "\n",
        "# n_scores = len(rfecv_rbfSVC.cv_results_[\"mean_test_score\"])\n",
        "# plt.figure()\n",
        "# plt.xlabel(\"Number of features selected\")\n",
        "# plt.ylabel(\"Mean test accuracy\")\n",
        "# plt.errorbar(\n",
        "#     range(min_features_to_select, n_scores + min_features_to_select),\n",
        "#     rfecv_rbfSVC.cv_results_[\"mean_test_score\"],\n",
        "#     yerr=rfecv_rbfSVC.cv_results_[\"std_test_score\"],\n",
        "# )\n",
        "# plt.title(\"Recursive Feature Elimination \\nwith RBF kernel\")\n",
        "# plt.show()\n"
      ],
      "metadata": {
        "id": "ix9DlBqtyAmW"
      },
      "execution_count": 34,
      "outputs": []
    },
    {
      "cell_type": "markdown",
      "source": [
        "(C) For Random Forest Classifier"
      ],
      "metadata": {
        "id": "DUrX-biOlPfK"
      }
    },
    {
      "cell_type": "code",
      "source": [
        "min_features_to_select = 1  # Minimum number of features to consider\n",
        "clf_rf = RandomForestClassifier()\n",
        "cv = StratifiedKFold(5)\n",
        "print(\"Binary Classification\")\n",
        "# rfe_rbf = RFECV(estimator=svc_rbf, step=1, cv=cv, scoring='accuracy', n_jobs=-1)\n",
        "# rfe_rf = RFECV(estimator=rf, step=1, cv=cv, scoring='accuracy', n_jobs=-1)\n",
        "rfecv_rf_y1 = RFECV(estimator=clf_rf, step=1, cv=cv, scoring=\"accuracy\", n_jobs=-1)\n",
        "rfecv_rf_y1.fit(X_train,y1)\n",
        "\n",
        "X_train_rf_recv_y1 = rfecv_rf_y1.transform(X_train)\n",
        "print(f\"Optimal number of features: {rfecv_rf_y1.n_features_}\")\n",
        "print(\"New Feature Array\", X_train_rf_recv_y1.shape)\n",
        "\n",
        "n_scores = len(rfecv_rf_y1.cv_results_[\"mean_test_score\"])\n",
        "plt.figure()\n",
        "plt.xlabel(\"Number of features selected\")\n",
        "plt.ylabel(\"Mean test accuracy\")\n",
        "plt.errorbar(\n",
        "    range(min_features_to_select, n_scores + min_features_to_select),\n",
        "    rfecv_rf_y1.cv_results_[\"mean_test_score\"],\n",
        "    yerr=rfecv_rf_y1.cv_results_[\"std_test_score\"],\n",
        ")\n",
        "plt.title(\"Recursive Feature Elimination \\nwith Random Forest Classifier\")\n",
        "plt.show()\n",
        "importances = rfecv_rf_y1.estimator_.feature_importances_\n",
        "feature_names = datafile.iloc[:, :-2].columns\n",
        "\n",
        "# Get the indices of the most important features\n",
        "indices = importances.argsort()[::-1][:10]\n",
        "\n",
        "# Print the names and importances of the most important features\n",
        "print(\"Top 10 Features:\")\n",
        "for i in indices:\n",
        "    print(f\"{feature_names[i]}: {importances[i]}\")\n"
      ],
      "metadata": {
        "colab": {
          "base_uri": "https://localhost:8080/",
          "height": 568
        },
        "id": "sBckgdWeWoXE",
        "outputId": "cf11f30b-2c54-4108-8253-e8a8cf810224"
      },
      "execution_count": 35,
      "outputs": [
        {
          "output_type": "stream",
          "name": "stdout",
          "text": [
            "Binary Classification\n",
            "Optimal number of features: 40\n",
            "New Feature Array (762, 40)\n"
          ]
        },
        {
          "output_type": "display_data",
          "data": {
            "text/plain": [
              "<Figure size 432x288 with 1 Axes>"
            ],
            "image/png": "[encoded data removed]"
          },
          "metadata": {
            "needs_background": "light"
          }
        },
        {
          "output_type": "stream",
          "name": "stdout",
          "text": [
            "Top 10 Features:\n",
            "pPKCAB_N: 0.15415729221698302\n",
            "ITSN1_N: 0.07470853484867644\n",
            "P38_N: 0.050621652267254805\n",
            "pMTOR_N: 0.04401704408558372\n",
            "SOD1_N: 0.03939813252123022\n",
            "AKT_N: 0.03394707339717076\n",
            "APP_N: 0.03225182392870701\n",
            "RSK_N: 0.03151099138087369\n",
            "ERK_N: 0.02810730432097205\n",
            "BRAF_N: 0.023643388871672933\n"
          ]
        }
      ]
    },
    {
      "cell_type": "code",
      "source": [
        "min_features_to_select = 1  # Minimum number of features to consider\n",
        "clf_rf = RandomForestClassifier()\n",
        "cv = StratifiedKFold(5)\n",
        "print(\"Quatenary Classification\")\n",
        "# rfe_rbf = RFECV(estimator=svc_rbf, step=1, cv=cv, scoring='accuracy', n_jobs=-1)\n",
        "# rfe_rf = RFECV(estimator=rf, step=1, cv=cv, scoring='accuracy', n_jobs=-1)\n",
        "rfecv_rf_y2 = RFECV(estimator=clf_rf, step=1, cv=cv, scoring=\"accuracy\", n_jobs=-1)\n",
        "rfecv_rf_y2.fit(X_train,y2)\n",
        "\n",
        "X_train_rf_recv_y2 = rfecv_rf_y2.transform(X_train)\n",
        "print(f\"Optimal number of features: {rfecv_rf_y2.n_features_}\")\n",
        "print(\"New Feature Array\", X_train_rf_recv_y2.shape)\n",
        "\n",
        "n_scores = len(rfecv_rf_y2.cv_results_[\"mean_test_score\"])\n",
        "plt.figure()\n",
        "plt.xlabel(\"Number of features selected\")\n",
        "plt.ylabel(\"Mean test accuracy\")\n",
        "plt.errorbar(\n",
        "    range(min_features_to_select, n_scores + min_features_to_select),\n",
        "    rfecv_rf_y2.cv_results_[\"mean_test_score\"],\n",
        "    yerr=rfecv_rf_y2.cv_results_[\"std_test_score\"],\n",
        ")\n",
        "plt.title(\"Recursive Feature Elimination \\nwith Random Forest Classifier\")\n",
        "plt.show()\n",
        "importances = rfecv_rf_y2.estimator_.feature_importances_\n",
        "feature_names = datafile.iloc[:, :-2].columns\n",
        "\n",
        "# Get the indices of the most important features\n",
        "indices = importances.argsort()[::-1][:10]\n",
        "\n",
        "# Print the names and importances of the most important features\n",
        "print(\"Top 10 Features:\")\n",
        "for i in indices:\n",
        "    print(f\"{feature_names[i]}: {importances[i]}\")"
      ],
      "metadata": {
        "colab": {
          "base_uri": "https://localhost:8080/",
          "height": 568
        },
        "id": "eJjy_Jjd7yZV",
        "outputId": "72bf9347-b756-4688-acec-0b48f428bd50"
      },
      "execution_count": 36,
      "outputs": [
        {
          "output_type": "stream",
          "name": "stdout",
          "text": [
            "Quatenary Classification\n",
            "Optimal number of features: 53\n",
            "New Feature Array (762, 53)\n"
          ]
        },
        {
          "output_type": "display_data",
          "data": {
            "text/plain": [
              "<Figure size 432x288 with 1 Axes>"
            ],
            "image/png": "[encoded data removed]"
          },
          "metadata": {
            "needs_background": "light"
          }
        },
        {
          "output_type": "stream",
          "name": "stdout",
          "text": [
            "Top 10 Features:\n",
            "ELK_N: 0.10742787460699868\n",
            "ERBB4_N: 0.06940395750782125\n",
            "pCREB_N: 0.04880715240988441\n",
            "RRP1_N: 0.047562794893845066\n",
            "P38_N: 0.03572599254413307\n",
            "TRKA_N: 0.032083907048278994\n",
            "APP_N: 0.031944386751763594\n",
            "pAKT_N: 0.031049937734251222\n",
            "ARC_N: 0.029142002389745687\n",
            "MTOR_N: 0.0260524001560771\n"
          ]
        }
      ]
    },
    {
      "cell_type": "markdown",
      "source": [
        "(D) For Neural Network with single layer hidden layer"
      ],
      "metadata": {
        "id": "bTYGimp0sG8x"
      }
    },
    {
      "cell_type": "markdown",
      "source": [
        "I tried this  below given code but wasn't able to resolve the Value Error: when `importance_getter=='auto'`, the underlying estimator SVC should have `coef_` or `feature_importances_` attribute. Either pass a fitted estimator to feature selector or call fit before calling transform."
      ],
      "metadata": {
        "id": "qD059d61xBcP"
      }
    },
    {
      "cell_type": "code",
      "source": [
        "# clf_nn = MLPClassifier(hidden_layer_sizes=(100,), activation='relu', solver='adam', random_state=42)\n",
        "# cv = StratifiedKFold(5)\n",
        "\n",
        "# rfecv_nn = RFECV(estimator=clf_nn, step=1, cv=cv, scoring=\"accuracy\", n_jobs=-1)\n",
        "# rfecv_nn.fit(X_train, y1)\n",
        "\n",
        "# X_train_rfecv_nn = rfecv_nn.transform(X_train)\n",
        "# print(f\"Optimal number of features: {rfecv_nn.n_features_}\")\n",
        "# print(\"New Feature Array\", X_train_rfecv_nn.shape)\n",
        "\n",
        "# n_scores = len(rfecv_nn.cv_results_[\"mean_test_score\"])\n",
        "# plt.figure()\n",
        "# plt.xlabel(\"Number of features selected\")\n",
        "# plt.ylabel(\"Mean test accuracy\")\n",
        "# plt.errorbar(\n",
        "#     range(1, n_scores + 1),\n",
        "#     rfecv_nn.cv_results_[\"mean_test_score\"],\n",
        "#     yerr=rfecv_nn.cv_results_[\"std_test_score\"],\n",
        "# )\n",
        "# plt.title(\"Recursive Feature Elimination with Neural Network\")\n",
        "# plt.show()\n",
        "\n",
        "# # Get the coefficients of the trained neural network\n",
        "# importances = rfecv_nn.estimator_.coef_[0]\n",
        "# feature_names = datafile.iloc[:, :-2].columns\n",
        "\n",
        "# # Get the indices of the most important features\n",
        "# indices = importances.argsort()[::-1][:10]\n",
        "\n",
        "# # Print the names and importances of the most important features\n",
        "# print(\"Top 10 Features:\")\n",
        "# for i in indices:\n",
        "#     print(f\"{feature_names[i]}: {importances[i]}\")\n"
      ],
      "metadata": {
        "id": "YHE3xLzRaFpy"
      },
      "execution_count": 37,
      "outputs": []
    },
    {
      "cell_type": "code",
      "source": [
        "print(\" Quatenary Classification\")\n",
        "clf_nn = MLPClassifier(activation='relu', solver='adam', random_state=42).fit(X_train, y2)\n",
        "result = permutation_importance(clf_nn, X_train, y1, n_repeats=10, random_state=42)\n",
        "importances = result.importances_mean\n",
        "std = result.importances_std\n",
        "feature_names = datafile.iloc[:, :-2].columns\n",
        "indices = importances.argsort()[::-1][:10]\n",
        "\n",
        "# Print the names and importances of the most important features\n",
        "print(\"Top 10 Features:\")\n",
        "for i in indices:\n",
        "    print(f\"{feature_names[i]}: {importances[i]} +/- {std[i]}\")"
      ],
      "metadata": {
        "colab": {
          "base_uri": "https://localhost:8080/"
        },
        "id": "Od2tHtPpuemW",
        "outputId": "9e02774d-e5a4-4bee-ccc9-e65db1a6f7e0"
      },
      "execution_count": 38,
      "outputs": [
        {
          "output_type": "stream",
          "name": "stdout",
          "text": [
            " Quatenary Classification\n",
            "Top 10 Features:\n",
            "pCREB_N: 0.0018372703412073421 +/- 0.0006429106936438957\n",
            "pCASP9_N: 0.001574803149606291 +/- 0.0014134290832374028\n",
            "SOD1_N: 0.0006561679790026143 +/- 0.0006561679790026143\n",
            "P70S6_N: 0.0006561679790026143 +/- 0.0006561679790026143\n",
            "pMTOR_N: 0.0005249343832020969 +/- 0.0008705051943190021\n",
            "pPKCG_N: 0.0005249343832020969 +/- 0.001049868766404194\n",
            "MEK_N: 0.0005249343832020914 +/- 0.0006429106936438686\n",
            "ELK_N: 0.0005249343832020914 +/- 0.0006429106936438686\n",
            "DSCR1_N: 0.0003937007874015741 +/- 0.0008403050180358084\n",
            "S6_N: 0.00039370078740156856 +/- 0.0006013878864771349\n"
          ]
        }
      ]
    },
    {
      "cell_type": "markdown",
      "source": [],
      "metadata": {
        "id": "xsHNvDiM729q"
      }
    },
    {
      "cell_type": "markdown",
      "source": [
        "Part 8 Testing the Model"
      ],
      "metadata": {
        "id": "CM6MC772Cg1E"
      }
    },
    {
      "cell_type": "markdown",
      "source": [
        "- Here while making the model we are setting the hyperparameters to be optimal values ehich were obtained earlier.\n",
        "- We have compared model for binary and quaternary classification before and after the recursive feature elimination for the Random Forest and Linear SVC.\n",
        "- We have compared model for binary and quaternary classification for the rbf kernel SVM and Neural network with single hidden layer with optimal hyperparameters."
      ],
      "metadata": {
        "id": "nRjAq0ZDw4iG"
      }
    },
    {
      "cell_type": "markdown",
      "source": [
        "In the below code we are comparing the output for Linear SVC for binary classification before and after removing the applying the Recursive Feature Elimination"
      ],
      "metadata": {
        "id": "UBr20FhCwmpW"
      }
    },
    {
      "cell_type": "code",
      "source": [
        "model1 = SVC(C= .01, kernel= 'linear')\n",
        "model1.fit(X_train, y1)\n",
        "model2 = SVC(C= .01, kernel= 'linear')\n",
        "model2.fit(X_train_svm_lnear_recv_y1, y1) \n",
        "# print prediction results\n",
        "print(\"Test Data for Binary Classification\")\n",
        "print(\"Data  with  features after data preprocessing\")\n",
        "predictions1 = model1.predict(X_test)\n",
        "print(classification_report(y1_test, predictions1))\n",
        "print(confusion_matrix(y1_test, predictions1))\n",
        "print(\"Data  with  features after Recursive Feature Elimination\")\n",
        "predictions2=rfecv_linearSVC_y1.predict(X_test)\n",
        "print(classification_report(y1_test, predictions2))\n",
        "print(confusion_matrix(y1_test, predictions2))"
      ],
      "metadata": {
        "id": "SslS09SpwvRF",
        "colab": {
          "base_uri": "https://localhost:8080/"
        },
        "outputId": "b9d564ae-3d7d-4c4e-ae2f-dcac225b71e4"
      },
      "execution_count": 39,
      "outputs": [
        {
          "output_type": "stream",
          "name": "stdout",
          "text": [
            "Test Data for Binary Classification\n",
            "Data  with  features after data preprocessing\n",
            "              precision    recall  f1-score   support\n",
            "\n",
            "           0       0.85      0.82      0.84       135\n",
            "           1       0.75      0.79      0.77        90\n",
            "\n",
            "    accuracy                           0.81       225\n",
            "   macro avg       0.80      0.81      0.80       225\n",
            "weighted avg       0.81      0.81      0.81       225\n",
            "\n",
            "[[111  24]\n",
            " [ 19  71]]\n",
            "Data  with  features after Recursive Feature Elimination\n",
            "              precision    recall  f1-score   support\n",
            "\n",
            "           0       0.92      0.80      0.86       135\n",
            "           1       0.75      0.90      0.82        90\n",
            "\n",
            "    accuracy                           0.84       225\n",
            "   macro avg       0.84      0.85      0.84       225\n",
            "weighted avg       0.85      0.84      0.84       225\n",
            "\n",
            "[[108  27]\n",
            " [  9  81]]\n"
          ]
        }
      ]
    },
    {
      "cell_type": "markdown",
      "source": [
        "We can see the sharp increase in performance matrix after feature elimination"
      ],
      "metadata": {
        "id": "66bDVmUM0ZnE"
      }
    },
    {
      "cell_type": "code",
      "source": [
        "model1 = SVC(C= .1,kernel= 'linear')\n",
        "model1.fit(X_train, y2)\n",
        "model2 = SVC(C= .1, kernel= 'linear')\n",
        "model2.fit(X_train_svm_lnear_recv_y1, y2) \n",
        "# print prediction results\n",
        "print(\"Test Data for Quatenary Classification\")\n",
        "print(\"Data  with  features after data preprocessing\")\n",
        "predictions1 = model1.predict(X_test)\n",
        "print(classification_report(y2_test, predictions1))\n",
        "print(confusion_matrix(y2_test, predictions1))\n",
        "print(\"Data  with  features after Recursive Feature Elimination\")\n",
        "predictions2=rfecv_linearSVC_y2.predict(X_test)\n",
        "print(classification_report(y2_test, predictions2))\n",
        "print(confusion_matrix(y2_test, predictions2))"
      ],
      "metadata": {
        "colab": {
          "base_uri": "https://localhost:8080/"
        },
        "id": "N4EGQrLL0ors",
        "outputId": "38515fbd-25f7-401c-d5c2-5dbc42c8a6ca"
      },
      "execution_count": 40,
      "outputs": [
        {
          "output_type": "stream",
          "name": "stdout",
          "text": [
            "Test Data for Quatenary Classification\n",
            "Data  with  features after data preprocessing\n",
            "              precision    recall  f1-score   support\n",
            "\n",
            "           0       0.70      0.90      0.79        60\n",
            "           1       0.97      0.98      0.98        60\n",
            "           2       0.86      0.62      0.72        60\n",
            "           3       0.98      0.96      0.97        45\n",
            "\n",
            "    accuracy                           0.86       225\n",
            "   macro avg       0.88      0.86      0.86       225\n",
            "weighted avg       0.87      0.86      0.86       225\n",
            "\n",
            "[[54  0  6  0]\n",
            " [ 0 59  0  1]\n",
            " [23  0 37  0]\n",
            " [ 0  2  0 43]]\n",
            "Data  with  features after Recursive Feature Elimination\n",
            "              precision    recall  f1-score   support\n",
            "\n",
            "           0       0.72      0.78      0.75        60\n",
            "           1       0.97      0.97      0.97        60\n",
            "           2       0.76      0.70      0.73        60\n",
            "           3       0.96      0.96      0.96        45\n",
            "\n",
            "    accuracy                           0.84       225\n",
            "   macro avg       0.85      0.85      0.85       225\n",
            "weighted avg       0.85      0.84      0.84       225\n",
            "\n",
            "[[47  0 13  0]\n",
            " [ 0 58  0  2]\n",
            " [18  0 42  0]\n",
            " [ 0  2  0 43]]\n"
          ]
        }
      ]
    },
    {
      "cell_type": "markdown",
      "source": [
        "In the below code we are comparing the output for SVC with rbf kernel for binary classification and Quatenary Classification."
      ],
      "metadata": {
        "id": "imWQLg8wuqq1"
      }
    },
    {
      "cell_type": "code",
      "source": [
        "model1 = SVC(C= 10, gamma= 0.001, kernel= 'rbf')\n",
        "model1.fit(X_train, y1)\n",
        "model2 = SVC(C= 1000, gamma= 0.00001, kernel= 'rbf')\n",
        "model2.fit(X_train, y2) \n",
        "# print prediction results\n",
        "print(\"Test Data\")\n",
        "print(\"Binary Classification\")\n",
        "predictions1 = model1.predict(X_test)\n",
        "print(classification_report(y1_test, predictions1))\n",
        "print(confusion_matrix(y1_test, predictions1))\n",
        "print(\"Quaternary Classification\")\n",
        "predictions2=model2.predict(X_test)\n",
        "print(classification_report(y2_test, predictions2))\n",
        "print(confusion_matrix(y2_test, predictions2))"
      ],
      "metadata": {
        "colab": {
          "base_uri": "https://localhost:8080/"
        },
        "id": "GvGEAkXICgC6",
        "outputId": "6fef5ce6-8c08-4156-b88a-758ee7c39a76"
      },
      "execution_count": 41,
      "outputs": [
        {
          "output_type": "stream",
          "name": "stdout",
          "text": [
            "Test Data\n",
            "Binary Classification\n",
            "              precision    recall  f1-score   support\n",
            "\n",
            "           0       0.89      0.80      0.84       135\n",
            "           1       0.74      0.86      0.79        90\n",
            "\n",
            "    accuracy                           0.82       225\n",
            "   macro avg       0.82      0.83      0.82       225\n",
            "weighted avg       0.83      0.82      0.82       225\n",
            "\n",
            "[[108  27]\n",
            " [ 13  77]]\n",
            "Quaternary Classification\n",
            "              precision    recall  f1-score   support\n",
            "\n",
            "           0       0.70      0.92      0.79        60\n",
            "           1       0.94      0.98      0.96        60\n",
            "           2       0.88      0.60      0.71        60\n",
            "           3       0.98      0.91      0.94        45\n",
            "\n",
            "    accuracy                           0.85       225\n",
            "   macro avg       0.87      0.85      0.85       225\n",
            "weighted avg       0.86      0.85      0.85       225\n",
            "\n",
            "[[55  0  5  0]\n",
            " [ 0 59  0  1]\n",
            " [24  0 36  0]\n",
            " [ 0  4  0 41]]\n"
          ]
        }
      ]
    },
    {
      "cell_type": "markdown",
      "source": [
        "We can see that there is an increase in f1 score.\n",
        "\n"
      ],
      "metadata": {
        "id": "P3ziGv5KuoyU"
      }
    },
    {
      "cell_type": "markdown",
      "source": [
        "In the below code we are comparing the output for Random Forest Classifier for binary classification before and after removing the applying the Recursive Feature Elimination."
      ],
      "metadata": {
        "id": "h3Lq0bhH283U"
      }
    },
    {
      "cell_type": "code",
      "source": [
        "model1 = RandomForestClassifier(max_depth= 9, max_leaf_nodes=9, n_estimators= 25)\n",
        "model1.fit(X_train, y1)\n",
        "model2 = RandomForestClassifier(max_depth= 9, max_leaf_nodes=9, n_estimators= 25)\n",
        "model2.fit(X_train_rf_recv_y1, y1) \n",
        "# print prediction results\n",
        "print(\"Test Data for Binary Classification\")\n",
        "print(\"Data  with  features after data preprocessing\")\n",
        "predictions1 = model1.predict(X_test)\n",
        "print(classification_report(y1_test, predictions1))\n",
        "print(confusion_matrix(y1_test, predictions1))\n",
        "print(\"Data  with  features after Recursive Feature Elimination\")\n",
        "predictions2=rfecv_linearSVC_y1.predict(X_test)\n",
        "print(classification_report(y1_test, predictions2))\n",
        "print(confusion_matrix(y1_test, predictions2))"
      ],
      "metadata": {
        "colab": {
          "base_uri": "https://localhost:8080/"
        },
        "id": "WhHbdvhn3Rju",
        "outputId": "bfa1ee53-e7aa-47ae-a1e7-cd25a78c3a67"
      },
      "execution_count": 42,
      "outputs": [
        {
          "output_type": "stream",
          "name": "stdout",
          "text": [
            "Test Data for Binary Classification\n",
            "Data  with  features after data preprocessing\n",
            "              precision    recall  f1-score   support\n",
            "\n",
            "           0       0.80      0.80      0.80       135\n",
            "           1       0.70      0.70      0.70        90\n",
            "\n",
            "    accuracy                           0.76       225\n",
            "   macro avg       0.75      0.75      0.75       225\n",
            "weighted avg       0.76      0.76      0.76       225\n",
            "\n",
            "[[108  27]\n",
            " [ 27  63]]\n",
            "Data  with  features after Recursive Feature Elimination\n",
            "              precision    recall  f1-score   support\n",
            "\n",
            "           0       0.92      0.80      0.86       135\n",
            "           1       0.75      0.90      0.82        90\n",
            "\n",
            "    accuracy                           0.84       225\n",
            "   macro avg       0.84      0.85      0.84       225\n",
            "weighted avg       0.85      0.84      0.84       225\n",
            "\n",
            "[[108  27]\n",
            " [  9  81]]\n"
          ]
        }
      ]
    },
    {
      "cell_type": "markdown",
      "source": [
        "We can see increase in both f1 score and accuracy."
      ],
      "metadata": {
        "id": "d4sH6IIM57Zw"
      }
    },
    {
      "cell_type": "code",
      "source": [
        "model1 = RandomForestClassifier(max_depth= 9, max_leaf_nodes=9, n_estimators= 25)\n",
        "model1.fit(X_train, y2)\n",
        "model2 = RandomForestClassifier(max_depth= 9, max_leaf_nodes=9, n_estimators= 25)\n",
        "model2.fit(X_train_rf_recv_y2, y2) \n",
        "# print prediction results\n",
        "print(\"Test Data for Quatenary Classification\")\n",
        "print(\"Data  with  features after data preprocessing\")\n",
        "predictions1 = model1.predict(X_test)\n",
        "print(classification_report(y2_test, predictions1))\n",
        "print(confusion_matrix(y2_test, predictions1))\n",
        "print(\"Data  with  features after Recursive Feature Elimination\")\n",
        "predictions2=rfecv_rf_y2.predict(X_test)\n",
        "print(classification_report(y2_test, predictions2))\n",
        "print(confusion_matrix(y2_test, predictions2))"
      ],
      "metadata": {
        "colab": {
          "base_uri": "https://localhost:8080/"
        },
        "id": "43teriiy3dLX",
        "outputId": "3c0ca6dc-e338-4ca8-df4b-eb11da1ea771"
      },
      "execution_count": 43,
      "outputs": [
        {
          "output_type": "stream",
          "name": "stdout",
          "text": [
            "Test Data for Quatenary Classification\n",
            "Data  with  features after data preprocessing\n",
            "              precision    recall  f1-score   support\n",
            "\n",
            "           0       0.68      0.87      0.76        60\n",
            "           1       0.71      0.75      0.73        60\n",
            "           2       0.82      0.60      0.69        60\n",
            "           3       0.64      0.60      0.62        45\n",
            "\n",
            "    accuracy                           0.71       225\n",
            "   macro avg       0.71      0.70      0.70       225\n",
            "weighted avg       0.72      0.71      0.71       225\n",
            "\n",
            "[[52  0  8  0]\n",
            " [ 0 45  0 15]\n",
            " [24  0 36  0]\n",
            " [ 0 18  0 27]]\n",
            "Data  with  features after Recursive Feature Elimination\n",
            "              precision    recall  f1-score   support\n",
            "\n",
            "           0       0.73      0.80      0.76        60\n",
            "           1       0.72      0.63      0.67        60\n",
            "           2       0.78      0.70      0.74        60\n",
            "           3       0.58      0.67      0.62        45\n",
            "\n",
            "    accuracy                           0.70       225\n",
            "   macro avg       0.70      0.70      0.70       225\n",
            "weighted avg       0.71      0.70      0.70       225\n",
            "\n",
            "[[48  0 12  0]\n",
            " [ 0 38  0 22]\n",
            " [18  0 42  0]\n",
            " [ 0 15  0 30]]\n"
          ]
        }
      ]
    },
    {
      "cell_type": "markdown",
      "source": [
        "Here class with lower support has has decrease in performance metrics after recursive feature elimination."
      ],
      "metadata": {
        "id": "Ej7BviUo6PLI"
      }
    },
    {
      "cell_type": "markdown",
      "source": [
        "In the below code we are comparing the output forNeural network with single ReLU hidden layer for binary classification and Quatenary Classification."
      ],
      "metadata": {
        "id": "IexIK3Vn6-gS"
      }
    },
    {
      "cell_type": "code",
      "source": [
        "model1 = MLPClassifier(hidden_layer_sizes=(30,),activation='relu', solver='adam',random_state=42,alpha= 1)\n",
        "model1.fit(X_train, y1)\n",
        "model2 = MLPClassifier(hidden_layer_sizes=(30,),activation='relu', solver='adam',random_state=42,alpha= 0.001)\n",
        "model2.fit(X_train, y2) \n",
        "# print prediction results\n",
        "print(\"Test Data\")\n",
        "print(\"Binary Classification\")\n",
        "predictions1 = model1.predict(X_test)\n",
        "print(classification_report(y1_test, predictions1))\n",
        "print(confusion_matrix(y1_test, predictions1))\n",
        "print(\"Quaternary Classification\")\n",
        "predictions2=model2.predict(X_test)\n",
        "print(classification_report(y2_test, predictions2))\n",
        "print(confusion_matrix(y2_test, predictions2))"
      ],
      "metadata": {
        "colab": {
          "base_uri": "https://localhost:8080/"
        },
        "id": "fkhfGIIq60ZN",
        "outputId": "a0a53043-9124-427d-e83b-b1e45cca6dbc"
      },
      "execution_count": 44,
      "outputs": [
        {
          "output_type": "stream",
          "name": "stderr",
          "text": [
            "/usr/local/lib/python3.9/dist-packages/sklearn/neural_network/_multilayer_perceptron.py:686: ConvergenceWarning: Stochastic Optimizer: Maximum iterations (200) reached and the optimization hasn't converged yet.\n",
            "  warnings.warn(\n"
          ]
        },
        {
          "output_type": "stream",
          "name": "stdout",
          "text": [
            "Test Data\n",
            "Binary Classification\n",
            "              precision    recall  f1-score   support\n",
            "\n",
            "           0       0.86      0.79      0.82       135\n",
            "           1       0.72      0.81      0.76        90\n",
            "\n",
            "    accuracy                           0.80       225\n",
            "   macro avg       0.79      0.80      0.79       225\n",
            "weighted avg       0.80      0.80      0.80       225\n",
            "\n",
            "[[106  29]\n",
            " [ 17  73]]\n",
            "Quaternary Classification\n",
            "              precision    recall  f1-score   support\n",
            "\n",
            "           0       0.88      0.93      0.90        60\n",
            "           1       0.91      0.98      0.94        60\n",
            "           2       0.93      0.87      0.90        60\n",
            "           3       0.97      0.87      0.92        45\n",
            "\n",
            "    accuracy                           0.92       225\n",
            "   macro avg       0.92      0.91      0.92       225\n",
            "weighted avg       0.92      0.92      0.92       225\n",
            "\n",
            "[[56  0  4  0]\n",
            " [ 0 59  0  1]\n",
            " [ 8  0 52  0]\n",
            " [ 0  6  0 39]]\n"
          ]
        }
      ]
    },
    {
      "cell_type": "markdown",
      "source": [
        "### **Objective  2** "
      ],
      "metadata": {
        "id": "MDFbAmPyAPdL"
      }
    },
    {
      "cell_type": "code",
      "source": [
        "from __future__ import print_function, division\n",
        "\n",
        "import torch\n",
        "import torch.nn as nn\n",
        "import torch.optim as optim\n",
        "from torch.optim import lr_scheduler\n",
        "import torch.backends.cudnn as cudnn\n",
        "import numpy as np\n",
        "import torchvision\n",
        "from torchvision import datasets, models, transforms\n",
        "import matplotlib.pyplot as plt\n",
        "import time\n",
        "import os\n",
        "import copy\n",
        "from torchvision.datasets import ImageFolder\n",
        "\n",
        "cudnn.benchmark = True\n",
        "plt.ion()"
      ],
      "metadata": {
        "id": "1DhbhShRKaR0",
        "colab": {
          "base_uri": "https://localhost:8080/"
        },
        "outputId": "d307e675-1648-46aa-f598-66367c9c8ca2"
      },
      "execution_count": 45,
      "outputs": [
        {
          "output_type": "execute_result",
          "data": {
            "text/plain": [
              "<matplotlib.pyplot._IonContext at 0x7f4831986490>"
            ]
          },
          "metadata": {},
          "execution_count": 45
        }
      ]
    },
    {
      "cell_type": "markdown",
      "source": [
        "Here I have downloaded dataset directly from the given link and extract it using zipFile library. Earlier I was using Google Drive which would require to login to google drive(not recoomended)"
      ],
      "metadata": {
        "id": "Q-N0KeaoARFi"
      }
    },
    {
      "cell_type": "code",
      "source": [
        "# from google.colab import drive\n",
        "# drive.mount('/content/drive')\n",
        "import urllib.request\n",
        "import zipfile\n",
        "url='https://download.pytorch.org/tutorial/hymenoptera_data.zip'\n",
        "filename = 'hymenoptera_data.zip'\n",
        "\n",
        "# download the zip file from the URL\n",
        "urllib.request.urlretrieve(url, filename)\n",
        "\n",
        "# open the zip file\n",
        "with zipfile.ZipFile(filename, 'r') as zip_ref:\n",
        "    # extract all the files in the zip file to a folder\n",
        "    zip_ref.extractall('data_folder')\n"
      ],
      "metadata": {
        "id": "GZxkX2ERdkfT"
      },
      "execution_count": 46,
      "outputs": []
    },
    {
      "cell_type": "code",
      "source": [
        "# Data augmentation and normalization for training\n",
        "# Just normalization for validation\n",
        "data_transforms = {\n",
        "    'train': transforms.Compose([\n",
        "        transforms.RandomResizedCrop(224),\n",
        "        transforms.RandomHorizontalFlip(),\n",
        "        transforms.ToTensor(),\n",
        "        transforms.Normalize([0.485, 0.456, 0.406], [0.229, 0.224, 0.225])\n",
        "    ]),\n",
        "    'val': transforms.Compose([\n",
        "        transforms.Resize(256),\n",
        "        transforms.CenterCrop(224),\n",
        "        transforms.ToTensor(),\n",
        "        transforms.Normalize([0.485, 0.456, 0.406], [0.229, 0.224, 0.225])\n",
        "    ]),\n",
        "}\n",
        "\n",
        "# data_dir = '/content/drive/MyDrive/hymenoptera_data/'\n",
        "data_dir = 'data_folder/hymenoptera_data/'\n",
        "image_datasets = {x: datasets.ImageFolder(os.path.join(data_dir, x),data_transforms[x])for x in ['train', 'val']}\n",
        "dataloaders = {x: torch.utils.data.DataLoader(image_datasets[x], batch_size=4,shuffle=True, num_workers=4)\n",
        "              for x in ['train', 'val']}\n",
        "dataset_sizes = {x: len(image_datasets[x]) for x in ['train', 'val']}\n",
        "class_names = image_datasets['train'].classes\n",
        "\n",
        "device = torch.device(\"cuda:0\" if torch.cuda.is_available() else \"cpu\")"
      ],
      "metadata": {
        "colab": {
          "base_uri": "https://localhost:8080/"
        },
        "id": "NVp-uc5wA3hN",
        "outputId": "afbbeaef-2350-462f-dd5b-394e1b88ecea"
      },
      "execution_count": 47,
      "outputs": [
        {
          "output_type": "stream",
          "name": "stderr",
          "text": [
            "/usr/local/lib/python3.9/dist-packages/torch/utils/data/dataloader.py:554: UserWarning: This DataLoader will create 4 worker processes in total. Our suggested max number of worker in current system is 2, which is smaller than what this DataLoader is going to create. Please be aware that excessive worker creation might get DataLoader running slow or even freeze, lower the worker number to avoid potential slowness/freeze if necessary.\n",
            "  warnings.warn(_create_warning_msg(\n"
          ]
        }
      ]
    },
    {
      "cell_type": "markdown",
      "source": [
        "Visualising few images."
      ],
      "metadata": {
        "id": "NJ0xcPwXj2WQ"
      }
    },
    {
      "cell_type": "code",
      "source": [
        "def imshow(inp, title=None):\n",
        "    \"\"\"Imshow for Tensor.\"\"\"\n",
        "    inp = inp.numpy().transpose((1, 2, 0))\n",
        "    mean = np.array([0.485, 0.456, 0.406])\n",
        "    std = np.array([0.229, 0.224, 0.225])\n",
        "    inp = std * inp + mean\n",
        "    inp = np.clip(inp, 0, 1)\n",
        "    plt.imshow(inp)\n",
        "    if title is not None:\n",
        "        plt.title(title)\n",
        "    plt.pause(0.001)  # pause a bit so that plots are updated\n",
        "\n",
        "\n",
        "# Get a batch of training data\n",
        "inputs, classes = next(iter(dataloaders['train']))\n",
        "\n",
        "# Make a grid from batch\n",
        "out = torchvision.utils.make_grid(inputs)\n",
        "\n",
        "imshow(out, title=[class_names[x] for x in classes])"
      ],
      "metadata": {
        "colab": {
          "base_uri": "https://localhost:8080/",
          "height": 148
        },
        "id": "bVSbzrMvjwbH",
        "outputId": "9aadf04a-daec-4dde-8773-f76d9ad18121"
      },
      "execution_count": 48,
      "outputs": [
        {
          "output_type": "display_data",
          "data": {
            "text/plain": [
              "<Figure size 432x288 with 1 Axes>"
            ],
            "image/png": "[encoded data removed]"
          },
          "metadata": {
            "needs_background": "light"
          }
        }
      ]
    },
    {
      "cell_type": "markdown",
      "source": [
        "Training the model\n",
        "Now, let’s write a general function to train a model. Here, we will illustrate:\n",
        "\n",
        "- Scheduling the learning rate\n",
        "\n",
        "- Saving the best model"
      ],
      "metadata": {
        "id": "wGPnLTmqkP_r"
      }
    },
    {
      "cell_type": "code",
      "source": [
        "def train_model(model, criterion, optimizer, scheduler, num_epochs=25):\n",
        "    since = time.time()\n",
        "\n",
        "    best_model_wts = copy.deepcopy(model.state_dict())\n",
        "    best_acc = 0.0\n",
        "\n",
        "    for epoch in range(num_epochs):\n",
        "        print(f'Epoch {epoch}/{num_epochs - 1}')\n",
        "        print('-' * 10)\n",
        "\n",
        "        # Each epoch has a training and validation phase\n",
        "        for phase in ['train', 'val']:\n",
        "            if phase == 'train':\n",
        "                model.train()  # Set model to training mode\n",
        "            else:\n",
        "                model.eval()   # Set model to evaluate mode\n",
        "\n",
        "            running_loss = 0.0\n",
        "            running_corrects = 0\n",
        "\n",
        "            # Iterate over data.\n",
        "            for inputs, labels in dataloaders[phase]:\n",
        "                inputs = inputs.to(device)\n",
        "                labels = labels.to(device)\n",
        "\n",
        "                # zero the parameter gradients\n",
        "                optimizer.zero_grad()\n",
        "\n",
        "                # forward\n",
        "                # track history if only in train\n",
        "                with torch.set_grad_enabled(phase == 'train'):\n",
        "                    outputs = model(inputs)\n",
        "                    _, preds = torch.max(outputs, 1)\n",
        "                    loss = criterion(outputs, labels)\n",
        "\n",
        "                    # backward + optimize only if in training phase\n",
        "                    if phase == 'train':\n",
        "                        loss.backward()\n",
        "                        optimizer.step()\n",
        "\n",
        "                # statistics\n",
        "                running_loss += loss.item() * inputs.size(0)\n",
        "                running_corrects += torch.sum(preds == labels.data)\n",
        "            if phase == 'train':\n",
        "                scheduler.step()\n",
        "\n",
        "            epoch_loss = running_loss / dataset_sizes[phase]\n",
        "            epoch_acc = running_corrects.double() / dataset_sizes[phase]\n",
        "\n",
        "            print(f'{phase} Loss: {epoch_loss:.4f} Acc: {epoch_acc:.4f}')\n",
        "\n",
        "            # deep copy the model\n",
        "            if phase == 'val' and epoch_acc > best_acc:\n",
        "                best_acc = epoch_acc\n",
        "                best_model_wts = copy.deepcopy(model.state_dict())\n",
        "\n",
        "        print()\n",
        "\n",
        "    time_elapsed = time.time() - since\n",
        "    print(f'Training complete in {time_elapsed // 60:.0f}m {time_elapsed % 60:.0f}s')\n",
        "    print(f'Best val Acc: {best_acc:4f}')\n",
        "\n",
        "    # load best model weights\n",
        "    model.load_state_dict(best_model_wts)\n",
        "    return model"
      ],
      "metadata": {
        "id": "x0TMHEIGkUXw"
      },
      "execution_count": 49,
      "outputs": []
    },
    {
      "cell_type": "markdown",
      "source": [
        "Visualizing the model predictions \n",
        "\n",
        "Generic function to display predictions for a few images"
      ],
      "metadata": {
        "id": "J3KgzFB7k1h7"
      }
    },
    {
      "cell_type": "code",
      "source": [
        "def visualize_model(model, num_images=6):\n",
        "    was_training = model.training\n",
        "    model.eval()\n",
        "    images_so_far = 0\n",
        "    fig = plt.figure()\n",
        "\n",
        "    with torch.no_grad():\n",
        "        for i, (inputs, labels) in enumerate(dataloaders['val']):\n",
        "            inputs = inputs.to(device)\n",
        "            labels = labels.to(device)\n",
        "\n",
        "            outputs = model(inputs)\n",
        "            _, preds = torch.max(outputs, 1)\n",
        "\n",
        "            for j in range(inputs.size()[0]):\n",
        "                images_so_far += 1\n",
        "                ax = plt.subplot(num_images//2, 2, images_so_far)\n",
        "                ax.axis('off')\n",
        "                ax.set_title(f'predicted: {class_names[preds[j]]}')\n",
        "                imshow(inputs.cpu().data[j])\n",
        "\n",
        "                if images_so_far == num_images:\n",
        "                    model.train(mode=was_training)\n",
        "                    return\n",
        "        model.train(mode=was_training)"
      ],
      "metadata": {
        "id": "57X_n9P-kz3O"
      },
      "execution_count": 50,
      "outputs": []
    },
    {
      "cell_type": "code",
      "source": [
        "model_ft = models.resnet18(pretrained=True)\n",
        "num_ftrs = model_ft.fc.in_features\n",
        "model_ft.fc = torch.nn.Identity()\n",
        "print(num_ftrs)\n",
        "print(type(model_ft))"
      ],
      "metadata": {
        "colab": {
          "base_uri": "https://localhost:8080/",
          "height": 198,
          "referenced_widgets": [
            "5cf5976315bb4b4ba53e93689e90ca7a",
            "4e8f41105c1242f0a08ed10d8e07132b",
            "5b6aab4920d14cfb89c1e33158994b50",
            "7e137cde0d1c4b5c9071e794ed2e538b",
            "e028a6a9bffa478a87d92000b91488fc",
            "2a7010bb7dbc47e0a0b12b65c0cd810d",
            "2c5bfe57fd4840cb9944df59f679e69a",
            "fe334c76cb38456aa8378b008d3b8aad",
            "90bf48cdae2141bd8a507cd7208f16df",
            "e1b7ea8d25df47058e452da89980f44c",
            "9657ec720e404aa79f625f07fb2f34f6"
          ]
        },
        "id": "K2Rvl71BlLhO",
        "outputId": "82baad5b-ce76-48c2-e496-ba6139eeea57"
      },
      "execution_count": 51,
      "outputs": [
        {
          "output_type": "stream",
          "name": "stderr",
          "text": [
            "/usr/local/lib/python3.9/dist-packages/torchvision/models/_utils.py:208: UserWarning: The parameter 'pretrained' is deprecated since 0.13 and may be removed in the future, please use 'weights' instead.\n",
            "  warnings.warn(\n",
            "/usr/local/lib/python3.9/dist-packages/torchvision/models/_utils.py:223: UserWarning: Arguments other than a weight enum or `None` for 'weights' are deprecated since 0.13 and may be removed in the future. The current behavior is equivalent to passing `weights=ResNet18_Weights.IMAGENET1K_V1`. You can also use `weights=ResNet18_Weights.DEFAULT` to get the most up-to-date weights.\n",
            "  warnings.warn(msg)\n",
            "Downloading: \"https://download.pytorch.org/models/resnet18-f37072fd.pth\" to /root/.cache/torch/hub/checkpoints/resnet18-f37072fd.pth\n"
          ]
        },
        {
          "output_type": "display_data",
          "data": {
            "text/plain": [
              "  0%|          | 0.00/44.7M [00:00<?, ?B/s]"
            ],
            "application/vnd.jupyter.widget-view+json": {
              "version_major": 2,
              "version_minor": 0,
              "model_id": "5cf5976315bb4b4ba53e93689e90ca7a"
            }
          },
          "metadata": {}
        },
        {
          "output_type": "stream",
          "name": "stdout",
          "text": [
            "512\n",
            "<class 'torchvision.models.resnet.ResNet'>\n"
          ]
        }
      ]
    },
    {
      "cell_type": "markdown",
      "source": [
        "#### Task 10 Defining function to get image features"
      ],
      "metadata": {
        "id": "CW4nlak0zv0i"
      }
    },
    {
      "cell_type": "code",
      "source": [
        "def get_resnet18_features(image_folder_path):\n",
        "    # Define ResNet18 model\n",
        "    resnet18 = models.resnet18(pretrained=True)\n",
        "    resnet18.fc = torch.nn.Identity() # Remove final fully connected layer\n",
        "    \n",
        "    # Define data transformations\n",
        "    transform = transforms.Compose([\n",
        "        transforms.Resize(256),\n",
        "        transforms.CenterCrop(224),\n",
        "        transforms.ToTensor(),\n",
        "        transforms.Normalize(mean=[0.485, 0.456, 0.406], std=[0.229, 0.224, 0.225])\n",
        "    ])\n",
        "    \n",
        "    # Load image dataset\n",
        "    image_dataset = ImageFolder(image_folder_path, transform=transform)\n",
        "    resnet18_features = []\n",
        "    labels = []\n",
        "    for image,label in image_dataset:\n",
        "            features = model_ft(image.unsqueeze(0))\n",
        "            resnet18_features.append(features.detach().numpy().squeeze())\n",
        "            labels.append(label)\n",
        "    return (resnet18_features),np.array(labels)"
      ],
      "metadata": {
        "id": "gVxB3TY5a6na"
      },
      "execution_count": 52,
      "outputs": []
    },
    {
      "cell_type": "code",
      "source": [
        "image_datasets = ImageFolder('data_folder/hymenoptera_data/train')\n",
        "train_features,labels_train = get_resnet18_features(image_datasets.root)"
      ],
      "metadata": {
        "id": "bB4pwiPd0SOP"
      },
      "execution_count": 53,
      "outputs": []
    },
    {
      "cell_type": "code",
      "source": [
        "train_array = np.array(train_features)\n",
        "print(labels_train.shape)\n",
        "print(train_array.shape)\n",
        "print(len(train_features))"
      ],
      "metadata": {
        "colab": {
          "base_uri": "https://localhost:8080/"
        },
        "id": "4u1LNn5vy62i",
        "outputId": "322de76f-83b4-4241-bac8-172643112cf1"
      },
      "execution_count": 54,
      "outputs": [
        {
          "output_type": "stream",
          "name": "stdout",
          "text": [
            "(244,)\n",
            "(244, 512)\n",
            "244\n"
          ]
        }
      ]
    },
    {
      "cell_type": "code",
      "source": [
        "image_datasets = ImageFolder('data_folder/hymenoptera_data/val')\n",
        "test_features,labels_test = get_resnet18_features(image_datasets.root)\n",
        "test_array = np.array(test_features)\n",
        "print(labels_test.shape)\n",
        "print((test_array))\n",
        "print(test_array.shape)"
      ],
      "metadata": {
        "colab": {
          "base_uri": "https://localhost:8080/"
        },
        "id": "Ax4sHjlAz_4k",
        "outputId": "2e40477a-8150-4d34-ce62-f072acceed30"
      },
      "execution_count": 55,
      "outputs": [
        {
          "output_type": "stream",
          "name": "stdout",
          "text": [
            "(153,)\n",
            "[[0.9029983  0.86574244 0.9426418  ... 0.91847074 1.028263   0.950998  ]\n",
            " [0.9017365  0.9482257  0.9560097  ... 0.9328947  1.0353359  1.021719  ]\n",
            " [0.7975986  0.9374626  0.99904484 ... 0.9212237  1.0359792  0.9442884 ]\n",
            " ...\n",
            " [0.938634   0.8968842  0.8957614  ... 0.9178206  0.97375345 1.0040392 ]\n",
            " [0.9051674  0.9972826  0.8801867  ... 0.8721416  1.0109453  0.9649373 ]\n",
            " [0.94048893 0.9405628  0.8899761  ... 0.9085284  1.031165   0.903254  ]]\n",
            "(153, 512)\n"
          ]
        }
      ]
    },
    {
      "cell_type": "markdown",
      "source": [
        "#### Task 11\n",
        "In this task we have to Compare L2 regularized logistic regression, RBF kernel SVM and random forest for the test data using accuracy and f1_score and matrix.\n",
        "- I have created the three different classifier i.e.   L2 regularized logistic regression, RBF kernel SVM and random forest with GridSearch CV for finding best hyperparameters in the latter two.\n",
        "- I have the classification report(for f1_score and accuracy) and confusion matrix for each classifier from which we can interpret the results"
      ],
      "metadata": {
        "id": "T_twIhG7BAUS"
      }
    },
    {
      "cell_type": "code",
      "source": [
        "# Load data\n",
        "X_train = train_array\n",
        "y_train = labels_train\n",
        "X_test = test_array\n",
        "y_test = labels_test\n",
        "\n",
        "\n",
        "# L2 regularized logistic regression\n",
        "lr = LogisticRegression(penalty='l2', max_iter=1000, random_state=42)\n",
        "lr.fit(X_train, y_train)\n",
        "\n",
        "\n",
        "# RBF kernel SVM\n",
        "svm = SVC(kernel='rbf', random_state=42)\n",
        "svm_params = {'C': [0.1, 1, 10,50,100], 'gamma': [0.01, 0.1, 1,10]}\n",
        "svm_gs = GridSearchCV(svm, svm_params, scoring='accuracy', cv=5)\n",
        "svm_gs.fit(X_train, y_train)\n",
        "\n",
        "\n",
        "# Random forest\n",
        "rf = RandomForestClassifier(random_state=42)\n",
        "rf_params = {'n_estimators': [100, 200, 500,1000], 'max_depth': [0.5,1,2,5, 10, 20]}\n",
        "rf_gs = GridSearchCV(rf, rf_params, scoring='accuracy', cv=5)\n",
        "rf_gs.fit(X_train, y_train)\n",
        "\n",
        "\n",
        "# Print results\n",
        "print('Logistic regression:' )\n",
        "print(classification_report(y_test, lr.predict(X_test)))\n",
        "print(confusion_matrix(y_test, lr.predict(X_test)))\n",
        "print('RBF kernel SVM:' )\n",
        "print(\"Best parameter for SVM with Kernel RBF Classification : \", svm_gs.best_params_)\n",
        "print(\"Best score  for SVM with Kernel RBF Classification: \", svm_gs.best_score_)\n",
        "print(classification_report(y_test,svm_gs.predict(X_test)))\n",
        "print(confusion_matrix(y_test,svm_gs.predict(X_test)))\n",
        "print('Random forest: ')\n",
        "print(\"Best parameter for Random Forest Classification : \", rf_gs.best_params_)\n",
        "print(\"Best score  for Random Forest Classification: \", rf_gs.best_score_)\n",
        "print(classification_report(y_test, rf_gs.predict(X_test)))\n",
        "print(confusion_matrix(y_test, rf_gs.predict(X_test)))\n"
      ],
      "metadata": {
        "colab": {
          "base_uri": "https://localhost:8080/"
        },
        "id": "cblQh1aLrmIm",
        "outputId": "0031de4f-3f8c-4b76-be68-c0eb75125ff5"
      },
      "execution_count": 56,
      "outputs": [
        {
          "output_type": "stream",
          "name": "stderr",
          "text": [
            "/usr/local/lib/python3.9/dist-packages/sklearn/model_selection/_validation.py:378: FitFailedWarning: \n",
            "20 fits failed out of a total of 120.\n",
            "The score on these train-test partitions for these parameters will be set to nan.\n",
            "If these failures are not expected, you can try to debug them by setting error_score='raise'.\n",
            "\n",
            "Below are more details about the failures:\n",
            "--------------------------------------------------------------------------------\n",
            "20 fits failed with the following error:\n",
            "Traceback (most recent call last):\n",
            "  File \"/usr/local/lib/python3.9/dist-packages/sklearn/model_selection/_validation.py\", line 686, in _fit_and_score\n",
            "    estimator.fit(X_train, y_train, **fit_params)\n",
            "  File \"/usr/local/lib/python3.9/dist-packages/sklearn/ensemble/_forest.py\", line 340, in fit\n",
            "    self._validate_params()\n",
            "  File \"/usr/local/lib/python3.9/dist-packages/sklearn/base.py\", line 600, in _validate_params\n",
            "    validate_parameter_constraints(\n",
            "  File \"/usr/local/lib/python3.9/dist-packages/sklearn/utils/_param_validation.py\", line 97, in validate_parameter_constraints\n",
            "    raise InvalidParameterError(\n",
            "sklearn.utils._param_validation.InvalidParameterError: The 'max_depth' parameter of RandomForestClassifier must be an int in the range [1, inf) or None. Got 0.5 instead.\n",
            "\n",
            "  warnings.warn(some_fits_failed_message, FitFailedWarning)\n",
            "/usr/local/lib/python3.9/dist-packages/sklearn/model_selection/_search.py:952: UserWarning: One or more of the test scores are non-finite: [       nan        nan        nan        nan 0.57372449 0.58197279\n",
            " 0.60272109 0.59047619 0.56964286 0.57363946 0.58613946 0.58588435\n",
            " 0.56955782 0.59404762 0.58996599 0.59413265 0.53282313 0.55739796\n",
            " 0.56164966 0.59829932 0.54923469 0.56981293 0.56981293 0.59005102]\n",
            "  warnings.warn(\n"
          ]
        },
        {
          "output_type": "stream",
          "name": "stdout",
          "text": [
            "Logistic regression:\n",
            "              precision    recall  f1-score   support\n",
            "\n",
            "           0       0.60      0.60      0.60        70\n",
            "           1       0.66      0.66      0.66        83\n",
            "\n",
            "    accuracy                           0.63       153\n",
            "   macro avg       0.63      0.63      0.63       153\n",
            "weighted avg       0.63      0.63      0.63       153\n",
            "\n",
            "[[42 28]\n",
            " [28 55]]\n",
            "RBF kernel SVM:\n",
            "Best parameter for SVM with Kernel RBF Classification :  {'C': 10, 'gamma': 1}\n",
            "Best score  for SVM with Kernel RBF Classification:  0.6066326530612245\n",
            "              precision    recall  f1-score   support\n",
            "\n",
            "           0       0.59      0.56      0.57        70\n",
            "           1       0.64      0.67      0.66        83\n",
            "\n",
            "    accuracy                           0.62       153\n",
            "   macro avg       0.62      0.62      0.62       153\n",
            "weighted avg       0.62      0.62      0.62       153\n",
            "\n",
            "[[39 31]\n",
            " [27 56]]\n",
            "Random forest: \n",
            "Best parameter for Random Forest Classification :  {'max_depth': 1, 'n_estimators': 500}\n",
            "Best score  for Random Forest Classification:  0.6027210884353742\n",
            "              precision    recall  f1-score   support\n",
            "\n",
            "           0       0.48      0.47      0.47        70\n",
            "           1       0.56      0.57      0.56        83\n",
            "\n",
            "    accuracy                           0.52       153\n",
            "   macro avg       0.52      0.52      0.52       153\n",
            "weighted avg       0.52      0.52      0.52       153\n",
            "\n",
            "[[33 37]\n",
            " [36 47]]\n"
          ]
        }
      ]
    },
    {
      "cell_type": "markdown",
      "source": [
        "### Findings : \n",
        "#### Objective 1 \n",
        "- When we comapred before(find initially in task 5) and after finding the optimal parameters and we can say that we have find better accuracy and f1_score for both binary and quateary classification.\n",
        "- Similiarly for after eliminating features using the RCECV we have found better accuracy and F1_Score for both binary and quateary classification\n",
        "\n",
        "#### Comparison between different Models\n",
        "\n",
        "**Binary Class**\n",
        "- For binary class we have in terms of f1_score in quite less in Random Forest Classifier as compared to other models.\n",
        "- Also the time taken in Random Forest to fit the data into model is high.\n",
        "- Accuracy is highest in rbf kernel SVM as compared to other models for binary class.\n",
        "- There in increase in both f1_score and accuracy after feature elimination using RCFEV.\n",
        "\n",
        "**Quatenary Class**\n",
        "- For f1_score  we have a least in Neural Network with Single Hidden Layer.\n",
        "- For accuracy  also follow a similiar pattern\n",
        "- Mostly time taken in quaternary is higher in all the models than  binary classification.\n",
        "\n",
        "**Recursive Feature Elimination :**\n",
        "\n",
        "It can be only done for Linear SVC and Random Forest Classifier\n",
        "- In Random Forest optimal number of  for 4 features for binary classification and 25 features for quaternary numbers.\n",
        "- In Linear SVC binary classification number of optimal features are 15 and for quaternary classifaction optimal number of features are 34.\n",
        "- So we can say that random forest focuses on selecting less features and try to use them efficiently.\n",
        "\n",
        "**Objective 2**\n",
        "\n",
        "This objective focuses more on image datasets handling in machne learning. Major part of this objective is to extract  features from image dataset useing resnet 18 neural network.\n",
        "\n",
        "- After finding the features we had compare 3 different models for classification purposes.\n",
        "- The dataset provided easily implied that the problem is similiar to binary classification.\n",
        "- the accuracy was minimum in RandomForest Model and slightly better in rbf kernel and linear SVM with latter leading by a value of .01\n",
        "- thw F1_score follows the similiar pattern to accuracy.\n",
        "- We can say that for image dataset generally we have low accuracy and f1_score of about 60%.\n"
      ],
      "metadata": {
        "id": "xYiHlYILKaMj"
      }
    },
    {
      "cell_type": "markdown",
      "source": [
        "Code Discussed with friends : Only discussed most of the feature elimination and feature extratction in Objective i.e. Q2 Q6,Q7 in OBjective 1 and Part 10 in Objective 2.\n",
        "1. Dinesh Kumar Panwar 22M1080\n",
        "2. Karra Maneesha 22M1076\n",
        "\n",
        "Resources for Objective 1 :\n",
        "- https://towardsdatascience.com/comprehensive-guide-on-multiclass-classification-metrics-af94cfb83fbd\n",
        "- https://towardsdatascience.com/comprehensive-guide-to-multiclass-classification-with-sklearn-127cc500f362\n",
        "- https://scikit-learn.org/stable/modules/generated/sklearn.model_selection.GridSearchCV.html\n",
        "- https://scikit-learn.org/stable/auto_examples/model_selection/plot_grid_search_digits.html#sphx-glr-auto-examples-model-selection-plot-grid-search-digits-py\n",
        "- https://scikit-learn.org/stable/auto_examples/impute/plot_missing_values.html#sphx-glr-auto-examples-impute-plot-missing-values-py\n",
        "- https://www.geeksforgeeks.org/svm-hyperparameter-tuning-using-gridsearchcv-ml/\n",
        "- https://machinelearningmastery.com/grid-search-hyperparameters-deep-learning-models-python-keras/\n",
        "- https://www.geeksforgeeks.org/random-forest-hyperparameter-tuning-in-python/?ref=rp\n",
        "\n",
        "\n",
        "Resources for Objective 2: \n",
        "- https://pytorch.org/tutorials/beginner/transfer_learning_tutorial.html"
      ],
      "metadata": {
        "id": "enSXmBti2FaU"
      }
    }
  ]
}